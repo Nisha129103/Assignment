{
  "nbformat": 4,
  "nbformat_minor": 0,
  "metadata": {
    "colab": {
      "provenance": [],
      "authorship_tag": "ABX9TyOZhX7AnV06mywqoZILD3Vk",
      "include_colab_link": true
    },
    "kernelspec": {
      "name": "python3",
      "display_name": "Python 3"
    },
    "language_info": {
      "name": "python"
    }
  },
  "cells": [
    {
      "cell_type": "markdown",
      "metadata": {
        "id": "view-in-github",
        "colab_type": "text"
      },
      "source": [
        "<a href=\"https://colab.research.google.com/github/Nisha129103/Assignment/blob/main/Oops_Assignment.ipynb\" target=\"_parent\"><img src=\"https://colab.research.google.com/assets/colab-badge.svg\" alt=\"Open In Colab\"/></a>"
      ]
    },
    {
      "cell_type": "markdown",
      "source": [
        "#Q1. What are the five key concepts of Object-Oriented Programming (OOP)?\n",
        "#Ans. The five key concepts of Object-Oriented Programming (OOP) are:\n",
        "\n",
        "\n",
        "1. Encapsulation: This concept involves bundling data and its associated methods that operate on that data within a single unit, called a class or object. This helps to hide internal implementation details and protect data from external interference.\n",
        "\n",
        "\n",
        "1. Abstraction: Abstraction focuses on exposing only necessary information to the outside world while hiding internal complexities. This helps to simplify complex systems and reduce dependencies.\n",
        "\n",
        "\n",
        "1. Inheritance: Inheritance allows one class (subclass or derived class) to inherit properties and behavior from another class (superclass or base class). This facilitates code reuse and a more hierarchical organization.\n",
        "\n",
        "\n",
        "1. Polymorphism: Polymorphism enables objects of different classes to be treated as objects of a common superclass. This allows for more flexibility in programming, as objects can take on multiple forms depending on the context.\n",
        "\n",
        "\n",
        "1. Composition: Composition involves combining objects or classes to form new objects or classes. This enables more complex functionality and relationships between objects.\n",
        "\n",
        "\n",
        "These five concepts form the foundation of Object-Oriented Programming and enable developers to create modular, reusable, and maintainable code."
      ],
      "metadata": {
        "id": "DOFny3e8_7Pf"
      }
    },
    {
      "cell_type": "markdown",
      "source": [
        "#Q2. Write a Python class for a Car with attributes for make, model, and year. Include a method to display the car's information.\n",
        "#Ans. Here's a Python class for a Car:\n"
      ],
      "metadata": {
        "id": "h4VIh0RxAFwk"
      }
    },
    {
      "cell_type": "code",
      "source": [
        "class Car:\n",
        "    \"\"\"\n",
        "    Represents a car with attributes for make, model, and year.\n",
        "    \"\"\"\n",
        "\n",
        "    def __init__(self, make, model, year):\n",
        "        \"\"\"\n",
        "        Initializes a Car object.\n",
        "\n",
        "        Args:\n",
        "            make (str): The car's make.\n",
        "            model (str): The car's model.\n",
        "            year (int): The car's year.\n",
        "        \"\"\"\n",
        "        self.make = make\n",
        "        self.model = model\n",
        "        self.year = year\n",
        "\n",
        "    def display_info(self):\n",
        "        \"\"\"\n",
        "        Displays the car's information.\n",
        "        \"\"\"\n",
        "        print(f\"{self.year} {self.make} {self.model}\")\n"
      ],
      "metadata": {
        "id": "AyX3573sAWsm"
      },
      "execution_count": 1,
      "outputs": []
    },
    {
      "cell_type": "code",
      "source": [
        "# Example usage:\n",
        "\n",
        "# Create a Car object\n",
        "my_car = Car(\"Toyota\", \"Camry\", 2022)\n",
        "\n",
        "# Display the car's information\n",
        "my_car.display_info()"
      ],
      "metadata": {
        "colab": {
          "base_uri": "https://localhost:8080/"
        },
        "id": "Jyx5CifNAZSs",
        "outputId": "18579bf2-9a1e-4696-e37a-5f1fa8ee2ec6"
      },
      "execution_count": 2,
      "outputs": [
        {
          "output_type": "stream",
          "name": "stdout",
          "text": [
            "2022 Toyota Camry\n"
          ]
        }
      ]
    },
    {
      "cell_type": "markdown",
      "source": [
        "This Car class has:\n",
        "\n",
        "\n",
        "- An __init__ method to initialize the make, model, and year attributes.\n",
        "- A display_info method to print the car's information.\n",
        "\n",
        "\n",
        "You can create multiple Car objects with different attributes and display their information using the display_info method."
      ],
      "metadata": {
        "id": "InBCFZJMAojt"
      }
    },
    {
      "cell_type": "markdown",
      "source": [
        "#Q3. Explain the difference between instance methods and class methods. Provide an example of each.\n",
        "\n",
        "#Ans. In Python, instance methods and class methods are two types of methods that can be defined within a class.\n",
        "\n",
        "\n",
        "Instance Methods\n",
        "\n",
        "Instance methods are bound to an instance of a class. They have access to the instance's attributes and are used to perform operations that modify or depend on the instance's state.\n",
        "\n",
        "Example:\n"
      ],
      "metadata": {
        "id": "XVD6XCLAArx8"
      }
    },
    {
      "cell_type": "code",
      "source": [
        "class Car:\n",
        "    def __init__(self, make, model):\n",
        "        self.make = make\n",
        "        self.model = model\n",
        "        self.mileage = 0\n",
        "\n",
        "    def drive(self, miles):\n",
        "        self.mileage += miles\n",
        "\n",
        "    def get_mileage(self):\n",
        "        return self.mileage\n",
        "\n",
        "\n",
        "# Create an instance\n",
        "my_car = Car(\"Toyota\", \"Camry\")\n",
        "\n",
        "# Call instance methods\n",
        "my_car.drive(100)\n",
        "print(my_car.get_mileage())"
      ],
      "metadata": {
        "colab": {
          "base_uri": "https://localhost:8080/"
        },
        "id": "t0MWdBTpAjmC",
        "outputId": "41a7d0d7-183d-4b04-8026-1de33f370e5b"
      },
      "execution_count": 3,
      "outputs": [
        {
          "output_type": "stream",
          "name": "stdout",
          "text": [
            "100\n"
          ]
        }
      ]
    },
    {
      "cell_type": "markdown",
      "source": [
        "In this example:\n",
        "\n",
        "\n",
        "- drive and get_mileage are instance methods.\n",
        "- They access and modify the instance's mileage attribute.\n",
        "\n",
        "\n",
        "Class Methods\n",
        "\n",
        "Class methods are bound to the class itself, rather than an instance. They have access to class attributes and are used to perform operations that don't depend on instance state.\n",
        "\n",
        "\n",
        "Example:"
      ],
      "metadata": {
        "id": "Bn9vgytGBEi6"
      }
    },
    {
      "cell_type": "code",
      "source": [
        "class Car:\n",
        "    num_cars = 0\n",
        "\n",
        "    def __init__(self, make, model):\n",
        "        self.make = make\n",
        "        self.model = model\n",
        "        Car.num_cars += 1\n",
        "\n",
        "    @classmethod\n",
        "    def get_num_cars(cls):\n",
        "        return cls.num_cars\n",
        "\n",
        "\n",
        "# Create instances\n",
        "car1 = Car(\"Toyota\", \"Camry\")\n",
        "car2 = Car(\"Honda\", \"Civic\")\n"
      ],
      "metadata": {
        "id": "QCyDakPNBLwE"
      },
      "execution_count": 6,
      "outputs": []
    },
    {
      "cell_type": "code",
      "source": [
        "# Call class method\n",
        "print(Car.get_num_cars())"
      ],
      "metadata": {
        "colab": {
          "base_uri": "https://localhost:8080/"
        },
        "id": "knDlTCf7BizB",
        "outputId": "c36fa107-8848-4ae7-be99-674407629e25"
      },
      "execution_count": 7,
      "outputs": [
        {
          "output_type": "stream",
          "name": "stdout",
          "text": [
            "2\n"
          ]
        }
      ]
    },
    {
      "cell_type": "code",
      "source": [
        "print(car1.get_num_cars())"
      ],
      "metadata": {
        "colab": {
          "base_uri": "https://localhost:8080/"
        },
        "id": "V4DGago1BlEz",
        "outputId": "49d28c3f-9778-4ea8-c5a0-98f7c3f6866c"
      },
      "execution_count": 8,
      "outputs": [
        {
          "output_type": "stream",
          "name": "stdout",
          "text": [
            "2\n"
          ]
        }
      ]
    },
    {
      "cell_type": "markdown",
      "source": [
        "In this example:\n",
        "\n",
        "\n",
        "- get_num_cars is a class method.\n",
        "- It accesses the class attribute num_cars.\n",
        "- The @classmethod decorator indicates that get_num_cars is a class method.\n",
        "\n",
        "\n",
        "Key differences:\n",
        "\n",
        "\n",
        "- Instance methods operate on instance attributes; class methods operate on class attributes.\n",
        "- Instance methods require an instance to be called; class methods can be called directly on the class.\n",
        "- Class methods are useful for alternative constructors, factory methods, or caching."
      ],
      "metadata": {
        "id": "UTZ8Xb3mBuHJ"
      }
    },
    {
      "cell_type": "markdown",
      "source": [
        "#Q4. How does Python implement method overloading? Give an example.\n",
        "#Ans. Python does not support method overloading in the classical sense, unlike languages such as C++ or Java. Method overloading allows multiple methods with the same name but different parameters.\n",
        "\n",
        "\n",
        "However, Python provides alternatives to achieve similar functionality:\n",
        "\n",
        "\n",
        "1. Default Argument Values\n"
      ],
      "metadata": {
        "id": "eFE84i3HBwAH"
      }
    },
    {
      "cell_type": "code",
      "source": [
        "class Calculator:\n",
        "    def calculate(self, a, b, operation='add'):\n",
        "        if operation == 'add':\n",
        "            return a + b\n",
        "        elif operation == 'subtract':\n",
        "            return a - b\n",
        "        else:\n",
        "            raise ValueError(\"Invalid operation\")"
      ],
      "metadata": {
        "id": "22fn1mWnBm_P"
      },
      "execution_count": 9,
      "outputs": []
    },
    {
      "cell_type": "code",
      "source": [
        "calculator = Calculator()\n",
        "print(calculator.calculate(5, 3))"
      ],
      "metadata": {
        "colab": {
          "base_uri": "https://localhost:8080/"
        },
        "id": "N0VRh6isB7S3",
        "outputId": "0435f4df-f6f9-4ac3-d915-f177ece7455e"
      },
      "execution_count": 10,
      "outputs": [
        {
          "output_type": "stream",
          "name": "stdout",
          "text": [
            "8\n"
          ]
        }
      ]
    },
    {
      "cell_type": "code",
      "source": [
        "print(calculator.calculate(5, 3, 'subtract'))"
      ],
      "metadata": {
        "colab": {
          "base_uri": "https://localhost:8080/"
        },
        "id": "xT8R6-NyB9gA",
        "outputId": "45169b90-2715-48e5-89ca-9fab127d16a5"
      },
      "execution_count": 11,
      "outputs": [
        {
          "output_type": "stream",
          "name": "stdout",
          "text": [
            "2\n"
          ]
        }
      ]
    },
    {
      "cell_type": "code",
      "source": [
        "#2. Variable Number of Arguments\n",
        "\n",
        "\n",
        "\n",
        "class Calculator:\n",
        "    def calculate(self, *args, operation):\n",
        "        if operation == 'add':\n",
        "            return sum(args)\n",
        "        elif operation == 'multiply':\n",
        "            result = 1\n",
        "            for num in args:\n",
        "                result *= num\n",
        "            return result\n",
        "        else:\n",
        "            raise ValueError(\"Invalid operation\")"
      ],
      "metadata": {
        "id": "O7asmXqwB_LZ"
      },
      "execution_count": 12,
      "outputs": []
    },
    {
      "cell_type": "code",
      "source": [
        "calculator = Calculator()\n",
        "print(calculator.calculate(1, 2, 3, operation='add'))"
      ],
      "metadata": {
        "colab": {
          "base_uri": "https://localhost:8080/"
        },
        "id": "TxxSCp4ACJ0v",
        "outputId": "f6f77383-2589-47ff-f4cc-257725d0a335"
      },
      "execution_count": 13,
      "outputs": [
        {
          "output_type": "stream",
          "name": "stdout",
          "text": [
            "6\n"
          ]
        }
      ]
    },
    {
      "cell_type": "code",
      "source": [
        "print(calculator.calculate(1, 2, 3, operation='multiply'))"
      ],
      "metadata": {
        "colab": {
          "base_uri": "https://localhost:8080/"
        },
        "id": "Eo48RLb0COkW",
        "outputId": "c15ba172-5f53-416b-d8fd-e6ab03c447df"
      },
      "execution_count": 15,
      "outputs": [
        {
          "output_type": "stream",
          "name": "stdout",
          "text": [
            "6\n"
          ]
        }
      ]
    },
    {
      "cell_type": "code",
      "source": [
        "#3. Single Dispatch (using functools.singledispatch)\n",
        "\n",
        "\n",
        "\n",
        "from functools import singledispatch\n",
        "\n",
        "@singledispatch\n",
        "def calculate(arg):\n",
        "    raise TypeError(\"Unsupported type\")\n",
        "\n",
        "@calculate.register(int)\n",
        "def _(arg: int):\n",
        "    return arg * 2\n",
        "\n",
        "@calculate.register(list)\n",
        "def _(arg: list):\n",
        "    return [x * 2 for x in arg]\n"
      ],
      "metadata": {
        "id": "Z1dKn0qnCRMK"
      },
      "execution_count": 17,
      "outputs": []
    },
    {
      "cell_type": "code",
      "source": [
        "print(calculate(5))"
      ],
      "metadata": {
        "colab": {
          "base_uri": "https://localhost:8080/"
        },
        "id": "vKyVAsdzCm69",
        "outputId": "b64f6e5a-b4da-4ac1-ea36-aa723f6362ac"
      },
      "execution_count": 18,
      "outputs": [
        {
          "output_type": "stream",
          "name": "stdout",
          "text": [
            "10\n"
          ]
        }
      ]
    },
    {
      "cell_type": "code",
      "source": [
        "print(calculate([1, 2, 3]))"
      ],
      "metadata": {
        "colab": {
          "base_uri": "https://localhost:8080/"
        },
        "id": "AcGj94q1Csbp",
        "outputId": "266b64d4-aa68-4477-d7a6-7401c41f3be1"
      },
      "execution_count": 19,
      "outputs": [
        {
          "output_type": "stream",
          "name": "stdout",
          "text": [
            "[2, 4, 6]\n"
          ]
        }
      ]
    },
    {
      "cell_type": "code",
      "source": [
        "#4. Polymorphism (using inheritance and overriding)\n",
        "\n",
        "\n",
        "\n",
        "class Shape:\n",
        "    def area(self):\n",
        "        pass\n",
        "\n",
        "class Circle(Shape):\n",
        "    def __init__(self, radius):\n",
        "        self.radius = radius\n",
        "\n",
        "    def area(self):\n",
        "        return 3.14 * self.radius ** 2\n",
        "\n",
        "class Rectangle(Shape):\n",
        "    def __init__(self, width, height):\n",
        "        self.width = width\n",
        "        self.height = height\n",
        "\n",
        "    def area(self):\n",
        "        return self.width * self.height\n",
        "\n",
        "\n",
        "shapes = [Circle(5), Rectangle(3, 4)]\n",
        "for shape in shapes:\n",
        "    print(shape.area())\n",
        "\n",
        "\n",
        "\n",
        "#While not traditional method overloading, these approaches enable flexible and reusable code in Python."
      ],
      "metadata": {
        "colab": {
          "base_uri": "https://localhost:8080/"
        },
        "id": "FX2rI2m4CuXe",
        "outputId": "43520b5e-99d5-44d3-bfbf-773c1aa7a187"
      },
      "execution_count": 20,
      "outputs": [
        {
          "output_type": "stream",
          "name": "stdout",
          "text": [
            "78.5\n",
            "12\n"
          ]
        }
      ]
    },
    {
      "cell_type": "markdown",
      "source": [
        "#Q5. What are the three types of access modifiers in Python? How are they denoted?\n",
        "#Ans. Python has three types of access modifiers:\n",
        "\n",
        "\n",
        "1. Public: No specific notation is used for public access modifiers. Public members are accessible from anywhere.\n",
        "\n",
        "\n",
        "1. Private: Denoted by double underscore (__) prefix.\n",
        "\n",
        "\n",
        "*   Example: `__private_variable`\n",
        "*   Purpose: To avoid name clashes in subclassing and indicate the attribute is intended to be private.\n",
        "\n",
        "1. Protected: Denoted by single underscore (_) prefix.\n",
        "\n",
        "\n",
        "*   Example: `_protected_variable`\n",
        "*   Purpose: To indicate the attribute is intended for internal use within the class or its subclasses.\n",
        "\n",
        "Note: Python's access modifiers don't enforce strict access control like some other languages. They serve as conventions to communicate the intended usage.\n",
        "\n",
        "\n",
        "Example:"
      ],
      "metadata": {
        "id": "LRxBbQznDGpN"
      }
    },
    {
      "cell_type": "code",
      "source": [
        "class MyClass:\n",
        "    def __init__(self):\n",
        "        self.public_var = 10  # Public\n",
        "        self._protected_var = 20  # Protected\n",
        "        self.__private_var = 30  # Private\n",
        "\n",
        "    def access_private(self):\n",
        "        return self.__private_var\n",
        "\n",
        "\n",
        "obj = MyClass()\n",
        "print(obj.public_var)  # Accessing public variable\n",
        "print(obj._protected_var)  # Accessing protected variable (discouraged but possible)\n",
        "\n",
        "# Accessing private variable directly will raise AttributeError\n",
        "try:\n",
        "    print(obj.__private_var)\n",
        "except AttributeError:\n",
        "    print(\"Error: Cannot access private variable directly\")\n",
        "\n",
        "# Accessing private variable through method\n",
        "print(obj.access_private())\n",
        "\n",
        "#Keep in mind that Python's private variables can be accessed using name mangling (obj._MyClass__private_var), but this is generally discouraged."
      ],
      "metadata": {
        "colab": {
          "base_uri": "https://localhost:8080/"
        },
        "id": "8xiBta4wDAWe",
        "outputId": "52a87846-1fd2-4370-d60e-8747dfec6063"
      },
      "execution_count": 22,
      "outputs": [
        {
          "output_type": "stream",
          "name": "stdout",
          "text": [
            "10\n",
            "20\n",
            "Error: Cannot access private variable directly\n",
            "30\n"
          ]
        }
      ]
    },
    {
      "cell_type": "markdown",
      "source": [
        "#Q6. Describe the five types of inheritance in Python. Provide a simple example of multiple inheritance.\n",
        "#Ans. Python supports the following five types of inheritance:\n",
        "\n",
        "\n",
        "1. Single Inheritance: A child class inherits from a single parent class."
      ],
      "metadata": {
        "id": "46Yvl6LwGX17"
      }
    },
    {
      "cell_type": "code",
      "source": [
        "class Animal:\n",
        "    def sound(self):\n",
        "        print(\"Animal makes a sound\")\n",
        "\n",
        "class Dog(Animal):\n",
        "    def bark(self):\n",
        "        print(\"Dog barks\")"
      ],
      "metadata": {
        "id": "Iodtg-i4GNEW"
      },
      "execution_count": 23,
      "outputs": []
    },
    {
      "cell_type": "code",
      "source": [
        "my_dog = Dog()\n",
        "my_dog.sound()"
      ],
      "metadata": {
        "colab": {
          "base_uri": "https://localhost:8080/"
        },
        "id": "i9_Vb80NGgUU",
        "outputId": "d075f7dd-e144-411d-b3f5-1a200f769563"
      },
      "execution_count": 24,
      "outputs": [
        {
          "output_type": "stream",
          "name": "stdout",
          "text": [
            "Animal makes a sound\n"
          ]
        }
      ]
    },
    {
      "cell_type": "code",
      "source": [
        "my_dog.bark()"
      ],
      "metadata": {
        "colab": {
          "base_uri": "https://localhost:8080/"
        },
        "id": "nV6r2iH4Gi3K",
        "outputId": "f8719e29-2a89-4795-c05d-063825fb3a29"
      },
      "execution_count": 25,
      "outputs": [
        {
          "output_type": "stream",
          "name": "stdout",
          "text": [
            "Dog barks\n"
          ]
        }
      ]
    },
    {
      "cell_type": "code",
      "source": [
        "#1. Multiple Inheritance: A child class inherits from multiple parent classes.\n",
        "\n",
        "\n",
        "\n",
        "class Animal:\n",
        "    def sound(self):\n",
        "        print(\"Animal makes a sound\")\n",
        "\n",
        "class Mammal:\n",
        "    def eat(self):\n",
        "        print(\"Mammal eats\")\n",
        "\n",
        "class Dog(Animal, Mammal):\n",
        "    def bark(self):\n",
        "        print(\"Dog barks\")"
      ],
      "metadata": {
        "id": "Ilj-zUBYGniC"
      },
      "execution_count": 26,
      "outputs": []
    },
    {
      "cell_type": "code",
      "source": [
        "my_dog = Dog()\n",
        "my_dog.sound()"
      ],
      "metadata": {
        "colab": {
          "base_uri": "https://localhost:8080/"
        },
        "id": "6fcmXUUsGv0e",
        "outputId": "8cc87b4e-faac-4e1a-9f19-5ca665676846"
      },
      "execution_count": 27,
      "outputs": [
        {
          "output_type": "stream",
          "name": "stdout",
          "text": [
            "Animal makes a sound\n"
          ]
        }
      ]
    },
    {
      "cell_type": "code",
      "source": [
        "my_dog.eat()"
      ],
      "metadata": {
        "colab": {
          "base_uri": "https://localhost:8080/"
        },
        "id": "BFDjgpH-GyCz",
        "outputId": "b459c6a4-5ade-41e4-90d0-7c1ddb99605f"
      },
      "execution_count": 28,
      "outputs": [
        {
          "output_type": "stream",
          "name": "stdout",
          "text": [
            "Mammal eats\n"
          ]
        }
      ]
    },
    {
      "cell_type": "code",
      "source": [
        "my_dog.bark()"
      ],
      "metadata": {
        "colab": {
          "base_uri": "https://localhost:8080/"
        },
        "id": "C_f7YoohG0bx",
        "outputId": "e8f11272-e0dc-4e6b-ab70-6e03d8cdc57b"
      },
      "execution_count": 29,
      "outputs": [
        {
          "output_type": "stream",
          "name": "stdout",
          "text": [
            "Dog barks\n"
          ]
        }
      ]
    },
    {
      "cell_type": "code",
      "source": [
        "#1. Multilevel Inheritance: A child class inherits from a parent class, which itself inherits from another parent class.\n",
        "\n",
        "\n",
        "\n",
        "class Animal:\n",
        "    def sound(self):\n",
        "        print(\"Animal makes a sound\")\n",
        "\n",
        "class Mammal(Animal):\n",
        "    def eat(self):\n",
        "        print(\"Mammal eats\")\n",
        "\n",
        "class Dog(Mammal):\n",
        "    def bark(self):\n",
        "        print(\"Dog barks\")"
      ],
      "metadata": {
        "id": "BdNpJJEcG13e"
      },
      "execution_count": 30,
      "outputs": []
    },
    {
      "cell_type": "code",
      "source": [
        "my_dog = Dog()\n",
        "my_dog.sound()"
      ],
      "metadata": {
        "colab": {
          "base_uri": "https://localhost:8080/"
        },
        "id": "GsmdTVttG7iC",
        "outputId": "53f1ebe4-1dbc-47b3-d13e-d234a45867c1"
      },
      "execution_count": 31,
      "outputs": [
        {
          "output_type": "stream",
          "name": "stdout",
          "text": [
            "Animal makes a sound\n"
          ]
        }
      ]
    },
    {
      "cell_type": "code",
      "source": [
        "my_dog.eat()"
      ],
      "metadata": {
        "colab": {
          "base_uri": "https://localhost:8080/"
        },
        "id": "RBPFR5IGG9Pm",
        "outputId": "261b0315-0021-4d95-e916-ab5f93c38a71"
      },
      "execution_count": 32,
      "outputs": [
        {
          "output_type": "stream",
          "name": "stdout",
          "text": [
            "Mammal eats\n"
          ]
        }
      ]
    },
    {
      "cell_type": "code",
      "source": [
        "my_dog.bark()"
      ],
      "metadata": {
        "colab": {
          "base_uri": "https://localhost:8080/"
        },
        "id": "wEAOC38yG_bK",
        "outputId": "54c133ae-bac0-478d-a8b3-cb89ddfc7e83"
      },
      "execution_count": 33,
      "outputs": [
        {
          "output_type": "stream",
          "name": "stdout",
          "text": [
            "Dog barks\n"
          ]
        }
      ]
    },
    {
      "cell_type": "code",
      "source": [
        "#1. Hierarchical Inheritance: Multiple child classes inherit from a single parent class.\n",
        "\n",
        "\n",
        "\n",
        "class Animal:\n",
        "    def sound(self):\n",
        "        print(\"Animal makes a sound\")\n",
        "\n",
        "class Dog(Animal):\n",
        "    def bark(self):\n",
        "        print(\"Dog barks\")\n",
        "\n",
        "class Cat(Animal):\n",
        "    def meow(self):\n",
        "        print(\"Cat meows\")"
      ],
      "metadata": {
        "id": "zr5YaUG6HBD_"
      },
      "execution_count": 34,
      "outputs": []
    },
    {
      "cell_type": "code",
      "source": [
        "my_dog = Dog()\n",
        "my_dog.sound()"
      ],
      "metadata": {
        "colab": {
          "base_uri": "https://localhost:8080/"
        },
        "id": "Z5sLPDlXHGrP",
        "outputId": "d25b1e5f-f836-4b41-b493-39febe0d3dcf"
      },
      "execution_count": 36,
      "outputs": [
        {
          "output_type": "stream",
          "name": "stdout",
          "text": [
            "Animal makes a sound\n"
          ]
        }
      ]
    },
    {
      "cell_type": "code",
      "source": [
        "my_dog.bark()"
      ],
      "metadata": {
        "colab": {
          "base_uri": "https://localhost:8080/"
        },
        "id": "1ekS3O5DHKFB",
        "outputId": "912ab257-6503-465f-b983-157064c4b6fb"
      },
      "execution_count": 37,
      "outputs": [
        {
          "output_type": "stream",
          "name": "stdout",
          "text": [
            "Dog barks\n"
          ]
        }
      ]
    },
    {
      "cell_type": "code",
      "source": [
        "my_cat = Cat()\n",
        "my_cat.sound()"
      ],
      "metadata": {
        "colab": {
          "base_uri": "https://localhost:8080/"
        },
        "id": "OTNBPLVoHO4C",
        "outputId": "ea7d17f0-537a-4643-fb0d-c2102162da28"
      },
      "execution_count": 38,
      "outputs": [
        {
          "output_type": "stream",
          "name": "stdout",
          "text": [
            "Animal makes a sound\n"
          ]
        }
      ]
    },
    {
      "cell_type": "code",
      "source": [
        "my_cat.meow()"
      ],
      "metadata": {
        "colab": {
          "base_uri": "https://localhost:8080/"
        },
        "id": "CXbKvzmIHSs-",
        "outputId": "6512125a-1717-443f-d35b-5d300e4857d5"
      },
      "execution_count": 39,
      "outputs": [
        {
          "output_type": "stream",
          "name": "stdout",
          "text": [
            "Cat meows\n"
          ]
        }
      ]
    },
    {
      "cell_type": "code",
      "source": [
        "#1. Hybrid Inheritance: Combination of multiple inheritance types.\n",
        "\n",
        "\n",
        "\n",
        "class Animal:\n",
        "    def sound(self):\n",
        "        print(\"Animal makes a sound\")\n",
        "\n",
        "class Mammal(Animal):\n",
        "    def eat(self):\n",
        "        print(\"Mammal eats\")\n",
        "\n",
        "class Carnivore:\n",
        "    def hunt(self):\n",
        "        print(\"Carnivore hunts\")\n",
        "\n",
        "class Dog(Mammal, Carnivore):\n",
        "    def bark(self):\n",
        "        print(\"Dog barks\")\n"
      ],
      "metadata": {
        "id": "iTVgq2G5HU-k"
      },
      "execution_count": 41,
      "outputs": []
    },
    {
      "cell_type": "code",
      "source": [
        "my_dog = Dog()\n",
        "my_dog.sound()"
      ],
      "metadata": {
        "colab": {
          "base_uri": "https://localhost:8080/"
        },
        "id": "UoJjG2K2HYNB",
        "outputId": "58413889-f700-47a0-cf47-469bf5e2a125"
      },
      "execution_count": 42,
      "outputs": [
        {
          "output_type": "stream",
          "name": "stdout",
          "text": [
            "Animal makes a sound\n"
          ]
        }
      ]
    },
    {
      "cell_type": "code",
      "source": [
        "my_dog.eat()\n",
        "my_dog.hunt()\n",
        "my_dog.bark()"
      ],
      "metadata": {
        "colab": {
          "base_uri": "https://localhost:8080/"
        },
        "id": "eE74PXSZHiM2",
        "outputId": "57d29d36-af15-47fd-f1bc-1c17cfbd8650"
      },
      "execution_count": 43,
      "outputs": [
        {
          "output_type": "stream",
          "name": "stdout",
          "text": [
            "Mammal eats\n",
            "Carnivore hunts\n",
            "Dog barks\n"
          ]
        }
      ]
    },
    {
      "cell_type": "markdown",
      "source": [
        "#Q7. What is the Method Resolution Order (MRO) in Python? How can you retrieve it programmatically?\n",
        "#Ans. The Method Resolution Order (MRO) in Python is the order in which the interpreter searches for methods and attributes in a class's inheritance graph. It's used to resolve conflicts when multiple classes have methods or attributes with the same name.\n",
        "\n",
        "\n",
        "Python uses a depth-first left-to-right (DFLR) approach, also known as C3 linearization, to calculate the MRO.\n",
        "\n",
        "\n",
        "Here's an example:\n"
      ],
      "metadata": {
        "id": "Qs1nkqXfI6ty"
      }
    },
    {
      "cell_type": "code",
      "source": [
        "class A:\n",
        "    pass\n",
        "\n",
        "class B(A):\n",
        "    pass\n",
        "\n",
        "class C(A):\n",
        "    pass\n",
        "\n",
        "class D(B, C):\n",
        "    pass\n",
        "\n",
        "print(D.mro())\n"
      ],
      "metadata": {
        "colab": {
          "base_uri": "https://localhost:8080/"
        },
        "id": "eWIqi8bQHoav",
        "outputId": "f879e098-69db-49a2-feb8-e9ed80469cca"
      },
      "execution_count": 44,
      "outputs": [
        {
          "output_type": "stream",
          "name": "stdout",
          "text": [
            "[<class '__main__.D'>, <class '__main__.B'>, <class '__main__.C'>, <class '__main__.A'>, <class 'object'>]\n"
          ]
        }
      ]
    },
    {
      "cell_type": "code",
      "source": [
        "#To retrieve the MRO programmatically, use the:\n",
        "\n",
        "\n",
        "#1. mro() method:\n",
        "\n",
        "\n",
        "\n",
        "class D(B, C):\n",
        "    pass\n",
        "\n",
        "print(D.mro())"
      ],
      "metadata": {
        "colab": {
          "base_uri": "https://localhost:8080/"
        },
        "id": "BVEV8HjzJHne",
        "outputId": "d5f18a5e-8c36-4e1e-c0fe-c890caa288da"
      },
      "execution_count": 45,
      "outputs": [
        {
          "output_type": "stream",
          "name": "stdout",
          "text": [
            "[<class '__main__.D'>, <class '__main__.B'>, <class '__main__.C'>, <class '__main__.A'>, <class 'object'>]\n"
          ]
        }
      ]
    },
    {
      "cell_type": "code",
      "source": [
        "#1. inspect module:\n",
        "\n",
        "\n",
        "\n",
        "import inspect\n",
        "\n",
        "class D(B, C):\n",
        "    pass\n",
        "\n",
        "print(inspect.getmro(D))"
      ],
      "metadata": {
        "colab": {
          "base_uri": "https://localhost:8080/"
        },
        "id": "Gnm400KDJQ7N",
        "outputId": "34e747f5-2782-4af3-cc47-2e9d3bca7c0d"
      },
      "execution_count": 46,
      "outputs": [
        {
          "output_type": "stream",
          "name": "stdout",
          "text": [
            "(<class '__main__.D'>, <class '__main__.B'>, <class '__main__.C'>, <class '__main__.A'>, <class 'object'>)\n"
          ]
        }
      ]
    },
    {
      "cell_type": "markdown",
      "source": [
        "The mro() method and inspect.getmro() function return a list of classes in the order they are searched.\n",
        "\n",
        "\n",
        "Understanding MRO is crucial when working with multiple inheritance to avoid unexpected behavior.\n",
        "\n",
        "\n",
        "MRO Rules:\n",
        "\n",
        "1. Local precedence: Methods in the current class take precedence.\n",
        "2. Depth-first search: Search parent classes depth-first.\n",
        "3. Left-to-right search: Search parent classes in the order they're listed.\n",
        "4. Monotonicity: If a class is a subclass of another, it comes before its parent.\n",
        "\n",
        "\n",
        "By following these rules, Python ensures predictable and consistent behavior when resolving method and attribute conflicts."
      ],
      "metadata": {
        "id": "cEBVhgjqJfB4"
      }
    },
    {
      "cell_type": "markdown",
      "source": [
        "#Q8. Create an abstract base class Shape with an abstract method area(). Then create two subclasses Circle and Rectangle that implement the area() method.\n",
        "#Ans. Here's how you can define the abstract base class Shape and its subclasses Circle and Rectangle using Python's abc (Abstract Base Classes) module:\n",
        "\n",
        "\n",
        "\n",
        "\n",
        "\n"
      ],
      "metadata": {
        "id": "HJqtiMW4JjEm"
      }
    },
    {
      "cell_type": "code",
      "source": [
        "from abc import ABC, abstractmethod\n",
        "import math\n",
        "\n",
        "# Abstract Base Class\n",
        "class Shape(ABC):\n",
        "    @abstractmethod\n",
        "    def area(self):\n",
        "        pass\n"
      ],
      "metadata": {
        "id": "ThSVBHwGJXbB"
      },
      "execution_count": 48,
      "outputs": []
    },
    {
      "cell_type": "code",
      "source": [
        "# Subclass Circle\n",
        "class Circle(Shape):\n",
        "    def __init__(self, radius):\n",
        "        self.radius = radius\n",
        "\n",
        "    def area(self):\n",
        "        return math.pi * (self.radius ** 2)"
      ],
      "metadata": {
        "id": "ErWbjqkdJ7rZ"
      },
      "execution_count": 49,
      "outputs": []
    },
    {
      "cell_type": "code",
      "source": [
        "# Subclass Rectangle\n",
        "class Rectangle(Shape):\n",
        "    def __init__(self, width, height):\n",
        "        self.width = width\n",
        "        self.height = height\n",
        "\n",
        "    def area(self):\n",
        "        return self.width * self.height"
      ],
      "metadata": {
        "id": "RPPoR21rKQ6N"
      },
      "execution_count": 50,
      "outputs": []
    },
    {
      "cell_type": "code",
      "source": [
        "# Example usage\n",
        "circle = Circle(5)\n",
        "rectangle = Rectangle(4, 6)\n",
        "\n",
        "print(f\"Circle area: {circle.area():.2f}\")\n",
        "print(f\"Rectangle area: {rectangle.area()}\")\n"
      ],
      "metadata": {
        "colab": {
          "base_uri": "https://localhost:8080/"
        },
        "id": "UOzJkcFyKWGp",
        "outputId": "4d90c8e2-122d-4d5d-98bd-5c814339d89a"
      },
      "execution_count": 51,
      "outputs": [
        {
          "output_type": "stream",
          "name": "stdout",
          "text": [
            "Circle area: 78.54\n",
            "Rectangle area: 24\n"
          ]
        }
      ]
    },
    {
      "cell_type": "markdown",
      "source": [
        "In this code:\n",
        "\n",
        "\n",
        "- The Shape abstract base class defines the abstract method area().\n",
        "- The Circle and Rectangle subclasses implement the area() method.\n",
        "- We create instances of Circle and Rectangle and calculate their areas.\n",
        "\n",
        "\n",
        "Note that attempting to instantiate the abstract Shape class directly will raise a TypeError:"
      ],
      "metadata": {
        "id": "OLRnNTElKdxt"
      }
    },
    {
      "cell_type": "code",
      "source": [
        "try:\n",
        "    shape = Shape()\n",
        "except TypeError as e:\n",
        "    print(e)"
      ],
      "metadata": {
        "colab": {
          "base_uri": "https://localhost:8080/"
        },
        "id": "CN-y9LgqKYXG",
        "outputId": "1c4b96c4-1680-4765-d27a-d1ea880a7c08"
      },
      "execution_count": 52,
      "outputs": [
        {
          "output_type": "stream",
          "name": "stdout",
          "text": [
            "Can't instantiate abstract class Shape with abstract method area\n"
          ]
        }
      ]
    },
    {
      "cell_type": "markdown",
      "source": [
        "#Q9. Demonstrate polymorphism by creating a function that can work with different shape objects to calculate and print their areas.\n",
        "#Ans. Here's a demonstration of polymorphism using Python:\n",
        "\n",
        "\n",
        "\n"
      ],
      "metadata": {
        "id": "QqceYlSiKkNu"
      }
    },
    {
      "cell_type": "code",
      "source": [
        "from abc import ABC, abstractmethod\n",
        "import math\n",
        "\n",
        "# Abstract Base Class\n",
        "class Shape(ABC):\n",
        "    @abstractmethod\n",
        "    def area(self):\n",
        "        pass\n"
      ],
      "metadata": {
        "id": "TcUJLZ7IKf3E"
      },
      "execution_count": 53,
      "outputs": []
    },
    {
      "cell_type": "code",
      "source": [
        "# Subclass Circle\n",
        "class Circle(Shape):\n",
        "    def __init__(self, radius):\n",
        "        self.radius = radius\n",
        "\n",
        "    def area(self):\n",
        "        return math.pi * (self.radius ** 2)"
      ],
      "metadata": {
        "id": "Bl7821dvKsFq"
      },
      "execution_count": 54,
      "outputs": []
    },
    {
      "cell_type": "code",
      "source": [
        "# Subclass Rectangle\n",
        "class Rectangle(Shape):\n",
        "    def __init__(self, width, height):\n",
        "        self.width = width\n",
        "        self.height = height\n",
        "\n",
        "    def area(self):\n",
        "        return self.width * self.height"
      ],
      "metadata": {
        "id": "l-yJJjECKwVV"
      },
      "execution_count": 55,
      "outputs": []
    },
    {
      "cell_type": "code",
      "source": [
        "# Subclass Triangle\n",
        "class Triangle(Shape):\n",
        "    def __init__(self, base, height):\n",
        "        self.base = base\n",
        "        self.height = height\n",
        "\n",
        "    def area(self):\n",
        "        return 0.5 * self.base * self.height"
      ],
      "metadata": {
        "id": "youcIkT8Kyb2"
      },
      "execution_count": 56,
      "outputs": []
    },
    {
      "cell_type": "code",
      "source": [
        "# Polymorphic function to calculate and print area\n",
        "def print_shape_area(shape: Shape):\n",
        "    print(f\"Area of {type(shape).__name__}: {shape.area():.2f}\")"
      ],
      "metadata": {
        "id": "mW1VCkQ0K058"
      },
      "execution_count": 57,
      "outputs": []
    },
    {
      "cell_type": "code",
      "source": [
        "# Create shape objects\n",
        "circle = Circle(5)\n",
        "rectangle = Rectangle(4, 6)\n",
        "triangle = Triangle(3, 7)"
      ],
      "metadata": {
        "id": "sQMNFI9gK3ER"
      },
      "execution_count": 58,
      "outputs": []
    },
    {
      "cell_type": "code",
      "source": [
        "# Demonstrate polymorphism\n",
        "print_shape_area(circle)\n",
        "print_shape_area(rectangle)\n",
        "print_shape_area(triangle)"
      ],
      "metadata": {
        "colab": {
          "base_uri": "https://localhost:8080/"
        },
        "id": "9Yxv-9IWK5P1",
        "outputId": "7ff85b28-b964-4aaa-ea68-ad9c2d3db88d"
      },
      "execution_count": 59,
      "outputs": [
        {
          "output_type": "stream",
          "name": "stdout",
          "text": [
            "Area of Circle: 78.54\n",
            "Area of Rectangle: 24.00\n",
            "Area of Triangle: 10.50\n"
          ]
        }
      ]
    },
    {
      "cell_type": "markdown",
      "source": [
        "In this example:\n",
        "\n",
        "\n",
        "- The print_shape_area function takes a Shape object as an argument.\n",
        "- It calls the area method on the shape object, without knowing its specific class.\n",
        "- The correct area method implementation is called based on the object's actual class (Circle, Rectangle, or Triangle).\n",
        "- This demonstrates polymorphism, as the print_shape_area function works with different shape objects without modification.\n",
        "\n",
        "\n",
        "Polymorphism provides flexibility and generic code, allowing you to easily add support for new shapes by creating additional subclasses without modifying the print_shape_area function."
      ],
      "metadata": {
        "id": "QEpLez2fLAOA"
      }
    },
    {
      "cell_type": "markdown",
      "source": [
        "#Q10. Implement encapsulation in a BankAccount class with private attributes for balance and account_number. Include methods for deposit, withdrawal, and balance inquiry.\n",
        "#Ans. Here's a Python implementation of the BankAccount class with encapsulation:\n"
      ],
      "metadata": {
        "id": "qF4BA2wXLBxm"
      }
    },
    {
      "cell_type": "code",
      "source": [
        "class BankAccount:\n",
        "    def __init__(self, account_number, initial_balance):\n",
        "        self.__account_number = account_number\n",
        "        self.__balance = initial_balance\n",
        "\n",
        "    def deposit(self, amount):\n",
        "        if amount > 0:\n",
        "            self.__balance += amount\n",
        "            print(f\"Deposited ${amount:.2f}. New balance: ${self.__balance:.2f}\")\n",
        "        else:\n",
        "            print(\"Invalid deposit amount.\")\n",
        "\n",
        "    def withdraw(self, amount):\n",
        "        if 0 < amount <= self.__balance:\n",
        "            self.__balance -= amount\n",
        "            print(f\"Withdrew ${amount:.2f}. New balance: ${self.__balance:.2f}\")\n",
        "        elif amount <= 0:\n",
        "            print(\"Invalid withdrawal amount.\")\n",
        "        else:\n",
        "            print(\"Insufficient funds.\")\n",
        "\n",
        "    def get_balance(self):\n",
        "        print(f\"Account balance: ${self.__balance:.2f}\")\n",
        "\n",
        "    def get_account_number(self):\n",
        "        return self.__account_number\n"
      ],
      "metadata": {
        "id": "bcp2gHJMK6te"
      },
      "execution_count": 60,
      "outputs": []
    },
    {
      "cell_type": "code",
      "source": [
        "# Example usage\n",
        "account = BankAccount(\"1234567890\", 1000.0)\n",
        "\n",
        "print(f\"Account Number: {account.get_account_number()}\")\n",
        "account.get_balance()\n",
        "account.deposit(500.0)\n",
        "account.withdraw(200.0)\n",
        "account.get_balance()\n"
      ],
      "metadata": {
        "colab": {
          "base_uri": "https://localhost:8080/"
        },
        "id": "-Q9ZHPshLUJA",
        "outputId": "6c7d218a-e6b9-47d2-c3db-d3388e3e43ac"
      },
      "execution_count": 61,
      "outputs": [
        {
          "output_type": "stream",
          "name": "stdout",
          "text": [
            "Account Number: 1234567890\n",
            "Account balance: $1000.00\n",
            "Deposited $500.00. New balance: $1500.00\n",
            "Withdrew $200.00. New balance: $1300.00\n",
            "Account balance: $1300.00\n"
          ]
        }
      ]
    },
    {
      "cell_type": "markdown",
      "source": [
        "In this implementation:\n",
        "\n",
        "\n",
        "- The __account_number and __balance attributes are private, denoted by double underscores.\n",
        "- The deposit, withdraw, and get_balance methods provide controlled access to the private attributes.\n",
        "- The get_account_number method allows read-only access to the account number.\n",
        "\n",
        "\n",
        "Encapsulation benefits:\n",
        "\n",
        "\n",
        "- Hides internal implementation details.\n",
        "- Protects data from external interference.\n",
        "- Provides a clear interface for interacting with the object.\n",
        "\n",
        "\n",
        "Note that Python's private attributes are not strictly enforced but rather serve as a convention to indicate intended private usage. You can still access private attributes using name mangling (_BankAccount__balance), but this is generally discouraged."
      ],
      "metadata": {
        "id": "wGkzzm8_Lhll"
      }
    },
    {
      "cell_type": "markdown",
      "source": [
        "#Q11. Write a class that overrides the __str__ and __add__ magic methods. What will these methods allow you to do?\n",
        "#Ans. Here's an example class Vector that overrides the __str__ and __add__ magic methods:\n",
        "\n"
      ],
      "metadata": {
        "id": "j_XfZ0MQLlOc"
      }
    },
    {
      "cell_type": "code",
      "source": [
        "class Vector:\n",
        "    def __init__(self, x, y):\n",
        "        self.x = x\n",
        "        self.y = y\n",
        "\n",
        "    def __str__(self):\n",
        "        return f\"Vector({self.x}, {self.y})\"\n",
        "\n",
        "    def __add__(self, other):\n",
        "        if isinstance(other, Vector):\n",
        "            return Vector(self.x + other.x, self.y + other.y)\n",
        "        else:\n",
        "            raise TypeError(\"Unsupported operand type for +\")\n"
      ],
      "metadata": {
        "id": "IEgU2bR5Laam"
      },
      "execution_count": 62,
      "outputs": []
    },
    {
      "cell_type": "code",
      "source": [
        "# Example usage\n",
        "v1 = Vector(2, 3)\n",
        "v2 = Vector(4, 5)\n",
        "\n",
        "print(v1)"
      ],
      "metadata": {
        "colab": {
          "base_uri": "https://localhost:8080/"
        },
        "id": "x9s0PNNtLysi",
        "outputId": "a9a9247d-117d-49a6-c267-b709d3534115"
      },
      "execution_count": 63,
      "outputs": [
        {
          "output_type": "stream",
          "name": "stdout",
          "text": [
            "Vector(2, 3)\n"
          ]
        }
      ]
    },
    {
      "cell_type": "code",
      "source": [
        "print(v2)"
      ],
      "metadata": {
        "colab": {
          "base_uri": "https://localhost:8080/"
        },
        "id": "1MW1x03TL1lC",
        "outputId": "a9aa86f8-6f77-428f-f706-8ae43f0e458f"
      },
      "execution_count": 64,
      "outputs": [
        {
          "output_type": "stream",
          "name": "stdout",
          "text": [
            "Vector(4, 5)\n"
          ]
        }
      ]
    },
    {
      "cell_type": "code",
      "source": [
        "v3 = v1 + v2\n",
        "print(v3)"
      ],
      "metadata": {
        "colab": {
          "base_uri": "https://localhost:8080/"
        },
        "id": "hCNmiyMXL4sO",
        "outputId": "1dcc98f1-25b6-4385-d5ee-b27f55caaf2d"
      },
      "execution_count": 65,
      "outputs": [
        {
          "output_type": "stream",
          "name": "stdout",
          "text": [
            "Vector(6, 8)\n"
          ]
        }
      ]
    },
    {
      "cell_type": "code",
      "source": [
        "# Attempting to add Vector with non-Vector object raises TypeError\n",
        "try:\n",
        "    v4 = v1 + 5\n",
        "except TypeError as e:\n",
        "    print(e)"
      ],
      "metadata": {
        "colab": {
          "base_uri": "https://localhost:8080/"
        },
        "id": "SlrVn_13L9Nh",
        "outputId": "571099ea-3ffd-4a7a-a9b2-82326f4a063b"
      },
      "execution_count": 66,
      "outputs": [
        {
          "output_type": "stream",
          "name": "stdout",
          "text": [
            "Unsupported operand type for +\n"
          ]
        }
      ]
    },
    {
      "cell_type": "markdown",
      "source": [
        "Overriding these magic methods allows you to:\n",
        "\n",
        "\n",
        "- __str__:\n",
        "    - Provide a custom string representation of the object.\n",
        "    - Easily print or convert the object to a string.\n",
        "- __add__:\n",
        "    - Define how two objects of the class can be added together.\n",
        "    - Enable the use of the + operator with objects of the class.\n",
        "\n",
        "\n",
        "Other magic methods you can override include:\n",
        "\n",
        "\n",
        "- __sub__ for subtraction (-)\n",
        "- __mul__ for multiplication (*)\n",
        "- __truediv__ for division (/)\n",
        "- __eq__ for equality comparison (==)\n",
        "- __lt__ for less-than comparison (<)\n",
        "- __gt__ for greater-than comparison (>)\n",
        "\n",
        "\n",
        "These methods enhance the usability and readability of your code by allowing you to work with custom objects in a more intuitive and Pythonic way."
      ],
      "metadata": {
        "id": "bhT4i5OSMHBm"
      }
    },
    {
      "cell_type": "code",
      "source": [
        "#Q12. Create a decorator that measures and prints the execution time of a function.\n",
        "#Ans. Here's an example of a decorator that measures and prints the execution time of a function:\n"
      ],
      "metadata": {
        "id": "5cJvvYg1MAOp"
      },
      "execution_count": 67,
      "outputs": []
    },
    {
      "cell_type": "code",
      "source": [
        "import time\n",
        "from functools import wraps\n",
        "\n",
        "def timer_decorator(func):\n",
        "    @wraps(func)\n",
        "    def wrapper(*args, **kwargs):\n",
        "        start_time = time.time()\n",
        "        result = func(*args, **kwargs)\n",
        "        end_time = time.time()\n",
        "        execution_time = end_time - start_time\n",
        "        print(f\"Function '{func.__name__}' executed in {execution_time:.4f} seconds.\")\n",
        "        return result\n",
        "    return wrapper\n"
      ],
      "metadata": {
        "id": "dd-wf-cAMPLj"
      },
      "execution_count": 68,
      "outputs": []
    },
    {
      "cell_type": "code",
      "source": [
        "# Example usage\n",
        "@timer_decorator\n",
        "def example_function():\n",
        "    time.sleep(1)  # Simulate some time-consuming operation\n",
        "    print(\"Function executed.\")\n",
        "\n",
        "\n",
        "example_function()"
      ],
      "metadata": {
        "colab": {
          "base_uri": "https://localhost:8080/"
        },
        "id": "yZSGjXRbMR-w",
        "outputId": "e10f0ea2-b226-4b09-cb81-5daf1777f7c5"
      },
      "execution_count": 69,
      "outputs": [
        {
          "output_type": "stream",
          "name": "stdout",
          "text": [
            "Function executed.\n",
            "Function 'example_function' executed in 1.0065 seconds.\n"
          ]
        }
      ]
    },
    {
      "cell_type": "markdown",
      "source": [
        "Function executed.\n",
        "Function 'example_function' executed in 1.0011 seconds.\n",
        "\n",
        "\n",
        "\n",
        "In this code:\n",
        "\n",
        "\n",
        "- The timer_decorator function takes a function func as an argument.\n",
        "- The wrapper function calculates the execution time by recording the start and end times.\n",
        "- The wraps decorator preserves the original function's metadata (name, docstring, etc.).\n",
        "- The @timer_decorator syntax applies the decorator to the example_function.\n",
        "\n",
        "\n",
        "You can reuse this decorator with any function to measure its execution time.\n",
        "\n",
        "\n",
        "Variations:\n",
        "\n",
        "\n",
        "- Measure execution time in milliseconds: execution_time * 1000\n",
        "- Measure execution time in minutes: execution_time / 60\n",
        "- Log execution time to a file instead of printing\n",
        "\n",
        "\n",
        "To add more functionality, consider using a library like timeit or decorator.\n",
        "\n",
        "\n",
        "Using time.perf_counter() for higher precision:"
      ],
      "metadata": {
        "id": "KlHc0AsyMc7R"
      }
    },
    {
      "cell_type": "code",
      "source": [
        "import time\n",
        "from functools import wraps\n",
        "\n",
        "def timer_decorator(func):\n",
        "    @wraps(func)\n",
        "    def wrapper(*args, **kwargs):\n",
        "        start_time = time.perf_counter()\n",
        "        result = func(*args, **kwargs)\n",
        "        end_time = time.perf_counter()\n",
        "        execution_time = end_time - start_time\n",
        "        print(f\"Function '{func.__name__}' executed in {execution_time:.4f} seconds.\")\n",
        "        return result\n",
        "    return wrapper"
      ],
      "metadata": {
        "id": "wWpGTX3lMU56"
      },
      "execution_count": 70,
      "outputs": []
    },
    {
      "cell_type": "markdown",
      "source": [
        "#Q13. Explain the concept of the Diamond Problem in multiple inheritance. How does Python resolve it?\n",
        "#Ans. The Diamond Problem:\n",
        "\n",
        "\n",
        "The Diamond Problem is a classic issue in multiple inheritance, where a class inherits conflicting methods or attributes from its parent classes. This creates a diamond-shaped inheritance graph:\n",
        "\n",
        "  A\n",
        " / \\\n",
        "B   C\n",
        " \\ /\n",
        "  D\n",
        "\n",
        "\n",
        "\n",
        "Here:\n",
        "\n",
        "- Class D inherits from classes B and C.\n",
        "- Classes B and C inherit from class A.\n",
        "- Class A has a method or attribute that classes B and C override.\n",
        "\n",
        "\n",
        "Problem:\n",
        "\n",
        "\n",
        "- Class D inherits conflicting implementations of the method or attribute from classes B and C.\n",
        "- Which implementation should class D use?\n",
        "\n",
        "\n",
        "Python's Solution:\n",
        "\n",
        "\n",
        "Python resolves the Diamond Problem using:\n",
        "\n",
        "\n",
        "1. Method Resolution Order (MRO): Python uses a depth-first left-to-right (DFLR) approach to resolve method calls.\n",
        "2. C3 Linearization: Python's MRO algorithm is based on C3 linearization, which ensures that:\n",
        "\n",
        "\n",
        "- Local precedence: Methods in the current class take precedence.\n",
        "- Depth-first search: Search parent classes depth-first.\n",
        "- Left-to-right search: Search parent classes in the order they're listed.\n",
        "\n",
        "\n",
        "Example:"
      ],
      "metadata": {
        "id": "8YHDaTLlMmJk"
      }
    },
    {
      "cell_type": "code",
      "source": [
        "class A:\n",
        "    def method(self):\n",
        "        print(\"A's method\")\n",
        "\n",
        "class B(A):\n",
        "    def method(self):\n",
        "        print(\"B's method\")\n",
        "\n",
        "class C(A):\n",
        "    def method(self):\n",
        "        print(\"C's method\")\n",
        "\n",
        "class D(B, C):\n",
        "    pass\n",
        "\n",
        "d = D()\n",
        "d.method()"
      ],
      "metadata": {
        "colab": {
          "base_uri": "https://localhost:8080/"
        },
        "id": "4e8OMTvCM_ty",
        "outputId": "a52e4446-bb71-4dd7-9f24-647a41ef6ae4"
      },
      "execution_count": 72,
      "outputs": [
        {
          "output_type": "stream",
          "name": "stdout",
          "text": [
            "B's method\n"
          ]
        }
      ]
    },
    {
      "cell_type": "markdown",
      "source": [
        "In this example:\n",
        "\n",
        "\n",
        "- Class D inherits from classes B and C.\n",
        "- Class B overrides A's method.\n",
        "- Class C also overrides A's method.\n",
        "- Python's MRO resolves the conflict by choosing class B's implementation.\n",
        "\n",
        "\n",
        "To verify the MRO:\n",
        "\n",
        "\n",
        "\n",
        "print(D.mro())  # Output: [<class '__main__.D'>, <class '__main__.B'>, <class '__main__.C'>, <class '__main__.A'>, <class 'object'>]\n",
        "\n",
        "\n",
        "\n",
        "By using MRO and C3 linearization, Python provides a predictable and consistent way to resolve method conflicts in multiple inheritance."
      ],
      "metadata": {
        "id": "33ZWkviZN0Bu"
      }
    },
    {
      "cell_type": "markdown",
      "source": [
        "#Q14. Write a class method that keeps track of the number of instances created from a class.\n",
        "#Ans. Here's an example of a class method that keeps track of the number of instances created from a class:\n"
      ],
      "metadata": {
        "id": "8nUjMFmKN7DZ"
      }
    },
    {
      "cell_type": "code",
      "source": [
        "class InstanceTracker:\n",
        "    instances = 0  # Class attribute to store instance count\n",
        "\n",
        "    def __init__(self):\n",
        "        InstanceTracker.instances += 1  # Increment instance count\n",
        "\n",
        "    @classmethod\n",
        "    def get_instance_count(cls):\n",
        "        return cls.instances  # Return instance count"
      ],
      "metadata": {
        "id": "H1swW3u5NulB"
      },
      "execution_count": 73,
      "outputs": []
    },
    {
      "cell_type": "code",
      "source": [
        "# Example usage\n",
        "print(InstanceTracker.get_instance_count())"
      ],
      "metadata": {
        "colab": {
          "base_uri": "https://localhost:8080/"
        },
        "id": "1mvQ4SdzOGLg",
        "outputId": "e55ec572-0d18-4ef1-a1a7-4b629d04a3f9"
      },
      "execution_count": 74,
      "outputs": [
        {
          "output_type": "stream",
          "name": "stdout",
          "text": [
            "0\n"
          ]
        }
      ]
    },
    {
      "cell_type": "code",
      "source": [
        "obj1 = InstanceTracker()\n",
        "print(InstanceTracker.get_instance_count())"
      ],
      "metadata": {
        "colab": {
          "base_uri": "https://localhost:8080/"
        },
        "id": "dPrh9E43OJ7T",
        "outputId": "b907337c-83c2-42c4-a213-ac999aa058a5"
      },
      "execution_count": 75,
      "outputs": [
        {
          "output_type": "stream",
          "name": "stdout",
          "text": [
            "1\n"
          ]
        }
      ]
    },
    {
      "cell_type": "code",
      "source": [
        "obj2 = InstanceTracker()\n",
        "print(InstanceTracker.get_instance_count())"
      ],
      "metadata": {
        "colab": {
          "base_uri": "https://localhost:8080/"
        },
        "id": "whc96-QsOMHn",
        "outputId": "c126d978-748d-4e93-a19d-558ec7cd5997"
      },
      "execution_count": 76,
      "outputs": [
        {
          "output_type": "stream",
          "name": "stdout",
          "text": [
            "2\n"
          ]
        }
      ]
    },
    {
      "cell_type": "code",
      "source": [
        "obj3 = InstanceTracker()\n",
        "print(InstanceTracker.get_instance_count())"
      ],
      "metadata": {
        "colab": {
          "base_uri": "https://localhost:8080/"
        },
        "id": "j571joiROOkV",
        "outputId": "b63dabc0-b432-4aec-db25-262e4a69195b"
      },
      "execution_count": 77,
      "outputs": [
        {
          "output_type": "stream",
          "name": "stdout",
          "text": [
            "3\n"
          ]
        }
      ]
    },
    {
      "cell_type": "markdown",
      "source": [
        "In this code:\n",
        "\n",
        "\n",
        "- The instances class attribute stores the instance count.\n",
        "- The __init__ method increments the instance count each time a new instance is created.\n",
        "- The get_instance_count class method returns the current instance count.\n",
        "\n",
        "\n",
        "Note:\n",
        "\n",
        "\n",
        "- Class attributes are shared among all instances of the class.\n",
        "- Class methods operate on class attributes.\n",
        "\n",
        "\n",
        "Alternatively, you can use a metaclass to track instance creation:"
      ],
      "metadata": {
        "id": "lT2K8Eo7Obbh"
      }
    },
    {
      "cell_type": "code",
      "source": [
        "class InstanceTrackerMeta(type):\n",
        "    def __init__(cls, name, bases, attrs):\n",
        "        cls.instances = 0\n",
        "        super().__init__(name, bases, attrs)\n",
        "\n",
        "    def __call__(cls, *args, **kwargs):\n",
        "        cls.instances += 1\n",
        "        return super().__call__(*args, **kwargs)\n",
        "\n",
        "\n",
        "class InstanceTracker(metaclass=InstanceTrackerMeta):\n",
        "    @classmethod\n",
        "    def get_instance_count(cls):\n",
        "        return cls.instances\n"
      ],
      "metadata": {
        "id": "DbmjcTX3OQPB"
      },
      "execution_count": 78,
      "outputs": []
    },
    {
      "cell_type": "markdown",
      "source": [
        "# Example usage remains the same\n",
        "\n",
        "\n",
        "\n",
        "This approach provides more flexibility and control over instance creation."
      ],
      "metadata": {
        "id": "UQWMRMnoOmVT"
      }
    },
    {
      "cell_type": "markdown",
      "source": [
        "#Q15. Implement a static method in a class that checks if a given year is a leap year.\n",
        "#Ans. Here's an implementation of a static method in a class that checks if a given year is a leap year:"
      ],
      "metadata": {
        "id": "Q8fLw6g3Oopk"
      }
    },
    {
      "cell_type": "code",
      "source": [
        "class DateUtil:\n",
        "    @staticmethod\n",
        "    def is_leap_year(year):\n",
        "        \"\"\"Return True if the year is a leap year, False otherwise.\"\"\"\n",
        "        return year % 4 == 0 and (year % 100 != 0 or year % 400 == 0)"
      ],
      "metadata": {
        "id": "rAFtc-XpOjGr"
      },
      "execution_count": 79,
      "outputs": []
    },
    {
      "cell_type": "code",
      "source": [
        "# Example usage\n",
        "print(DateUtil.is_leap_year(2020))"
      ],
      "metadata": {
        "colab": {
          "base_uri": "https://localhost:8080/"
        },
        "id": "Ygl6_PK5OySr",
        "outputId": "1d125044-18bf-451d-dab8-cd008e112b67"
      },
      "execution_count": 80,
      "outputs": [
        {
          "output_type": "stream",
          "name": "stdout",
          "text": [
            "True\n"
          ]
        }
      ]
    },
    {
      "cell_type": "code",
      "source": [
        "print(DateUtil.is_leap_year(2019))"
      ],
      "metadata": {
        "colab": {
          "base_uri": "https://localhost:8080/"
        },
        "id": "2pdL7BFpO0iO",
        "outputId": "52253fc9-2803-4b7b-a497-ddca442c5941"
      },
      "execution_count": 81,
      "outputs": [
        {
          "output_type": "stream",
          "name": "stdout",
          "text": [
            "False\n"
          ]
        }
      ]
    },
    {
      "cell_type": "code",
      "source": [
        "# Additional example usage\n",
        "years = [2000, 1996, 1900, 2012, 2018]\n",
        "for year in years:\n",
        "    print(f\"{year}: {DateUtil.is_leap_year(year)}\")"
      ],
      "metadata": {
        "colab": {
          "base_uri": "https://localhost:8080/"
        },
        "id": "g4NCMjPdO2Zm",
        "outputId": "a99df600-6893-463a-b61d-c60b2c37a4a0"
      },
      "execution_count": 82,
      "outputs": [
        {
          "output_type": "stream",
          "name": "stdout",
          "text": [
            "2000: True\n",
            "1996: True\n",
            "1900: False\n",
            "2012: True\n",
            "2018: False\n"
          ]
        }
      ]
    },
    {
      "cell_type": "markdown",
      "source": [
        "In this code:\n",
        "\n",
        "\n",
        "- The is_leap_year static method checks if a year is divisible by 4, but not by 100, unless it's also divisible by 400.\n",
        "- This logic follows the Gregorian calendar's leap year rules.\n",
        "\n",
        "\n",
        "Using a static method provides:\n",
        "\n",
        "\n",
        "- Encapsulation: The method is part of the DateUtil class.\n",
        "- Convenience: No need to create an instance to use the method.\n",
        "\n",
        "\n",
        "Note:\n",
        "\n",
        "\n",
        "- Static methods don't have access to instance or class attributes.\n",
        "- They're suitable for utility functions that don't depend on instance state.\n",
        "\n",
        "\n",
        "Alternatively, you can use Python's built-in calendar module:\n",
        "\n",
        "\n",
        "\n",
        "import calendar\n",
        "\n",
        "print(calendar.isleap(2020))  # Output: True\n"
      ],
      "metadata": {
        "id": "kG8zqJJGPA2P"
      }
    }
  ]
}