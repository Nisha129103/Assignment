{
  "nbformat": 4,
  "nbformat_minor": 0,
  "metadata": {
    "colab": {
      "provenance": [],
      "authorship_tag": "ABX9TyOdgo5HDlAkh24c3Anao9qL",
      "include_colab_link": true
    },
    "kernelspec": {
      "name": "python3",
      "display_name": "Python 3"
    },
    "language_info": {
      "name": "python"
    }
  },
  "cells": [
    {
      "cell_type": "markdown",
      "metadata": {
        "id": "view-in-github",
        "colab_type": "text"
      },
      "source": [
        "<a href=\"https://colab.research.google.com/github/Nisha129103/Assignment/blob/main/Data_structure_assignment.ipynb\" target=\"_parent\"><img src=\"https://colab.research.google.com/assets/colab-badge.svg\" alt=\"Open In Colab\"/></a>"
      ]
    },
    {
      "cell_type": "markdown",
      "source": [
        "#Qeution 1. discuss string slicing and provide examples.\n",
        "#Answer. Python slicing is about obtaining a sub-string fron the given by slicing it respectively from start to end."
      ],
      "metadata": {
        "id": "-7Pn_jF1OA5T"
      }
    },
    {
      "cell_type": "code",
      "source": [
        "#if we define a string so,\n",
        "a=\"Nisha\" # we have Ajay as a string and it stores as a index and the index start from 0 and negative index start from -1\n",
        "#if we want to eccess the \"N\" from \"Nisha\" so here is the way\n",
        "a[0]\n"
      ],
      "metadata": {
        "colab": {
          "base_uri": "https://localhost:8080/",
          "height": 36
        },
        "id": "C2bRaRg0PU19",
        "outputId": "5bd8031a-6163-4b24-88ea-c915affbbe7a"
      },
      "execution_count": null,
      "outputs": [
        {
          "output_type": "execute_result",
          "data": {
            "text/plain": [
              "'N'"
            ],
            "application/vnd.google.colaboratory.intrinsic+json": {
              "type": "string"
            }
          },
          "metadata": {},
          "execution_count": 1
        }
      ]
    },
    {
      "cell_type": "code",
      "source": [
        "#this is the way of eccessing the sub-string.\n",
        "#we have another examples as well.\n",
        "str1=\"I am a good student\" # if we want to extract \"I am\" from this sentence, So we will use this method for slicing the string.\n",
        "str1[0:4] # we will take 0 to 4 index for eccessing the \"I am\" in this 4 will be exclusive."
      ],
      "metadata": {
        "colab": {
          "base_uri": "https://localhost:8080/",
          "height": 36
        },
        "id": "ErPgrSIDSNEy",
        "outputId": "574bce1c-94c6-4f34-ed25-27171d9036aa"
      },
      "execution_count": null,
      "outputs": [
        {
          "output_type": "execute_result",
          "data": {
            "text/plain": [
              "'I am'"
            ],
            "application/vnd.google.colaboratory.intrinsic+json": {
              "type": "string"
            }
          },
          "metadata": {},
          "execution_count": 5
        }
      ]
    },
    {
      "cell_type": "code",
      "source": [
        "str1[0:] #start_index: end_index>> if you not provide end index it will by default give you till the last index."
      ],
      "metadata": {
        "colab": {
          "base_uri": "https://localhost:8080/",
          "height": 36
        },
        "id": "esOnFElhSuA_",
        "outputId": "609d0526-b60c-4809-97b6-8a89e3fc0194"
      },
      "execution_count": null,
      "outputs": [
        {
          "output_type": "execute_result",
          "data": {
            "text/plain": [
              "'I am a good student'"
            ],
            "application/vnd.google.colaboratory.intrinsic+json": {
              "type": "string"
            }
          },
          "metadata": {},
          "execution_count": 6
        }
      ]
    },
    {
      "cell_type": "code",
      "source": [
        "#except the last three character\n",
        "str1[:-3]"
      ],
      "metadata": {
        "colab": {
          "base_uri": "https://localhost:8080/",
          "height": 36
        },
        "id": "iOP1KaxIT-uI",
        "outputId": "efa5ab58-f53f-46c1-988a-8eb7a482eeca"
      },
      "execution_count": null,
      "outputs": [
        {
          "output_type": "execute_result",
          "data": {
            "text/plain": [
              "'I am a good stud'"
            ],
            "application/vnd.google.colaboratory.intrinsic+json": {
              "type": "string"
            }
          },
          "metadata": {},
          "execution_count": 7
        }
      ]
    },
    {
      "cell_type": "code",
      "source": [
        "#if you want only last characters\n",
        "str1[-3:]"
      ],
      "metadata": {
        "colab": {
          "base_uri": "https://localhost:8080/",
          "height": 36
        },
        "id": "eCDhCHxmUpxS",
        "outputId": "ee33b5c3-74fe-4784-e0a1-ab6c69e9e7df"
      },
      "execution_count": null,
      "outputs": [
        {
          "output_type": "execute_result",
          "data": {
            "text/plain": [
              "'ent'"
            ],
            "application/vnd.google.colaboratory.intrinsic+json": {
              "type": "string"
            }
          },
          "metadata": {},
          "execution_count": 9
        }
      ]
    },
    {
      "cell_type": "code",
      "source": [
        "str2= \"hello world\"\n",
        "str2[0:5:1] #by default step is 1"
      ],
      "metadata": {
        "colab": {
          "base_uri": "https://localhost:8080/",
          "height": 36
        },
        "id": "ffPC3NVtU0hm",
        "outputId": "e3fe4853-304a-4349-f58d-f364ae1c7db1"
      },
      "execution_count": null,
      "outputs": [
        {
          "output_type": "execute_result",
          "data": {
            "text/plain": [
              "'hello'"
            ],
            "application/vnd.google.colaboratory.intrinsic+json": {
              "type": "string"
            }
          },
          "metadata": {},
          "execution_count": 10
        }
      ]
    },
    {
      "cell_type": "code",
      "source": [
        "str2[0:5:2] #In this 2 steps it will skip 1 step after each character."
      ],
      "metadata": {
        "colab": {
          "base_uri": "https://localhost:8080/",
          "height": 36
        },
        "id": "841N6PrGVWX-",
        "outputId": "0f4a50ed-aabb-4691-b2a2-d3a5c2af428d"
      },
      "execution_count": null,
      "outputs": [
        {
          "output_type": "execute_result",
          "data": {
            "text/plain": [
              "'hlo'"
            ],
            "application/vnd.google.colaboratory.intrinsic+json": {
              "type": "string"
            }
          },
          "metadata": {},
          "execution_count": 11
        }
      ]
    },
    {
      "cell_type": "code",
      "source": [
        "#iterate over the sequence in reverse order.\n",
        "#It means start from end, move to beginning on step backwards by one character\n",
        "str2[::-1]"
      ],
      "metadata": {
        "colab": {
          "base_uri": "https://localhost:8080/",
          "height": 36
        },
        "id": "XUakAcoUVcU-",
        "outputId": "4945f60b-afc2-4eaa-ea6c-10e7a62f72d6"
      },
      "execution_count": null,
      "outputs": [
        {
          "output_type": "execute_result",
          "data": {
            "text/plain": [
              "'dlrow olleh'"
            ],
            "application/vnd.google.colaboratory.intrinsic+json": {
              "type": "string"
            }
          },
          "metadata": {},
          "execution_count": 12
        }
      ]
    },
    {
      "cell_type": "markdown",
      "source": [
        ">>These are some ways of string slicing."
      ],
      "metadata": {
        "id": "PYY7taB8WrNT"
      }
    },
    {
      "cell_type": "markdown",
      "source": [
        "#Quetion 2. Explain the key features of lists in python?\n",
        "\n",
        "#Answer. List are ordered collection of item. List is like a shopping bag which can store everything. List can store every type of data."
      ],
      "metadata": {
        "id": "1tAG2hdIxmuS"
      }
    },
    {
      "cell_type": "code",
      "source": [
        "#the symbol of list is [] if, we check the type of this [] symbol so it will show List.\n",
        "type([])"
      ],
      "metadata": {
        "colab": {
          "base_uri": "https://localhost:8080/"
        },
        "id": "AYScclH0ylu5",
        "outputId": "9f02d70e-ed9f-4aed-a0de-ce39e7cf9187"
      },
      "execution_count": null,
      "outputs": [
        {
          "output_type": "execute_result",
          "data": {
            "text/plain": [
              "list"
            ]
          },
          "metadata": {},
          "execution_count": 1
        }
      ]
    },
    {
      "cell_type": "code",
      "source": [
        "#lest's explain the key features of lists in python.\n",
        "grocery_list=[\"milk\",\"orange\",1,2.2,True,3+5j]\n",
        "type(grocery_list)"
      ],
      "metadata": {
        "colab": {
          "base_uri": "https://localhost:8080/"
        },
        "id": "3Ru4vbZAyxxC",
        "outputId": "caa7f6ea-3c0d-49a6-b2a0-351c8e28db56"
      },
      "execution_count": null,
      "outputs": [
        {
          "output_type": "execute_result",
          "data": {
            "text/plain": [
              "list"
            ]
          },
          "metadata": {},
          "execution_count": 4
        }
      ]
    },
    {
      "cell_type": "code",
      "source": [
        "#lists are mutable we can change and edit the data.\n",
        "grocery_list[0]=\"brerad\""
      ],
      "metadata": {
        "id": "lRZiN6gl6xsR"
      },
      "execution_count": null,
      "outputs": []
    },
    {
      "cell_type": "code",
      "source": [
        "grocery_list"
      ],
      "metadata": {
        "colab": {
          "base_uri": "https://localhost:8080/"
        },
        "id": "phccJ55V7GHo",
        "outputId": "9a24aae6-2c67-4137-b085-4ff6595a9cb7"
      },
      "execution_count": null,
      "outputs": [
        {
          "output_type": "execute_result",
          "data": {
            "text/plain": [
              "['brerad', 'orange', 1, 2.2, True, (3+5j)]"
            ]
          },
          "metadata": {},
          "execution_count": 7
        }
      ]
    },
    {
      "cell_type": "code",
      "source": [
        "#for extracting data first to last.\n",
        "grocery_list[1:]"
      ],
      "metadata": {
        "colab": {
          "base_uri": "https://localhost:8080/"
        },
        "id": "l77bZ3pr7Uoa",
        "outputId": "408e31cd-d51d-4ed0-fd8e-91bd6c9872ad"
      },
      "execution_count": null,
      "outputs": [
        {
          "output_type": "execute_result",
          "data": {
            "text/plain": [
              "['orange', 1, 2.2, True, (3+5j)]"
            ]
          },
          "metadata": {},
          "execution_count": 8
        }
      ]
    },
    {
      "cell_type": "code",
      "source": [
        "#Key features for adding data\n",
        "lis=[\"apple\",\"banana\"]"
      ],
      "metadata": {
        "id": "rd2OeFjX7sSu"
      },
      "execution_count": null,
      "outputs": []
    },
    {
      "cell_type": "code",
      "source": [
        "lis"
      ],
      "metadata": {
        "colab": {
          "base_uri": "https://localhost:8080/"
        },
        "id": "sRW8zqky8g3h",
        "outputId": "4b554687-d68f-46ee-b186-5fec03f2bb31"
      },
      "execution_count": null,
      "outputs": [
        {
          "output_type": "execute_result",
          "data": {
            "text/plain": [
              "['apple', 'banana']"
            ]
          },
          "metadata": {},
          "execution_count": 14
        }
      ]
    },
    {
      "cell_type": "code",
      "source": [
        "lis.append(\"mango\")"
      ],
      "metadata": {
        "id": "iegjc6UF8EIz"
      },
      "execution_count": null,
      "outputs": []
    },
    {
      "cell_type": "code",
      "source": [
        "lis"
      ],
      "metadata": {
        "colab": {
          "base_uri": "https://localhost:8080/"
        },
        "id": "en3rlM7v8PV9",
        "outputId": "6a87f1f3-7527-4ba2-8d8d-201b6a253913"
      },
      "execution_count": null,
      "outputs": [
        {
          "output_type": "execute_result",
          "data": {
            "text/plain": [
              "['apple', 'banana', 'mango']"
            ]
          },
          "metadata": {},
          "execution_count": 16
        }
      ]
    },
    {
      "cell_type": "code",
      "source": [
        "#insert object before index\n",
        "lis.insert(1,\"patato\")\n",
        "lis"
      ],
      "metadata": {
        "colab": {
          "base_uri": "https://localhost:8080/"
        },
        "id": "agb-v9q28QII",
        "outputId": "d401a088-cb4b-43b0-8548-223e7330eb86"
      },
      "execution_count": null,
      "outputs": [
        {
          "output_type": "execute_result",
          "data": {
            "text/plain": [
              "['apple', 'patato', 'banana', 'mango']"
            ]
          },
          "metadata": {},
          "execution_count": 17
        }
      ]
    },
    {
      "cell_type": "code",
      "source": [
        "#extend>> used to append elements from another list.\n",
        "my_list=[\"apple\",\"banana\",\"orange\"]\n",
        "brothers_list=[\"brinjal\",\"patato\"]"
      ],
      "metadata": {
        "id": "w0syOKUy88lT"
      },
      "execution_count": null,
      "outputs": []
    },
    {
      "cell_type": "code",
      "source": [
        "my_list.extend(brothers_list)"
      ],
      "metadata": {
        "id": "OlajX4YT9j7T"
      },
      "execution_count": null,
      "outputs": []
    },
    {
      "cell_type": "code",
      "source": [
        "my_list #This element will append the elements from another list."
      ],
      "metadata": {
        "colab": {
          "base_uri": "https://localhost:8080/"
        },
        "id": "mtPJ8pgM9pPL",
        "outputId": "ba3754bd-693c-4611-e29f-3440c30e1684"
      },
      "execution_count": null,
      "outputs": [
        {
          "output_type": "execute_result",
          "data": {
            "text/plain": [
              "['apple', 'banana', 'orange', 'brinjal', 'patato']"
            ]
          },
          "metadata": {},
          "execution_count": 21
        }
      ]
    },
    {
      "cell_type": "code",
      "source": [
        "#Repeatation operation>> it repeats the elements\n",
        "msg=\"your appointment is tommorrow\\n\"\n",
        "print(msg*3)"
      ],
      "metadata": {
        "colab": {
          "base_uri": "https://localhost:8080/"
        },
        "id": "_I3Aotno9smS",
        "outputId": "e3a92947-17a3-4610-8874-a44ccdd40101"
      },
      "execution_count": null,
      "outputs": [
        {
          "output_type": "stream",
          "name": "stdout",
          "text": [
            "your appointment is tommorrow\n",
            "your appointment is tommorrow\n",
            "your appointment is tommorrow\n",
            "\n"
          ]
        }
      ]
    },
    {
      "cell_type": "code",
      "source": [
        "#membeship in, not in.\n",
        "grocery_list"
      ],
      "metadata": {
        "colab": {
          "base_uri": "https://localhost:8080/"
        },
        "id": "j87JLMjH-aPz",
        "outputId": "9746902f-ea9f-4742-99a7-2ea89bed822d"
      },
      "execution_count": null,
      "outputs": [
        {
          "output_type": "execute_result",
          "data": {
            "text/plain": [
              "['brerad', 'orange', 1, 2.2, True, (3+5j)]"
            ]
          },
          "metadata": {},
          "execution_count": 23
        }
      ]
    },
    {
      "cell_type": "code",
      "source": [
        "\"milk\" in grocery_list"
      ],
      "metadata": {
        "colab": {
          "base_uri": "https://localhost:8080/"
        },
        "id": "bQL-3AkkBjFd",
        "outputId": "ce5f9048-2f87-4f21-e663-8171a1898eac"
      },
      "execution_count": null,
      "outputs": [
        {
          "output_type": "execute_result",
          "data": {
            "text/plain": [
              "False"
            ]
          },
          "metadata": {},
          "execution_count": 24
        }
      ]
    },
    {
      "cell_type": "code",
      "source": [
        "\"patato\" not in grocery_list"
      ],
      "metadata": {
        "colab": {
          "base_uri": "https://localhost:8080/"
        },
        "id": "U7jMk9voBnRe",
        "outputId": "72599d0b-a11d-4a28-e276-177a891f5baf"
      },
      "execution_count": null,
      "outputs": [
        {
          "output_type": "execute_result",
          "data": {
            "text/plain": [
              "True"
            ]
          },
          "metadata": {},
          "execution_count": 25
        }
      ]
    },
    {
      "cell_type": "code",
      "source": [
        "#deep copy and shallow copy.\n",
        "#shallow copy>> means list1 earlier refer to (\"a,b,c\") now it's refer to (1,2,3)\n",
        "#if list1 will be change it's value so list2 will be also change.\n",
        "list1=[\"a,b,c\"]\n",
        "list2=[1,2,3]\n",
        "list1=list2"
      ],
      "metadata": {
        "id": "-2B0_5_WBt9U"
      },
      "execution_count": null,
      "outputs": []
    },
    {
      "cell_type": "code",
      "source": [
        "list1"
      ],
      "metadata": {
        "colab": {
          "base_uri": "https://localhost:8080/"
        },
        "id": "SjD15onYCA7H",
        "outputId": "8f86ad34-ef62-4134-b6d4-7fb2ac0eb575"
      },
      "execution_count": null,
      "outputs": [
        {
          "output_type": "execute_result",
          "data": {
            "text/plain": [
              "[1, 2, 3]"
            ]
          },
          "metadata": {},
          "execution_count": 29
        }
      ]
    },
    {
      "cell_type": "code",
      "source": [
        "list2"
      ],
      "metadata": {
        "colab": {
          "base_uri": "https://localhost:8080/"
        },
        "id": "6YOwvtycCjkv",
        "outputId": "da7320f7-849d-4a82-d1b8-70a80ffd5ccf"
      },
      "execution_count": null,
      "outputs": [
        {
          "output_type": "execute_result",
          "data": {
            "text/plain": [
              "[1, 2, 3]"
            ]
          },
          "metadata": {},
          "execution_count": 30
        }
      ]
    },
    {
      "cell_type": "code",
      "source": [
        "list1[0]=4"
      ],
      "metadata": {
        "id": "Sa67xjzBCoBO"
      },
      "execution_count": null,
      "outputs": []
    },
    {
      "cell_type": "code",
      "source": [
        "list1"
      ],
      "metadata": {
        "colab": {
          "base_uri": "https://localhost:8080/"
        },
        "id": "LqkhMCE5Cv-7",
        "outputId": "f5070d76-fe8c-4041-dcc8-3944c76f5c77"
      },
      "execution_count": null,
      "outputs": [
        {
          "output_type": "execute_result",
          "data": {
            "text/plain": [
              "[4, 2, 3]"
            ]
          },
          "metadata": {},
          "execution_count": 33
        }
      ]
    },
    {
      "cell_type": "code",
      "source": [
        "list2"
      ],
      "metadata": {
        "colab": {
          "base_uri": "https://localhost:8080/"
        },
        "id": "nhTE0DTBCzbW",
        "outputId": "ec60ddaa-bcf9-4f0a-fa39-fc9ef29d88b5"
      },
      "execution_count": null,
      "outputs": [
        {
          "output_type": "execute_result",
          "data": {
            "text/plain": [
              "[4, 2, 3]"
            ]
          },
          "metadata": {},
          "execution_count": 34
        }
      ]
    },
    {
      "cell_type": "code",
      "source": [
        "#Deep copy\n",
        "#b will take other memory space with same value which grocery_list have but is will not change if grocery_list will change.\n",
        "grocery_list"
      ],
      "metadata": {
        "colab": {
          "base_uri": "https://localhost:8080/"
        },
        "id": "7b-sFgztC1OZ",
        "outputId": "56c19527-6b9a-48b7-97f1-baca91c9581f"
      },
      "execution_count": null,
      "outputs": [
        {
          "output_type": "execute_result",
          "data": {
            "text/plain": [
              "['brerad', 'orange', 1, 2.2, True, (3+5j)]"
            ]
          },
          "metadata": {},
          "execution_count": 35
        }
      ]
    },
    {
      "cell_type": "code",
      "source": [
        "b=grocery_list.copy()"
      ],
      "metadata": {
        "id": "sTxtNOZ3C7d0"
      },
      "execution_count": null,
      "outputs": []
    },
    {
      "cell_type": "code",
      "source": [
        "b"
      ],
      "metadata": {
        "colab": {
          "base_uri": "https://localhost:8080/"
        },
        "id": "qUj_tVpYDQKv",
        "outputId": "97d4f940-46ea-4ea0-84c9-683f62344bdd"
      },
      "execution_count": null,
      "outputs": [
        {
          "output_type": "execute_result",
          "data": {
            "text/plain": [
              "['brerad', 'orange', 1, 2.2, True, (3+5j)]"
            ]
          },
          "metadata": {},
          "execution_count": 37
        }
      ]
    },
    {
      "cell_type": "code",
      "source": [
        "b[0]=\"milk\""
      ],
      "metadata": {
        "id": "7A8xFxz5DQ6c"
      },
      "execution_count": null,
      "outputs": []
    },
    {
      "cell_type": "code",
      "source": [
        "b"
      ],
      "metadata": {
        "colab": {
          "base_uri": "https://localhost:8080/"
        },
        "id": "wvvH9e9KDpnU",
        "outputId": "af7383b9-00be-4548-bddc-867d717b69c7"
      },
      "execution_count": null,
      "outputs": [
        {
          "output_type": "execute_result",
          "data": {
            "text/plain": [
              "['milk', 'orange', 1, 2.2, True, (3+5j)]"
            ]
          },
          "metadata": {},
          "execution_count": 40
        }
      ]
    },
    {
      "cell_type": "code",
      "source": [
        "grocery_list"
      ],
      "metadata": {
        "id": "ObnyuF5rDstd",
        "outputId": "063c3741-5d2c-4ac4-8ee6-bbf9684a42a6",
        "colab": {
          "base_uri": "https://localhost:8080/"
        }
      },
      "execution_count": null,
      "outputs": [
        {
          "output_type": "execute_result",
          "data": {
            "text/plain": [
              "['brerad', 'orange', 1, 2.2, True, (3+5j)]"
            ]
          },
          "metadata": {},
          "execution_count": 41
        }
      ]
    },
    {
      "cell_type": "markdown",
      "source": [
        "#Quetion 3. Describe how to access, modify and delete elements in a list with examples.\n",
        "\n",
        "#Answer. Python list elements are ordered by index, a number referring to their placement in the list. List indices strt at 0 and increment by one. TO access a list element by index, squre bracket notation is used: list[index].\n",
        "\n",
        ">Modify an item within a list in python\n",
        "1. step 1: Create a list. to start, create a list in python. for example: list_names=[\"jon\", \"bill\",\"maria\",\"jenny\",\"jack\"]\n",
        "\n",
        "2. step 2: modifiy an item within the list. for example, to modify the third item(index of 2) in the list from\"maria\" to \"mona\": list_names[2] =\"mona\"\n",
        "\n",
        "You can either use the del keybord or the pop() function to remove an element  from a list in python by its index."
      ],
      "metadata": {
        "id": "Le2yBU0PbU9v"
      }
    },
    {
      "cell_type": "markdown",
      "source": [
        "#Quetion 4. Compare and contrast tuple and lists with examples.\n",
        "#Answer. Use a list if you need a mutable collection of item where you may need to add, remove, or change elements. List are more flexible and have more built-in mehtods, making them ideal for dynamic collections. use a tuple if you need an immutable collection where the elements won't change after creation."
      ],
      "metadata": {
        "id": "-iQI5lrkdDOx"
      }
    },
    {
      "cell_type": "markdown",
      "source": [
        "#Quetion 5. Describe the key features of sets and provide examples of their uses.\n",
        "#Answer.  A set is represented by a capital letter symbol and the number of elements in the finite set is represented as the cardinal number of set in a curly bracket{...}. For example, set A is a collection of all the natural numbers, such as A = {1,2,3,4,5,6,7,8....}. Also, check sets here."
      ],
      "metadata": {
        "id": "813UX1yEd0UR"
      }
    },
    {
      "cell_type": "markdown",
      "source": [
        "#Quetion 6. Discuss the use cases of tuples and sets in python programming.\n",
        "#Answer. tuples are used to store muliple items in a single variable. Tuple is one of 4 built-in data type in python used to store collection of data, the other 3 are list, set, and dictionary, all with different Qualities and usage. A tuple is a collection which is ordered and unchangeable. Common use of sets in python is computing standards math oprerations such as union, intersection, diffrenece, and symmetric diffrence. The image below shows a couple standard math operations on two sets A and B. The red part of each venn diagram is the resulting set of a given set operation."
      ],
      "metadata": {
        "id": "n1XIWlCgevVl"
      }
    },
    {
      "cell_type": "markdown",
      "source": [
        "#Quetion 7. Describe how to add, modify, and delete items in a dictionary with examples.\n",
        "#Answer. How to add an item to a dictionary in python\n",
        "1. using the assignment operator.\n",
        "2. using update()..\n",
        "3. using dict() constructor.\n",
        "4. using__ setitem__.\n",
        "5. using the **operator.\n",
        "6. checking if a key exists.\n",
        "7. using a for loop.\n",
        "8. using zip.\n",
        "\n",
        "How to modify a dictionary python\n",
        "> To update a dictionary in python, you can use the update() method, like dict1.update({'b':3,'c':4}). this method allows you to add new items or change the value of existing items in a python dictionary. In this example, we have a dictionary dict1 with keys 'a' and'b'.\n",
        "\n",
        "How to remove a key from a python dictionary.\n",
        ">To remove a key frm a dictionary, you can use the det statement. Here's an example: my_dict={'a':1,'b':2,'c':3} del my_dict['b'} print(my_dict) # output:{'a':1,'c':3} Alternatively yo...\n"
      ],
      "metadata": {
        "id": "6miHh056fjAW"
      }
    },
    {
      "cell_type": "markdown",
      "source": [
        "#Quetion 8. Dicsuss the importance of dictionary keys being immutable and provide examples.\n",
        "#Answer. In a dictionary, the key part must be immutable. This means that omce a key is created, it cannot be changed. Immutablility is essential for keys because it ensures that the dictionary can efficiently loop up values based on thier keys. If the key were a mutable object, its value could change, and thus its hash could also change. But since whoever changes the key object can't tell that it was being used as a dictionary key, it can't move te entry around the dictionary."
      ],
      "metadata": {
        "id": "2aJoM4iMioTL"
      }
    }
  ]
}