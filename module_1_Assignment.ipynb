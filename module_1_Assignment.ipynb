{
  "nbformat": 4,
  "nbformat_minor": 0,
  "metadata": {
    "colab": {
      "provenance": [],
      "toc_visible": true,
      "authorship_tag": "ABX9TyN1fds39F7VR1V48Dqk1JGF",
      "include_colab_link": true
    },
    "kernelspec": {
      "name": "python3",
      "display_name": "Python 3"
    },
    "language_info": {
      "name": "python"
    }
  },
  "cells": [
    {
      "cell_type": "markdown",
      "metadata": {
        "id": "view-in-github",
        "colab_type": "text"
      },
      "source": [
        "<a href=\"https://colab.research.google.com/github/Nisha129103/Assignment/blob/main/module_1_Assignment.ipynb\" target=\"_parent\"><img src=\"https://colab.research.google.com/assets/colab-badge.svg\" alt=\"Open In Colab\"/></a>"
      ]
    },
    {
      "cell_type": "code",
      "execution_count": null,
      "metadata": {
        "id": "Xg3d5Gw2aGy6"
      },
      "outputs": [],
      "source": []
    },
    {
      "cell_type": "markdown",
      "source": [
        "#Answer 1.\n",
        "\n",
        "#These are the Python key Features that make it a popular choice of programming.\n",
        "\n",
        "1. interpreted language:- Python is an interpreted programming languange. The cie runs one line at a time. Interpreted language makes the code exrcution faster and debugging easy.\n",
        "\n",
        "2. Dynamically typed languange:- Python is a strongly typed and a dynamically typed langauge. Strong typing means that variable do have type and the type matters when performing operations on a variable dynamic typing means taht the type of the variable is determined only during runtime.\n",
        "\n",
        "3. Cross paltfrom langauge:- python is a cross platform language. It supports many platfotms like windows, Mac, Linux. If you write code in one system. you can use the same code in other system withuot making any changes in the existing code.\n",
        "\n",
        "4. Procedure-oriented & object-oriented language:- A programming language is procedure-oriented if it is created using calsses and objects. pyhton supports both the above paradigm.\n"
      ],
      "metadata": {
        "id": "YVAfeojG8_zJ"
      }
    },
    {
      "cell_type": "code",
      "source": [],
      "metadata": {
        "id": "-U9wNQQXBIfd"
      },
      "execution_count": null,
      "outputs": []
    },
    {
      "cell_type": "markdown",
      "source": [
        "#Answer 2.\n",
        "\n",
        "#Predefined keywords are the reserved words whose meaning already defined in the python interpreter.\n",
        "\n",
        "1. we can not use a keywords as a variable name, mehtod name or any other identifier.\n",
        "\n",
        "2. python keywords are the case sensitive.\n",
        "\n",
        "these are the some of the predefined keywords in python:- False, true, none, and, as, assert, async, await, break, class, continue, def, del, elif, else, except, finally, for, from, global, if, import, in is lambda, nonlocal, not, or, pass, raise, retrurn, try, while, with, yield."
      ],
      "metadata": {
        "id": "KP0yn3lxBM5j"
      }
    },
    {
      "cell_type": "code",
      "source": [
        "#Example\n",
        "a=True"
      ],
      "metadata": {
        "id": "elLU4KfsIk0P"
      },
      "execution_count": null,
      "outputs": []
    },
    {
      "cell_type": "code",
      "source": [
        "a"
      ],
      "metadata": {
        "colab": {
          "base_uri": "https://localhost:8080/"
        },
        "id": "3kwnwfBsKu0h",
        "outputId": "a4d8c04b-69b9-48df-b01e-4d7b46452378"
      },
      "execution_count": null,
      "outputs": [
        {
          "output_type": "execute_result",
          "data": {
            "text/plain": [
              "True"
            ]
          },
          "metadata": {},
          "execution_count": 4
        }
      ]
    },
    {
      "cell_type": "code",
      "source": [
        "f=None"
      ],
      "metadata": {
        "id": "nGq8-7AVKvul"
      },
      "execution_count": null,
      "outputs": []
    },
    {
      "cell_type": "code",
      "source": [
        "f"
      ],
      "metadata": {
        "id": "l3q3WPRDLilX"
      },
      "execution_count": null,
      "outputs": []
    },
    {
      "cell_type": "code",
      "source": [
        "type(None)"
      ],
      "metadata": {
        "colab": {
          "base_uri": "https://localhost:8080/"
        },
        "id": "ke-ZPJZmLkbH",
        "outputId": "caef7d56-67da-4946-b1e2-61ae30903b58"
      },
      "execution_count": null,
      "outputs": [
        {
          "output_type": "execute_result",
          "data": {
            "text/plain": [
              "NoneType"
            ]
          },
          "metadata": {},
          "execution_count": 10
        }
      ]
    },
    {
      "cell_type": "code",
      "source": [],
      "metadata": {
        "id": "Oc_PXua5Lny7"
      },
      "execution_count": null,
      "outputs": []
    },
    {
      "cell_type": "markdown",
      "source": [
        "#Answer 3.\n",
        "-Python represents all its data as objects\n",
        "-There are two types pf objects in python:-\n",
        "1) Mutable\n",
        "2) Immutable\n",
        "- Objects mutability is determined by its type.\n",
        "\n",
        "#Mutable objects:-\n",
        "- You can change content without changing identity.\n",
        "Ex. list.\n",
        "\n",
        "#Immutable objects:-\n",
        "- You can't change immutable objects once created.\n",
        "Ex. string,int,float,complex.\n"
      ],
      "metadata": {
        "id": "aB8wiTfGV-2d"
      }
    },
    {
      "cell_type": "code",
      "source": [
        "list = [1,2,3,4.5,3+5j] #example of mutable objects we can edit anyting.\n",
        "list\n"
      ],
      "metadata": {
        "colab": {
          "base_uri": "https://localhost:8080/"
        },
        "id": "qizAq61iYDzo",
        "outputId": "a32d58ba-c7ca-48b6-e863-b1b278f70c72"
      },
      "execution_count": null,
      "outputs": [
        {
          "output_type": "execute_result",
          "data": {
            "text/plain": [
              "[1, 2, 3, 4.5, (3+5j)]"
            ]
          },
          "metadata": {},
          "execution_count": 3
        }
      ]
    },
    {
      "cell_type": "code",
      "source": [
        "list[4]"
      ],
      "metadata": {
        "colab": {
          "base_uri": "https://localhost:8080/"
        },
        "id": "JxHX9JrgZMl5",
        "outputId": "9779c8fc-0bce-49d2-bde7-165704332aa4"
      },
      "execution_count": null,
      "outputs": [
        {
          "output_type": "execute_result",
          "data": {
            "text/plain": [
              "(3+5j)"
            ]
          },
          "metadata": {},
          "execution_count": 4
        }
      ]
    },
    {
      "cell_type": "code",
      "source": [
        "list[4] = 5"
      ],
      "metadata": {
        "id": "__GbS54cZfyC"
      },
      "execution_count": null,
      "outputs": []
    },
    {
      "cell_type": "code",
      "source": [
        "list"
      ],
      "metadata": {
        "colab": {
          "base_uri": "https://localhost:8080/"
        },
        "id": "ALSc3r-xZpXX",
        "outputId": "35b4c25a-9bc5-489e-b7c3-4b867d80c600"
      },
      "execution_count": null,
      "outputs": [
        {
          "output_type": "execute_result",
          "data": {
            "text/plain": [
              "[1, 2, 3, 4.5, 5]"
            ]
          },
          "metadata": {},
          "execution_count": 6
        }
      ]
    },
    {
      "cell_type": "code",
      "source": [
        "b= \"ajay\" # this is the example of immutable objects \"ajay\" is a string and we can't edit it.\n",
        " #That's why string is a exapmle of immutable objects.\n",
        "b"
      ],
      "metadata": {
        "colab": {
          "base_uri": "https://localhost:8080/",
          "height": 36
        },
        "id": "8z-9VwDWZrfP",
        "outputId": "65937f6b-4407-4edc-a914-409bde9c7981"
      },
      "execution_count": null,
      "outputs": [
        {
          "output_type": "execute_result",
          "data": {
            "text/plain": [
              "'ajay'"
            ],
            "application/vnd.google.colaboratory.intrinsic+json": {
              "type": "string"
            }
          },
          "metadata": {},
          "execution_count": 7
        }
      ]
    },
    {
      "cell_type": "code",
      "source": [
        "b[0] = B"
      ],
      "metadata": {
        "colab": {
          "base_uri": "https://localhost:8080/",
          "height": 141
        },
        "id": "scQCTY_Pawh8",
        "outputId": "29ff7066-7c0a-4255-92ec-539d4d0949bb"
      },
      "execution_count": null,
      "outputs": [
        {
          "output_type": "error",
          "ename": "NameError",
          "evalue": "name 'B' is not defined",
          "traceback": [
            "\u001b[0;31m---------------------------------------------------------------------------\u001b[0m",
            "\u001b[0;31mNameError\u001b[0m                                 Traceback (most recent call last)",
            "\u001b[0;32m<ipython-input-8-d799e9ea1746>\u001b[0m in \u001b[0;36m<cell line: 1>\u001b[0;34m()\u001b[0m\n\u001b[0;32m----> 1\u001b[0;31m \u001b[0mb\u001b[0m\u001b[0;34m[\u001b[0m\u001b[0;36m0\u001b[0m\u001b[0;34m]\u001b[0m \u001b[0;34m=\u001b[0m \u001b[0mB\u001b[0m\u001b[0;34m\u001b[0m\u001b[0;34m\u001b[0m\u001b[0m\n\u001b[0m",
            "\u001b[0;31mNameError\u001b[0m: name 'B' is not defined"
          ]
        }
      ]
    },
    {
      "cell_type": "code",
      "source": [],
      "metadata": {
        "id": "hPFAqUIea60p"
      },
      "execution_count": null,
      "outputs": []
    },
    {
      "cell_type": "markdown",
      "source": [
        "#Answer 4.\n",
        "\n",
        "#python operators\n",
        "\n",
        " Special keywords/symbols that are use to perfrom operators on value or variable.\n",
        "\n",
        " - There are seven type of operators in python\n",
        " 1. Arithmatic operators\n",
        " 2. Comparison operators\n",
        " 3. Logical operators\n",
        " 4. Bitwise operators\n",
        " 5. Assignment operators\n",
        " 6. Membership operators\n",
        " 7. identify operators\n",
        "\n",
        "\n"
      ],
      "metadata": {
        "id": "DfoGHwj4FljJ"
      }
    },
    {
      "cell_type": "code",
      "source": [
        "#Arithmatic operators additon -\n",
        "a= 3\n",
        "b= 2\n",
        "a+b"
      ],
      "metadata": {
        "colab": {
          "base_uri": "https://localhost:8080/"
        },
        "id": "_cfwMNx5G6tg",
        "outputId": "402c6054-5824-4fa7-8586-a3ded8de4a49"
      },
      "execution_count": null,
      "outputs": [
        {
          "output_type": "execute_result",
          "data": {
            "text/plain": [
              "5"
            ]
          },
          "metadata": {},
          "execution_count": 1
        }
      ]
    },
    {
      "cell_type": "code",
      "source": [
        "#modulus operator\n",
        "21%4"
      ],
      "metadata": {
        "colab": {
          "base_uri": "https://localhost:8080/"
        },
        "id": "sjmtepUAHHBx",
        "outputId": "9c30f497-baaa-4500-d8a6-afa0fe798c90"
      },
      "execution_count": null,
      "outputs": [
        {
          "output_type": "execute_result",
          "data": {
            "text/plain": [
              "1"
            ]
          },
          "metadata": {},
          "execution_count": 2
        }
      ]
    },
    {
      "cell_type": "code",
      "source": [
        "2**5"
      ],
      "metadata": {
        "colab": {
          "base_uri": "https://localhost:8080/"
        },
        "id": "ZYCG0324HbYT",
        "outputId": "662a1f27-2066-4be4-d092-b4ae42b8dcd4"
      },
      "execution_count": null,
      "outputs": [
        {
          "output_type": "execute_result",
          "data": {
            "text/plain": [
              "32"
            ]
          },
          "metadata": {},
          "execution_count": 3
        }
      ]
    },
    {
      "cell_type": "code",
      "source": [
        "# Floor operator\n",
        "4/3"
      ],
      "metadata": {
        "colab": {
          "base_uri": "https://localhost:8080/"
        },
        "id": "mPBQTWxeHgQj",
        "outputId": "c46c2294-48a3-4c96-942a-c1862dd77c8e"
      },
      "execution_count": null,
      "outputs": [
        {
          "output_type": "execute_result",
          "data": {
            "text/plain": [
              "1.3333333333333333"
            ]
          },
          "metadata": {},
          "execution_count": 4
        }
      ]
    },
    {
      "cell_type": "code",
      "source": [
        "4//3"
      ],
      "metadata": {
        "colab": {
          "base_uri": "https://localhost:8080/"
        },
        "id": "PZEkNeLUHpM_",
        "outputId": "0f08f957-a28b-44b1-9220-5de1e559d4f7"
      },
      "execution_count": null,
      "outputs": [
        {
          "output_type": "execute_result",
          "data": {
            "text/plain": [
              "1"
            ]
          },
          "metadata": {},
          "execution_count": 5
        }
      ]
    },
    {
      "cell_type": "code",
      "source": [
        "#comparison operator>campare two values>return boolean value.\n",
        "2==2"
      ],
      "metadata": {
        "colab": {
          "base_uri": "https://localhost:8080/"
        },
        "id": "tT6O1RoMHqvf",
        "outputId": "c82c5560-f5bc-4723-d761-74f305de85a4"
      },
      "execution_count": null,
      "outputs": [
        {
          "output_type": "execute_result",
          "data": {
            "text/plain": [
              "True"
            ]
          },
          "metadata": {},
          "execution_count": 6
        }
      ]
    },
    {
      "cell_type": "code",
      "source": [
        "2!=2"
      ],
      "metadata": {
        "colab": {
          "base_uri": "https://localhost:8080/"
        },
        "id": "yYu32PpNIGkJ",
        "outputId": "0b966a8c-7cf2-4087-9586-11b93c054022"
      },
      "execution_count": null,
      "outputs": [
        {
          "output_type": "execute_result",
          "data": {
            "text/plain": [
              "False"
            ]
          },
          "metadata": {},
          "execution_count": 7
        }
      ]
    },
    {
      "cell_type": "code",
      "source": [
        "#assignment operator\n",
        "b= 10\n",
        "b+6"
      ],
      "metadata": {
        "colab": {
          "base_uri": "https://localhost:8080/"
        },
        "id": "L-J-TOfmIIyO",
        "outputId": "83171369-8c57-4c4b-be46-54ea7580d870"
      },
      "execution_count": null,
      "outputs": [
        {
          "output_type": "execute_result",
          "data": {
            "text/plain": [
              "16"
            ]
          },
          "metadata": {},
          "execution_count": 8
        }
      ]
    },
    {
      "cell_type": "code",
      "source": [
        "#membership operaator\n",
        "\n",
        "a= \"pwskills\"\n",
        "\"p\" in a"
      ],
      "metadata": {
        "colab": {
          "base_uri": "https://localhost:8080/"
        },
        "id": "XVgac_uCIk4c",
        "outputId": "ee950c25-1c07-4112-90cd-c196f665a82e"
      },
      "execution_count": null,
      "outputs": [
        {
          "output_type": "execute_result",
          "data": {
            "text/plain": [
              "True"
            ]
          },
          "metadata": {},
          "execution_count": 11
        }
      ]
    },
    {
      "cell_type": "code",
      "source": [
        "#identitify operator> compare the location of two objects/variable\n",
        "a=2\n",
        "b=3\n",
        "a is b"
      ],
      "metadata": {
        "colab": {
          "base_uri": "https://localhost:8080/"
        },
        "id": "dMbHDf0gJDuq",
        "outputId": "fb5d130c-1ad5-45ee-b728-d45a36efb974"
      },
      "execution_count": null,
      "outputs": [
        {
          "output_type": "execute_result",
          "data": {
            "text/plain": [
              "False"
            ]
          },
          "metadata": {},
          "execution_count": 12
        }
      ]
    },
    {
      "cell_type": "code",
      "source": [
        "#bitwise operator> operation at bit level manipulating individuals bits within integer\n",
        "#bitwise representaion[&,!,~,^,xor]\n",
        "10&10"
      ],
      "metadata": {
        "colab": {
          "base_uri": "https://localhost:8080/"
        },
        "id": "0D1_jLDbJTSu",
        "outputId": "c6b7ec2d-6e67-4674-ea9d-b70b6ccf07b3"
      },
      "execution_count": null,
      "outputs": [
        {
          "output_type": "execute_result",
          "data": {
            "text/plain": [
              "10"
            ]
          },
          "metadata": {},
          "execution_count": 13
        }
      ]
    },
    {
      "cell_type": "code",
      "source": [
        "bin(10)"
      ],
      "metadata": {
        "colab": {
          "base_uri": "https://localhost:8080/",
          "height": 36
        },
        "id": "GQQmunOIJ2Ht",
        "outputId": "eab7bc1d-7f6a-4abf-ce24-0c1d22c135bb"
      },
      "execution_count": null,
      "outputs": [
        {
          "output_type": "execute_result",
          "data": {
            "text/plain": [
              "'0b1010'"
            ],
            "application/vnd.google.colaboratory.intrinsic+json": {
              "type": "string"
            }
          },
          "metadata": {},
          "execution_count": 14
        }
      ]
    },
    {
      "cell_type": "code",
      "source": [
        "3|5"
      ],
      "metadata": {
        "colab": {
          "base_uri": "https://localhost:8080/"
        },
        "id": "xkql65soJ5Vv",
        "outputId": "276dccaf-c18a-4afa-8fd4-b5c83eac8837"
      },
      "execution_count": null,
      "outputs": [
        {
          "output_type": "execute_result",
          "data": {
            "text/plain": [
              "7"
            ]
          },
          "metadata": {},
          "execution_count": 19
        }
      ]
    },
    {
      "cell_type": "code",
      "source": [
        "bin(3)"
      ],
      "metadata": {
        "colab": {
          "base_uri": "https://localhost:8080/",
          "height": 36
        },
        "id": "K5-bRizHKGto",
        "outputId": "40d3631f-8694-44d4-e044-05122b0df1cc"
      },
      "execution_count": null,
      "outputs": [
        {
          "output_type": "execute_result",
          "data": {
            "text/plain": [
              "'0b11'"
            ],
            "application/vnd.google.colaboratory.intrinsic+json": {
              "type": "string"
            }
          },
          "metadata": {},
          "execution_count": 17
        }
      ]
    },
    {
      "cell_type": "code",
      "source": [
        "bin(5)"
      ],
      "metadata": {
        "colab": {
          "base_uri": "https://localhost:8080/",
          "height": 36
        },
        "id": "IF-N4bwvKNej",
        "outputId": "ee0258c3-4774-4ff2-8d65-6b3d6bec7d0d"
      },
      "execution_count": null,
      "outputs": [
        {
          "output_type": "execute_result",
          "data": {
            "text/plain": [
              "'0b101'"
            ],
            "application/vnd.google.colaboratory.intrinsic+json": {
              "type": "string"
            }
          },
          "metadata": {},
          "execution_count": 18
        }
      ]
    },
    {
      "cell_type": "code",
      "source": [
        "bin(7)"
      ],
      "metadata": {
        "colab": {
          "base_uri": "https://localhost:8080/",
          "height": 36
        },
        "id": "Hf0eGAD9KRAo",
        "outputId": "d45c4529-1c67-4c03-d219-0876c1ccec4e"
      },
      "execution_count": null,
      "outputs": [
        {
          "output_type": "execute_result",
          "data": {
            "text/plain": [
              "'0b111'"
            ],
            "application/vnd.google.colaboratory.intrinsic+json": {
              "type": "string"
            }
          },
          "metadata": {},
          "execution_count": 20
        }
      ]
    },
    {
      "cell_type": "code",
      "source": [
        "#negation\n",
        "~3"
      ],
      "metadata": {
        "colab": {
          "base_uri": "https://localhost:8080/"
        },
        "id": "W0nkNexkKZuV",
        "outputId": "33d27ad7-a960-4f05-94d9-eaaa21f6d043"
      },
      "execution_count": null,
      "outputs": [
        {
          "output_type": "execute_result",
          "data": {
            "text/plain": [
              "-4"
            ]
          },
          "metadata": {},
          "execution_count": 21
        }
      ]
    },
    {
      "cell_type": "code",
      "source": [
        "#bitwise xor operator> represented by (^)\n",
        "5^3"
      ],
      "metadata": {
        "colab": {
          "base_uri": "https://localhost:8080/"
        },
        "id": "20wzkHBcKgMA",
        "outputId": "dd7ae47b-9dfb-4dd3-c9fe-da1f284c04fa"
      },
      "execution_count": null,
      "outputs": [
        {
          "output_type": "execute_result",
          "data": {
            "text/plain": [
              "6"
            ]
          },
          "metadata": {},
          "execution_count": 22
        }
      ]
    },
    {
      "cell_type": "code",
      "source": [
        "bin(5)"
      ],
      "metadata": {
        "colab": {
          "base_uri": "https://localhost:8080/",
          "height": 36
        },
        "id": "wQvQMFD1KtDw",
        "outputId": "a501a2d2-ec7c-46f9-c5b1-06a0a3c6b9a8"
      },
      "execution_count": null,
      "outputs": [
        {
          "output_type": "execute_result",
          "data": {
            "text/plain": [
              "'0b101'"
            ],
            "application/vnd.google.colaboratory.intrinsic+json": {
              "type": "string"
            }
          },
          "metadata": {},
          "execution_count": 23
        }
      ]
    },
    {
      "cell_type": "code",
      "source": [
        "bin(3)"
      ],
      "metadata": {
        "colab": {
          "base_uri": "https://localhost:8080/",
          "height": 36
        },
        "id": "haXYdwd3K2R0",
        "outputId": "e01af446-9127-4359-c6e5-1b46b60357a9"
      },
      "execution_count": null,
      "outputs": [
        {
          "output_type": "execute_result",
          "data": {
            "text/plain": [
              "'0b11'"
            ],
            "application/vnd.google.colaboratory.intrinsic+json": {
              "type": "string"
            }
          },
          "metadata": {},
          "execution_count": 24
        }
      ]
    },
    {
      "cell_type": "code",
      "source": [
        "bin(6)"
      ],
      "metadata": {
        "colab": {
          "base_uri": "https://localhost:8080/",
          "height": 36
        },
        "id": "Wh8A_bYeK3ic",
        "outputId": "f0d4f412-b582-47bb-e75f-fd74d892b0dd"
      },
      "execution_count": null,
      "outputs": [
        {
          "output_type": "execute_result",
          "data": {
            "text/plain": [
              "'0b110'"
            ],
            "application/vnd.google.colaboratory.intrinsic+json": {
              "type": "string"
            }
          },
          "metadata": {},
          "execution_count": 25
        }
      ]
    },
    {
      "cell_type": "code",
      "source": [],
      "metadata": {
        "id": "7jZmV-3_K5Dg"
      },
      "execution_count": null,
      "outputs": []
    },
    {
      "cell_type": "markdown",
      "source": [
        "#Answer 5\n",
        "\n",
        "Type casting/conversion:- the process of changing the data type of a value/objects.\n",
        "\n",
        "converting one datatype to another datatype is called typecasting.\n",
        "\n",
        "type casting are two types:-\n",
        "\n",
        "-Implicit typecasting:- python understand the datatype itself.\n",
        "\n",
        "-Exlicit typecasting:- convert data type using inbuilt functioned:- str, int, flost, bool."
      ],
      "metadata": {
        "id": "FUv5fOItI499"
      }
    },
    {
      "cell_type": "code",
      "source": [
        "a=\"2\" # here is a error bcouse in this datatype a is str and b is int. they both can't excute.\n",
        "b=3\n",
        "a+b"
      ],
      "metadata": {
        "colab": {
          "base_uri": "https://localhost:8080/",
          "height": 176
        },
        "id": "JtD8oGtfLpkb",
        "outputId": "e0b520c3-13ef-4cea-8c7d-9229c0bac309"
      },
      "execution_count": null,
      "outputs": [
        {
          "output_type": "error",
          "ename": "TypeError",
          "evalue": "can only concatenate str (not \"int\") to str",
          "traceback": [
            "\u001b[0;31m---------------------------------------------------------------------------\u001b[0m",
            "\u001b[0;31mTypeError\u001b[0m                                 Traceback (most recent call last)",
            "\u001b[0;32m<ipython-input-1-f6d3922a361b>\u001b[0m in \u001b[0;36m<cell line: 3>\u001b[0;34m()\u001b[0m\n\u001b[1;32m      1\u001b[0m \u001b[0ma\u001b[0m\u001b[0;34m=\u001b[0m\u001b[0;34m\"2\"\u001b[0m\u001b[0;34m\u001b[0m\u001b[0;34m\u001b[0m\u001b[0m\n\u001b[1;32m      2\u001b[0m \u001b[0mb\u001b[0m\u001b[0;34m=\u001b[0m\u001b[0;36m3\u001b[0m\u001b[0;34m\u001b[0m\u001b[0;34m\u001b[0m\u001b[0m\n\u001b[0;32m----> 3\u001b[0;31m \u001b[0ma\u001b[0m\u001b[0;34m+\u001b[0m\u001b[0mb\u001b[0m\u001b[0;34m\u001b[0m\u001b[0;34m\u001b[0m\u001b[0m\n\u001b[0m",
            "\u001b[0;31mTypeError\u001b[0m: can only concatenate str (not \"int\") to str"
          ]
        }
      ]
    },
    {
      "cell_type": "code",
      "source": [
        "int(a) +b  #here we are using typecasting means we are converting the \"a\" str in int so \"a\" and \"b\" can excute."
      ],
      "metadata": {
        "colab": {
          "base_uri": "https://localhost:8080/"
        },
        "id": "WULAVti-LxH1",
        "outputId": "040b165b-7cf4-4b1b-9a33-9a8886785ce0"
      },
      "execution_count": null,
      "outputs": [
        {
          "output_type": "execute_result",
          "data": {
            "text/plain": [
              "5"
            ]
          },
          "metadata": {},
          "execution_count": 2
        }
      ]
    },
    {
      "cell_type": "code",
      "source": [
        "#string to float\n",
        "a=\"2.5\"\n",
        "type(a)"
      ],
      "metadata": {
        "colab": {
          "base_uri": "https://localhost:8080/"
        },
        "id": "expJIiMwMbAy",
        "outputId": "c8ddb55b-5edd-47dc-8e76-2b977bf9fe9c"
      },
      "execution_count": null,
      "outputs": [
        {
          "output_type": "execute_result",
          "data": {
            "text/plain": [
              "str"
            ]
          },
          "metadata": {},
          "execution_count": 3
        }
      ]
    },
    {
      "cell_type": "code",
      "source": [
        "b= float(a)\n",
        "type(b)"
      ],
      "metadata": {
        "colab": {
          "base_uri": "https://localhost:8080/"
        },
        "id": "TeVleA04NHLl",
        "outputId": "5e155460-ea06-4f3b-997f-2285074250fd"
      },
      "execution_count": null,
      "outputs": [
        {
          "output_type": "execute_result",
          "data": {
            "text/plain": [
              "float"
            ]
          },
          "metadata": {},
          "execution_count": 4
        }
      ]
    },
    {
      "cell_type": "code",
      "source": [
        "#integer to string\n",
        "a=5\n",
        "type(a)"
      ],
      "metadata": {
        "colab": {
          "base_uri": "https://localhost:8080/"
        },
        "id": "dNis9u2KNPOF",
        "outputId": "79394fb5-e1eb-4e46-da2d-1e8ae5c28ca3"
      },
      "execution_count": null,
      "outputs": [
        {
          "output_type": "execute_result",
          "data": {
            "text/plain": [
              "int"
            ]
          },
          "metadata": {},
          "execution_count": 6
        }
      ]
    },
    {
      "cell_type": "code",
      "source": [
        "str(a)"
      ],
      "metadata": {
        "colab": {
          "base_uri": "https://localhost:8080/",
          "height": 36
        },
        "id": "I_CLzHJNNlC7",
        "outputId": "7d8c19ce-9257-4c1b-9879-b55d0bb8df24"
      },
      "execution_count": null,
      "outputs": [
        {
          "output_type": "execute_result",
          "data": {
            "text/plain": [
              "'5'"
            ],
            "application/vnd.google.colaboratory.intrinsic+json": {
              "type": "string"
            }
          },
          "metadata": {},
          "execution_count": 9
        }
      ]
    },
    {
      "cell_type": "markdown",
      "source": [
        "#Answer 6.\n",
        "\n",
        "-Flow control:- flow control in python refers to the mechanism that govern the order in which statments and instructions are excuted. This is crucial for implementing logic in your programs.\n",
        "\n",
        "-Conditioanal statement- If weather is sunny I will go to play cricket.\n",
        "-Loop statement- I will keep checking out dishes.\n",
        "-Control statement- I will keep checking out dishes until I get pasta.\n",
        "\n",
        "#conditional statements- helps you to code decisions based on some preconditions.\n",
        "\n",
        "-If, if else, if elif(elsif), nested if else.\n",
        "\n",
        "#if statement\n",
        "-syntax\n",
        "-if conditon true:\n",
        "-block of code will be executed.\n"
      ],
      "metadata": {
        "id": "alQf25vIPDHO"
      }
    },
    {
      "cell_type": "code",
      "source": [
        "a=100  #excute the if block,if the condition is true\n",
        "if a>0:\n",
        "  print(\"the number is greater than 0\")"
      ],
      "metadata": {
        "colab": {
          "base_uri": "https://localhost:8080/"
        },
        "id": "XVVp65LNQ0WZ",
        "outputId": "2167abeb-29d9-4588-81b8-e396ccc00dff"
      },
      "execution_count": null,
      "outputs": [
        {
          "output_type": "stream",
          "name": "stdout",
          "text": [
            "the number is greater than 0\n"
          ]
        }
      ]
    },
    {
      "cell_type": "code",
      "source": [
        "weather= \"sunny\" #If else- executed the if block when the condition is true else execute else block.\n",
        "if weather== \"sunny\":\n",
        "  print(\"I will play cricket\")\n",
        "else:\n",
        "    print(\"I will watch TV\")\n"
      ],
      "metadata": {
        "colab": {
          "base_uri": "https://localhost:8080/"
        },
        "id": "n2ZyYD0YUTZr",
        "outputId": "bf036e23-17f3-49cf-912d-8a2b613cdbb7"
      },
      "execution_count": null,
      "outputs": [
        {
          "output_type": "stream",
          "name": "stdout",
          "text": [
            "I will play cricket\n"
          ]
        }
      ]
    },
    {
      "cell_type": "code",
      "source": [
        "#elif condition\n",
        "a=10\n",
        "if a>100:\n",
        "  print(\"this block will be execute if a is greater than 100\")\n",
        "elif a<100:\n",
        "  print(\"this block will be execute if a is lesser than 100\")\n",
        "else:\n",
        "  print(\"the number is equals to 100\")\n"
      ],
      "metadata": {
        "colab": {
          "base_uri": "https://localhost:8080/"
        },
        "id": "bAwpL7gfXedV",
        "outputId": "8defbccf-0c2f-4415-c251-793aff0d64b4"
      },
      "execution_count": null,
      "outputs": [
        {
          "output_type": "stream",
          "name": "stdout",
          "text": [
            "this block will be execute if a is lesser than 100\n"
          ]
        }
      ]
    },
    {
      "cell_type": "code",
      "source": [
        "#nested if else- you can have multiple if else inside if else.\n",
        "x=1\n",
        "y=6\n",
        "if x > 5:\n",
        "  if y > 5:\n",
        "    print(\"both x and y is greater than 5\")\n",
        "  else:\n",
        "    print(\"x is greater than 5 but y is lesser than 5\")\n",
        "else:\n",
        "    print(\"x is not greater than 5\")"
      ],
      "metadata": {
        "colab": {
          "base_uri": "https://localhost:8080/"
        },
        "id": "roQNgbWOUZHR",
        "outputId": "f2a3d5b6-3115-4833-8b75-cddfb9c802ef"
      },
      "execution_count": null,
      "outputs": [
        {
          "output_type": "stream",
          "name": "stdout",
          "text": [
            "x is not greater than 5\n"
          ]
        }
      ]
    },
    {
      "cell_type": "code",
      "source": [],
      "metadata": {
        "id": "G4cPI-b9ZPFy"
      },
      "execution_count": null,
      "outputs": []
    },
    {
      "cell_type": "markdown",
      "source": [
        "#Answer 7.\n",
        "\n",
        "#loop statement\n",
        "\n",
        "-It always you to excute a block of code repeatedly\n",
        "-Two types of loop- while loop and for loop.\n",
        "\n",
        "While- repeatedly executed a block of code untill a condition is met."
      ],
      "metadata": {
        "id": "bariOxKGJ4aP"
      }
    },
    {
      "cell_type": "code",
      "source": [
        "n= 7\n",
        "i=1\n",
        "while i<n:\n",
        "  print(i)\n",
        "  i=i+1"
      ],
      "metadata": {
        "colab": {
          "base_uri": "https://localhost:8080/"
        },
        "id": "LtUbTsdrK7LN",
        "outputId": "bba42b44-7665-472f-e9df-3cb3fbf7c557"
      },
      "execution_count": null,
      "outputs": [
        {
          "output_type": "stream",
          "name": "stdout",
          "text": [
            "1\n",
            "2\n",
            "3\n",
            "4\n",
            "5\n",
            "6\n"
          ]
        }
      ]
    },
    {
      "cell_type": "code",
      "source": [
        "#while else\n",
        "n=7\n",
        "i=1\n",
        "while i<n:\n",
        "  print(i)\n",
        "  i=i+1\n",
        "else:\n",
        "  print(\"this will be executed when the while is run successfully whithout any break\")"
      ],
      "metadata": {
        "colab": {
          "base_uri": "https://localhost:8080/"
        },
        "id": "_CTYi2zELGWE",
        "outputId": "5b08c474-9449-49f7-9025-ae0042e372be"
      },
      "execution_count": null,
      "outputs": [
        {
          "output_type": "stream",
          "name": "stdout",
          "text": [
            "1\n",
            "2\n",
            "3\n",
            "4\n",
            "5\n",
            "6\n",
            "this will be executed when the while is run successfully whithout any break\n"
          ]
        }
      ]
    },
    {
      "cell_type": "code",
      "source": [
        "#break terminates/exists the loop\n",
        "#the condition is met it will break a loop\n",
        "n=7\n",
        "i=1\n",
        "while i<n:\n",
        "  print(i)\n",
        "  i=i+1\n",
        "  if i == 3:\n",
        "    break"
      ],
      "metadata": {
        "colab": {
          "base_uri": "https://localhost:8080/"
        },
        "id": "cxA9FoxKLn9t",
        "outputId": "8698e0aa-6cc9-416b-c40b-eb100ad16b8e"
      },
      "execution_count": null,
      "outputs": [
        {
          "output_type": "stream",
          "name": "stdout",
          "text": [
            "1\n",
            "2\n"
          ]
        }
      ]
    },
    {
      "cell_type": "code",
      "source": [
        "#for loop- iterate over a sequence of elements- string, list\n",
        "for i in \"pwskills\":\n",
        "  print(i)"
      ],
      "metadata": {
        "colab": {
          "base_uri": "https://localhost:8080/"
        },
        "id": "SSAjXoW8PeA8",
        "outputId": "cd9d2efc-9037-424b-f9b8-3bd788b31818"
      },
      "execution_count": null,
      "outputs": [
        {
          "output_type": "stream",
          "name": "stdout",
          "text": [
            "p\n",
            "w\n",
            "s\n",
            "k\n",
            "i\n",
            "l\n",
            "l\n",
            "s\n"
          ]
        }
      ]
    },
    {
      "cell_type": "code",
      "source": [
        "l=[1,2,\"ajay\",\"pwskills\"]\n",
        "for i in l:\n",
        "   print(i)"
      ],
      "metadata": {
        "colab": {
          "base_uri": "https://localhost:8080/"
        },
        "id": "FHr-JFP4QUzO",
        "outputId": "07a435f2-c4be-484d-d3c8-858319b15162"
      },
      "execution_count": null,
      "outputs": [
        {
          "output_type": "stream",
          "name": "stdout",
          "text": [
            "1\n",
            "2\n",
            "ajay\n",
            "pwskills\n"
          ]
        }
      ]
    },
    {
      "cell_type": "code",
      "source": [
        "#else loop\n",
        "\n",
        "for i in l:\n",
        "  print(i)\n",
        "else:\n",
        "  print(\"this will be executed when for loop ends whitout a break statement\")"
      ],
      "metadata": {
        "colab": {
          "base_uri": "https://localhost:8080/"
        },
        "id": "UPsFzIGDQlIY",
        "outputId": "bf6b799d-f000-4229-f054-e4edd89716e7"
      },
      "execution_count": null,
      "outputs": [
        {
          "output_type": "stream",
          "name": "stdout",
          "text": [
            "1\n",
            "2\n",
            "ajay\n",
            "pwskills\n",
            "this will be executed when for loop ends whitout a break statement\n"
          ]
        }
      ]
    },
    {
      "cell_type": "code",
      "source": [
        "#Break statement\n",
        "for i in l:\n",
        "  if i==\"ajay\":\n",
        "    print(i)\n",
        "  else:\n",
        "    print(\"this will be executed when for loop ends whitout a break statement\")"
      ],
      "metadata": {
        "colab": {
          "base_uri": "https://localhost:8080/"
        },
        "id": "R_Fu5ui4RRTY",
        "outputId": "b1119276-201d-4165-ba36-5737a8266e92"
      },
      "execution_count": null,
      "outputs": [
        {
          "output_type": "stream",
          "name": "stdout",
          "text": [
            "this will be executed when for loop ends whitout a break statement\n",
            "this will be executed when for loop ends whitout a break statement\n",
            "ajay\n",
            "this will be executed when for loop ends whitout a break statement\n"
          ]
        }
      ]
    },
    {
      "cell_type": "code",
      "source": [],
      "metadata": {
        "id": "yDF7Z7nvR1fT"
      },
      "execution_count": null,
      "outputs": []
    }
  ]
}