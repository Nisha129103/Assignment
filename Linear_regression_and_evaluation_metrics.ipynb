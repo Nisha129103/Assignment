{
  "nbformat": 4,
  "nbformat_minor": 0,
  "metadata": {
    "colab": {
      "provenance": [],
      "authorship_tag": "ABX9TyMbWJtEt8NW3xMrJe2iwvVk",
      "include_colab_link": true
    },
    "kernelspec": {
      "name": "python3",
      "display_name": "Python 3"
    },
    "language_info": {
      "name": "python"
    }
  },
  "cells": [
    {
      "cell_type": "markdown",
      "metadata": {
        "id": "view-in-github",
        "colab_type": "text"
      },
      "source": [
        "<a href=\"https://colab.research.google.com/github/Nisha129103/Assignment/blob/main/Linear_regression_and_evaluation_metrics.ipynb\" target=\"_parent\"><img src=\"https://colab.research.google.com/assets/colab-badge.svg\" alt=\"Open In Colab\"/></a>"
      ]
    },
    {
      "cell_type": "markdown",
      "source": [
        "##Theoretical\n",
        "\n",
        "Q1. What does R-squared represent in a regression model?\n",
        "\n",
        "ANS-> R-squared (R²) measures the goodness of fit for a regression model, indicating the proportion of variance in the dependent variable (y) explained by the independent variable(s) (x).\n",
        "\n",
        "Interpretation:\n",
        "\n",
        "0 ≤ R² ≤ 1: Higher values indicate better fit.\n",
        "0: Model explains none of the variance.\n",
        "1: Model explains all variance (perfect fit).\n",
        "0.7: Model explains 70% of variance.\n",
        "R-squared represents:\n",
        "\n",
        "Proportion of variance explained\n",
        "Goodness of fit\n",
        "Model accuracy\n",
        "Predictive power\n",
        "Types of R-squared:\n",
        "\n",
        "Simple R-squared: Measures linear regression fit.\n",
        "Adjusted R-squared: Penalizes for additional features.\n",
        "Cross-validated R-squared: Evaluates model performance on unseen data.\n",
        "Key considerations:\n",
        "\n",
        "High R-squared doesn't ensure causality.\n",
        "Overfitting can inflate R-squared.\n",
        "Compare R-squared across models.\n",
        "Example (Python):\n",
        "\n"
      ],
      "metadata": {
        "id": "nHHWwy8E3TrD"
      }
    },
    {
      "cell_type": "code",
      "source": [
        "import pandas as pd\n",
        "from sklearn.linear_model import LinearRegression\n",
        "from sklearn.metrics import r2_score\n",
        "\n",
        "# Sample data\n",
        "data = pd.DataFrame({'x': [1, 2, 3, 4, 5], 'y': [2, 3, 5, 7, 11]})\n",
        "\n",
        "# Linear regression\n",
        "model = LinearRegression()\n",
        "model.fit(data['x'].values.reshape(-1, 1), data['y'])\n",
        "\n",
        "# Predictions\n",
        "y_pred = model.predict(data['x'].values.reshape(-1, 1))\n",
        "\n",
        "# R-squared\n",
        "r2 = r2_score(data['y'], y_pred)\n",
        "print(f'R-squared: {r2:.2f}')\n"
      ],
      "metadata": {
        "colab": {
          "base_uri": "https://localhost:8080/"
        },
        "id": "iUtq8TCP3gsZ",
        "outputId": "6a9e5ce7-8ff1-4a93-f8f3-f7a4d610c9ff"
      },
      "execution_count": null,
      "outputs": [
        {
          "output_type": "stream",
          "name": "stdout",
          "text": [
            "R-squared: 0.95\n"
          ]
        }
      ]
    },
    {
      "cell_type": "markdown",
      "source": [
        "Q2. What are the assumptions of linear regression?\n",
        "\n",
        "ANS-> Linear Regression Assumptions:\n",
        "\n",
        "Linearity: Relationship between independent variable(s) (X) and dependent variable (Y) is linear.\n",
        "Independence: Observations are independent and identically distributed (i.i.d.).\n",
        "Homoscedasticity: Constant variance of residuals across all levels of X.\n",
        "Normality: Residuals follow a normal distribution.\n",
        "No Multicollinearity: Independent variables are uncorrelated.\n",
        "No Autocorrelation: Residuals have no serial correlation.\n",
        "Outliers: No influential outliers.\n",
        "Constant Variance: Variance of residuals is constant across X.\n",
        "Diagnosing Assumption Violations:\n",
        "\n",
        "Plotting: Scatter plots, residual plots, Q-Q plots.\n",
        "Statistical Tests: Durbin-Watson, Breusch-Pagan, Shapiro-Wilk.\n",
        "Consequences of Violations:\n",
        "\n",
        "Biased Coefficients: Incorrect estimates.\n",
        "Inaccurate Predictions: Poor model performance.\n",
        "Invalid Inferences: Incorrect conclusions.\n",
        "Remedies:\n",
        "\n",
        "Data Transformation: Log, square root, or polynomial.\n",
        "Robust Regression: Least Absolute Deviation (LAD).\n",
        "Generalized Linear Models (GLM): Non-normal distributions.\n",
        "Feature Engineering: Address multicollinearity.\n",
        "Outlier Removal: Influential outlier removal.\n",
        "Code Example (Python):\n",
        "\n"
      ],
      "metadata": {
        "id": "4DJG0aff3sQT"
      }
    },
    {
      "cell_type": "code",
      "source": [
        "import pandas as pd\n",
        "import numpy as np\n",
        "import matplotlib.pyplot as plt\n",
        "from sklearn.linear_model import LinearRegression\n",
        "from statsmodels.stats.outliers_influence import variance_inflation_factor\n",
        "\n",
        "# Sample data\n",
        "data = pd.DataFrame({'x': [1, 2, 3, 4, 5], 'y': [2, 3, 5, 7, 11]})\n",
        "\n",
        "# Add a second feature for VIF calculation\n",
        "# This is just an example; replace with your actual additional feature\n",
        "data['x2'] = data['x'] * 2\n",
        "\n",
        "# Linear regression\n",
        "model = LinearRegression()\n",
        "model.fit(data[['x', 'x2']], data['y']) # Fit using both features\n",
        "\n",
        "# Predictions\n",
        "y_pred = model.predict(data[['x', 'x2']])\n",
        "\n",
        "# Calculate residuals manually\n",
        "residuals = data['y'] - y_pred\n",
        "\n",
        "# Residual plot\n",
        "plt.scatter(data['x'], residuals)\n",
        "plt.xlabel('X')\n",
        "plt.ylabel('Residuals')\n",
        "plt.show()\n",
        "\n"
      ],
      "metadata": {
        "colab": {
          "base_uri": "https://localhost:8080/",
          "height": 449
        },
        "id": "AVbUKKdG3t-7",
        "outputId": "e3dd84af-aac3-44be-b3e4-6310a88f66fc"
      },
      "execution_count": null,
      "outputs": [
        {
          "output_type": "display_data",
          "data": {
            "text/plain": [
              "<Figure size 640x480 with 1 Axes>"
            ],
            "image/png": "[encoded data removed]"
          },
          "metadata": {}
        }
      ]
    },
    {
      "cell_type": "markdown",
      "source": [
        "Q3. What is the difference between R-squared and Adjusted R-squared?\n",
        "\n",
        "ANS-> R-squared (R²) and Adjusted R-squared (Adj R²) measure the goodness of fit for a regression model, but differ in their calculation and interpretation:\n",
        "\n",
        "R-squared (R²):\n",
        "\n",
        "Measures proportion of variance explained by independent variable(s).\n",
        "Increases with added features, even if insignificant.\n",
        "Does not penalize for model complexity.\n",
        "Adjusted R-squared (Adj R²):\n",
        "\n",
        "Measures proportion of variance explained, adjusting for model complexity.\n",
        "Penalizes for added features, especially insignificant ones.\n",
        "Provides more accurate estimate of model performance.\n",
        "Key differences:\n",
        "\n",
        "Penalty term: Adj R² includes a penalty for added features.\n",
        "Complexity adjustment: Adj R² considers model degrees of freedom.\n",
        "Interpretation: Adj R² provides a more realistic view of model performance.\n",
        "When to use:\n",
        "\n",
        "R²: Initial model evaluation, simple models.\n",
        "Adj R²: Model comparison, feature selection, complex models.\n",
        "Code example (Python):\n",
        "\n"
      ],
      "metadata": {
        "id": "KGwBHU2N32jV"
      }
    },
    {
      "cell_type": "code",
      "source": [
        "import pandas as pd\n",
        "from sklearn.linear_model import LinearRegression\n",
        "from statsmodels.regression.linear_model import OLS\n",
        "\n",
        "# Sample data\n",
        "data = pd.DataFrame({'x1': [1, 2, 3, 4, 5], 'x2': [2, 3, 5, 7, 11], 'y': [2, 3, 5, 7, 11]})\n",
        "\n",
        "# Linear regression\n",
        "model = LinearRegression()\n",
        "model.fit(data[['x1', 'x2']], data['y'])\n",
        "\n",
        "# R-squared\n",
        "r2 = model.score(data[['x1', 'x2']], data['y'])\n",
        "print(f'R-squared: {r2:.2f}')\n",
        "\n",
        "# Adjusted R-squared\n",
        "ols_model = OLS(data['y'], data[['x1', 'x2']]).fit()\n",
        "adj_r2 = ols_model.rsquared_adj\n",
        "print(f'Adjusted R-squared: {adj_r2:.2f}')"
      ],
      "metadata": {
        "colab": {
          "base_uri": "https://localhost:8080/"
        },
        "id": "6ju6TCmS3hXi",
        "outputId": "5ba90a61-61a9-4187-8fcb-cc8656274c5c"
      },
      "execution_count": null,
      "outputs": [
        {
          "output_type": "stream",
          "name": "stdout",
          "text": [
            "R-squared: 1.00\n",
            "Adjusted R-squared: 1.00\n"
          ]
        }
      ]
    },
    {
      "cell_type": "markdown",
      "source": [
        "Q4. Why do we use Mean Squared Error (MSE)?\n",
        "\n",
        "ANS-> Mean Squared Error (MSE) measures the average squared difference between predicted and actual values, evaluating model performance.\n",
        "\n",
        "Why use MSE:\n",
        "\n",
        "Quantifies error magnitude\n",
        "Penalizes large errors\n",
        "Easy to compute and interpret\n",
        "Differentiable, suitable for optimization\n",
        "Widely used, comparable across models\n",
        "MSE applications:\n",
        "\n",
        "Regression evaluation\n",
        "Model selection\n",
        "Hyperparameter tuning\n",
        "Time series forecasting\n",
        "Image and signal processing\n",
        "MSE formula:\n",
        "\n",
        "MSE = (1/n) * ∑(y_true - y_pred)^2\n",
        "\n",
        "Where:\n",
        "\n",
        "y_true: Actual values\n",
        "y_pred: Predicted values\n",
        "n: Number of observations\n",
        "MSE interpretation:\n",
        "\n",
        "Lower MSE: Better model fit\n",
        "MSE = 0: Perfect predictions\n",
        "High MSE: Large errors\n",
        "Common MSE-based metrics:\n",
        "\n",
        "Root Mean Squared Error (RMSE): √MSE\n",
        "Mean Absolute Error (MAE): average absolute difference\n",
        "Mean Absolute Percentage Error (MAPE): average absolute percentage difference\n",
        "Code example (Python):\n",
        "\n"
      ],
      "metadata": {
        "id": "QcDlUBx84AhC"
      }
    },
    {
      "cell_type": "code",
      "source": [
        "import numpy as np\n",
        "from sklearn.metrics import mean_squared_error\n",
        "\n",
        "# Actual values\n",
        "y_true = np.array([1, 2, 3, 4, 5])\n",
        "\n",
        "# Predicted values\n",
        "y_pred = np.array([1.1, 2.1, 3.2, 4.3, 5.4])\n",
        "\n",
        "# Mean Squared Error\n",
        "mse = mean_squared_error(y_true, y_pred)\n",
        "print(f'Mean Squared Error: {mse:.2f}')\n",
        "\n",
        "# Root Mean Squared Error\n",
        "rmse = np.sqrt(mse)\n",
        "print(f'Root Mean Squared Error: {rmse:.2f}')\n"
      ],
      "metadata": {
        "colab": {
          "base_uri": "https://localhost:8080/"
        },
        "id": "XXzeVnOH4K4n",
        "outputId": "bf988074-9f22-40cd-821c-131fffaf85c3"
      },
      "execution_count": null,
      "outputs": [
        {
          "output_type": "stream",
          "name": "stdout",
          "text": [
            "Mean Squared Error: 0.06\n",
            "Root Mean Squared Error: 0.25\n"
          ]
        }
      ]
    },
    {
      "cell_type": "markdown",
      "source": [
        "Q5. What does an Adjusted R-squared value of 0.85 indicate?\n",
        "\n",
        "ANS->Adjusted R-squared (Adj R²) of 0.85 indicates:\n",
        "\n",
        "High goodness of fit: The model explains approximately 85% of the variance in the dependent variable.\n",
        "Strong predictive power: The model is effective in predicting the outcome variable.\n",
        "Minimal overfitting: The adjustment for model complexity penalizes for unnecessary features.\n",
        "Interpretation:\n",
        "\n",
        "85% of variance explained: The model accounts for most of the variation in the data.\n",
        "15% unexplained variance: Some factors may still influence the outcome, but are not captured by the model.\n",
        "Robust model: Adj R² considers model complexity, indicating the model is well-regularized.\n",
        "Implications:\n",
        "\n",
        "Trustworthy predictions: Use the model for accurate predictions.\n",
        "Identify remaining factors: Investigate remaining 15% unexplained variance.\n",
        "Model refinement: Consider additional features or alternative models.\n",
        "Comparison:\n",
        "\n",
        "R-squared (R²): Measures variance explained (may be inflated).\n",
        "Adjusted R-squared (Adj R²): Measures variance explained, adjusted for complexity.\n",
        "Example:\n",
        "\n",
        "Suppose a linear regression model predicts house prices based on features like size, location, and number of bedrooms. An Adj R² of 0.85 indicates:\n",
        "\n",
        "The model accurately predicts house prices (85% variance explained).\n",
        "Location and size are significant factors.\n",
        "Consider additional features (e.g., number of floors, age) to capture remaining variance.\n",
        "Code example (Python):\n",
        "\n"
      ],
      "metadata": {
        "id": "RXNQFhx74MuV"
      }
    },
    {
      "cell_type": "code",
      "source": [
        "import pandas as pd\n",
        "from statsmodels.regression.linear_model import OLS\n",
        "from sklearn.preprocessing import LabelEncoder  # Import LabelEncoder\n",
        "\n",
        "# Sample data\n",
        "data = pd.DataFrame({'size': [1000, 2000, 3000], 'location': ['city', 'suburb', 'city'], 'price': [200000, 300000, 400000]})\n",
        "\n",
        "# Create a LabelEncoder object\n",
        "label_encoder = LabelEncoder()\n",
        "\n",
        "# Fit and transform the 'location' column\n",
        "data['location_encoded'] = label_encoder.fit_transform(data['location'])\n",
        "\n",
        "# Linear regression, use the encoded column instead of 'location'\n",
        "model = OLS(data['price'], data[['size', 'location_encoded']]).fit()\n",
        "\n",
        "# Adjusted R-squared\n",
        "adj_r2 = model.rsquared_adj\n",
        "print(f'Adjusted R-squared: {adj_r2:.2f}')\n"
      ],
      "metadata": {
        "colab": {
          "base_uri": "https://localhost:8080/"
        },
        "id": "PZrDtEul4L0c",
        "outputId": "55f70e5b-a202-4d80-c42e-8c92fe482b6d"
      },
      "execution_count": null,
      "outputs": [
        {
          "output_type": "stream",
          "name": "stdout",
          "text": [
            "Adjusted R-squared: 0.96\n"
          ]
        }
      ]
    },
    {
      "cell_type": "markdown",
      "source": [
        "Q6. How do we check for normality of residuals in linear regression?\n",
        "\n",
        "ANS-> To check for normality of residuals in linear regression:\n",
        "\n",
        "Visual Methods:\n",
        "Q-Q Plot (Quantile-Quantile Plot): Compare residual distribution to normal distribution.\n",
        "Histogram: Check residual distribution shape.\n",
        "Density Plot: Visualize residual density.\n",
        "Statistical Tests:\n",
        "Shapiro-Wilk Test: Measures normality (p-value < 0.05 indicates non-normality).\n",
        "Kolmogorov-Smirnov Test: Compares residual distribution to normal.\n",
        "Residual Plots:\n",
        "Residual vs. Fitted Plot: Check for curvature or patterns.\n",
        "Residual vs. Independent Variable Plot: Identify non-random patterns.\n",
        "Tools:\n",
        "\n",
        "Python:\n",
        "statsmodels: qqplot(), hist(), density()\n",
        "scipy: shapiro(), ks_2samp()\n",
        "matplotlib and seaborn: Visualization\n",
        "R:\n",
        "ggplot2: Visualization\n",
        "stats: shapiro.test(), ks.test()\n",
        "Example (Python):\n",
        "\n"
      ],
      "metadata": {
        "id": "l05hKwnm4WWb"
      }
    },
    {
      "cell_type": "code",
      "source": [
        "import pandas as pd\n",
        "import numpy as np\n",
        "import matplotlib.pyplot as plt\n",
        "from scipy import stats\n",
        "from statsmodels.graphics.gofplots import qqplot\n",
        "\n",
        "# Sample data\n",
        "np.random.seed(0)\n",
        "data = pd.DataFrame({'x': [1, 2, 3, 4, 5], 'y': [2, 3, 5, 7, 11]})\n",
        "\n",
        "# Linear regression\n",
        "from sklearn.linear_model import LinearRegression\n",
        "model = LinearRegression()\n",
        "model.fit(data['x'].values.reshape(-1, 1), data['y'])\n",
        "\n",
        "# Predictions\n",
        "y_pred = model.predict(data['x'].values.reshape(-1, 1))\n",
        "\n",
        "# Calculate residuals manually\n",
        "residuals = data['y'] - y_pred  # Difference between actual and predicted\n",
        "\n",
        "# Q-Q Plot\n",
        "qqplot(residuals, line='s')\n",
        "plt.title('Q-Q Plot')\n",
        "plt.show()\n",
        "\n",
        "# Shapiro-Wilk Test\n",
        "stat, p = stats.shapiro(residuals)\n",
        "print(f'Shapiro-Wilk Test: p-value = {p:.4f}')"
      ],
      "metadata": {
        "colab": {
          "base_uri": "https://localhost:8080/",
          "height": 489
        },
        "id": "O_ibSw244Vdl",
        "outputId": "bee8d55c-c7ec-42f0-bc43-ed7c9efa124a"
      },
      "execution_count": null,
      "outputs": [
        {
          "output_type": "display_data",
          "data": {
            "text/plain": [
              "<Figure size 640x480 with 1 Axes>"
            ],
            "image/png": "[encoded data removed]"
          },
          "metadata": {}
        },
        {
          "output_type": "stream",
          "name": "stdout",
          "text": [
            "Shapiro-Wilk Test: p-value = 0.1668\n"
          ]
        }
      ]
    },
    {
      "cell_type": "markdown",
      "source": [
        "Q7. What is multicollinearity, and how does it impact regression?\n",
        "\n",
        "ANS-> Multicollinearity occurs when two or more independent variables in a regression model are highly correlated, making it challenging to:\n",
        "\n",
        "Interpret coefficients\n",
        "Estimate model parameters\n",
        "Make predictions\n",
        "Effects of multicollinearity:\n",
        "\n",
        "Instability: Small changes in data lead to large changes in coefficients.\n",
        "Inflated variance: Standard errors increase, reducing precision.\n",
        "Biased coefficients: Estimates may be incorrect or misleading.\n",
        "Model instability: Coefficients sensitive to data transformations.\n",
        "Consequences:\n",
        "\n",
        "Overfitting: Model performs well on training data but poorly on new data.\n",
        "Incorrect conclusions: Misleading interpretations of coefficients.\n",
        "Model selection: Difficulty selecting relevant features.\n",
        "Detection methods:\n",
        "\n",
        "Correlation matrix: Visualize correlations between variables.\n",
        "Variance inflation factor (VIF): Measures inflation in variance.\n",
        "Tolerance: Measures proportion of variance not explained.\n",
        "Remedies:\n",
        "\n",
        "Feature selection: Remove highly correlated variables.\n",
        "Dimensionality reduction: PCA, factor analysis.\n",
        "Regularization: Ridge regression, Lasso.\n",
        "Data transformation: Standardize or normalize variables.\n",
        "Code example (Python):\n",
        "\n"
      ],
      "metadata": {
        "id": "bGgOe6Ex4ffC"
      }
    },
    {
      "cell_type": "code",
      "source": [
        "import pandas as pd\n",
        "import numpy as np\n",
        "from statsmodels.stats.outliers_influence import variance_inflation_factor\n",
        "\n",
        "# Sample data\n",
        "data = pd.DataFrame({'x1': [1, 2, 3, 4, 5], 'x2': [2, 3, 5, 7, 11], 'y': [2, 3, 5, 7, 11]})\n",
        "\n",
        "# Correlation matrix\n",
        "corr_matrix = data.corr()\n",
        "print(corr_matrix)\n",
        "\n",
        "# Variance inflation factor (VIF)\n",
        "vif = variance_inflation_factor(data[['x1', 'x2']], 0)\n",
        "print(f'VIF: {vif:.2f}')"
      ],
      "metadata": {
        "colab": {
          "base_uri": "https://localhost:8080/"
        },
        "id": "eh5nEW7o4eWP",
        "outputId": "f9b1a8b5-20dd-4bcf-81a1-e7bfd8814edf"
      },
      "execution_count": null,
      "outputs": [
        {
          "output_type": "stream",
          "name": "stdout",
          "text": [
            "          x1        x2         y\n",
            "x1  1.000000  0.972272  0.972272\n",
            "x2  0.972272  1.000000  1.000000\n",
            "y   0.972272  1.000000  1.000000\n",
            "VIF: 56.08\n"
          ]
        }
      ]
    },
    {
      "cell_type": "markdown",
      "source": [
        "Q8. What is Mean Absolute Error (MAE)?\n",
        "ANS-> Mean Absolute Error (MAE) measures the average absolute difference between predicted and actual values.\n",
        "\n",
        "MAE Formula:\n",
        "\n",
        "MAE = (1/n) * ∑|y_true - y_pred|\n",
        "\n",
        "Where:\n",
        "\n",
        "y_true: Actual values\n",
        "y_pred: Predicted values\n",
        "n: Number of observations\n",
        "Interpretation:\n",
        "\n",
        "Lower MAE: Better model performance\n",
        "MAE = 0: Perfect predictions\n",
        "High MAE: Large errors\n",
        "Advantages:\n",
        "\n",
        "Easy to understand and calculate\n",
        "Robust to outliers (compared to MSE)\n",
        "Suitable for skewed distributions\n",
        "Disadvantages:\n",
        "\n",
        "Does not penalize large errors severely\n",
        "Not differentiable (limits optimization)\n",
        "Common applications:\n",
        "\n",
        "Regression evaluation\n",
        "Time series forecasting\n",
        "Image and signal processing\n",
        "Comparison to Mean Squared Error (MSE):\n",
        "\n",
        "MAE emphasizes absolute errors\n",
        "MSE emphasizes squared errors (penalizes large errors)\n",
        "Code example (Python):\n",
        "\n"
      ],
      "metadata": {
        "id": "fj7gZVHm4nIM"
      }
    },
    {
      "cell_type": "code",
      "source": [
        "import numpy as np\n",
        "from sklearn.metrics import mean_absolute_error\n",
        "\n",
        "# Actual values\n",
        "y_true = np.array([1, 2, 3, 4, 5])\n",
        "\n",
        "# Predicted values\n",
        "y_pred = np.array([1.1, 2.1, 3.2, 4.3, 5.4])\n",
        "\n",
        "# Mean Absolute Error\n",
        "mae = mean_absolute_error(y_true, y_pred)\n",
        "print(f'Mean Absolute Error: {mae:.2f}')"
      ],
      "metadata": {
        "colab": {
          "base_uri": "https://localhost:8080/"
        },
        "id": "9DoJqJ7R4mUY",
        "outputId": "2efcbfbc-640b-44c3-b6da-a0a9cfc751a0"
      },
      "execution_count": null,
      "outputs": [
        {
          "output_type": "stream",
          "name": "stdout",
          "text": [
            "Mean Absolute Error: 0.22\n"
          ]
        }
      ]
    },
    {
      "cell_type": "markdown",
      "source": [
        "Q9. What are the benefits of using an ML pipeline?\n",
        "\n",
        "ANS-> Benefits of using an ML pipeline:\n",
        "\n",
        "Streamlined workflow: Automates data preparation, model training, and deployment.\n",
        "Improved efficiency: Reduces manual effort and minimizes errors.\n",
        "Enhanced collaboration: Facilitates teamwork among data scientists and engineers.\n",
        "Version control: Tracks changes and maintains reproducibility.\n",
        "Model management: Organizes and deploys multiple models.\n",
        "Data governance: Ensures data quality, security, and compliance.\n",
        "Scalability: Supports large datasets and complex models.\n",
        "Portability: Allows model deployment across environments.\n",
        "Monitoring and logging: Tracks performance and identifies issues.\n",
        "Continuous integration and deployment (CI/CD): Automates testing and deployment.\n",
        "Key components:\n",
        "\n",
        "Data ingestion\n",
        "Data preprocessing\n",
        "Model training\n",
        "Model evaluation\n",
        "Model deployment\n",
        "Model monitoring\n",
        "Model updating\n",
        "Tools:\n",
        "\n",
        "TensorFlow Extended (TFX)\n",
        "Apache Airflow\n",
        "Apache NiFi\n",
        "Kubeflow\n",
        "AWS SageMaker\n",
        "Azure Machine Learning\n",
        "Google Cloud AI Platform\n",
        "Best practices:\n",
        "\n",
        "Modularize pipeline components\n",
        "Use containerization (Docker, Kubernetes)\n",
        "Implement data validation and testing\n",
        "Monitor performance metrics\n",
        "Document pipeline architecture and components\n",
        "Example pipeline:\n",
        "\n",
        "Data ingestion: Load dataset from CSV\n",
        "Data preprocessing: Handle missing values, normalize features\n",
        "Model training: Train random forest classifier\n",
        "Model evaluation: Calculate accuracy, F1 score\n",
        "Model deployment: Deploy to production environment\n",
        "Model monitoring: Track performance, retrain as needed\n"
      ],
      "metadata": {
        "id": "7FpYcohP4xRy"
      }
    },
    {
      "cell_type": "markdown",
      "source": [
        "Q10. Why is RMSE considered more interpretable than MSE?\n",
        "\n",
        "Root Mean Squared Error (RMSE) is considered more interpretable than Mean Squared Error (MSE) for several reasons:\n",
        "\n",
        "Same units as data: RMSE has the same units as the original data, making it easier to understand and compare to actual values.\n",
        "Directly comparable: RMSE values can be directly compared across different models or datasets with the same units.\n",
        "Easy to interpret: RMSE represents the standard deviation of the errors, providing a clear understanding of the model's performance.\n",
        "Visualizable: RMSE can be visualized as the radius of a circle, making it intuitive to understand.\n",
        "Real-world implications: RMSE is often used in real-world applications, such as finance, engineering, and physics, where errors have direct consequences.\n",
        "In contrast, MSE:\n",
        "\n",
        "Squared units: MSE has squared units, making it difficult to interpret and compare to actual values.\n",
        "Abstract measure: MSE is an abstract measure, lacking direct connection to the original data.\n",
        "Not directly comparable: MSE values cannot be directly compared across different models or datasets with different units.\n",
        "Example:\n",
        "\n",
        "Suppose a regression model predicts house prices (in thousands of dollars).\n",
        "\n",
        "MSE: 100 RMSE: 10\n",
        "\n",
        "Interpretation:\n",
        "\n",
        "MSE (100) is difficult to understand without context.\n",
        "RMSE (10) indicates the model's average error is approximately $10,000.\n",
        "Code example (Python):\n",
        "\n"
      ],
      "metadata": {
        "id": "U9H4qXZb42iv"
      }
    },
    {
      "cell_type": "code",
      "source": [
        "import numpy as np\n",
        "\n",
        "# Actual values\n",
        "y_true = np.array([100, 120, 110])\n",
        "\n",
        "# Predicted values\n",
        "y_pred = np.array([90, 130, 105])\n",
        "\n",
        "# MSE\n",
        "mse = np.mean((y_true - y_pred) ** 2)\n",
        "print(f'MSE: {mse:.2f}')\n",
        "\n",
        "# RMSE\n",
        "rmse = np.sqrt(mse)\n",
        "print(f'RMSE: {rmse:.2f}')"
      ],
      "metadata": {
        "colab": {
          "base_uri": "https://localhost:8080/"
        },
        "id": "r_YPkFBM4waP",
        "outputId": "2654bba8-524a-4694-c1cd-582813fda618"
      },
      "execution_count": null,
      "outputs": [
        {
          "output_type": "stream",
          "name": "stdout",
          "text": [
            "MSE: 75.00\n",
            "RMSE: 8.66\n"
          ]
        }
      ]
    },
    {
      "cell_type": "markdown",
      "source": [
        "Q11. What is pickling in Python, and how is it useful in ML?\n",
        "\n",
        "ANS-> Pickling in Python:\n",
        "\n",
        "Pickling is a process to serialize and de-serialize Python objects, converting them into byte streams. This allows:\n",
        "\n",
        "Object persistence: Save objects to files or databases.\n",
        "Object sharing: Share objects between Python scripts or processes.\n",
        "Object caching: Store computed results for later use.\n",
        "pickle module:\n",
        "\n",
        "Python's built-in pickle module provides functions for pickling:\n",
        "\n",
        "pickle.dump(): Serialize object to file.\n",
        "pickle.load(): Deserialize object from file.\n",
        "Example:\n",
        "\n"
      ],
      "metadata": {
        "id": "EZXCgcPf5Cz7"
      }
    },
    {
      "cell_type": "code",
      "source": [
        "import pickle\n",
        "\n",
        "# Create object\n",
        "data = {'name': 'John', 'age': 30}\n",
        "\n",
        "# Pickle object\n",
        "with open('data.pkl', 'wb') as f:\n",
        "    pickle.dump(data, f)\n",
        "\n",
        "# Unpickle object\n",
        "with open('data.pkl', 'rb') as f:\n",
        "    loaded_data = pickle.load(f)\n",
        "print(loaded_data)  # {'name': 'John', 'age': 30}\n"
      ],
      "metadata": {
        "colab": {
          "base_uri": "https://localhost:8080/"
        },
        "id": "3hypfmLV49Eq",
        "outputId": "80e2d99a-2044-4c79-f200-ec165237afdd"
      },
      "execution_count": null,
      "outputs": [
        {
          "output_type": "stream",
          "name": "stdout",
          "text": [
            "{'name': 'John', 'age': 30}\n"
          ]
        }
      ]
    },
    {
      "cell_type": "markdown",
      "source": [
        "Usefulness in Machine Learning (ML):\n",
        "\n",
        "1.Model persistence: Save trained models to files.\n",
        "2.Model sharing: Share trained models between scripts or team members.\n",
        "3.Model caching: Store computed model results for later use.\n",
        "4.Data preprocessing: Save preprocessed data for later use.\n",
        "5.Hyperparameter tuning: Save hyperparameter combinations for later evaluation.\n",
        "\n",
        "ML libraries supporting pickling:\n",
        "\n",
        "1.scikit-learn\n",
        "2.TensorFlow\n",
        "3.PyTorch\n",
        "\n",
        "Example (scikit-learn):"
      ],
      "metadata": {
        "id": "ABWqJ-ds5LZr"
      }
    },
    {
      "cell_type": "code",
      "source": [
        "from sklearn.ensemble import RandomForestClassifier\n",
        "from sklearn.datasets import load_iris\n",
        "import pickle\n",
        "\n",
        "# Load dataset\n",
        "iris = load_iris()\n",
        "X, y = iris.data, iris.target\n",
        "\n",
        "# Train model\n",
        "model = RandomForestClassifier(n_estimators=100)\n",
        "model.fit(X, y)\n",
        "\n",
        "# Pickle model\n",
        "with open('model.pkl', 'wb') as f:\n",
        "    pickle.dump(model, f)\n",
        "\n",
        "# Unpickle model\n",
        "with open('model.pkl', 'rb') as f:\n",
        "    loaded_model = pickle.load(f)\n",
        "    print(loaded_model.predict(X))\n"
      ],
      "metadata": {
        "colab": {
          "base_uri": "https://localhost:8080/"
        },
        "id": "KrTfYgJf5HuM",
        "outputId": "5b6c5999-fe3b-45e0-e743-4e627f557250"
      },
      "execution_count": null,
      "outputs": [
        {
          "output_type": "stream",
          "name": "stdout",
          "text": [
            "[0 0 0 0 0 0 0 0 0 0 0 0 0 0 0 0 0 0 0 0 0 0 0 0 0 0 0 0 0 0 0 0 0 0 0 0 0\n",
            " 0 0 0 0 0 0 0 0 0 0 0 0 0 1 1 1 1 1 1 1 1 1 1 1 1 1 1 1 1 1 1 1 1 1 1 1 1\n",
            " 1 1 1 1 1 1 1 1 1 1 1 1 1 1 1 1 1 1 1 1 1 1 1 1 1 1 2 2 2 2 2 2 2 2 2 2 2\n",
            " 2 2 2 2 2 2 2 2 2 2 2 2 2 2 2 2 2 2 2 2 2 2 2 2 2 2 2 2 2 2 2 2 2 2 2 2 2\n",
            " 2 2]\n"
          ]
        }
      ]
    },
    {
      "cell_type": "markdown",
      "source": [
        "Q12. What does a high R-squared value mean?\n",
        "\n",
        "ANS-> A high R-squared (R²) value indicates:\n",
        "\n",
        "Strong linear relationship: The independent variable(s) effectively explain the variation in the dependent variable.\n",
        "Good model fit: The model accurately predicts the data.\n",
        "High variance explanation: The model explains a large proportion of the data's variance.\n",
        "Interpretation:\n",
        "\n",
        "R² = 0.9: 90% of the data's variance is explained by the model.\n",
        "R² = 0.8: 80% of the data's variance is explained by the model.\n",
        "R² = 0.7: 70% of the data's variance is explained by the model.\n",
        "Guidelines:\n",
        "\n",
        "0.9 ≤ R² ≤ 1: Excellent fit (90-100% variance explained)\n",
        "0.7 ≤ R² < 0.9: Good fit (70-89% variance explained)\n",
        "0.5 ≤ R² < 0.7: Fair fit (50-69% variance explained)\n",
        "0.3 ≤ R² < 0.5: Poor fit (30-49% variance explained)\n",
        "R² < 0.3: Very poor fit (<30% variance explained)\n",
        "Limitations:\n",
        "\n",
        "Overfitting: High R² doesn't guarantee good predictions.\n",
        "Multicollinearity: High R² can mask multicollinearity issues.\n",
        "Non-linear relationships: R² measures linear relationships only.\n",
        "Example:\n",
        "\n",
        "Suppose a regression model predicts house prices based on square footage.\n",
        "\n",
        "R² = 0.85\n",
        "\n",
        "Interpretation: The model explains 85% of the variation in house prices, indicating a strong linear relationship between square footage and house prices.\n",
        "\n",
        "Code example (Python):\n",
        "\n"
      ],
      "metadata": {
        "id": "Y9UP6m-M5oy_"
      }
    },
    {
      "cell_type": "code",
      "source": [
        "import pandas as pd\n",
        "from sklearn.linear_model import LinearRegression\n",
        "\n",
        "# Sample data\n",
        "data = pd.DataFrame({'sqft': [1000, 2000, 3000], 'price': [200000, 300000, 400000]})\n",
        "\n",
        "# Linear regression\n",
        "model = LinearRegression()\n",
        "model.fit(data['sqft'].values.reshape(-1, 1), data['price'])\n",
        "\n",
        "# R-squared\n",
        "r2 = model.score(data['sqft'].values.reshape(-1, 1), data['price'])\n",
        "print(f'R-squared: {r2:.2f}')"
      ],
      "metadata": {
        "colab": {
          "base_uri": "https://localhost:8080/"
        },
        "id": "OIeuL66_5lQE",
        "outputId": "fc4c9a36-b185-4184-c791-a5c356be58d6"
      },
      "execution_count": null,
      "outputs": [
        {
          "output_type": "stream",
          "name": "stdout",
          "text": [
            "R-squared: 1.00\n"
          ]
        }
      ]
    },
    {
      "cell_type": "markdown",
      "source": [
        "Q13.What happens if linear regression assumptions are violated?\n",
        "\n",
        "ANS-> Consequences of violating linear regression assumptions:\n",
        "\n",
        "Assumptions and Consequences\n",
        "\n",
        "Linearity\n",
        "Violation: Non-linear relationship between independent and dependent variables.\n",
        "Consequences:\n",
        "Biased coefficients.\n",
        "Incorrect predictions.\n",
        "Over/underestimation of relationships.\n",
        "Remedies:\n",
        "Transform variables (e.g., log, square).\n",
        "Use non-linear models (e.g., polynomial regression, generalized additive models).\n",
        "Independence\n",
        "Violation: Observations not independent (e.g., time series, clustered data).\n",
        "Consequences:\n",
        "Inflated variance.\n",
        "Incorrect standard errors.\n",
        "Biased coefficients.\n",
        "Remedies:\n",
        "Use time series analysis or generalized least squares.\n",
        "Account for clustering (e.g., robust standard errors).\n",
        "Homoscedasticity\n",
        "Violation: Non-constant variance across independent variable levels.\n",
        "Consequences:\n",
        "Inefficient estimates.\n",
        "Incorrect standard errors.\n",
        "Biased coefficients.\n",
        "Remedies:\n",
        "Transform variables (e.g., log, square).\n",
        "Use weighted least squares or robust regression.\n",
        "Normality\n",
        "Violation: Non-normal residuals.\n",
        "Consequences:\n",
        "Incorrect inference (t-tests, confidence intervals).\n",
        "Biased coefficients.\n",
        "Remedies:\n",
        "Transform variables (e.g., log, square).\n",
        "Use robust regression or non-parametric tests.\n",
        "No Multicollinearity\n",
        "Violation: High correlation between independent variables.\n",
        "Consequences:\n",
        "Unstable estimates.\n",
        "Incorrect standard errors.\n",
        "Biased coefficients.\n",
        "Remedies:\n",
        "Remove highly correlated variables.\n",
        "Use dimensionality reduction (e.g., PCA).\n",
        "No Outliers\n",
        "Violation: Influential outliers.\n",
        "Consequences:\n",
        "Biased coefficients.\n",
        "Incorrect predictions.\n",
        "Over/underestimation of relationships.\n",
        "Remedies:\n",
        "Remove outliers.\n",
        "Use robust regression.\n",
        "Detection Methods\n",
        "\n",
        "Visual inspection (plots).\n",
        "Statistical tests (e.g., Shapiro-Wilk, Durbin-Watson).\n",
        "Diagnostic metrics (e.g., VIF, condition index).\n",
        "Remedies\n",
        "\n",
        "Data transformation.\n",
        "Model selection (e.g., generalized linear models).\n",
        "Robust regression techniques.\n",
        "Dimensionality reduction.\n",
        "Outlier removal.\n"
      ],
      "metadata": {
        "id": "M1HIbGv454uX"
      }
    },
    {
      "cell_type": "markdown",
      "source": [
        "Q14. How can we address multicollinearity in regression?\n",
        "\n",
        "ANS-> Addressing Multicollinearity in Regression:\n",
        "\n",
        "Detection Methods\n",
        "\n",
        "1.Variance Inflation Factor (VIF)\n",
        "2.Tolerance\n",
        "3.Correlation Matrix\n",
        "4.Condition Index Remedies\n",
        "5.Remove highly correlated variables\n",
        "6.Dimensionality reduction\n",
        "  A.Principal Component Analysis (PCA)\n",
        "  B.Factor Analysis\n",
        "7.Regularization techniques\n",
        "  A.Ridge Regression\n",
        "  B.Lasso Regression\n",
        "8.Data transformation\n",
        "  A.Standardize or normalize variables\n",
        "9.Model selection\n",
        "  A.Stepwise regression\n",
        "  B.Forward selection\n",
        "  C.Backward elimination\n",
        "10.Collect more data\n",
        "11.Use robust regression methods\n",
        "  A.Robust least squares VIF Calculation\n"
      ],
      "metadata": {
        "id": "07Xlej0h57LQ"
      }
    },
    {
      "cell_type": "code",
      "source": [
        "import pandas as pd\n",
        "from statsmodels.stats.outliers_influence import variance_inflation_factor\n",
        "\n",
        "# Sample data\n",
        "data = pd.DataFrame({'x1': [1, 2, 3, 4, 5], 'x2': [2, 3, 5, 7, 11]})\n",
        "\n",
        "# Calculate VIF\n",
        "vif = variance_inflation_factor(data[['x1', 'x2']], 0)\n",
        "print(f'VIF: {vif:.2f}')\n",
        "\n",
        "\n",
        "# Ridge Regression Example\n",
        "\n",
        "\n",
        "from sklearn.linear_model import Ridge\n",
        "\n",
        "# Sample data\n",
        "data = pd.DataFrame({'x1': [1, 2, 3, 4, 5], 'x2': [2, 3, 5, 7, 11], 'y': [2, 3, 5, 7, 11]})\n",
        "\n",
        "# Ridge regression\n",
        "model = Ridge(alpha=0.5)\n",
        "model.fit(data[['x1', 'x2']], data['y'])\n",
        "\n",
        "print(model.coef_)\n",
        "\n",
        "\n",
        "# Lasso Regression Example\n",
        "\n",
        "\n",
        "from sklearn.linear_model import Lasso\n",
        "\n",
        "# Sample data\n",
        "data = pd.DataFrame({'x1': [1, 2, 3, 4, 5], 'x2': [2, 3, 5, 7, 11], 'y': [2, 3, 5, 7, 11]})\n",
        "\n",
        "# Lasso regression\n",
        "model = Lasso(alpha=0.5)\n",
        "model.fit(data[['x1', 'x2']], data['y'])\n",
        "\n",
        "print(model.coef_)\n",
        "\n"
      ],
      "metadata": {
        "colab": {
          "base_uri": "https://localhost:8080/"
        },
        "id": "kgEaay_M5xsi",
        "outputId": "ee62a5b8-1c73-4a5f-bf59-f0f388406b5c"
      },
      "execution_count": null,
      "outputs": [
        {
          "output_type": "stream",
          "name": "stdout",
          "text": [
            "VIF: 56.08\n",
            "[0.18691589 0.91079014]\n",
            "[0.         0.95117187]\n"
          ]
        }
      ]
    },
    {
      "cell_type": "markdown",
      "source": [
        "Q15. Why do we use pipelines in machine learning?\n",
        "\n",
        "ANS-> Pipelines in Machine Learning:\n",
        "\n",
        "Benefits:\n",
        "\n",
        "Streamlined workflow: Automate data preparation, model training, and evaluation.\n",
        "Improved efficiency: Reduce manual effort and minimize errors.\n",
        "Enhanced collaboration: Facilitate teamwork among data scientists and engineers.\n",
        "Version control: Track changes and maintain reproducibility.\n",
        "Model management: Organize and deploy multiple models.\n",
        "Key Components:\n",
        "\n",
        "Data ingestion: Load and preprocess data.\n",
        "Feature engineering: Transform and select relevant features.\n",
        "Model training: Train and tune machine learning models.\n",
        "Model evaluation: Assess performance metrics.\n",
        "Model deployment: Deploy models to production.\n",
        "Advantages:\n",
        "\n",
        "Simplified hyperparameter tuning: Optimize parameters across multiple stages.\n",
        "Efficient cross-validation: Evaluate models with reduced computational overhead.\n",
        "Better model selection: Compare performance across multiple models.\n",
        "Improved data quality: Detect and handle data issues early.\n",
        "Faster prototyping: Rapidly test and iterate on new ideas.\n",
        "Popular Pipeline Tools:\n",
        "\n",
        "Apache Airflow\n",
        "Kubeflow\n",
        "TensorFlow Extended (TFX)\n",
        "Scikit-learn Pipeline\n",
        "PySpark ML\n",
        "Example (Scikit-learn Pipeline):\n",
        "\n"
      ],
      "metadata": {
        "id": "Ei5Zg3Eb6qc0"
      }
    },
    {
      "cell_type": "code",
      "source": [
        "from sklearn.pipeline import Pipeline\n",
        "from sklearn.preprocessing import StandardScaler\n",
        "from sklearn.linear_model import LogisticRegression\n",
        "from sklearn.model_selection import train_test_split # Import for data splitting\n",
        "import pandas as pd # Import pandas for DataFrame creation (if needed)\n",
        "# ... (your existing code) ...\n",
        "\n",
        "# Sample data (Replace with your actual data)\n",
        "# Assuming your data is in a pandas DataFrame called 'data'\n",
        "# with features in columns 'x1', 'x2' and target in column 'y'\n",
        "\n",
        "X = data[['x1', 'x2']] # Features\n",
        "y = data['y'] # Target\n",
        "\n",
        "# Split data into training and testing sets\n",
        "X_train, X_test, y_train, y_test = train_test_split(X, y, test_size=0.2, random_state=42) # Adjust test_size and random_state as needed\n",
        "\n",
        "# ... (rest of your existing pipeline code) ...\n",
        "\n",
        "# Fit pipeline\n",
        "pipeline.fit(X_train, y_train)\n",
        "\n",
        "# Evaluate pipeline\n",
        "accuracy = pipeline.score(X_test, y_test)\n",
        "print(f'Accuracy: {accuracy:.3f}')\n"
      ],
      "metadata": {
        "colab": {
          "base_uri": "https://localhost:8080/",
          "height": 211
        },
        "id": "CnW7bOJu6uT-",
        "outputId": "dc63811c-0253-4711-8afa-4c014ffea302"
      },
      "execution_count": null,
      "outputs": [
        {
          "output_type": "error",
          "ename": "NameError",
          "evalue": "name 'pipeline' is not defined",
          "traceback": [
            "\u001b[0;31m---------------------------------------------------------------------------\u001b[0m",
            "\u001b[0;31mNameError\u001b[0m                                 Traceback (most recent call last)",
            "\u001b[0;32m<ipython-input-14-647e4207de3c>\u001b[0m in \u001b[0;36m<cell line: 0>\u001b[0;34m()\u001b[0m\n\u001b[1;32m     19\u001b[0m \u001b[0;34m\u001b[0m\u001b[0m\n\u001b[1;32m     20\u001b[0m \u001b[0;31m# Fit pipeline\u001b[0m\u001b[0;34m\u001b[0m\u001b[0;34m\u001b[0m\u001b[0m\n\u001b[0;32m---> 21\u001b[0;31m \u001b[0mpipeline\u001b[0m\u001b[0;34m.\u001b[0m\u001b[0mfit\u001b[0m\u001b[0;34m(\u001b[0m\u001b[0mX_train\u001b[0m\u001b[0;34m,\u001b[0m \u001b[0my_train\u001b[0m\u001b[0;34m)\u001b[0m\u001b[0;34m\u001b[0m\u001b[0;34m\u001b[0m\u001b[0m\n\u001b[0m\u001b[1;32m     22\u001b[0m \u001b[0;34m\u001b[0m\u001b[0m\n\u001b[1;32m     23\u001b[0m \u001b[0;31m# Evaluate pipeline\u001b[0m\u001b[0;34m\u001b[0m\u001b[0;34m\u001b[0m\u001b[0m\n",
            "\u001b[0;31mNameError\u001b[0m: name 'pipeline' is not defined"
          ]
        }
      ]
    },
    {
      "cell_type": "markdown",
      "source": [
        "Q16. How is Adjusted R-squared calculated?\n",
        "\n",
        "ANS-> Adjusted R-squared Calculation:\n",
        "\n",
        "Adjusted R-squared measures the goodness of fit for a regression model, adjusting for the number of predictors.\n",
        "\n",
        "Formula:\n",
        "\n",
        "Adjusted R-squared = 1 - (1 - R-squared) × (n - 1) / (n - k - 1)\n",
        "\n",
        "Where:\n",
        "\n",
        "R-squared: Proportion of variance explained by the model\n",
        "n: Sample size (number of observations)\n",
        "k: Number of predictors (independent variables)\n",
        "Steps:\n",
        "\n",
        "Calculate R-squared.\n",
        "Calculate the penalty term: (1 - R-squared) × (n - 1).\n",
        "Calculate Adjusted R-squared.\n",
        "Example:\n",
        "\n",
        "Suppose a regression model with:\n",
        "\n",
        "R-squared = 0.8\n",
        "n = 100\n",
        "k = 3\n",
        "Adjusted R-squared calculation:\n",
        "\n",
        "Penalty term = (1 - 0.8) × (100 - 1) = 0.2 × 99 = 19.8\n",
        "Adjusted R-squared = 1 - 19.8 / (100 - 3 - 1) = 1 - 19.8 / 96 ≈ 0.793\n",
        "Interpretation:\n",
        "\n",
        "Adjusted R-squared values:\n",
        "\n",
        "0.9 ≤ Adjusted R-squared ≤ 1: Excellent fit\n",
        "0.7 ≤ Adjusted R-squared < 0.9: Good fit\n",
        "0.5 ≤ Adjusted R-squared < 0.7: Fair fit\n",
        "Adjusted R-squared < 0.5: Poor fit\n",
        "Code example (Python):\n",
        "\n"
      ],
      "metadata": {
        "id": "zpjP9T2b7I4f"
      }
    },
    {
      "cell_type": "code",
      "source": [
        "# prompt: How is Adjusted R-squared calculated?\n",
        "\n",
        "import numpy as np\n",
        "\n",
        "def adjusted_r_squared(r_squared, n, k):\n",
        "  \"\"\"Calculates the adjusted R-squared value.\n",
        "\n",
        "  Args:\n",
        "    r_squared: The R-squared value.\n",
        "    n: The sample size.\n",
        "    k: The number of predictors.\n",
        "\n",
        "  Returns:\n",
        "    The adjusted R-squared value.\n",
        "  \"\"\"\n",
        "  adjusted_r2 = 1 - (1 - r_squared) * (n - 1) / (n - k - 1)\n",
        "  return adjusted_r2\n",
        "\n",
        "# Example usage\n",
        "r2 = 0.8\n",
        "n = 100\n",
        "k = 3\n",
        "adj_r2 = adjusted_r_squared(r2, n, k)\n",
        "print(f\"Adjusted R-squared: {adj_r2:.3f}\")\n"
      ],
      "metadata": {
        "colab": {
          "base_uri": "https://localhost:8080/"
        },
        "id": "fmQatN-27P76",
        "outputId": "f15d42a3-8260-492c-cbfa-cf45a9fb7433"
      },
      "execution_count": null,
      "outputs": [
        {
          "output_type": "stream",
          "name": "stdout",
          "text": [
            "Adjusted R-squared: 0.794\n"
          ]
        }
      ]
    },
    {
      "cell_type": "markdown",
      "source": [
        "Q17. Why is MSE sensitive to outliers?\n",
        "\n",
        "Mean Squared Error (MSE) Sensitivity to Outliers:\n",
        "\n",
        "MSE calculates the average squared difference between predicted and actual values.\n",
        "\n",
        "MSE = (1/n) ∑(y_true - y_pred)^2\n",
        "\n",
        "Outliers affect MSE in two ways:\n",
        "\n",
        "Squared term: Outliers have large errors, which become even larger when squared. This amplifies their impact on MSE.\n",
        "Average calculation: Outliers contribute disproportionately to the average, pulling the MSE value away from the true value.\n",
        "Consequences:\n",
        "\n",
        "Inflated MSE: Outliers increase MSE, making the model appear less accurate.\n",
        "Biased evaluation: MSE overemphasizes outlier errors, leading to incorrect conclusions.\n",
        "Suboptimal hyperparameter tuning: Outliers dominate the optimization process.\n",
        "Examples:\n",
        "\n",
        "Regression: An outlier with a large error (e.g., 100) contributes 10,000 to MSE, while an inlier with a small error (e.g., 1) contributes only 1.\n",
        "Time series forecasting: A single outlier can significantly impact MSE, masking the model's performance.\n",
        "Robust alternatives:\n",
        "\n",
        "Mean Absolute Error (MAE): Less sensitive to outliers, as errors are not squared.\n",
        "Mean Absolute Percentage Error (MAPE): Similar to MAE, but relative to actual values.\n",
        "Huber Loss: Combines MSE and MAE, reducing outlier impact.\n",
        "Robust regression techniques: Use methods like Least Absolute Deviation (LAD) or M-estimators.\n",
        "Code example (Python):\n",
        "\n"
      ],
      "metadata": {
        "id": "EWv6TA4N7Tkv"
      }
    },
    {
      "cell_type": "code",
      "source": [
        "import numpy as np\n",
        "\n",
        "# Sample data\n",
        "y_true = np.array([1, 2, 3, 4, 5])\n",
        "y_pred = np.array([1, 2, 3, 4, 100])  # outlier\n",
        "\n",
        "# MSE\n",
        "mse = np.mean((y_true - y_pred) ** 2)\n",
        "print(f'MSE: {mse:.2f}')\n",
        "\n",
        "# MAE\n",
        "mae = np.mean(np.abs(y_true - y_pred))\n",
        "print(f'MAE: {mae:.2f}')\n"
      ],
      "metadata": {
        "colab": {
          "base_uri": "https://localhost:8080/"
        },
        "id": "vHs9DMsc7WLv",
        "outputId": "24ff18d0-73f9-4f22-8b18-ae908a3278b9"
      },
      "execution_count": null,
      "outputs": [
        {
          "output_type": "stream",
          "name": "stdout",
          "text": [
            "MSE: 1805.00\n",
            "MAE: 19.00\n"
          ]
        }
      ]
    },
    {
      "cell_type": "markdown",
      "source": [
        "Q18. What is the role of homoscedasticity in linear regression?\n",
        "\n",
        "ANS-> Homoscedasticity in Linear Regression:\n",
        "\n",
        "Homoscedasticity assumes that the variance of residuals (ε) is constant across all levels of the independent variable(s).\n",
        "\n",
        "Role:\n",
        "\n",
        "Constant variance: Ensures that residuals have equal spread throughout the data range.\n",
        "Equal error variance: Allows for accurate inference and hypothesis testing.\n",
        "Unbiased estimates: Ensures that coefficient estimates are unbiased.\n",
        "Consequences of heteroscedasticity (violating homoscedasticity):\n",
        "\n",
        "Inefficient estimates: Coefficient estimates remain unbiased but have inflated variance.\n",
        "Incorrect inference: t-tests, confidence intervals, and p-values are unreliable.\n",
        "Biased standard errors: Under/overestimation of standard errors.\n",
        "Types of heteroscedasticity:\n",
        "\n",
        "Increasing variance: Residual variance increases with independent variable.\n",
        "Decreasing variance: Residual variance decreases with independent variable.\n",
        "Non-monotonic variance: Residual variance changes unpredictably.\n",
        "Detection methods:\n",
        "\n",
        "Visual inspection: Plot residuals vs. independent variable.\n",
        "Breusch-Pagan test: Statistical test for heteroscedasticity.\n",
        "White test: Statistical test for heteroscedasticity.\n",
        "Remedies:\n",
        "\n",
        "Transform variables: Log, square, or inverse transformation.\n",
        "Weighted least squares: Assign different weights to observations.\n",
        "Robust regression: Use robust standard errors or sandwich estimators.\n",
        "Generalized linear models: Choose appropriate distribution (e.g., Poisson, logistic).\n",
        "Code example (Python):\n",
        "\n"
      ],
      "metadata": {
        "id": "crLGjkau7bgl"
      }
    },
    {
      "cell_type": "code",
      "source": [
        "import pandas as pd\n",
        "import numpy as np\n",
        "import matplotlib.pyplot as plt\n",
        "\n",
        "# Sample data\n",
        "np.random.seed(0)\n",
        "x = np.linspace(1, 10, 100)\n",
        "y = 2 * x + np.random.normal(0, x)  # heteroscedasticity\n",
        "\n",
        "# Linear regression\n",
        "from sklearn.linear_model import LinearRegression\n",
        "model = LinearRegression()\n",
        "model.fit(x.reshape(-1, 1), y)\n",
        "\n",
        "# Residuals\n",
        "residuals = y - model.predict(x.reshape(-1, 1))\n",
        "\n",
        "# Plot residuals vs. x\n",
        "plt.scatter(x, residuals)\n",
        "plt.title('Residuals vs. x')\n",
        "plt.show()\n",
        "\n",
        "\n"
      ],
      "metadata": {
        "colab": {
          "base_uri": "https://localhost:8080/",
          "height": 452
        },
        "id": "vCwWET0R7fYz",
        "outputId": "44845eec-bd62-41d5-be49-16ef82685f80"
      },
      "execution_count": null,
      "outputs": [
        {
          "output_type": "display_data",
          "data": {
            "text/plain": [
              "<Figure size 640x480 with 1 Axes>"
            ],
            "image/png": "[encoded data removed]"
          },
          "metadata": {}
        }
      ]
    },
    {
      "cell_type": "markdown",
      "source": [
        "Q19. What is Root Mean Squared Error (RMSE)?\n",
        "\n",
        "ANS-> Root Mean Squared Error (RMSE):\n",
        "\n",
        "RMSE measures the square root of the average squared difference between predicted and actual values.\n",
        "\n",
        "Formula:\n",
        "\n",
        "RMSE = √[(1/n) ∑(y_true - y_pred)^2]\n",
        "\n",
        "Where:\n",
        "\n",
        "y_true: Actual values\n",
        "y_pred: Predicted values\n",
        "n: Sample size\n",
        "Interpretation:\n",
        "\n",
        "Lower RMSE: Better model performance\n",
        "RMSE = 0: Perfect predictions\n",
        "High RMSE: Large errors\n",
        "Advantages:\n",
        "\n",
        "Easy to interpret\n",
        "Sensitive to outliers\n",
        "Comparable across models\n",
        "Disadvantages:\n",
        "\n",
        "Squares errors, amplifying large mistakes\n",
        "Not robust to outliers\n",
        "Applications:\n",
        "\n",
        "Regression evaluation\n",
        "Time series forecasting\n",
        "Image and signal processing\n",
        "Comparison to Mean Absolute Error (MAE):\n",
        "\n",
        "RMSE penalizes large errors more severely\n",
        "MAE more robust to outliers\n",
        "Code example (Python):\n",
        "\n"
      ],
      "metadata": {
        "id": "3GsumHwq7kml"
      }
    },
    {
      "cell_type": "code",
      "source": [
        "import numpy as np\n",
        "\n",
        "# Actual values\n",
        "y_true = np.array([1, 2, 3, 4, 5])\n",
        "\n",
        "# Predicted values\n",
        "y_pred = np.array([1.1, 2.1, 3.2, 4.3, 5.4])\n",
        "\n",
        "# RMSE calculation\n",
        "rmse = np.sqrt(np.mean((y_true - y_pred) ** 2))\n",
        "print(f'RMSE: {rmse:.2f}')"
      ],
      "metadata": {
        "colab": {
          "base_uri": "https://localhost:8080/"
        },
        "id": "2oo1IpmV7q7r",
        "outputId": "4cf580af-0a7c-4a10-981c-2b9fbb899a45"
      },
      "execution_count": null,
      "outputs": [
        {
          "output_type": "stream",
          "name": "stdout",
          "text": [
            "RMSE: 0.25\n"
          ]
        }
      ]
    },
    {
      "cell_type": "markdown",
      "source": [
        "Q20. Why is pickling considered risky?\n",
        "\n",
        "ANS-> Pickling Risks:\n",
        "\n",
        "Pickling, Python's object serialization process, poses security risks due to:\n",
        "\n",
        "Arbitrary Code Execution: Pickled objects can contain malicious code, executed upon unpickling.\n",
        "Deserialization Vulnerabilities: Pickling can lead to deserialization attacks, exploiting vulnerabilities in dependent libraries.\n",
        "Data Tampering: Pickled data can be modified or corrupted during transmission/storage.\n",
        "Dependence on Specific Python Version: Pickled objects may not be compatible across Python versions.\n",
        "Potential for Denial-of-Service (DoS) Attacks: Malicious pickled objects can cause crashes or resource exhaustion.\n",
        "Best Practices to Mitigate Risks:\n",
        "\n",
        "Only unpickle trusted data: Verify source and authenticity.\n",
        "Use secure protocols: Encrypt and authenticate pickled data.\n",
        "Validate pickled data: Check structure and content.\n",
        "Use latest Python versions: Ensure bug fixes and security patches.\n",
        "Consider alternative serialization: JSON, YAML, or MessagePack.\n",
        "Safe Unpickling Strategies:\n",
        "\n",
        "Use pickle.load() with caution: Only with trusted data.\n",
        "Implement custom unpickling: Validate and sanitize data.\n",
        "Use pickle.loads() with restrictions: Limit allowed object types.\n",
        "Utilize third-party libraries: dill, cloudpickle, or joblib.\n",
        "Example (Safe Unpickling):\n",
        "\n"
      ],
      "metadata": {
        "id": "K-P21k1V7uMm"
      }
    },
    {
      "cell_type": "code",
      "source": [
        "import pickle\n",
        "\n",
        "# Only unpickle trusted data\n",
        "def safe_unpickle(data):\n",
        "    try:\n",
        "        return pickle.loads(data)\n",
        "    except pickle.UnpicklingError as e:\n",
        "        print(f\"Unpickling error: {e}\")\n",
        "        return None\n",
        "\n",
        "# Test with trusted pickled data\n",
        "pickled_data = pickle.dumps({\"name\": \"John\"})\n",
        "unpickled_data = safe_unpickle(pickled_data)\n",
        "print(unpickled_data)  # Output: {'name': 'John'}"
      ],
      "metadata": {
        "colab": {
          "base_uri": "https://localhost:8080/"
        },
        "id": "5XvyxgX57wsG",
        "outputId": "0d1cd763-0d9d-4beb-9231-c19b9a23a92d"
      },
      "execution_count": null,
      "outputs": [
        {
          "output_type": "stream",
          "name": "stdout",
          "text": [
            "{'name': 'John'}\n"
          ]
        }
      ]
    },
    {
      "cell_type": "markdown",
      "source": [
        "Q21. What alternatives exist to pickling for saving ML models? ANS-> Alternatives to Pickling for Saving ML Models:\n",
        "\n",
        "1.Joblib: Efficient serialization for Python objects, suitable for ML models.\n",
        "2.Dill: Similar to Pickle, but supports more object types.\n",
        "3.CloudPickle: Fast, secure serialization for distributed computing.\n",
        "4.HDF5: Binary format for storing numerical data, suitable for ML models.\n",
        "5.TensorFlow SavedModel: Native TensorFlow model serialization.\n",
        "6.PyTorch Serialization: Native PyTorch model serialization.\n",
        "7.ONNX (Open Neural Network Exchange): Platform-agnostic model serialization.\n",
        "8.PMML (Predictive Model Markup Language): Standard for deploying ML models.\n",
        "9.Scikit-learn's built-in serialization: Supports various formats (e.g., CSV, JSON).\n",
        "10.Model-specific serialization: Some libraries (e.g., LightGBM, XGBoost) provide custom serialization.\n",
        "\n",
        "Comparison:\n",
        "\n",
        "Alternative\tAdvantages\tDisadvantages\n",
        "Joblib\tFast, efficient\tLimited platform support\n",
        "Dill\tFlexible, supports multiple object types\tSecurity concerns\n",
        "CloudPickle\tSecure, fast\tLimited compatibility\n",
        "HDF5\tEfficient storage, supports large data\tComplex API\n",
        "TensorFlow SavedModel\tNative support, efficient\tTensorFlow-specific\n",
        "PyTorch Serialization\tNative support, efficient\tPyTorch-specific\n",
        "ONNX\tPlatform-agnostic, flexible\tLimited library support\n",
        "PMML\tStandardized, widely supported\tComplex implementation\n",
        "Example (Joblib):"
      ],
      "metadata": {
        "id": "SZfXKYCB70gq"
      }
    },
    {
      "cell_type": "code",
      "source": [
        "from sklearn.ensemble import RandomForestClassifier\n",
        "from sklearn.datasets import load_iris\n",
        "import joblib\n",
        "\n",
        "# Train model\n",
        "iris = load_iris()\n",
        "model = RandomForestClassifier(n_estimators=100)\n",
        "model.fit(iris.data, iris.target)\n",
        "\n",
        "# Save model\n",
        "joblib.dump(model, 'model.joblib')\n",
        "\n",
        "# Load model\n",
        "loaded_model = joblib.load('model.joblib')"
      ],
      "metadata": {
        "id": "wcqitL4X8OoA"
      },
      "execution_count": null,
      "outputs": []
    },
    {
      "cell_type": "markdown",
      "source": [
        "Q22. What is heteroscedasticity, and why is it a problem?\n",
        "\n",
        "ANS-> Heteroscedasticity:\n",
        "\n",
        "Heteroscedasticity occurs when the variance of residuals (errors) in a regression model changes across different levels of the independent variable(s). This means the spread of residuals is not constant.\n",
        "\n",
        "Types:\n",
        "\n",
        "Increasing variance: Residual variance increases as the independent variable increases.\n",
        "Decreasing variance: Residual variance decreases as the independent variable increases.\n",
        "Non-monotonic variance: Residual variance changes unpredictably.\n",
        "Consequences:\n",
        "\n",
        "Inefficient estimates: Coefficient estimates remain unbiased but have inflated variance.\n",
        "Incorrect inference: t-tests, confidence intervals, and p-values are unreliable.\n",
        "Biased standard errors: Under/overestimation of standard errors.\n",
        "Problems:\n",
        "\n",
        "Distorted hypothesis testing\n",
        "Inaccurate confidence intervals\n",
        "Biased prediction intervals\n",
        "Model misspecification\n",
        "Reduced model accuracy\n",
        "Detection methods:\n",
        "\n",
        "Visual inspection: Plot residuals vs. independent variable.\n",
        "Breusch-Pagan test\n",
        "White test\n",
        "Goldfeld-Quandt test\n",
        "Remedies:\n",
        "\n",
        "Transform variables: Log, square, or inverse transformation.\n",
        "Weighted least squares (WLS)\n",
        "Robust regression: Use robust standard errors or sandwich estimators.\n",
        "Generalized linear models (GLM): Choose appropriate distribution.\n",
        "Model re-specification\n",
        "Code example (Python):\n",
        "\n"
      ],
      "metadata": {
        "id": "4v8LnmjR8Xtw"
      }
    },
    {
      "cell_type": "code",
      "source": [
        "import pandas as pd\n",
        "import numpy as np\n",
        "import matplotlib.pyplot as plt\n",
        "\n",
        "# Sample data\n",
        "np.random.seed(0)\n",
        "x = np.linspace(1, 10, 100)\n",
        "y = 2 * x + np.random.normal(0, x)  # heteroscedasticity\n",
        "\n",
        "# Linear regression\n",
        "from sklearn.linear_model import LinearRegression\n",
        "model = LinearRegression()\n",
        "model.fit(x.reshape(-1, 1), y)\n",
        "\n",
        "# Residuals\n",
        "residuals = y - model.predict(x.reshape(-1, 1))\n",
        "\n",
        "# Plot residuals vs. x\n",
        "plt.scatter(x, residuals)\n",
        "plt.title('Residuals vs. x')\n",
        "plt.show()\n",
        "\n"
      ],
      "metadata": {
        "colab": {
          "base_uri": "https://localhost:8080/",
          "height": 452
        },
        "id": "KVJ-VzIE8YoT",
        "outputId": "e773be08-06ce-4a45-e96a-3f8ab4948dd9"
      },
      "execution_count": null,
      "outputs": [
        {
          "output_type": "display_data",
          "data": {
            "text/plain": [
              "<Figure size 640x480 with 1 Axes>"
            ],
            "image/png": "[encoded data removed]"
          },
          "metadata": {}
        }
      ]
    },
    {
      "cell_type": "markdown",
      "source": [
        "Q22. How does adding irrelevant predictors affect R-squared and Adjusted R-squared?\n",
        "\n",
        "ANS-> Adding Irrelevant Predictors:\n",
        "\n",
        "Effects on R-squared and Adjusted R-squared:\n",
        "\n",
        "R-squared:\n",
        "\n",
        "Increases or remains constant: Irrelevant predictors can artificially inflate R-squared.\n",
        "May overestimate model fit.\n",
        "Adjusted R-squared:\n",
        "\n",
        "Decreases or remains constant: Penalizes additional predictors.\n",
        "Provides more accurate assessment of model fit.\n",
        "Why Adjusted R-squared decreases:\n",
        "\n",
        "Penalty term: (n-1)/(n-k-1) increases as k (number of predictors) grows.\n",
        "Irrelevant predictors add noise, reducing model efficiency.\n",
        "Consequences:\n",
        "\n",
        "Overfitting: Model becomes overly complex.\n",
        "Decreased generalization performance.\n",
        "Increased risk of false discoveries.\n",
        "Best practices:\n",
        "\n",
        "Regularization techniques (L1, L2).\n",
        "Feature selection methods (Forward, Backward, Stepwise).\n",
        "Cross-validation.\n",
        "Information criteria (AIC, BIC).\n",
        "Code example (Python):\n",
        "\n"
      ],
      "metadata": {
        "id": "X37O9lQ38cco"
      }
    },
    {
      "cell_type": "code",
      "source": [
        "import pandas as pd\n",
        "from sklearn.linear_model import LinearRegression\n",
        "import numpy as np\n",
        "\n",
        "# Sample data\n",
        "np.random.seed(0)\n",
        "x1 = np.random.normal(0, 1, 100)\n",
        "x2 = np.random.normal(0, 1, 100)  # irrelevant predictor\n",
        "y = 2 * x1 + np.random.normal(0, 1, 100)\n",
        "\n",
        "# Data frame\n",
        "df = pd.DataFrame({'x1': x1, 'x2': x2, 'y': y})\n",
        "\n",
        "# Linear regression\n",
        "model1 = LinearRegression()\n",
        "model1.fit(df[['x1']], df['y']) # x1 is reshaped to a 2D array using double brackets\n",
        "\n",
        "model2 = LinearRegression()\n",
        "model2.fit(df[['x1', 'x2']], df['y']) # x1 and x2 are reshaped to a 2D array using double brackets\n",
        "\n",
        "\n",
        "print(\"R-squared (relevant predictor only):\", model1.score(df[['x1']], df['y'])) # x1 is reshaped to a 2D array using double brackets\n",
        "print(\"R-squared (with irrelevant predictor):\", model2.score(df[['x1', 'x2']], df['y'])) # x1 and x2 are reshaped to a 2D array using double brackets\n",
        "\n",
        "#Adjusted R^2 Calculations need to be performed on the whole dataframe and not just y\n",
        "print(\"Adjusted R-squared (relevant predictor only):\", 1 - (len(df) - 1) / (len(df) - 2) * (1 - model1.score(df[['x1']], df['y']))) # x1 is reshaped to a 2D array using double brackets\n",
        "print(\"Adjusted R-squared (with irrelevant predictor):\", 1 - (len(df) - 1) / (len(df) - 3) * (1 - model2.score(df[['x1', 'x2']], df['y']))) # x1 and x2 are reshaped to a 2D array using double brackets\n"
      ],
      "metadata": {
        "colab": {
          "base_uri": "https://localhost:8080/"
        },
        "id": "L8fL6IaF8gUj",
        "outputId": "cd3230e3-ce94-4fd1-9556-f460221bccc1"
      },
      "execution_count": null,
      "outputs": [
        {
          "output_type": "stream",
          "name": "stdout",
          "text": [
            "R-squared (relevant predictor only): 0.8287531565195481\n",
            "R-squared (with irrelevant predictor): 0.8291472009979431\n",
            "Adjusted R-squared (relevant predictor only): 0.8270057397493393\n",
            "Adjusted R-squared (with irrelevant predictor): 0.8256244628741894\n"
          ]
        }
      ]
    },
    {
      "cell_type": "markdown",
      "source": [
        "#Practical\n",
        "\n",
        "##Q1. Write a Python script that calculates the Mean Squared Error (MSE) and Mean Absolute Error (MAE) for a multiple linear regression model using Seaborn's \"diamonds\" dataset.\n",
        "\n"
      ],
      "metadata": {
        "id": "cjDu12Y_9M9z"
      }
    },
    {
      "cell_type": "code",
      "source": [
        "# Import necessary libraries\n",
        "import seaborn as sns\n",
        "import pandas as pd\n",
        "from sklearn.model_selection import train_test_split\n",
        "from sklearn.linear_model import LinearRegression\n",
        "from sklearn.metrics import mean_squared_error, mean_absolute_error\n",
        "\n",
        "# Load Seaborn's diamonds dataset\n",
        "diamonds = sns.load_dataset(\"diamonds\")\n",
        "\n",
        "# Preprocess data\n",
        "X = diamonds[['carat', 'cut', 'color', 'clarity']]\n",
        "y = diamonds['price']\n",
        "\n",
        "# Convert categorical variables to numerical variables\n",
        "X = pd.get_dummies(X)\n",
        "\n",
        "# Split data into training and testing sets\n",
        "X_train, X_test, y_train, y_test = train_test_split(X, y, test_size=0.2, random_state=42)\n",
        "\n",
        "# Create and train a multiple linear regression model\n",
        "model = LinearRegression()\n",
        "model.fit(X_train, y_train)\n",
        "\n",
        "# Make predictions on the test set\n",
        "y_pred = model.predict(X_test)\n",
        "\n",
        "# Calculate Mean Squared Error (MSE)\n",
        "mse = mean_squared_error(y_test, y_pred)\n",
        "print(f\"Mean Squared Error (MSE): {mse:.2f}\")\n",
        "\n",
        "# Calculate Mean Absolute Error (MAE)\n",
        "mae = mean_absolute_error(y_test, y_pred)\n",
        "print(f\"Mean Absolute Error (MAE): {mae:.2f}\")\n"
      ],
      "metadata": {
        "colab": {
          "base_uri": "https://localhost:8080/"
        },
        "id": "1uPcdGyc7tbS",
        "outputId": "42f46237-ec60-48ae-8410-73d739d812a1"
      },
      "execution_count": null,
      "outputs": [
        {
          "output_type": "stream",
          "name": "stdout",
          "text": [
            "Mean Squared Error (MSE): 1346335.59\n",
            "Mean Absolute Error (MAE): 802.12\n"
          ]
        }
      ]
    },
    {
      "cell_type": "markdown",
      "source": [
        "Q2. Write a Python script to calculate and print Mean Squared Error (MSE), Mean Absolute Error (MAE), and Root Mean Squared Error (RMSE) for a linear regression model."
      ],
      "metadata": {
        "id": "xmCpi_gY9yro"
      }
    },
    {
      "cell_type": "code",
      "source": [
        "# Import necessary libraries\n",
        "import numpy as np\n",
        "from sklearn.linear_model import LinearRegression\n",
        "from sklearn.model_selection import train_test_split\n",
        "from sklearn.metrics import mean_squared_error, mean_absolute_error\n",
        "from sklearn.datasets import fetch_california_housing # Import fetch_california_housing\n",
        "\n",
        "# Load California Housing dataset instead of Boston Housing\n",
        "california = fetch_california_housing() # Use fetch_california_housing\n",
        "X = california.data\n",
        "y = california.target\n",
        "\n",
        "# Split data into training and testing sets\n",
        "X_train, X_test, y_train, y_test = train_test_split(X, y, test_size=0.2, random_state=42)\n",
        "\n",
        "# Create and train a linear regression model\n",
        "model = LinearRegression()\n",
        "model.fit(X_train, y_train)\n",
        "\n",
        "# Make predictions on the test set\n",
        "y_pred = model.predict(X_test)\n",
        "\n",
        "# Calculate Mean Squared Error (MSE)\n",
        "mse = mean_squared_error(y_test, y_pred)\n",
        "print(f\"Mean Squared Error (MSE): {mse:.2f}\")\n",
        "\n",
        "# Calculate Mean Absolute Error (MAE)\n",
        "mae = mean_absolute_error(y_test, y_pred)\n",
        "print(f\"Mean Absolute Error (MAE): {mae:.2f}\")\n",
        "\n",
        "# Calculate Root Mean Squared Error (RMSE)\n",
        "rmse = np.sqrt(mse)\n",
        "print(f\"Root Mean Squared Error (RMSE): {rmse:.2f}\")\n"
      ],
      "metadata": {
        "colab": {
          "base_uri": "https://localhost:8080/"
        },
        "id": "ZjIjvexe91QY",
        "outputId": "fd86b4e8-7305-43b0-eccd-b763be990210"
      },
      "execution_count": null,
      "outputs": [
        {
          "output_type": "stream",
          "name": "stdout",
          "text": [
            "Mean Squared Error (MSE): 0.56\n",
            "Mean Absolute Error (MAE): 0.53\n",
            "Root Mean Squared Error (RMSE): 0.75\n"
          ]
        }
      ]
    },
    {
      "cell_type": "markdown",
      "source": [
        "Q3. Write a Python script to check if the assumptions of linear regression are met. Use a scatter plot to check linearity, residuals plot for homoscedasticity, and correlation matrix for multicollinearity."
      ],
      "metadata": {
        "id": "pk233V3E972o"
      }
    },
    {
      "cell_type": "code",
      "source": [
        "# Import necessary libraries\n",
        "import pandas as pd\n",
        "import numpy as np\n",
        "import matplotlib.pyplot as plt\n",
        "import seaborn as sns\n",
        "from sklearn.linear_model import LinearRegression\n",
        "from sklearn.model_selection import train_test_split\n",
        "from statsmodels.stats.outliers_influence import variance_inflation_factor\n",
        "\n",
        "# Instead of load_boston, fetch the dataset from the original source:\n",
        "data_url = \"http://lib.stat.cmu.edu/datasets/boston\"\n",
        "raw_df = pd.read_csv(data_url, sep=\"\\s+\", skiprows=22, header=None)\n",
        "data = np.hstack([raw_df.values[::2, :], raw_df.values[1::2, :2]])\n",
        "target = raw_df.values[1::2, 2]\n",
        "\n",
        "# Create DataFrame\n",
        "df = pd.DataFrame(data, columns=['CRIM', 'ZN', 'INDUS', 'CHAS', 'NOX', 'RM', 'AGE', 'DIS', 'RAD', 'TAX', 'PTRATIO', 'B', 'LSTAT'])\n",
        "df['PRICE'] = target # Add target as 'PRICE' column\n",
        "\n",
        "\n",
        "# Split data into training and testing sets\n",
        "X = df.drop('PRICE', axis=1)\n",
        "y = df['PRICE']\n",
        "X_train, X_test, y_train, y_test = train_test_split(X, y, test_size=0.2, random_state=42)\n",
        "\n",
        "# Create and train a linear regression model\n",
        "model = LinearRegression()\n",
        "model.fit(X_train, y_train)\n",
        "\n",
        "# Check linearity assumption\n",
        "# Plot scatter plot of predicted values vs. actual values\n",
        "y_pred = model.predict(X_train)\n",
        "plt.scatter(y_pred, y_train)\n",
        "plt.plot([y_train.min(), y_train.max()], [y_train.min(), y_train.max()], 'r--')\n",
        "plt.xlabel('Predicted values')\n",
        "plt.ylabel('Actual values')\n",
        "plt.title('Linearity Check')\n",
        "plt.show()\n",
        "\n",
        "# Check homoscedasticity assumption\n",
        "# Plot residuals vs. predicted values\n",
        "residuals = y_train - y_pred\n",
        "plt.scatter(y_pred, residuals)\n",
        "plt.plot([y_pred.min(), y_pred.max()], [0, 0], 'r--')\n",
        "plt.xlabel('Predicted values')\n",
        "plt.ylabel('Residuals')\n",
        "plt.title('Homoscedasticity Check')\n",
        "plt.show()\n",
        "\n",
        "# Check multicollinearity assumption\n",
        "# Calculate Variance Inflation Factor (VIF)\n",
        "vif = pd.DataFrame()\n",
        "vif['Features'] = X.columns\n",
        "vif['VIF'] = [variance_inflation_factor(X.values, i) for i in range(X.shape[1])]\n",
        "print(vif)\n",
        "\n",
        "# Check correlation between features\n",
        "# Plot correlation matrix\n",
        "corr_matrix = X.corr()\n",
        "plt.figure(figsize=(10, 8))\n",
        "sns.heatmap(corr_matrix, annot=True, cmap='coolwarm', square=True)\n",
        "plt.title('Correlation Matrix')\n",
        "plt.show()\n"
      ],
      "metadata": {
        "colab": {
          "base_uri": "https://localhost:8080/",
          "height": 1000
        },
        "id": "6vC0V2lD9-a0",
        "outputId": "b50b94d8-1267-43d6-f476-4ae0808fd7bf"
      },
      "execution_count": null,
      "outputs": [
        {
          "output_type": "display_data",
          "data": {
            "text/plain": [
              "<Figure size 640x480 with 1 Axes>"
            ],
            "image/png": "[encoded data removed]"
          },
          "metadata": {}
        },
        {
          "output_type": "display_data",
          "data": {
            "text/plain": [
              "<Figure size 640x480 with 1 Axes>"
            ],
            "image/png": "[encoded data removed]"
          },
          "metadata": {}
        },
        {
          "output_type": "stream",
          "name": "stdout",
          "text": [
            "   Features        VIF\n",
            "0      CRIM   2.100373\n",
            "1        ZN   2.844013\n",
            "2     INDUS  14.485758\n",
            "3      CHAS   1.152952\n",
            "4       NOX  73.894947\n",
            "5        RM  77.948283\n",
            "6       AGE  21.386850\n",
            "7       DIS  14.699652\n",
            "8       RAD  15.167725\n",
            "9       TAX  61.227274\n",
            "10  PTRATIO  85.029547\n",
            "11        B  20.104943\n",
            "12    LSTAT  11.102025\n"
          ]
        },
        {
          "output_type": "display_data",
          "data": {
            "text/plain": [
              "<Figure size 1000x800 with 2 Axes>"
            ],
            "image/png": "[encoded data removed]"
          },
          "metadata": {}
        }
      ]
    },
    {
      "cell_type": "markdown",
      "source": [
        "Q4. Create a machine learning pipeline that standardizes the features, fits a linear regression model, and evaluates the model’s R-squared scorB"
      ],
      "metadata": {
        "id": "JouiyJK3-HgR"
      }
    },
    {
      "cell_type": "code",
      "source": [
        "# Import necessary libraries\n",
        "from sklearn.pipeline import Pipeline\n",
        "from sklearn.preprocessing import StandardScaler\n",
        "from sklearn.linear_model import LinearRegression\n",
        "from sklearn.model_selection import train_test_split\n",
        "# Instead of load_boston, use fetch_california_housing:\n",
        "from sklearn.datasets import fetch_california_housing # Import fetch_california_housing\n",
        "from sklearn.metrics import r2_score\n",
        "\n",
        "# Load California Housing dataset\n",
        "housing = fetch_california_housing() # Use fetch_california_housing\n",
        "X = housing.data\n",
        "y = housing.target\n",
        "\n",
        "\n",
        "# Split data into training and testing sets\n",
        "X_train, X_test, y_train, y_test = train_test_split(X, y, test_size=0.2, random_state=42)\n",
        "\n",
        "# Create machine learning pipeline\n",
        "pipeline = Pipeline([\n",
        "    ('standardize', StandardScaler()),  # Standardize features\n",
        "    ('linear_regression', LinearRegression())  # Fit linear regression model\n",
        "])\n",
        "\n",
        "# Fit pipeline to training data\n",
        "pipeline.fit(X_train, y_train)\n",
        "\n",
        "# Make predictions on testing data\n",
        "y_pred = pipeline.predict(X_test)\n",
        "\n",
        "# Evaluate model's R-squared score\n",
        "r2 = r2_score(y_test, y_pred)\n",
        "print(f\"R-squared score: {r2:.2f}\")\n"
      ],
      "metadata": {
        "colab": {
          "base_uri": "https://localhost:8080/"
        },
        "id": "p1cLvxAS-EhY",
        "outputId": "7153d4ed-3cc0-4ce5-d09a-5f36055aee08"
      },
      "execution_count": null,
      "outputs": [
        {
          "output_type": "stream",
          "name": "stdout",
          "text": [
            "R-squared score: 0.58\n"
          ]
        }
      ]
    },
    {
      "cell_type": "markdown",
      "source": [
        "Q5. Implement a simple linear regression model on a dataset and print the model's coefficients, intercept, and R-squared score."
      ],
      "metadata": {
        "id": "TxOopT8S-RXv"
      }
    },
    {
      "cell_type": "code",
      "source": [
        "# Import necessary libraries\n",
        "from sklearn.linear_model import LinearRegression\n",
        "# Instead of load_boston, fetch the dataset from the original source:\n",
        "import pandas as pd\n",
        "import numpy as np\n",
        "from sklearn.model_selection import train_test_split\n",
        "from sklearn.metrics import r2_score\n",
        "\n",
        "# Fetch the dataset from the original source:\n",
        "data_url = \"http://lib.stat.cmu.edu/datasets/boston\"\n",
        "raw_df = pd.read_csv(data_url, sep=\"\\s+\", skiprows=22, header=None)\n",
        "data = np.hstack([raw_df.values[::2, :], raw_df.values[1::2, :2]])\n",
        "target = raw_df.values[1::2, 2]\n",
        "\n",
        "# Create DataFrame\n",
        "df = pd.DataFrame(data, columns=['CRIM', 'ZN', 'INDUS', 'CHAS', 'NOX', 'RM', 'AGE', 'DIS', 'RAD', 'TAX', 'PTRATIO', 'B', 'LSTAT'])\n",
        "df['PRICE'] = target # Add target as 'PRICE' column\n",
        "\n",
        "# Split data into training and testing sets\n",
        "X = df.drop('PRICE', axis=1)\n",
        "y = df['PRICE']\n",
        "X_train, X_test, y_train, y_test = train_test_split(X, y, test_size=0.2, random_state=42)\n",
        "\n",
        "# Create and fit linear regression model\n",
        "model = LinearRegression()\n",
        "model.fit(X_train, y_train)\n",
        "\n",
        "# Print model coefficients\n",
        "print(\"Coefficients:\")\n",
        "for i, coefficient in enumerate(model.coef_):\n",
        "    print(f\"Feature {i}: {coefficient:.2f}\")\n",
        "\n",
        "# Print model intercept\n",
        "print(f\"\\nIntercept: {model.intercept_:.2f}\")\n",
        "\n",
        "# Make predictions on testing data\n",
        "y_pred = model.predict(X_test)\n",
        "\n",
        "# Print R-squared score\n",
        "r2 = r2_score(y_test, y_pred)\n",
        "print(f\"\\nR-squared score: {r2:.2f}\")\n"
      ],
      "metadata": {
        "colab": {
          "base_uri": "https://localhost:8080/"
        },
        "id": "qste1hX8-NjG",
        "outputId": "424994b4-ffc4-4c71-b583-9da1a8e1e46e"
      },
      "execution_count": null,
      "outputs": [
        {
          "output_type": "stream",
          "name": "stdout",
          "text": [
            "Coefficients:\n",
            "Feature 0: -0.11\n",
            "Feature 1: 0.03\n",
            "Feature 2: 0.04\n",
            "Feature 3: 2.78\n",
            "Feature 4: -17.20\n",
            "Feature 5: 4.44\n",
            "Feature 6: -0.01\n",
            "Feature 7: -1.45\n",
            "Feature 8: 0.26\n",
            "Feature 9: -0.01\n",
            "Feature 10: -0.92\n",
            "Feature 11: 0.01\n",
            "Feature 12: -0.51\n",
            "\n",
            "Intercept: 30.25\n",
            "\n",
            "R-squared score: 0.67\n"
          ]
        }
      ]
    },
    {
      "cell_type": "markdown",
      "source": [
        "Q6. Fit a simple linear regression model to the 'tips' dataset and print the slope and intercept of the regression line"
      ],
      "metadata": {
        "id": "fYqJgYcG-czG"
      }
    },
    {
      "cell_type": "code",
      "source": [
        "import pandas as pd\n",
        "import numpy as np\n",
        "from sklearn.linear_model import LinearRegression\n",
        "import statsmodels.api as sm\n",
        "from statsmodels.formula.api import ols\n",
        "\n",
        "# Load tips dataset\n",
        "# The original URL was invalid. Use seaborn's built-in dataset instead.\n",
        "tips = sm.datasets.get_rdataset(\"tips\", \"reshape2\").data\n",
        "\n",
        "# Alternatively, if you have the tips.csv file locally:\n",
        "# tips = pd.read_csv(\"path/to/tips.csv\")\n",
        "\n",
        "# Fit simple linear regression model using scikit-learn\n",
        "X = tips['total_bill'].values.reshape(-1, 1)\n",
        "y = tips['tip'].values.reshape(-1, 1)\n",
        "model = LinearRegression()\n",
        "model.fit(X, y)\n",
        "\n",
        "# Print slope and intercept\n",
        "print(\"Slope:\", model.coef_[0][0])\n",
        "print(\"Intercept:\", model.intercept_[0])\n",
        "\n",
        "# Fit simple linear regression model using statsmodels\n",
        "model = ols('tip ~ total_bill', data=tips).fit()\n",
        "\n",
        "# Print slope and intercept\n",
        "print(\"Slope:\", model.params['total_bill'])\n",
        "print(\"Intercept:\", model.params['Intercept'])\n"
      ],
      "metadata": {
        "colab": {
          "base_uri": "https://localhost:8080/"
        },
        "id": "-M0j3x6T-iyi",
        "outputId": "9131fdd5-53b3-4b3f-85a3-f2cf21107e26"
      },
      "execution_count": null,
      "outputs": [
        {
          "output_type": "stream",
          "name": "stdout",
          "text": [
            "Slope: 0.10502451738435337\n",
            "Intercept: 0.9202696135546731\n",
            "Slope: 0.1050245173843534\n",
            "Intercept: 0.9202696135546726\n"
          ]
        }
      ]
    },
    {
      "cell_type": "markdown",
      "source": [
        "Q7. Write a Python script that fits a linear regression model to a synthetic dataset with one feature. Use the model to predict new values and plot the data points along with the regression line."
      ],
      "metadata": {
        "id": "igfaL4oj-nsV"
      }
    },
    {
      "cell_type": "code",
      "source": [
        "# Import necessary libraries\n",
        "import numpy as np\n",
        "import matplotlib.pyplot as plt\n",
        "from sklearn.linear_model import LinearRegression\n",
        "\n",
        "# Generate synthetic dataset\n",
        "np.random.seed(0)\n",
        "X = np.random.rand(100, 1)\n",
        "y = 3 + 2 * X + np.random.randn(100, 1)\n",
        "\n",
        "# Fit linear regression model\n",
        "model = LinearRegression()\n",
        "model.fit(X, y)\n",
        "\n",
        "# Predict new values\n",
        "X_new = np.linspace(0, 1, 100).reshape(-1, 1)\n",
        "y_new = model.predict(X_new)\n",
        "\n",
        "# Plot data points and regression line\n",
        "plt.scatter(X, y, label='Data points')\n",
        "plt.plot(X_new, y_new, label='Regression line', color='red')\n",
        "plt.xlabel('Feature')\n",
        "plt.ylabel('Target')\n",
        "plt.title('Linear Regression')\n",
        "plt.legend()\n",
        "plt.show()\n",
        "\n",
        "# Print coefficients\n",
        "print('Intercept:', model.intercept_)\n",
        "print('Slope:', model.coef_)\n",
        "\n"
      ],
      "metadata": {
        "colab": {
          "base_uri": "https://localhost:8080/",
          "height": 507
        },
        "id": "q95Hzra2-lxP",
        "outputId": "bed8aebb-edd8-4cb3-dac5-712ae38704a5"
      },
      "execution_count": null,
      "outputs": [
        {
          "output_type": "display_data",
          "data": {
            "text/plain": [
              "<Figure size 640x480 with 1 Axes>"
            ],
            "image/png": "[encoded data removed]"
          },
          "metadata": {}
        },
        {
          "output_type": "stream",
          "name": "stdout",
          "text": [
            "Intercept: [3.22215108]\n",
            "Slope: [[1.93693502]]\n"
          ]
        }
      ]
    },
    {
      "cell_type": "markdown",
      "source": [
        "Q8. Write a Python script that pickles a trained linear regression model and saves it to a file."
      ],
      "metadata": {
        "id": "Ak74qb-Q-vVv"
      }
    },
    {
      "cell_type": "code",
      "source": [
        "# Import necessary libraries\n",
        "import pickle\n",
        "from sklearn.linear_model import LinearRegression\n",
        "from sklearn.datasets import fetch_california_housing  # Changed import\n",
        "from sklearn.model_selection import train_test_split\n",
        "\n",
        "# Load California Housing dataset\n",
        "housing = fetch_california_housing()  # Changed to fetch_california_housing\n",
        "X = housing.data\n",
        "y = housing.target\n",
        "\n",
        "# Split data into training and testing sets\n",
        "X_train, X_test, y_train, y_test = train_test_split(X, y, test_size=0.2, random_state=42)\n",
        "\n",
        "# Create and train linear regression model\n",
        "model = LinearRegression()\n",
        "model.fit(X_train, y_train)\n",
        "\n",
        "# Pickle the trained model\n",
        "with open('linear_regression_model.pkl', 'wb') as file:\n",
        "    pickle.dump(model, file)\n",
        "\n",
        "print(\"Model saved to linear_regression_model.pkl\")\n"
      ],
      "metadata": {
        "colab": {
          "base_uri": "https://localhost:8080/"
        },
        "id": "dyX3dLDj-uAr",
        "outputId": "65d2b4e7-ba2e-459c-ea86-410e2d4d7248"
      },
      "execution_count": null,
      "outputs": [
        {
          "output_type": "stream",
          "name": "stdout",
          "text": [
            "Model saved to linear_regression_model.pkl\n"
          ]
        }
      ]
    },
    {
      "cell_type": "markdown",
      "source": [
        "Q9. Write a Python script that fits a polynomial regression model (degree 2) to a dataset and plots the regression curve."
      ],
      "metadata": {
        "id": "WJ0QYdOo-1px"
      }
    },
    {
      "cell_type": "code",
      "source": [
        "# Import necessary libraries\n",
        "import numpy as np\n",
        "import matplotlib.pyplot as plt\n",
        "from sklearn.preprocessing import PolynomialFeatures\n",
        "from sklearn.linear_model import LinearRegression\n",
        "from sklearn.pipeline import make_pipeline\n",
        "\n",
        "# Generate sample dataset\n",
        "np.random.seed(0)\n",
        "X = np.random.rand(100, 1)\n",
        "y = 3 + 2 * X + 0.5 * X**2 + np.random.randn(100, 1)\n",
        "\n",
        "# Create polynomial regression model (degree 2)\n",
        "model = make_pipeline(PolynomialFeatures(degree=2), LinearRegression())\n",
        "\n",
        "# Fit model to data\n",
        "model.fit(X, y)\n",
        "\n",
        "# Predict values for plotting\n",
        "X_plot = np.linspace(0, 1, 1000).reshape(-1, 1)\n",
        "y_plot = model.predict(X_plot)\n",
        "\n",
        "# Plot data points and regression curve\n",
        "plt.scatter(X, y, label='Data points')\n",
        "plt.plot(X_plot, y_plot, label='Regression curve', color='red')\n",
        "plt.xlabel('Feature')\n",
        "plt.ylabel('Target')\n",
        "plt.title('Polynomial Regression (Degree 2)')\n",
        "plt.legend()\n",
        "plt.show()\n",
        "\n",
        "# Print coefficients\n",
        "print('Intercept:', model.named_steps['linearregression'].intercept_)\n",
        "print('Coefficients:', model.named_steps['linearregression'].coef_)\n",
        "\n"
      ],
      "metadata": {
        "colab": {
          "base_uri": "https://localhost:8080/",
          "height": 507
        },
        "id": "xlFHx0Vb-037",
        "outputId": "c23072d2-1c74-4dc9-ef5e-ee9eb5c88b5a"
      },
      "execution_count": null,
      "outputs": [
        {
          "output_type": "display_data",
          "data": {
            "text/plain": [
              "<Figure size 640x480 with 1 Axes>"
            ],
            "image/png": "[encoded data removed]"
          },
          "metadata": {}
        },
        {
          "output_type": "stream",
          "name": "stdout",
          "text": [
            "Intercept: [2.95139826]\n",
            "Coefficients: [[ 0.          3.68201685 -1.30762372]]\n"
          ]
        }
      ]
    },
    {
      "cell_type": "markdown",
      "source": [
        "Q10. Generate synthetic data for simple linear regression (use random values for X and y) and fit a linear regression model to the data. Print the model's coefficient and intercept."
      ],
      "metadata": {
        "id": "XRfWFKRy_Elq"
      }
    },
    {
      "cell_type": "code",
      "source": [
        "# Import necessary libraries\n",
        "import numpy as np\n",
        "from sklearn.linear_model import LinearRegression\n",
        "\n",
        "# Generate synthetic data\n",
        "np.random.seed(0)\n",
        "X = np.random.rand(100, 1)  # Random X values\n",
        "y = 3 + 2 * X + np.random.randn(100, 1)  # y = 3 + 2X + ε\n",
        "\n",
        "# Fit linear regression model\n",
        "model = LinearRegression()\n",
        "model.fit(X, y)\n",
        "\n",
        "# Print model coefficients\n",
        "print(\"Coefficient:\", model.coef_)\n",
        "print(\"Intercept:\", model.intercept_)\n",
        "\n",
        "# Print model summary\n",
        "print(\"Model Equation: y = {:.2f} + {:.2f}X\".format(model.intercept_[0], model.coef_[0][0]))\n"
      ],
      "metadata": {
        "colab": {
          "base_uri": "https://localhost:8080/"
        },
        "id": "HNTkW-dw-917",
        "outputId": "dc60b43c-3497-471d-afd9-170905882dab"
      },
      "execution_count": null,
      "outputs": [
        {
          "output_type": "stream",
          "name": "stdout",
          "text": [
            "Coefficient: [[1.93693502]]\n",
            "Intercept: [3.22215108]\n",
            "Model Equation: y = 3.22 + 1.94X\n"
          ]
        }
      ]
    },
    {
      "cell_type": "markdown",
      "source": [
        "Q11. Write a Python script that fits a polynomial regression model (degree 3) to a synthetic non-linear dataset and plots the curve."
      ],
      "metadata": {
        "id": "_74_p0RP_K5c"
      }
    },
    {
      "cell_type": "code",
      "source": [
        "# Import necessary libraries\n",
        "import numpy as np\n",
        "import matplotlib.pyplot as plt\n",
        "from sklearn.preprocessing import PolynomialFeatures\n",
        "from sklearn.linear_model import LinearRegression\n",
        "from sklearn.pipeline import make_pipeline\n",
        "\n",
        "# Generate synthetic non-linear dataset\n",
        "np.random.seed(0)\n",
        "X = np.random.rand(100, 1)  # Random X values\n",
        "y = 3 + 2 * X**2 - X**3 + np.random.randn(100, 1)  # y = 3 + 2X^2 - X^3 + ε\n",
        "\n",
        "# Create polynomial regression model (degree 3)\n",
        "model = make_pipeline(PolynomialFeatures(degree=3), LinearRegression())\n",
        "\n",
        "# Fit model to data\n",
        "model.fit(X, y)\n",
        "\n",
        "# Predict values for plotting\n",
        "X_plot = np.linspace(0, 1, 1000).reshape(-1, 1)\n",
        "y_plot = model.predict(X_plot)\n",
        "\n",
        "# Plot data points and regression curve\n",
        "plt.scatter(X, y, label='Data points')\n",
        "plt.plot(X_plot, y_plot, label='Regression curve', color='red')\n",
        "plt.xlabel('Feature')\n",
        "plt.ylabel('Target')\n",
        "plt.title('Polynomial Regression (Degree 3)')\n",
        "plt.legend()\n",
        "plt.show()\n",
        "\n",
        "# Print coefficients\n",
        "print('Intercept:', model.named_steps['linearregression'].intercept_)\n",
        "print('Coefficients:', model.named_steps['linearregression'].coef_)\n",
        "\n"
      ],
      "metadata": {
        "colab": {
          "base_uri": "https://localhost:8080/",
          "height": 507
        },
        "id": "7SXx8ta3_J0C",
        "outputId": "3bcdf30a-5110-412f-d83a-ecdf65bb5c72"
      },
      "execution_count": null,
      "outputs": [
        {
          "output_type": "display_data",
          "data": {
            "text/plain": [
              "<Figure size 640x480 with 1 Axes>"
            ],
            "image/png": "[encoded data removed]"
          },
          "metadata": {}
        },
        {
          "output_type": "stream",
          "name": "stdout",
          "text": [
            "Intercept: [2.8231149]\n",
            "Coefficients: [[ 0.          3.27279611 -3.76276629  1.61526969]]\n"
          ]
        }
      ]
    },
    {
      "cell_type": "markdown",
      "source": [
        "Q12. Write a Python script that fits a simple linear regression model with two features and prints the model's coefficients, intercept, and R-squared score."
      ],
      "metadata": {
        "id": "iEqZ5rf2_Tim"
      }
    },
    {
      "cell_type": "code",
      "source": [
        "# Import necessary libraries\n",
        "import numpy as np\n",
        "from sklearn.linear_model import LinearRegression\n",
        "from sklearn.metrics import r2_score\n",
        "\n",
        "# Generate synthetic dataset\n",
        "np.random.seed(0)\n",
        "X1 = np.random.rand(100)  # Random feature 1\n",
        "X2 = np.random.rand(100)  # Random feature 2\n",
        "y = 3 + 2 * X1 + 4 * X2 + np.random.randn(100)  # y = 3 + 2X1 + 4X2 + ε\n",
        "\n",
        "# Create and fit linear regression model\n",
        "X = np.column_stack((X1, X2))  # Combine features\n",
        "model = LinearRegression()\n",
        "model.fit(X, y)\n",
        "\n",
        "# Print model coefficients\n",
        "print(\"Coefficients:\", model.coef_)\n",
        "print(\"Intercept:\", model.intercept_)\n",
        "\n",
        "# Predict values for R-squared calculation\n",
        "y_pred = model.predict(X)\n",
        "\n",
        "# Calculate and print R-squared score\n",
        "r2 = r2_score(y, y_pred)\n",
        "print(\"R-squared score:\", r2)\n",
        "\n",
        "# Print model equation\n",
        "print(\"Model Equation: y = {:.2f} + {:.2f}X1 + {:.2f}X2\".format(model.intercept_, model.coef_[0], model.coef_[1]))\n",
        "\n"
      ],
      "metadata": {
        "colab": {
          "base_uri": "https://localhost:8080/"
        },
        "id": "2_GLsFgX_Rc6",
        "outputId": "02ea9926-1305-4b62-a088-7323fb0d8323"
      },
      "execution_count": null,
      "outputs": [
        {
          "output_type": "stream",
          "name": "stdout",
          "text": [
            "Coefficients: [1.44835445 3.74115323]\n",
            "Intercept: 3.3073053067971516\n",
            "R-squared score: 0.5884074831061643\n",
            "Model Equation: y = 3.31 + 1.45X1 + 3.74X2\n"
          ]
        }
      ]
    },
    {
      "cell_type": "markdown",
      "source": [
        "Q13. Write a Python script that generates a synthetic dataset, fits a linear regression model, and calculates the Mean Squared Error (MSE), Mean Absolute Error (MAE), and Root Mean Squared Error (RMSE)."
      ],
      "metadata": {
        "id": "xaCvuHla_cBj"
      }
    },
    {
      "cell_type": "code",
      "source": [
        "# Import necessary libraries\n",
        "import numpy as np\n",
        "from sklearn.linear_model import LinearRegression\n",
        "from sklearn.metrics import mean_squared_error, mean_absolute_error\n",
        "\n",
        "# Generate synthetic dataset\n",
        "np.random.seed(0)\n",
        "X = np.random.rand(100, 1)  # Random feature\n",
        "y = 3 + 2 * X + np.random.randn(100, 1)  # y = 3 + 2X + ε\n",
        "\n",
        "# Split data into training and testing sets\n",
        "X_train, X_test = X[:80], X[80:]\n",
        "y_train, y_test = y[:80], y[80:]\n",
        "\n",
        "# Create and fit linear regression model\n",
        "model = LinearRegression()\n",
        "model.fit(X_train, y_train)\n",
        "\n",
        "# Make predictions on testing set\n",
        "y_pred = model.predict(X_test)\n",
        "\n",
        "# Calculate Mean Squared Error (MSE)\n",
        "mse = mean_squared_error(y_test, y_pred)\n",
        "print(\"Mean Squared Error (MSE):\", mse)\n",
        "\n",
        "# Calculate Mean Absolute Error (MAE)\n",
        "mae = mean_absolute_error(y_test, y_pred)\n",
        "print(\"Mean Absolute Error (MAE):\", mae)\n",
        "\n",
        "# Calculate Root Mean Squared Error (RMSE)\n",
        "rmse = np.sqrt(mse)\n",
        "print(\"Root Mean Squared Error (RMSE):\", rmse)\n"
      ],
      "metadata": {
        "colab": {
          "base_uri": "https://localhost:8080/"
        },
        "id": "hQKDHVn9_aa5",
        "outputId": "c4929686-1212-4010-e953-82b0b14d22e6"
      },
      "execution_count": null,
      "outputs": [
        {
          "output_type": "stream",
          "name": "stdout",
          "text": [
            "Mean Squared Error (MSE): 0.9000820622604015\n",
            "Mean Absolute Error (MAE): 0.8135806021737\n",
            "Root Mean Squared Error (RMSE): 0.9487265476734598\n"
          ]
        }
      ]
    },
    {
      "cell_type": "markdown",
      "source": [
        "Q14. Write a Python script that uses the Variance Inflation Factor (VIF) to check for multicollinearity in a dataset with multiple features."
      ],
      "metadata": {
        "id": "bGhuJ8fU_ned"
      }
    },
    {
      "cell_type": "code",
      "source": [
        "# prompt: Write a Python script that uses the Variance Inflation Factor (VIF) to check for multicollinearity in a\n",
        "# dataset with multiple features.\n",
        "\n",
        "import pandas as pd\n",
        "from statsmodels.stats.outliers_influence import variance_inflation_factor\n",
        "\n",
        "def calculate_vif(X):\n",
        "    \"\"\"Calculates the Variance Inflation Factor (VIF) for each feature in a dataset.\n",
        "\n",
        "    Args:\n",
        "        X: A pandas DataFrame containing the features.\n",
        "\n",
        "    Returns:\n",
        "        A pandas DataFrame with the VIF for each feature.\n",
        "    \"\"\"\n",
        "    vif_data = pd.DataFrame()\n",
        "    vif_data[\"feature\"] = X.columns\n",
        "    vif_data[\"VIF\"] = [variance_inflation_factor(X.values, i) for i in range(len(X.columns))]\n",
        "    return vif_data\n",
        "\n",
        "\n",
        "# Example usage (using the provided DataFrame 'df'):\n",
        "# Create a DataFrame with 'x1' and 'x2' columns from the existing arrays\n",
        "new_df = pd.DataFrame({'x1': x1, 'x2': x2})\n",
        "vif_values = calculate_vif(new_df[['x1', 'x2']]) # Calculate VIF for the new DataFrame\n",
        "vif_values\n",
        "\n"
      ],
      "metadata": {
        "colab": {
          "base_uri": "https://localhost:8080/",
          "height": 125
        },
        "id": "rX9ITpxj_lvv",
        "outputId": "5d9ea672-eb85-4677-82dd-45ce8b7c5ba8"
      },
      "execution_count": null,
      "outputs": [
        {
          "output_type": "execute_result",
          "data": {
            "text/plain": [
              "  feature       VIF\n",
              "0      x1  1.013607\n",
              "1      x2  1.013607"
            ],
            "text/html": [
              "\n",
              "  <div id=\"df-5378f634-475f-40b4-8f67-8fcbccaa1e30\" class=\"colab-df-container\">\n",
              "    <div>\n",
              "<style scoped>\n",
              "    .dataframe tbody tr th:only-of-type {\n",
              "        vertical-align: middle;\n",
              "    }\n",
              "\n",
              "    .dataframe tbody tr th {\n",
              "        vertical-align: top;\n",
              "    }\n",
              "\n",
              "    .dataframe thead th {\n",
              "        text-align: right;\n",
              "    }\n",
              "</style>\n",
              "<table border=\"1\" class=\"dataframe\">\n",
              "  <thead>\n",
              "    <tr style=\"text-align: right;\">\n",
              "      <th></th>\n",
              "      <th>feature</th>\n",
              "      <th>VIF</th>\n",
              "    </tr>\n",
              "  </thead>\n",
              "  <tbody>\n",
              "    <tr>\n",
              "      <th>0</th>\n",
              "      <td>x1</td>\n",
              "      <td>1.013607</td>\n",
              "    </tr>\n",
              "    <tr>\n",
              "      <th>1</th>\n",
              "      <td>x2</td>\n",
              "      <td>1.013607</td>\n",
              "    </tr>\n",
              "  </tbody>\n",
              "</table>\n",
              "</div>\n",
              "    <div class=\"colab-df-buttons\">\n",
              "\n",
              "  <div class=\"colab-df-container\">\n",
              "    <button class=\"colab-df-convert\" onclick=\"convertToInteractive('df-5378f634-475f-40b4-8f67-8fcbccaa1e30')\"\n",
              "            title=\"Convert this dataframe to an interactive table.\"\n",
              "            style=\"display:none;\">\n",
              "\n",
              "  <svg xmlns=\"http://www.w3.org/2000/svg\" height=\"24px\" viewBox=\"0 -960 960 960\">\n",
              "    <path d=\"M120-120v-720h720v720H120Zm60-500h600v-160H180v160Zm220 220h160v-160H400v160Zm0 220h160v-160H400v160ZM180-400h160v-160H180v160Zm440 0h160v-160H620v160ZM180-180h160v-160H180v160Zm440 0h160v-160H620v160Z\"/>\n",
              "  </svg>\n",
              "    </button>\n",
              "\n",
              "  <style>\n",
              "    .colab-df-container {\n",
              "      display:flex;\n",
              "      gap: 12px;\n",
              "    }\n",
              "\n",
              "    .colab-df-convert {\n",
              "      background-color: #E8F0FE;\n",
              "      border: none;\n",
              "      border-radius: 50%;\n",
              "      cursor: pointer;\n",
              "      display: none;\n",
              "      fill: #1967D2;\n",
              "      height: 32px;\n",
              "      padding: 0 0 0 0;\n",
              "      width: 32px;\n",
              "    }\n",
              "\n",
              "    .colab-df-convert:hover {\n",
              "      background-color: #E2EBFA;\n",
              "      box-shadow: 0px 1px 2px rgba(60, 64, 67, 0.3), 0px 1px 3px 1px rgba(60, 64, 67, 0.15);\n",
              "      fill: #174EA6;\n",
              "    }\n",
              "\n",
              "    .colab-df-buttons div {\n",
              "      margin-bottom: 4px;\n",
              "    }\n",
              "\n",
              "    [theme=dark] .colab-df-convert {\n",
              "      background-color: #3B4455;\n",
              "      fill: #D2E3FC;\n",
              "    }\n",
              "\n",
              "    [theme=dark] .colab-df-convert:hover {\n",
              "      background-color: #434B5C;\n",
              "      box-shadow: 0px 1px 3px 1px rgba(0, 0, 0, 0.15);\n",
              "      filter: drop-shadow(0px 1px 2px rgba(0, 0, 0, 0.3));\n",
              "      fill: #FFFFFF;\n",
              "    }\n",
              "  </style>\n",
              "\n",
              "    <script>\n",
              "      const buttonEl =\n",
              "        document.querySelector('#df-5378f634-475f-40b4-8f67-8fcbccaa1e30 button.colab-df-convert');\n",
              "      buttonEl.style.display =\n",
              "        google.colab.kernel.accessAllowed ? 'block' : 'none';\n",
              "\n",
              "      async function convertToInteractive(key) {\n",
              "        const element = document.querySelector('#df-5378f634-475f-40b4-8f67-8fcbccaa1e30');\n",
              "        const dataTable =\n",
              "          await google.colab.kernel.invokeFunction('convertToInteractive',\n",
              "                                                    [key], {});\n",
              "        if (!dataTable) return;\n",
              "\n",
              "        const docLinkHtml = 'Like what you see? Visit the ' +\n",
              "          '<a target=\"_blank\" href=https://colab.research.google.com/notebooks/data_table.ipynb>data table notebook</a>'\n",
              "          + ' to learn more about interactive tables.';\n",
              "        element.innerHTML = '';\n",
              "        dataTable['output_type'] = 'display_data';\n",
              "        await google.colab.output.renderOutput(dataTable, element);\n",
              "        const docLink = document.createElement('div');\n",
              "        docLink.innerHTML = docLinkHtml;\n",
              "        element.appendChild(docLink);\n",
              "      }\n",
              "    </script>\n",
              "  </div>\n",
              "\n",
              "\n",
              "<div id=\"df-52c4b651-a64c-488d-8128-2b1f95ccaf22\">\n",
              "  <button class=\"colab-df-quickchart\" onclick=\"quickchart('df-52c4b651-a64c-488d-8128-2b1f95ccaf22')\"\n",
              "            title=\"Suggest charts\"\n",
              "            style=\"display:none;\">\n",
              "\n",
              "<svg xmlns=\"http://www.w3.org/2000/svg\" height=\"24px\"viewBox=\"0 0 24 24\"\n",
              "     width=\"24px\">\n",
              "    <g>\n",
              "        <path d=\"M19 3H5c-1.1 0-2 .9-2 2v14c0 1.1.9 2 2 2h14c1.1 0 2-.9 2-2V5c0-1.1-.9-2-2-2zM9 17H7v-7h2v7zm4 0h-2V7h2v10zm4 0h-2v-4h2v4z\"/>\n",
              "    </g>\n",
              "</svg>\n",
              "  </button>\n",
              "\n",
              "<style>\n",
              "  .colab-df-quickchart {\n",
              "      --bg-color: #E8F0FE;\n",
              "      --fill-color: #1967D2;\n",
              "      --hover-bg-color: #E2EBFA;\n",
              "      --hover-fill-color: #174EA6;\n",
              "      --disabled-fill-color: #AAA;\n",
              "      --disabled-bg-color: #DDD;\n",
              "  }\n",
              "\n",
              "  [theme=dark] .colab-df-quickchart {\n",
              "      --bg-color: #3B4455;\n",
              "      --fill-color: #D2E3FC;\n",
              "      --hover-bg-color: #434B5C;\n",
              "      --hover-fill-color: #FFFFFF;\n",
              "      --disabled-bg-color: #3B4455;\n",
              "      --disabled-fill-color: #666;\n",
              "  }\n",
              "\n",
              "  .colab-df-quickchart {\n",
              "    background-color: var(--bg-color);\n",
              "    border: none;\n",
              "    border-radius: 50%;\n",
              "    cursor: pointer;\n",
              "    display: none;\n",
              "    fill: var(--fill-color);\n",
              "    height: 32px;\n",
              "    padding: 0;\n",
              "    width: 32px;\n",
              "  }\n",
              "\n",
              "  .colab-df-quickchart:hover {\n",
              "    background-color: var(--hover-bg-color);\n",
              "    box-shadow: 0 1px 2px rgba(60, 64, 67, 0.3), 0 1px 3px 1px rgba(60, 64, 67, 0.15);\n",
              "    fill: var(--button-hover-fill-color);\n",
              "  }\n",
              "\n",
              "  .colab-df-quickchart-complete:disabled,\n",
              "  .colab-df-quickchart-complete:disabled:hover {\n",
              "    background-color: var(--disabled-bg-color);\n",
              "    fill: var(--disabled-fill-color);\n",
              "    box-shadow: none;\n",
              "  }\n",
              "\n",
              "  .colab-df-spinner {\n",
              "    border: 2px solid var(--fill-color);\n",
              "    border-color: transparent;\n",
              "    border-bottom-color: var(--fill-color);\n",
              "    animation:\n",
              "      spin 1s steps(1) infinite;\n",
              "  }\n",
              "\n",
              "  @keyframes spin {\n",
              "    0% {\n",
              "      border-color: transparent;\n",
              "      border-bottom-color: var(--fill-color);\n",
              "      border-left-color: var(--fill-color);\n",
              "    }\n",
              "    20% {\n",
              "      border-color: transparent;\n",
              "      border-left-color: var(--fill-color);\n",
              "      border-top-color: var(--fill-color);\n",
              "    }\n",
              "    30% {\n",
              "      border-color: transparent;\n",
              "      border-left-color: var(--fill-color);\n",
              "      border-top-color: var(--fill-color);\n",
              "      border-right-color: var(--fill-color);\n",
              "    }\n",
              "    40% {\n",
              "      border-color: transparent;\n",
              "      border-right-color: var(--fill-color);\n",
              "      border-top-color: var(--fill-color);\n",
              "    }\n",
              "    60% {\n",
              "      border-color: transparent;\n",
              "      border-right-color: var(--fill-color);\n",
              "    }\n",
              "    80% {\n",
              "      border-color: transparent;\n",
              "      border-right-color: var(--fill-color);\n",
              "      border-bottom-color: var(--fill-color);\n",
              "    }\n",
              "    90% {\n",
              "      border-color: transparent;\n",
              "      border-bottom-color: var(--fill-color);\n",
              "    }\n",
              "  }\n",
              "</style>\n",
              "\n",
              "  <script>\n",
              "    async function quickchart(key) {\n",
              "      const quickchartButtonEl =\n",
              "        document.querySelector('#' + key + ' button');\n",
              "      quickchartButtonEl.disabled = true;  // To prevent multiple clicks.\n",
              "      quickchartButtonEl.classList.add('colab-df-spinner');\n",
              "      try {\n",
              "        const charts = await google.colab.kernel.invokeFunction(\n",
              "            'suggestCharts', [key], {});\n",
              "      } catch (error) {\n",
              "        console.error('Error during call to suggestCharts:', error);\n",
              "      }\n",
              "      quickchartButtonEl.classList.remove('colab-df-spinner');\n",
              "      quickchartButtonEl.classList.add('colab-df-quickchart-complete');\n",
              "    }\n",
              "    (() => {\n",
              "      let quickchartButtonEl =\n",
              "        document.querySelector('#df-52c4b651-a64c-488d-8128-2b1f95ccaf22 button');\n",
              "      quickchartButtonEl.style.display =\n",
              "        google.colab.kernel.accessAllowed ? 'block' : 'none';\n",
              "    })();\n",
              "  </script>\n",
              "</div>\n",
              "\n",
              "  <div id=\"id_e4e9734a-d562-4de9-9a54-2bd1cd8cca34\">\n",
              "    <style>\n",
              "      .colab-df-generate {\n",
              "        background-color: #E8F0FE;\n",
              "        border: none;\n",
              "        border-radius: 50%;\n",
              "        cursor: pointer;\n",
              "        display: none;\n",
              "        fill: #1967D2;\n",
              "        height: 32px;\n",
              "        padding: 0 0 0 0;\n",
              "        width: 32px;\n",
              "      }\n",
              "\n",
              "      .colab-df-generate:hover {\n",
              "        background-color: #E2EBFA;\n",
              "        box-shadow: 0px 1px 2px rgba(60, 64, 67, 0.3), 0px 1px 3px 1px rgba(60, 64, 67, 0.15);\n",
              "        fill: #174EA6;\n",
              "      }\n",
              "\n",
              "      [theme=dark] .colab-df-generate {\n",
              "        background-color: #3B4455;\n",
              "        fill: #D2E3FC;\n",
              "      }\n",
              "\n",
              "      [theme=dark] .colab-df-generate:hover {\n",
              "        background-color: #434B5C;\n",
              "        box-shadow: 0px 1px 3px 1px rgba(0, 0, 0, 0.15);\n",
              "        filter: drop-shadow(0px 1px 2px rgba(0, 0, 0, 0.3));\n",
              "        fill: #FFFFFF;\n",
              "      }\n",
              "    </style>\n",
              "    <button class=\"colab-df-generate\" onclick=\"generateWithVariable('vif_values')\"\n",
              "            title=\"Generate code using this dataframe.\"\n",
              "            style=\"display:none;\">\n",
              "\n",
              "  <svg xmlns=\"http://www.w3.org/2000/svg\" height=\"24px\"viewBox=\"0 0 24 24\"\n",
              "       width=\"24px\">\n",
              "    <path d=\"M7,19H8.4L18.45,9,17,7.55,7,17.6ZM5,21V16.75L18.45,3.32a2,2,0,0,1,2.83,0l1.4,1.43a1.91,1.91,0,0,1,.58,1.4,1.91,1.91,0,0,1-.58,1.4L9.25,21ZM18.45,9,17,7.55Zm-12,3A5.31,5.31,0,0,0,4.9,8.1,5.31,5.31,0,0,0,1,6.5,5.31,5.31,0,0,0,4.9,4.9,5.31,5.31,0,0,0,6.5,1,5.31,5.31,0,0,0,8.1,4.9,5.31,5.31,0,0,0,12,6.5,5.46,5.46,0,0,0,6.5,12Z\"/>\n",
              "  </svg>\n",
              "    </button>\n",
              "    <script>\n",
              "      (() => {\n",
              "      const buttonEl =\n",
              "        document.querySelector('#id_e4e9734a-d562-4de9-9a54-2bd1cd8cca34 button.colab-df-generate');\n",
              "      buttonEl.style.display =\n",
              "        google.colab.kernel.accessAllowed ? 'block' : 'none';\n",
              "\n",
              "      buttonEl.onclick = () => {\n",
              "        google.colab.notebook.generateWithVariable('vif_values');\n",
              "      }\n",
              "      })();\n",
              "    </script>\n",
              "  </div>\n",
              "\n",
              "    </div>\n",
              "  </div>\n"
            ],
            "application/vnd.google.colaboratory.intrinsic+json": {
              "type": "dataframe",
              "variable_name": "vif_values",
              "summary": "{\n  \"name\": \"vif_values\",\n  \"rows\": 2,\n  \"fields\": [\n    {\n      \"column\": \"feature\",\n      \"properties\": {\n        \"dtype\": \"string\",\n        \"num_unique_values\": 2,\n        \"samples\": [\n          \"x2\",\n          \"x1\"\n        ],\n        \"semantic_type\": \"\",\n        \"description\": \"\"\n      }\n    },\n    {\n      \"column\": \"VIF\",\n      \"properties\": {\n        \"dtype\": \"number\",\n        \"std\": 0.0,\n        \"min\": 1.0136073584567216,\n        \"max\": 1.0136073584567216,\n        \"num_unique_values\": 1,\n        \"samples\": [\n          1.0136073584567216\n        ],\n        \"semantic_type\": \"\",\n        \"description\": \"\"\n      }\n    }\n  ]\n}"
            }
          },
          "metadata": {},
          "execution_count": 36
        }
      ]
    },
    {
      "cell_type": "markdown",
      "source": [
        "Q15. Write a Python script that generates synthetic data for a polynomial relationship (degree 4), fits a polynomial regression model, and plots the regression curve."
      ],
      "metadata": {
        "id": "-jSLXBPX_5H5"
      }
    },
    {
      "cell_type": "code",
      "source": [
        "# Import necessary libraries\n",
        "import numpy as np\n",
        "import matplotlib.pyplot as plt\n",
        "from sklearn.preprocessing import PolynomialFeatures\n",
        "from sklearn.linear_model import LinearRegression\n",
        "from sklearn.pipeline import make_pipeline\n",
        "\n",
        "# Generate synthetic data for polynomial relationship (degree 4)\n",
        "np.random.seed(0)\n",
        "X = np.random.rand(100, 1)  # Random feature\n",
        "y = 3 + 2 * X + 4 * X**2 - 5 * X**3 + 6 * X**4 + np.random.randn(100, 1)  # y = 3 + 2X + 4X^2 - 5X^3 + 6X^4 + ε\n",
        "\n",
        "# Create polynomial regression model (degree 4)\n",
        "model = make_pipeline(PolynomialFeatures(degree=4), LinearRegression())\n",
        "\n",
        "# Fit model to data\n",
        "model.fit(X, y)\n",
        "\n",
        "# Predict values for plotting\n",
        "X_plot = np.linspace(0, 1, 1000).reshape(-1, 1)\n",
        "y_plot = model.predict(X_plot)\n",
        "\n",
        "# Plot data points and regression curve\n",
        "plt.scatter(X, y, label='Data points')\n",
        "plt.plot(X_plot, y_plot, label='Regression curve', color='red')\n",
        "plt.xlabel('Feature')\n",
        "plt.ylabel('Target')\n",
        "plt.title('Polynomial Regression (Degree 4)')\n",
        "plt.legend()\n",
        "plt.show()\n",
        "\n",
        "# Print coefficients\n",
        "print('Intercept:', model.named_steps['linearregression'].intercept_)\n",
        "print('Coefficients:', model.named_steps['linearregression'].coef_)\n",
        "\n",
        "# Print model equation\n",
        "coeffs = model.named_steps['linearregression'].coef_[0].tolist() + [model.named_steps['linearregression'].intercept_[0]]\n",
        "print(\"Model Equation: y = {:.2f} + {:.2f}X + {:.2f}X^2 + {:.2f}X^3 + {:.2f}X^4\".format(coeffs[1], coeffs[2], coeffs[3], coeffs[4], coeffs[5]))\n",
        "\n"
      ],
      "metadata": {
        "colab": {
          "base_uri": "https://localhost:8080/",
          "height": 524
        },
        "id": "TxLnI6rn_wDW",
        "outputId": "40200be8-37bc-4793-fa52-296c64ff9291"
      },
      "execution_count": null,
      "outputs": [
        {
          "output_type": "display_data",
          "data": {
            "text/plain": [
              "<Figure size 640x480 with 1 Axes>"
            ],
            "image/png": "[encoded data removed]"
          },
          "metadata": {}
        },
        {
          "output_type": "stream",
          "name": "stdout",
          "text": [
            "Intercept: [2.88354598]\n",
            "Coefficients: [[  0.           4.08235371   3.63415939 -10.85740966  10.26268063]]\n",
            "Model Equation: y = 4.08 + 3.63X + -10.86X^2 + 10.26X^3 + 2.88X^4\n"
          ]
        }
      ]
    },
    {
      "cell_type": "markdown",
      "source": [
        "Q16. Write a Python script that creates a machine learning pipeline with data standardization and a multiple linear regression model, and prints the R-squared score."
      ],
      "metadata": {
        "id": "ewRZ0TUtAEWd"
      }
    },
    {
      "cell_type": "code",
      "source": [
        "# Import necessary libraries\n",
        "import numpy as np\n",
        "from sklearn.pipeline import Pipeline\n",
        "from sklearn.preprocessing import StandardScaler\n",
        "from sklearn.linear_model import LinearRegression\n",
        "#from sklearn.datasets import load_boston # Removed the problematic import\n",
        "from sklearn.model_selection import train_test_split\n",
        "from sklearn.metrics import r2_score\n",
        "from sklearn.datasets import fetch_california_housing # Import for California housing dataset\n",
        "\n",
        "# Load California Housing dataset instead of Boston Housing\n",
        "housing = fetch_california_housing()\n",
        "X = housing.data\n",
        "y = housing.target\n",
        "\n",
        "# Split data into training and testing sets\n",
        "X_train, X_test, y_train, y_test = train_test_split(X, y, test_size=0.2, random_state=42)\n",
        "\n",
        "# Create machine learning pipeline\n",
        "pipe = Pipeline([\n",
        "    ('std', StandardScaler()),  # Data standardization\n",
        "    ('mlr', LinearRegression())  # Multiple linear regression\n",
        "])\n",
        "\n",
        "# Fit pipeline to training data\n",
        "pipe.fit(X_train, y_train)\n",
        "\n",
        "# Make predictions on testing data\n",
        "y_pred = pipe.predict(X_test)\n",
        "\n",
        "# Calculate and print R-squared score\n",
        "r2 = r2_score(y_test, y_pred)\n",
        "print(\"R-squared score:\", r2)\n",
        "\n",
        "# Print coefficients and intercept\n",
        "print(\"Coefficients:\", pipe.named_steps['mlr'].coef_)\n",
        "print(\"Intercept:\", pipe.named_steps['mlr'].intercept_)\n"
      ],
      "metadata": {
        "colab": {
          "base_uri": "https://localhost:8080/"
        },
        "id": "Itv5wKZqACLf",
        "outputId": "64124b5f-446b-4de6-b5ba-f201c9891434"
      },
      "execution_count": null,
      "outputs": [
        {
          "output_type": "stream",
          "name": "stdout",
          "text": [
            "R-squared score: 0.575787706032451\n",
            "Coefficients: [ 0.85438303  0.12254624 -0.29441013  0.33925949 -0.00230772 -0.0408291\n",
            " -0.89692888 -0.86984178]\n",
            "Intercept: 2.071946937378619\n"
          ]
        }
      ]
    },
    {
      "cell_type": "markdown",
      "source": [
        "Q17. Write a Python script that performs polynomial regression (degree 3) on a synthetic dataset and plots the regression curve."
      ],
      "metadata": {
        "id": "KDAbie6eALGp"
      }
    },
    {
      "cell_type": "code",
      "source": [
        "# Import necessary libraries\n",
        "import numpy as np\n",
        "import matplotlib.pyplot as plt\n",
        "from sklearn.preprocessing import PolynomialFeatures\n",
        "from sklearn.linear_model import LinearRegression\n",
        "from sklearn.pipeline import make_pipeline\n",
        "\n",
        "# Generate synthetic dataset\n",
        "np.random.seed(0)\n",
        "X = np.random.rand(100, 1)  # Random feature\n",
        "y = 3 + 2 * X + 4 * X**2 - 5 * X**3 + np.random.randn(100, 1)  # y = 3 + 2X + 4X^2 - 5X^3 + ε\n",
        "\n",
        "# Create polynomial regression model (degree 3)\n",
        "model = make_pipeline(PolynomialFeatures(degree=3), LinearRegression())\n",
        "\n",
        "# Fit model to data\n",
        "model.fit(X, y)\n",
        "\n",
        "# Predict values for plotting\n",
        "X_plot = np.linspace(0, 1, 1000).reshape(-1, 1)\n",
        "y_plot = model.predict(X_plot)\n",
        "\n",
        "# Plot data points and regression curve\n",
        "plt.scatter(X, y, label='Data points')\n",
        "plt.plot(X_plot, y_plot, label='Regression curve', color='red')\n",
        "plt.xlabel('Feature')\n",
        "plt.ylabel('Target')\n",
        "plt.title('Polynomial Regression (Degree 3)')\n",
        "plt.legend()\n",
        "plt.show()\n",
        "\n",
        "# Print coefficients and intercept\n",
        "print('Coefficients:', model.named_steps['linearregression'].coef_)\n",
        "print('Intercept:', model.named_steps['linearregression'].intercept_)\n",
        "\n",
        "# Print model equation\n",
        "coeffs = model.named_steps['linearregression'].coef_[0].tolist() + [model.named_steps['linearregression'].intercept_[0]]\n",
        "print(\"Model Equation: y = {:.2f} + {:.2f}X + {:.2f}X^2 + {:.2f}X^3\".format(coeffs[1], coeffs[2], coeffs[3], coeffs[4]))\n",
        "\n"
      ],
      "metadata": {
        "colab": {
          "base_uri": "https://localhost:8080/",
          "height": 524
        },
        "id": "gW52_MsGAJRR",
        "outputId": "1ba56c06-e8a9-410e-c13d-0352cb7e290e"
      },
      "execution_count": null,
      "outputs": [
        {
          "output_type": "display_data",
          "data": {
            "text/plain": [
              "<Figure size 640x480 with 1 Axes>"
            ],
            "image/png": "[encoded data removed]"
          },
          "metadata": {}
        },
        {
          "output_type": "stream",
          "name": "stdout",
          "text": [
            "Coefficients: [[ 0.          5.27279611 -1.76276629 -2.38473031]]\n",
            "Intercept: [2.8231149]\n",
            "Model Equation: y = 5.27 + -1.76X + -2.38X^2 + 2.82X^3\n"
          ]
        }
      ]
    },
    {
      "cell_type": "markdown",
      "source": [
        "Q18. Write a Python script that performs multiple linear regression on a synthetic dataset with 5 features. Print the R-squared score and model coefficients."
      ],
      "metadata": {
        "id": "7Pxpph_LAT30"
      }
    },
    {
      "cell_type": "code",
      "source": [
        "#Import necessary libraries\n",
        "import numpy as np\n",
        "from sklearn.linear_model import LinearRegression\n",
        "from sklearn.metrics import r2_score\n",
        "\n",
        "# Generate synthetic dataset with 5 features\n",
        "np.random.seed(0)\n",
        "X = np.random.rand(100, 5)  # Random features\n",
        "y = 3 + 2 * X[:, 0] + 4 * X[:, 1] - 5 * X[:, 2] + 6 * X[:, 3] + 7 * X[:, 4] + np.random.randn(100)  # Target variable\n",
        "\n",
        "# Create multiple linear regression model\n",
        "model = LinearRegression()\n",
        "\n",
        "# Fit model to data\n",
        "model.fit(X, y)\n",
        "\n",
        "# Make predictions\n",
        "y_pred = model.predict(X)\n",
        "\n",
        "# Calculate and print R-squared score\n",
        "r2 = r2_score(y, y_pred)\n",
        "print(\"R-squared score:\", r2)\n",
        "\n",
        "# Print model coefficients\n",
        "print(\"Coefficients:\")\n",
        "for i, coef in enumerate(model.coef_):\n",
        "    print(f\"Feature {i+1}: {coef}\")\n",
        "\n",
        "# Print intercept\n",
        "print(\"Intercept:\", model.intercept_)\n",
        "\n",
        "# Print model equation\n",
        "print(\"Model Equation: y = {:.2f} + {:.2f}X1 + {:.2f}X2 + {:.2f}X3 + {:.2f}X4 + {:.2f}X5\".format(model.intercept_, *model.coef_))\n"
      ],
      "metadata": {
        "colab": {
          "base_uri": "https://localhost:8080/"
        },
        "id": "IIV17Td0ARt_",
        "outputId": "941f1789-26e8-4baa-f402-7de1ce81ab49"
      },
      "execution_count": null,
      "outputs": [
        {
          "output_type": "stream",
          "name": "stdout",
          "text": [
            "R-squared score: 0.908962154971889\n",
            "Coefficients:\n",
            "Feature 1: 1.9943207321521481\n",
            "Feature 2: 3.7407280031396652\n",
            "Feature 3: -4.490654564313616\n",
            "Feature 4: 5.998135069617114\n",
            "Feature 5: 6.645639013405458\n",
            "Intercept: 3.0362959820570854\n",
            "Model Equation: y = 3.04 + 1.99X1 + 3.74X2 + -4.49X3 + 6.00X4 + 6.65X5\n"
          ]
        }
      ]
    },
    {
      "cell_type": "markdown",
      "source": [
        "Q19. Write a Python script that generates synthetic data for linear regression, fits a model, and visualizes the data points along with the regression line."
      ],
      "metadata": {
        "id": "kv9qT774Ag3m"
      }
    },
    {
      "cell_type": "code",
      "source": [
        "# Import necessary libraries\n",
        "import numpy as np\n",
        "import matplotlib.pyplot as plt\n",
        "from sklearn.linear_model import LinearRegression\n",
        "\n",
        "# Generate synthetic data for linear regression\n",
        "np.random.seed(0)\n",
        "X = np.random.rand(100, 1)  # Random feature\n",
        "y = 3 + 2 * X + np.random.randn(100, 1)  # y = 3 + 2X + ε\n",
        "\n",
        "# Create and fit linear regression model\n",
        "model = LinearRegression()\n",
        "model.fit(X, y)\n",
        "\n",
        "# Predict values for plotting\n",
        "X_plot = np.linspace(0, 1, 1000).reshape(-1, 1)\n",
        "y_plot = model.predict(X_plot)\n",
        "\n",
        "# Plot data points and regression line\n",
        "plt.scatter(X, y, label='Data points', color='blue', alpha=0.5)\n",
        "plt.plot(X_plot, y_plot, label='Regression line', color='red', linewidth=2)\n",
        "plt.xlabel('Feature')\n",
        "plt.ylabel('Target')\n",
        "plt.title('Linear Regression')\n",
        "plt.legend()\n",
        "plt.show()\n",
        "\n",
        "# Print coefficients and intercept\n",
        "print('Coefficient:', model.coef_)\n",
        "print('Intercept:', model.intercept_)\n",
        "\n",
        "# Print model equation\n",
        "print(\"Model Equation: y = {:.2f} + {:.2f}X\".format(model.intercept_[0], model.coef_[0][0]))\n",
        "\n"
      ],
      "metadata": {
        "colab": {
          "base_uri": "https://localhost:8080/",
          "height": 524
        },
        "id": "G42AqeN8AcYa",
        "outputId": "6a8aac94-f649-4e90-e32c-8fc240f0765b"
      },
      "execution_count": null,
      "outputs": [
        {
          "output_type": "display_data",
          "data": {
            "text/plain": [
              "<Figure size 640x480 with 1 Axes>"
            ],
            "image/png": "[encoded data removed]"
          },
          "metadata": {}
        },
        {
          "output_type": "stream",
          "name": "stdout",
          "text": [
            "Coefficient: [[1.93693502]]\n",
            "Intercept: [3.22215108]\n",
            "Model Equation: y = 3.22 + 1.94X\n"
          ]
        }
      ]
    },
    {
      "cell_type": "markdown",
      "source": [
        "Q20. Create a synthetic dataset with 3 features and perform multiple linear regression. Print the model's R-squared score and coefficients.\n",
        "\n"
      ],
      "metadata": {
        "id": "5F87c7Z4AomO"
      }
    },
    {
      "cell_type": "code",
      "source": [
        "# Import necessary libraries\n",
        "import numpy as np\n",
        "from sklearn.linear_model import LinearRegression\n",
        "from sklearn.metrics import r2_score\n",
        "\n",
        "# Create synthetic dataset with 3 features\n",
        "np.random.seed(0)\n",
        "X = np.random.rand(100, 3)  # Random features\n",
        "y = 3 + 2 * X[:, 0] + 4 * X[:, 1] - 5 * X[:, 2] + np.random.randn(100)  # Target variable\n",
        "\n",
        "# Create and fit multiple linear regression model\n",
        "model = LinearRegression()\n",
        "model.fit(X, y)\n",
        "\n",
        "# Make predictions\n",
        "y_pred = model.predict(X)\n",
        "\n",
        "# Calculate and print R-squared score\n",
        "r2 = r2_score(y, y_pred)\n",
        "print(\"R-squared score:\", r2)\n",
        "\n",
        "# Print coefficients\n",
        "print(\"Coefficients:\")\n",
        "for i, coef in enumerate(model.coef_):\n",
        "    print(f\"Feature {i+1}: {coef}\")\n",
        "\n",
        "# Print intercept\n",
        "print(\"Intercept:\", model.intercept_)\n",
        "\n",
        "# Print model equation\n",
        "print(\"Model Equation: y = {:.2f} + {:.2f}X1 + {:.2f}X2 + {:.2f}X3\".format(model.intercept_, *model.coef_))\n"
      ],
      "metadata": {
        "colab": {
          "base_uri": "https://localhost:8080/"
        },
        "id": "3ONG8C4-AnOm",
        "outputId": "5423083d-274e-4f54-ca4c-5a0d858b3f21"
      },
      "execution_count": null,
      "outputs": [
        {
          "output_type": "stream",
          "name": "stdout",
          "text": [
            "R-squared score: 0.799116523612738\n",
            "Coefficients:\n",
            "Feature 1: 1.591324773900694\n",
            "Feature 2: 3.9799566326961555\n",
            "Feature 3: -4.7467690143819645\n",
            "Intercept: 2.9502139024683545\n",
            "Model Equation: y = 2.95 + 1.59X1 + 3.98X2 + -4.75X3\n"
          ]
        }
      ]
    },
    {
      "cell_type": "markdown",
      "source": [
        "Q21. Write a Python script to pickle a trained linear regression model, save it to a file, and load it back for prediction."
      ],
      "metadata": {
        "id": "R8Y8ym1IAx2o"
      }
    },
    {
      "cell_type": "code",
      "source": [
        "# Import necessary libraries\n",
        "import pickle\n",
        "from sklearn.linear_model import LinearRegression\n",
        "from sklearn.datasets import fetch_california_housing # Changed to fetch_california_housing\n",
        "from sklearn.model_selection import train_test_split\n",
        "\n",
        "# Load California Housing dataset instead of Boston Housing dataset\n",
        "california = fetch_california_housing() # Changed to fetch_california_housing\n",
        "X = california.data # Changed to california.data\n",
        "y = california.target # Changed to california.target\n",
        "\n",
        "# Split data into training and testing sets\n",
        "X_train, X_test, y_train, y_test = train_test_split(X, y, test_size=0.2, random_state=42)\n",
        "\n",
        "# Create and train linear regression model\n",
        "model = LinearRegression()\n",
        "model.fit(X_train, y_train)\n",
        "\n",
        "# Pickle the trained model\n",
        "with open('linear_regression_model.pkl', 'wb') as file:\n",
        "    pickle.dump(model, file)\n",
        "\n",
        "# Load the pickled model\n",
        "with open('linear_regression_model.pkl', 'rb') as file:\n",
        "    loaded_model = pickle.load(file)\n",
        "\n",
        "# Make predictions using the loaded model\n",
        "y_pred = loaded_model.predict(X_test)\n",
        "\n",
        "# Print the first 5 predictions\n",
        "print(\"Predictions:\")\n",
        "print(y_pred[:5])\n",
        "\n",
        "# Print R-squared score of the loaded model\n",
        "from sklearn.metrics import r2_score\n",
        "print(\"R-squared score:\", r2_score(y_test, y_pred))\n",
        "\n"
      ],
      "metadata": {
        "colab": {
          "base_uri": "https://localhost:8080/"
        },
        "id": "4-Wcl4I0Audh",
        "outputId": "d43bbe3d-c527-4f94-ad67-f5d927bb2406"
      },
      "execution_count": null,
      "outputs": [
        {
          "output_type": "stream",
          "name": "stdout",
          "text": [
            "Predictions:\n",
            "[0.71912284 1.76401657 2.70965883 2.83892593 2.60465725]\n",
            "R-squared score: 0.5757877060324524\n"
          ]
        }
      ]
    },
    {
      "cell_type": "markdown",
      "source": [
        "Q22. Write a Python script to perform linear regression with categorical features using one-hot encoding. Use the Seaborn 'tips' dataset."
      ],
      "metadata": {
        "id": "_fYnUDlGA6V2"
      }
    },
    {
      "cell_type": "code",
      "source": [
        "# Import necessary libraries\n",
        "import pandas as pd\n",
        "import numpy as np\n",
        "import seaborn as sns\n",
        "from sklearn.preprocessing import OneHotEncoder\n",
        "from sklearn.linear_model import LinearRegression\n",
        "from sklearn.model_selection import train_test_split\n",
        "from sklearn.metrics import r2_score\n",
        "\n",
        "# Load Seaborn 'tips' dataset\n",
        "tips = sns.load_dataset('tips')\n",
        "print(tips.head())\n",
        "\n",
        "# Preprocess data\n",
        "X = tips[['total_bill', 'sex', 'smoker', 'day', 'time', 'size']]\n",
        "y = tips['tip']\n",
        "\n",
        "# One-hot encode categorical features\n",
        "encoder = OneHotEncoder(sparse_output=False)\n",
        "encoded_sex = encoder.fit_transform(tips[['sex']])\n",
        "encoded_smoker = encoder.fit_transform(tips[['smoker']])\n",
        "encoded_day = encoder.fit_transform(tips[['day']])\n",
        "encoded_time = encoder.fit_transform(tips[['time']])\n",
        "\n",
        "# Create new features\n",
        "X = pd.DataFrame(np.concatenate((X[['total_bill', 'size']], encoded_sex, encoded_smoker, encoded_day, encoded_time), axis=1))\n",
        "\n",
        "# Split data into training and testing sets\n",
        "X_train, X_test, y_train, y_test = train_test_split(X, y, test_size=0.2, random_state=42)\n",
        "\n",
        "# Create and train linear regression model\n",
        "model = LinearRegression()\n",
        "model.fit(X_train, y_train)\n",
        "\n",
        "# Make predictions\n",
        "y_pred = model.predict(X_test)\n",
        "\n",
        "# Print R-squared score\n",
        "print(\"R-squared score:\", r2_score(y_test, y_pred))\n",
        "\n",
        "# Print coefficients\n",
        "print(\"Coefficients:\")\n",
        "print(model.coef_)\n",
        "\n",
        "# Print intercept\n",
        "print(\"Intercept:\", model.intercept_)\n"
      ],
      "metadata": {
        "colab": {
          "base_uri": "https://localhost:8080/"
        },
        "id": "Bd48WZ09A2HH",
        "outputId": "51c68c04-ba9b-49ec-bc42-429a843d1306"
      },
      "execution_count": null,
      "outputs": [
        {
          "output_type": "stream",
          "name": "stdout",
          "text": [
            "   total_bill   tip     sex smoker  day    time  size\n",
            "0       16.99  1.01  Female     No  Sun  Dinner     2\n",
            "1       10.34  1.66    Male     No  Sun  Dinner     3\n",
            "2       21.01  3.50    Male     No  Sun  Dinner     3\n",
            "3       23.68  3.31    Male     No  Sun  Dinner     2\n",
            "4       24.59  3.61  Female     No  Sun  Dinner     4\n",
            "R-squared score: 0.43730181943482493\n",
            "Coefficients:\n",
            "[ 0.09469974  0.23348393 -0.01440964  0.01440964  0.09617663 -0.09617663\n",
            "  0.10407492 -0.08171038  0.05328153 -0.07564606 -0.04747858  0.04747858]\n",
            "Intercept: 0.5890523762058075\n"
          ]
        }
      ]
    },
    {
      "cell_type": "markdown",
      "source": [
        "Q23. Compare Ridge Regression with Linear Regression on a synthetic dataset and print the coefficients and R-squared score"
      ],
      "metadata": {
        "id": "N4zJw_-xBEWq"
      }
    },
    {
      "cell_type": "code",
      "source": [
        "# prompt: Compare Ridge Regression with Linear Regression on a synthetic dataset and print the coefficients and R-squared score\n",
        "\n",
        "# Import necessary libraries\n",
        "from sklearn.datasets import make_regression\n",
        "from sklearn.model_selection import train_test_split\n",
        "from sklearn.linear_model import LinearRegression, Ridge\n",
        "from sklearn.metrics import r2_score\n",
        "import numpy as np\n",
        "\n",
        "# Generate synthetic dataset\n",
        "X, y = make_regression(n_samples=100, n_features=5, noise=0.5, random_state=42)\n",
        "X_train, X_test, y_train, y_test = train_test_split(X, y, test_size=0.2, random_state=42)\n",
        "\n",
        "# Linear Regression\n",
        "lr_model = LinearRegression()\n",
        "lr_model.fit(X_train, y_train)\n",
        "lr_y_pred = lr_model.predict(X_test)\n",
        "lr_r2 = r2_score(y_test, lr_y_pred)\n",
        "\n",
        "print(\"Linear Regression:\")\n",
        "print(\"Coefficients:\", lr_model.coef_)\n",
        "print(\"R-squared:\", lr_r2)\n",
        "\n",
        "# Ridge Regression\n",
        "ridge_model = Ridge(alpha=1.0)  # You can adjust the regularization strength (alpha)\n",
        "ridge_model.fit(X_train, y_train)\n",
        "ridge_y_pred = ridge_model.predict(X_test)\n",
        "ridge_r2 = r2_score(y_test, ridge_y_pred)\n",
        "\n",
        "print(\"\\nRidge Regression:\")\n",
        "print(\"Coefficients:\", ridge_model.coef_)\n",
        "print(\"R-squared:\", ridge_r2)\n"
      ],
      "metadata": {
        "colab": {
          "base_uri": "https://localhost:8080/"
        },
        "id": "_FaLYXYZBCOk",
        "outputId": "40019765-bd1f-4540-9183-bb8b4a3715db"
      },
      "execution_count": null,
      "outputs": [
        {
          "output_type": "stream",
          "name": "stdout",
          "text": [
            "Linear Regression:\n",
            "Coefficients: [60.62471229 98.64257547 64.41712289 57.00101398 35.62789458]\n",
            "R-squared: 0.9999858799929303\n",
            "\n",
            "Ridge Regression:\n",
            "Coefficients: [59.91699371 97.14386411 63.10656395 56.25962617 35.36017241]\n",
            "R-squared: 0.9997735249437104\n"
          ]
        }
      ]
    },
    {
      "cell_type": "markdown",
      "source": [
        "Q24. Write a Python script that uses cross-validation to evaluate a Linear Regression model on a synthetic dataset."
      ],
      "metadata": {
        "id": "TQxKfwWiBMom"
      }
    },
    {
      "cell_type": "code",
      "source": [
        "# prompt: Write a Python script that uses cross-validation to evaluate a Linear Regression model on a synthetic\n",
        "# dataset\n",
        "\n",
        "import numpy as np\n",
        "from sklearn.linear_model import LinearRegression\n",
        "from sklearn.model_selection import cross_val_score\n",
        "from sklearn.datasets import make_regression\n",
        "\n",
        "# Generate synthetic data\n",
        "X, y = make_regression(n_samples=100, n_features=5, noise=0.5, random_state=42)\n",
        "\n",
        "# Create linear regression model\n",
        "model = LinearRegression()\n",
        "\n",
        "# Perform 5-fold cross-validation\n",
        "cv_scores = cross_val_score(model, X, y, cv=5, scoring='r2')\n",
        "\n",
        "# Print the cross-validation scores\n",
        "print(\"Cross-validation R-squared scores:\", cv_scores)\n",
        "print(\"Mean R-squared score:\", np.mean(cv_scores))\n"
      ],
      "metadata": {
        "colab": {
          "base_uri": "https://localhost:8080/"
        },
        "id": "vsa3uQPABKhC",
        "outputId": "42ad974f-c396-444b-f62b-a394d9a96467"
      },
      "execution_count": null,
      "outputs": [
        {
          "output_type": "stream",
          "name": "stdout",
          "text": [
            "Cross-validation R-squared scores: [0.99998268 0.99997517 0.99999428 0.99997931 0.99998349]\n",
            "Mean R-squared score: 0.9999829848440452\n"
          ]
        }
      ]
    },
    {
      "cell_type": "markdown",
      "source": [
        "Q25. Write a Python script that compares polynomial regression models of different degrees and prints the R-squared score for each"
      ],
      "metadata": {
        "id": "_XoJtSE9BZz2"
      }
    },
    {
      "cell_type": "code",
      "source": [
        "# prompt: Write a Python script that compares polynomial regression models of different degrees and prints the Rsquared score for each\n",
        "\n",
        "import numpy as np\n",
        "import matplotlib.pyplot as plt\n",
        "from sklearn.linear_model import LinearRegression\n",
        "from sklearn.preprocessing import PolynomialFeatures\n",
        "from sklearn.metrics import r2_score\n",
        "from sklearn.pipeline import make_pipeline\n",
        "\n",
        "# Generate synthetic data\n",
        "np.random.seed(0)\n",
        "X = np.random.rand(100, 1)\n",
        "y = 3 + 2 * X + 4 * X**2 - 5 * X**3 + 6 * X**4 + np.random.randn(100, 1)\n",
        "\n",
        "# Degrees of polynomial regression to compare\n",
        "degrees = [1, 2, 3, 4, 5]\n",
        "\n",
        "for degree in degrees:\n",
        "    # Create and train the polynomial regression model\n",
        "    model = make_pipeline(PolynomialFeatures(degree), LinearRegression())\n",
        "    model.fit(X, y)\n",
        "\n",
        "    # Make predictions\n",
        "    y_pred = model.predict(X)\n",
        "\n",
        "    # Calculate and print the R-squared score\n",
        "    r2 = r2_score(y, y_pred)\n",
        "    print(f\"Polynomial Regression (Degree {degree}): R-squared = {r2}\")\n"
      ],
      "metadata": {
        "colab": {
          "base_uri": "https://localhost:8080/"
        },
        "id": "xMXQhr-tBYnL",
        "outputId": "f902c863-9385-495b-9ed6-2bd44e9a59c0"
      },
      "execution_count": null,
      "outputs": [
        {
          "output_type": "stream",
          "name": "stdout",
          "text": [
            "Polynomial Regression (Degree 1): R-squared = 0.724358100867321\n",
            "Polynomial Regression (Degree 2): R-squared = 0.7598464569130117\n",
            "Polynomial Regression (Degree 3): R-squared = 0.7675141339733483\n",
            "Polynomial Regression (Degree 4): R-squared = 0.7680632811930611\n",
            "Polynomial Regression (Degree 5): R-squared = 0.7680747374812164\n"
          ]
        }
      ]
    },
    {
      "cell_type": "markdown",
      "source": [
        "Q26. Write a Python script that adds interaction terms to a linear regression model and prints the coefficients."
      ],
      "metadata": {
        "id": "Pglo3crNBknM"
      }
    },
    {
      "cell_type": "code",
      "source": [
        "# prompt: Write a Python script that adds interaction terms to a linear regression model and prints the coefficients.\n",
        "\n",
        "import numpy as np\n",
        "import pandas as pd\n",
        "from sklearn.linear_model import LinearRegression\n",
        "\n",
        "# Generate synthetic data\n",
        "np.random.seed(0)\n",
        "X1 = np.random.rand(100)\n",
        "X2 = np.random.rand(100)\n",
        "y = 1 + 2*X1 + 3*X2 + 4*X1*X2 + np.random.randn(100)\n",
        "\n",
        "# Create a DataFrame\n",
        "df = pd.DataFrame({'X1': X1, 'X2': X2, 'y': y})\n",
        "\n",
        "# Add interaction term\n",
        "df['X1X2'] = df['X1'] * df['X2']\n",
        "\n",
        "# Prepare the data for the model\n",
        "X = df[['X1', 'X2', 'X1X2']]\n",
        "y = df['y']\n",
        "\n",
        "# Fit linear regression model\n",
        "model = LinearRegression()\n",
        "model.fit(X, y)\n",
        "\n",
        "# Print coefficients\n",
        "print(\"Coefficients:\", model.coef_)\n",
        "print(\"Intercept:\", model.intercept_)\n"
      ],
      "metadata": {
        "colab": {
          "base_uri": "https://localhost:8080/"
        },
        "id": "6portrevBhK7",
        "outputId": "83dffb3b-53d8-4f3a-ed53-95070bc17318"
      },
      "execution_count": null,
      "outputs": [
        {
          "output_type": "stream",
          "name": "stdout",
          "text": [
            "Coefficients: [1.91759618 3.166666   3.02914675]\n",
            "Intercept: 1.098021775636381\n"
          ]
        }
      ]
    },
    {
      "cell_type": "code",
      "source": [],
      "metadata": {
        "id": "OEk57d7gBoV5"
      },
      "execution_count": null,
      "outputs": []
    }
  ]
}