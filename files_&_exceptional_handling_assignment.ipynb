{
  "nbformat": 4,
  "nbformat_minor": 0,
  "metadata": {
    "colab": {
      "provenance": [],
      "authorship_tag": "ABX9TyNU/XbFAzdZAAwEYNjfKByC",
      "include_colab_link": true
    },
    "kernelspec": {
      "name": "python3",
      "display_name": "Python 3"
    },
    "language_info": {
      "name": "python"
    }
  },
  "cells": [
    {
      "cell_type": "markdown",
      "metadata": {
        "id": "view-in-github",
        "colab_type": "text"
      },
      "source": [
        "<a href=\"https://colab.research.google.com/github/Nisha129103/Assignment/blob/main/files_%26_exceptional_handling_assignment.ipynb\" target=\"_parent\"><img src=\"https://colab.research.google.com/assets/colab-badge.svg\" alt=\"Open In Colab\"/></a>"
      ]
    },
    {
      "cell_type": "markdown",
      "source": [
        "#Q1 Discuss the scenarios where multithreading is preferable to multiprocessing and scenarios where multiprocessing is a better choice.\n",
        "#Ans. Multithreading\n",
        "\n",
        "Multithreading executes multiple threads within a single process, sharing memory space.\n",
        "\n",
        "Preferable Scenarios\n",
        "\n",
        "I/O-bound operations: Multithreading excels at handling concurrent I/O-bound tasks, such as network requests, database queries or file operations, where waiting for I/O operations is a significant portion of the task.\n",
        "GUI applications: Multithreading helps maintain responsive graphical user interfaces by performing time-consuming tasks in background threads.\n",
        "Real-time systems: Multithreading is suitable for real-time systems requiring quick responses to events.\n",
        "Memory-intensive applications: Sharing memory reduces memory usage.\n",
        "Limitations\n",
        "\n",
        "Global Interpreter Lock (GIL): In languages like Python, GIL prevents true parallel execution of threads, limiting performance.\n",
        "Synchronization complexity: Managing shared resources increases complexity.\n",
        "Debugging challenges: Multithreaded programs can be difficult to debug.\n",
        "Multiprocessing\n",
        "\n",
        "Multiprocessing executes multiple processes, each with its own memory space.\n",
        "\n",
        "Preferable Scenarios\n",
        "\n",
        "CPU-bound operations: Multiprocessing is ideal for CPU-intensive tasks like scientific computing, data compression or encryption.\n",
        "Parallel computation: Independent tasks benefit from true parallel execution.\n",
        "Large-scale computations: Breaking tasks into smaller processes aids distributed computing.\n",
        "Avoiding GIL limitations: Languages with GIL, like Python, benefit from multiprocessing for CPU-bound tasks.\n",
        "Limitations\n",
        "\n",
        "Inter-process communication (IPC) overhead: Sharing data between processes is costly.\n",
        "Higher memory usage: Each process requires separate memory.\n",
        "Process creation overhead: Starting processes is slower than threads.\n",
        "Key Considerations\n",
        "\n",
        "Task independence: If tasks are highly independent, multiprocessing might be better. For tasks sharing resources, multithreading could be preferred.\n",
        "Resource constraints: Multithreading conserves memory; multiprocessing may require more.\n",
        "Language and framework support: Choose based on language capabilities and libraries available.\n",
        "Debugging and complexity: Multithreading can be more complex; multiprocessing might simplify debugging."
      ],
      "metadata": {
        "id": "euxrPtHYK4ot"
      }
    },
    {
      "cell_type": "markdown",
      "source": [
        "#Q2. Describe what a process pool is and how it helps in managing multiple processes efficiently.\n",
        "\n",
        "#Ans. Process Pool Overview\n",
        "\n",
        "A process pool is a design pattern that manages multiple processes efficiently by reusing existing processes, reducing creation overhead and improving resource utilization. It's a container for a group of worker processes, allowing tasks to be executed concurrently.\n",
        "\n",
        "Key Benefits\n",
        "\n",
        "Efficient resource utilization: Reduces memory usage and minimizes process creation overhead.\n",
        "Improved responsiveness: Faster task execution due to reused processes.\n",
        "Better fault tolerance: Isolated worker processes prevent single-task failures from affecting the entire pool.\n",
        "Simplified task management: Centralized control for task distribution, monitoring and error handling.\n",
        "Process Pool Components\n",
        "\n",
        "Worker processes: Execute tasks from the pool's task queue.\n",
        "Task queue: Holds tasks waiting for execution.\n",
        "Pool manager: Supervises worker processes, task distribution and pool configuration.\n",
        "Process Pool Workflow\n",
        "\n",
        "Task submission: Tasks are added to the task queue.\n",
        "Worker selection: Available worker processes are selected.\n",
        "Task execution: Selected worker processes execute tasks.\n",
        "Result retrieval: Task results are collected and returned.\n",
        "Worker reuse: Worker processes return to the pool for reuse.\n",
        "Implementation Examples\n",
        "\n",
        "Python's multiprocessing.Pool: Provides a process pool implementation.\n",
        "Concurrent.futures.ProcessPoolExecutor: Offers a high-level interface for process pools.\n",
        "Best Practices\n",
        "\n",
        "Optimize pool size: Balance pool size with available resources.\n",
        "Monitor task queue: Prevent overflow and adjust pool size accordingly.\n",
        "Implement error handling: Handle worker process failures gracefully.\n",
        "Use inter-process communication: Efficiently exchange data between worker processes.\n"
      ],
      "metadata": {
        "id": "dE9leOXCLROJ"
      }
    },
    {
      "cell_type": "markdown",
      "source": [
        "#Q3. Explain what multiprocessing is and why it is used in Python programs\n",
        "#Ans. Multiprocessing in Python\n",
        "\n",
        "Multiprocessing is a programming technique where multiple processes are executed concurrently, improving responsiveness, efficiency and system utilization.\n",
        "\n",
        "What is Multiprocessing?\n",
        "\n",
        "Multiprocessing involves creating multiple operating system-level processes to execute tasks independently. Each process has its own memory space, and communication between processes requires inter-process communication (IPC) mechanisms.\n",
        "\n",
        "Why Use Multiprocessing in Python?\n",
        "\n",
        "CPU-bound tasks: Multiprocessing bypasses Python's Global Interpreter Lock (GIL), allowing true parallel execution of CPU-intensive tasks.\n",
        "Concurrency: Improves responsiveness by executing tasks concurrently.\n",
        "Scalability: Utilizes multiple CPU cores for computation-intensive tasks.\n",
        "Fault tolerance: Isolated processes prevent single-task failures from affecting the entire program.\n",
        "Multiprocessing in Python: Key Modules\n",
        "\n",
        "multiprocessing: Provides basic multiprocessing functionality.\n",
        "concurrent.futures (ProcessPoolExecutor): Offers high-level interface for multiprocessing.\n",
        "\n",
        "Example Usage\n",
        "\n",
        "\n"
      ],
      "metadata": {
        "id": "G4dYYZybLBum"
      }
    },
    {
      "cell_type": "code",
      "source": [
        "import multiprocessing\n",
        "import time\n",
        "\n",
        "def worker(num):\n",
        "    print(f\"Worker {num} started\")\n",
        "    time.sleep(2)\n",
        "    print(f\"Worker {num} finished\")\n",
        "\n",
        "if __name__ == \"__main__\":\n",
        "    processes = []\n",
        "    for i in range(5):\n",
        "        p = multiprocessing.Process(target=worker, args=(i,))\n",
        "        processes.append(p)\n",
        "        p.start()\n",
        "\n",
        "    for p in processes:\n",
        "        p.join()\n",
        ""
      ],
      "metadata": {
        "colab": {
          "base_uri": "https://localhost:8080/"
        },
        "id": "O26Q_VFbLA0r",
        "outputId": "50664e0c-2630-4666-af20-be9b43ba37b1"
      },
      "execution_count": 2,
      "outputs": [
        {
          "output_type": "stream",
          "name": "stdout",
          "text": [
            "Worker 0 started\n",
            "\n",
            "Worker 1 startedWorker 2 started\n",
            "Worker 3 startedWorker 4 started\n",
            "\n",
            "Worker 0 finishedWorker 1 finished\n",
            "\n",
            "Worker 2 finished\n",
            "Worker 4 finishedWorker 3 finished\n",
            "\n"
          ]
        }
      ]
    },
    {
      "cell_type": "markdown",
      "source": [
        "Best Practices\n",
        "\n",
        "Protect entry point: Use if name == \"main\" to prevent child processes from executing the same code.\n",
        "Manage inter-process communication: Use queues, pipes or shared memory for IPC.\n",
        "Optimize process count: Balance process count with available CPU cores.\n",
        "Handle process failures: Implement error handling mechanisms.\n",
        "Advantages\n",
        "\n",
        "Improved performance\n",
        "Enhanced responsiveness\n",
        "Better resource utilization\n"
      ],
      "metadata": {
        "id": "CXD9nOVfMEcD"
      }
    },
    {
      "cell_type": "markdown",
      "source": [
        "#Q4. Write a Python program using multithreading where one thread adds numbers to a list, and another thread removes numbers from the list. Implement a mechanism to avoid race conditions using threading.Lock.\n",
        "\n",
        "#Ans."
      ],
      "metadata": {
        "id": "uAtUb4fsMFSl"
      }
    },
    {
      "cell_type": "code",
      "source": [
        "import threading\n",
        "import random\n",
        "import time\n",
        "\n",
        "# Shared list\n",
        "numbers = []\n",
        "\n",
        "# Lock for thread synchronization\n",
        "lock = threading.Lock()\n",
        "\n",
        "# Thread 1: Adds numbers to the list\n",
        "def add_numbers():\n",
        "    for _ in range(10):\n",
        "        with lock:  # Acquire lock\n",
        "            num = random.randint(1, 100)\n",
        "            numbers.append(num)\n",
        "            print(f\"Added: {num}\")\n",
        "        time.sleep(0.5)  # Simulate work\n",
        "\n",
        "# Thread 2: Removes numbers from the list\n",
        "def remove_numbers():\n",
        "    for _ in range(10):\n",
        "        with lock:  # Acquire lock\n",
        "            if numbers:\n",
        "                num = numbers.pop(0)\n",
        "                print(f\"Removed: {num}\")\n",
        "            else:\n",
        "                print(\"List empty\")\n",
        "        time.sleep(0.7)  # Simulate work\n",
        "\n",
        "# Create threads\n",
        "add_thread = threading.Thread(target=add_numbers)\n",
        "remove_thread = threading.Thread(target=remove_numbers)\n",
        "\n",
        "# Start threads\n",
        "add_thread.start()\n",
        "remove_thread.start()\n",
        "\n",
        "# Wait for threads to finish\n",
        "add_thread.join()\n",
        "remove_thread.join()\n",
        "\n",
        "print(\"Final List:\", numbers)"
      ],
      "metadata": {
        "colab": {
          "base_uri": "https://localhost:8080/"
        },
        "id": "EOThQMdzL6Rl",
        "outputId": "cd1011ea-9b16-4a91-ffef-9b32efb933a3"
      },
      "execution_count": 3,
      "outputs": [
        {
          "output_type": "stream",
          "name": "stdout",
          "text": [
            "Added: 48\n",
            "Removed: 48\n",
            "Added: 62\n",
            "Removed: 62\n",
            "Added: 80\n",
            "Removed: 80\n",
            "Added: 49\n",
            "Added: 74\n",
            "Removed: 49\n",
            "Added: 69\n",
            "Removed: 74\n",
            "Added: 7\n",
            "Removed: 69\n",
            "Added: 95\n",
            "Added: 99\n",
            "Removed: 7\n",
            "Added: 79\n",
            "Removed: 95\n",
            "Removed: 99\n",
            "Removed: 79\n",
            "Final List: []\n"
          ]
        }
      ]
    },
    {
      "cell_type": "markdown",
      "source": [
        "#Q5. Describe the methods and tools available in Python for safely sharing data between threads and processes.\n",
        "#Ans. ANS--> Thread-Safe Data Sharing\n",
        "\n",
        "threading.Lock: Exclusive access to shared resources.\n",
        "threading.RLock: Reentrant lock for nested access.\n",
        "threading.Semaphore: Limit concurrent access.\n",
        "queue.Queue: Thread-safe queue for producer-consumer patterns.\n",
        "threading.Event: Coordinate threads with events.\n",
        "Process-Safe Data Sharing\n",
        "\n",
        "multiprocessing.Pipe: Inter-process communication (IPC) pipe.\n",
        "multiprocessing.Queue: Process-safe queue.\n",
        "multiprocessing.Manager: Shared data structures (e.g., lists, dictionaries).\n",
        "multiprocessing.SharedMemory: Shared memory blocks.\n",
        "concurrent.futures.ProcessPoolExecutor: High-level process management.\n",
        "Data Structures\n",
        "\n",
        "threading.local: Thread-local storage.\n",
        "multiprocessing.Manager().dict(): Shared dictionary.\n",
        "multiprocessing.Manager().list(): Shared list.\n",
        "Best Practices\n",
        "\n",
        "Minimize shared data.\n",
        "Use locks and semaphores judiciously.\n",
        "Avoid shared state when possible.\n",
        "Use high-level concurrency libraries.\n",
        "Document shared data access.\n",
        "Recommended Libraries\n",
        "\n",
        "concurrent.futures\n",
        "multiprocessing\n",
        "threading\n",
        "queue\n",
        "numpy (for shared memory arrays)\n",
        "Additional Resources\n",
        "\n",
        "Python documentation: \"Concurrency\"\n",
        "\"Python Concurrency Essentials\" by Matt A. Wood\n",
        "\"Concurrency in Python\" tutorial by Real Python\n",
        ""
      ],
      "metadata": {
        "id": "m6pHnroaMTEp"
      }
    },
    {
      "cell_type": "markdown",
      "source": [
        "#Q6. Discuss why it’s crucial to handle exceptions in concurrent programs and the techniques available for doing so.\n",
        "\n",
        "#Ans. Importance of Exception Handling\n",
        "\n",
        "Preventing Program Termination: Unhandled exceptions can terminate the entire program, including all threads or processes.\n",
        "Maintaining Data Integrity: Exceptions can lead to inconsistent data states, especially in shared resources.\n",
        "Ensuring Responsiveness: Unhandled exceptions can cause deadlock or livelock situations.\n",
        "Improving Debuggability: Proper exception handling aids in identifying and resolving concurrency issues.\n",
        "Techniques for Exception Handling\n",
        "\n",
        "Thread-Level Exception Handling\n",
        "\n",
        "try-except blocks: Wrap thread code to catch and handle exceptions.\n",
        "threading.excepthook: Custom exception handling for threads.\n",
        "Thread-specific exception handling: Use threading.Thread subclassing.\n",
        "Process-Level Exception Handling\n",
        "\n",
        "try-except blocks: Wrap process code to catch and handle exceptions.\n",
        "multiprocessing.Process subclassing: Customize exception handling.\n",
        "Queue-based exception handling: Use multiprocessing.Queue for error reporting.\n",
        "High-Level Concurrency Libraries\n",
        "\n",
        "concurrent.futures: Built-in exception handling mechanisms.\n",
        "asyncio: Support for asynchronous exception handling.\n",
        "Best Practices\n",
        "\n",
        "Centralize exception handling: Use a single handler for all threads or processes.\n",
        "Log exceptions: Record exceptions for post-mortem analysis.\n",
        "Test thoroughly: Ensure exception handling works correctly.\n",
        "Document exception handling: Clarify exception handling strategies.\n",
        "Common Pitfalls\n",
        "\n",
        "Swallowing exceptions: Avoid hiding exceptions without proper handling.\n",
        "Uncaught exceptions: Ensure all exceptions are caught and handled.\n",
        "Deadlock risk: Avoid locking mechanisms that can lead to deadlocks.\n",
        "Additional Resources\n",
        "\n",
        "Python documentation: \"Concurrency\" and \"Exceptions\"\n",
        "\"Python Concurrency Essentials\" by Matt A. Wood\n",
        "\"Concurrency in Python\" tutorial by Real Python\n",
        "Example code for exception handling in concurrent programs:\n",
        "\n"
      ],
      "metadata": {
        "id": "2miu4Py8Mc8X"
      }
    },
    {
      "cell_type": "code",
      "source": [
        "import threading\n",
        "import concurrent.futures\n",
        "\n",
        "def thread_func():\n",
        "    try:\n",
        "        # Code that may raise exceptions\n",
        "        1 / 0\n",
        "    except ZeroDivisionError:\n",
        "        print(\"Handled ZeroDivisionError\")\n",
        "\n",
        "# Thread-level exception handling\n",
        "thread = threading.Thread(target=thread_func)\n",
        "thread.start()\n",
        "thread.join()\n",
        "\n",
        "# Process-level exception handling with concurrent.futures\n",
        "def process_func():\n",
        "    try:\n",
        "        1 / 0\n",
        "    except ZeroDivisionError:\n",
        "        print(\"Handled ZeroDivisionError\")\n",
        "\n",
        "with concurrent.futures.ProcessPoolExecutor() as executor:\n",
        "    future = executor.submit(process_func)\n",
        "    future.result()"
      ],
      "metadata": {
        "colab": {
          "base_uri": "https://localhost:8080/"
        },
        "id": "hkl2ZKn0MQqR",
        "outputId": "f917fc2a-8ef1-4792-9da6-e7797820e017"
      },
      "execution_count": 4,
      "outputs": [
        {
          "output_type": "stream",
          "name": "stdout",
          "text": [
            "Handled ZeroDivisionError\n",
            "Handled ZeroDivisionError\n"
          ]
        }
      ]
    },
    {
      "cell_type": "markdown",
      "source": [
        "#Q7. Create a program that uses a thread pool to calculate the factorial of numbers from 1 to 10 concurrently. Use concurrent.futures.ThreadPoolExecutor to manage the threads.\n",
        "\n",
        "#Ans."
      ],
      "metadata": {
        "id": "mWSQsFFNMrml"
      }
    },
    {
      "cell_type": "code",
      "source": [
        "import concurrent.futures\n",
        "import math\n",
        "\n",
        "def calculate_factorial(n):\n",
        "    \"\"\"Calculate factorial of n\"\"\"\n",
        "    result = math.factorial(n)\n",
        "    print(f\"Factorial of {n}: {result}\")\n",
        "    return result\n",
        "\n",
        "def main():\n",
        "    # Create thread pool with 5 worker threads\n",
        "    with concurrent.futures.ThreadPoolExecutor(max_workers=5) as executor:\n",
        "        # Submit tasks to thread pool\n",
        "        futures = {executor.submit(calculate_factorial, i): i for i in range(1, 11)}\n",
        "\n",
        "        # Monitor task completion\n",
        "        for future in concurrent.futures.as_completed(futures):\n",
        "            idx = futures[future]\n",
        "            try:\n",
        "                future.result()  # Ensure task completed successfully\n",
        "            except Exception as e:\n",
        "                print(f\"Error calculating factorial of {idx}: {str(e)}\")\n",
        "\n",
        "if __name__ == \"__main__\":\n",
        "    main()\n"
      ],
      "metadata": {
        "colab": {
          "base_uri": "https://localhost:8080/"
        },
        "id": "n4YSwc5HMo8-",
        "outputId": "db1ef951-ba48-4c2b-d50b-3d1c6f56934e"
      },
      "execution_count": 5,
      "outputs": [
        {
          "output_type": "stream",
          "name": "stdout",
          "text": [
            "Factorial of 1: 1\n",
            "Factorial of 2: 2\n",
            "Factorial of 3: 6\n",
            "Factorial of 4: 24\n",
            "Factorial of 5: 120\n",
            "Factorial of 6: 720\n",
            "Factorial of 7: 5040\n",
            "Factorial of 8: 40320\n",
            "Factorial of 9: 362880\n",
            "Factorial of 10: 3628800\n"
          ]
        }
      ]
    },
    {
      "cell_type": "markdown",
      "source": [
        "#Q8. Create a Python program that uses multiprocessing.Pool to compute the square of numbers from 1 to 10 in parallel. Measure the time taken to perform this computation using a pool of different sizes (e.g., 2, 4, 8 processes)\n",
        "\n",
        "#Ans."
      ],
      "metadata": {
        "id": "p0Onz94DNEpA"
      }
    },
    {
      "cell_type": "code",
      "source": [
        "import multiprocessing\n",
        "import time\n",
        "\n",
        "def square(x):\n",
        "    \"\"\"Calculate square of x\"\"\"\n",
        "    return x * x\n",
        "\n",
        "def parallel_computation(pool_size):\n",
        "    numbers = range(1, 11)\n",
        "    start_time = time.time()\n",
        "\n",
        "    with multiprocessing.Pool(pool_size) as pool:\n",
        "        results = pool.map(square, numbers)\n",
        "\n",
        "    end_time = time.time()\n",
        "    elapsed_time = end_time - start_time\n",
        "\n",
        "    print(f\"Pool size: {pool_size}, Time taken: {elapsed_time:.4f} seconds\")\n",
        "    return results\n",
        "\n",
        "if __name__ == \"__main__\":\n",
        "    pool_sizes = [1, 2, 4, 8]\n",
        "    for size in pool_sizes:\n",
        "        parallel_computation(size)"
      ],
      "metadata": {
        "colab": {
          "base_uri": "https://localhost:8080/"
        },
        "id": "wnh0CfYfMy0F",
        "outputId": "e49009f7-be11-43be-989e-36dad3a7cb15"
      },
      "execution_count": 6,
      "outputs": [
        {
          "output_type": "stream",
          "name": "stdout",
          "text": [
            "Pool size: 1, Time taken: 0.0248 seconds\n",
            "Pool size: 2, Time taken: 0.0250 seconds\n",
            "Pool size: 4, Time taken: 0.0517 seconds\n",
            "Pool size: 8, Time taken: 0.0973 seconds\n"
          ]
        }
      ]
    },
    {
      "cell_type": "code",
      "source": [],
      "metadata": {
        "id": "7iqkmQ1JNJh2"
      },
      "execution_count": null,
      "outputs": []
    }
  ]
}