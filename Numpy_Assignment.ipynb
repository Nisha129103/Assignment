{
  "nbformat": 4,
  "nbformat_minor": 0,
  "metadata": {
    "colab": {
      "provenance": [],
      "authorship_tag": "ABX9TyPxDU0DlmElMc69jT6d/xAl",
      "include_colab_link": true
    },
    "kernelspec": {
      "name": "python3",
      "display_name": "Python 3"
    },
    "language_info": {
      "name": "python"
    }
  },
  "cells": [
    {
      "cell_type": "markdown",
      "metadata": {
        "id": "view-in-github",
        "colab_type": "text"
      },
      "source": [
        "<a href=\"https://colab.research.google.com/github/Nisha129103/Assignment/blob/main/Numpy_Assignment.ipynb\" target=\"_parent\"><img src=\"https://colab.research.google.com/assets/colab-badge.svg\" alt=\"Open In Colab\"/></a>"
      ]
    },
    {
      "cell_type": "markdown",
      "source": [
        "#Theoretical Part\n",
        "\n",
        "#Q1. Explain the purpose and advantages of NumPy in scientific computing and data analysis. How does it enhance Python's capabilities for numerical operations?\n",
        "\n",
        "#Ans. [2:12 PM, 10/3/2024] Meta AI: NumPy (Numerical Python) is a library for working with arrays and mathematical operations in Python. It is a fundamental package for scientific computing and data analysis, providing an efficient and flexible way to perform numerical operations.\n",
        "\n",
        "\n",
        "Purpose of NumPy:\n",
        "\n",
        "\n",
        "NumPy's primary purpose is to provide support for large, multi-dimensional arrays and matrices, along with a wide range of high-performance mathematical functions to manipulate them. It serves as the foundation for most scientific and numerical computing in Python.\n",
        "\n",
        "\n",
        "Advantages of NumPy:\n",
        "\n",
        "\n",
        "1. Efficient Data Storage: NumPy arrays store data more compactly than Python lists, reducing memory usage.\n",
        "\n",
        "2. Vectorized Operations: NumPy performs operations on entire arrays at once, making computations faster.\n",
        "\n",
        "3. Matrix Operations: NumPy provides functions for matrix multiplication, decomposition, eigenvalue calculation, and more.\n",
        "\n",
        "4. Random Number Generation: NumPy offers a range of random number generators.\n",
        "\n",
        "5. Integration with Other Libraries: NumPy integrates seamlessly with popular data analysis libraries like Pandas, SciPy, and Matplotlib.\n",
        "\n",
        "\n",
        "Enhancing Python's Capabilities:\n",
        "\n",
        "\n",
        "NumPy enhances Python's capabilities for numerical operations in several ways:\n",
        "\n",
        "\n",
        "1. Speed: NumPy operations are significantly faster than Python's built-in data structures.\n",
        "\n",
        "2. Memory Efficiency: NumPy arrays require less memory than Python lists.\n",
        "\n",
        "3. Convenience: NumPy provides an extensive range of mathematical functions.\n",
        "\n",
        "4. Interoperability: NumPy arrays can be easily converted to/from Python lists and other data structures.\n",
        "\n",
        "\n",
        "Use Cases:\n",
        "\n",
        "\n",
        "1. Scientific Computing: NumPy is used in fields like physics, engineering, and signal processing.\n",
        "\n",
        "2. Data Analysis: NumPy is used for data cleaning, filtering, and visualization.\n",
        "\n",
        "3. Machine Learning: NumPy is used for array operations in machine learning algorithms.\n",
        "\n",
        "\n",
        "Example Code:"
      ],
      "metadata": {
        "id": "No9Ea0Zlj9XJ"
      }
    },
    {
      "cell_type": "code",
      "source": [
        "import numpy as np\n",
        "\n",
        "# Create two arrays\n",
        "array1 = np.array([1, 2, 3])\n",
        "array2 = np.array([4, 5, 6])\n",
        "\n",
        "# Basic arithmetic operations\n",
        "print(\"Addition: \", array1 + array2)\n",
        "print(\"Multiplication: \", array1 * array2)\n",
        "\n",
        "# Matrix multiplication\n",
        "matrix1 = np.array([[1, 2], [3, 4]])\n",
        "matrix2 = np.array([[5, 6], [7, 8]])\n",
        "print(\"Matrix Multiplication: \\n\", np.matmul(matrix1, matrix2))"
      ],
      "metadata": {
        "colab": {
          "base_uri": "https://localhost:8080/"
        },
        "id": "QwfZJHAMkch3",
        "outputId": "65346023-3833-4c0e-fe5c-9d8816c8a4ca"
      },
      "execution_count": null,
      "outputs": [
        {
          "output_type": "stream",
          "name": "stdout",
          "text": [
            "Addition:  [5 7 9]\n",
            "Multiplication:  [ 4 10 18]\n",
            "Matrix Multiplication: \n",
            " [[19 22]\n",
            " [43 50]]\n"
          ]
        }
      ]
    },
    {
      "cell_type": "markdown",
      "source": [
        "This code demonstrates basic array operations and matrix multiplication using NumPy."
      ],
      "metadata": {
        "id": "5iqZGK3hklS6"
      }
    },
    {
      "cell_type": "markdown",
      "source": [
        "#Q2. Compare and contrast np.mean() and np.average() functions in NumPy. When would you use one over the other?\n",
        "\n",
        "#Ans. NumPy provides two functions for calculating the central tendency of an array: np.mean() and np.average(). While they appear similar, there are key differences.\n",
        "\n",
        "\n",
        "Similarities:\n",
        "\n",
        "1. Both functions calculate the central tendency of an array.\n",
        "2. Both functions handle multi-dimensional arrays.\n",
        "\n",
        "\n",
        "Differences:\n",
        "\n",
        "1. Weights: np.average() allows specifying weights for each value, whereas np.mean() does not.\n",
        "\n",
        "2. Axis: np.average() requires specifying the axis when used with multi-dimensional arrays, whereas np.mean() can automatically flatten the array.\n",
        "\n",
        "3. Returned Data Type: np.mean() returns a scalar or ndarray, whereas np.average() returns a scalar or ndarray, with the option to return a tuple of average and sum of weights.\n",
        "\n",
        "np.mean() Syntax:\n",
        "\n",
        "\n",
        "np.mean(a, axis=None, dtype=None, out=None, keepdims=<no value>)\n",
        "\n",
        "\n",
        "\n",
        "np.average() Syntax:\n",
        "\n",
        "\n",
        "np.average(a, axis=None, weights=None, returned=False)\n",
        "\n",
        "\n",
        "\n",
        "Usage:\n",
        "\n",
        "1. Use np.mean() when:\n",
        "    - Calculating the simple arithmetic mean.\n",
        "    - Working with unweighted data.\n",
        "\n",
        "2. Use np.average() when:\n",
        "    - Calculating weighted averages.\n",
        "    - Specifying axes in multi-dimensional arrays.\n",
        "    - Returning the sum of weights along with the average.\n"
      ],
      "metadata": {
        "id": "iIFLYpdOkotK"
      }
    },
    {
      "cell_type": "code",
      "source": [
        "#Example Code:\n",
        "\n",
        "\n",
        "import numpy as np\n",
        "\n",
        "# Create an array\n",
        "data = np.array([1, 2, 3, 4, 5])\n",
        "\n",
        "# Calculate mean\n",
        "mean_value = np.mean(data)\n",
        "print(\"Mean: \", mean_value)\n",
        "\n",
        "# Calculate average\n",
        "average_value = np.average(data)\n",
        "print(\"Average: \", average_value)\n",
        "\n",
        "# Calculate weighted average\n",
        "weights = np.array([0.1, 0.2, 0.3, 0.2, 0.2])\n",
        "weighted_average = np.average(data, weights=weights)\n",
        "print(\"Weighted Average: \", weighted_average)\n"
      ],
      "metadata": {
        "colab": {
          "base_uri": "https://localhost:8080/"
        },
        "id": "VRm5nCU5kdDT",
        "outputId": "8f5c4e8a-5da4-4615-b25f-e92bf21e65b2"
      },
      "execution_count": null,
      "outputs": [
        {
          "output_type": "stream",
          "name": "stdout",
          "text": [
            "Mean:  3.0\n",
            "Average:  3.0\n",
            "Weighted Average:  3.2\n"
          ]
        }
      ]
    },
    {
      "cell_type": "markdown",
      "source": [
        "This code demonstrates the usage of np.mean() and np.average() functions, highlighting the difference between simple and weighted averages."
      ],
      "metadata": {
        "id": "hgIMUebUlDyN"
      }
    },
    {
      "cell_type": "markdown",
      "source": [
        "#Q3. Describe the methods for reversing a NumPy array along different axes. Provide examples for 1D and 2D arrays.\n",
        "\n",
        "#Ans. NumPy provides several methods to reverse arrays along different axes:\n",
        "\n",
        "\n",
        "Methods:\n",
        "\n",
        "1. np.flip(): Reverses the elements of an array along a specified axis.\n",
        "\n",
        "2. np.flipud(): Reverses the elements of an array along the 0th axis (up-down).\n",
        "\n",
        "3. np.fliplr(): Reverses the elements of an array along the 1st axis (left-right).\n",
        "\n",
        "4. array[::-1]: Slice notation to reverse an array.\n",
        "\n",
        "\n",
        "Reversing 1D Arrays:\n"
      ],
      "metadata": {
        "id": "G6QDnItmlKD7"
      }
    },
    {
      "cell_type": "code",
      "source": [
        "import numpy as np\n",
        "\n",
        "# Create a 1D array\n",
        "arr_1d = np.array([1, 2, 3, 4, 5])\n",
        "\n",
        "# Reverse using np.flip()\n",
        "reversed_arr_1d_flip = np.flip(arr_1d)\n",
        "print(\"Reversed 1D Array (np.flip()):\", reversed_arr_1d_flip)\n",
        "\n",
        "# Reverse using slice notation\n",
        "reversed_arr_1d_slice = arr_1d[::-1]\n",
        "print(\"Reversed 1D Array (Slice Notation):\", reversed_arr_1d_slice)"
      ],
      "metadata": {
        "colab": {
          "base_uri": "https://localhost:8080/"
        },
        "id": "LdgvgyuKlYRV",
        "outputId": "114de440-ae85-4664-eb3c-1139651bb207"
      },
      "execution_count": null,
      "outputs": [
        {
          "output_type": "stream",
          "name": "stdout",
          "text": [
            "Reversed 1D Array (np.flip()): [5 4 3 2 1]\n",
            "Reversed 1D Array (Slice Notation): [5 4 3 2 1]\n"
          ]
        }
      ]
    },
    {
      "cell_type": "code",
      "source": [
        "# Create a 2D array\n",
        "arr_2d = np.array([[1, 2, 3], [4, 5, 6]])\n",
        "\n",
        "# Reverse along 0th axis (up-down) using np.flipud()\n",
        "reversed_arr_2d_ud = np.flipud(arr_2d)\n",
        "print(\"Reversed 2D Array (np.flipud()):\\n\", reversed_arr_2d_ud)\n",
        "\n",
        "# Reverse along 1st axis (left-right) using np.fliplr()\n",
        "reversed_arr_2d_lr = np.fliplr(arr_2d)\n",
        "print(\"Reversed 2D Array (np.fliplr()):\\n\", reversed_arr_2d_lr)\n",
        "\n",
        "# Reverse along a specific axis using np.flip()\n",
        "reversed_arr_2d_axis = np.flip(arr_2d, axis=1)\n",
        "print(\"Reversed 2D Array (np.flip(), axis=1):\\n\", reversed_arr_2d_axis)"
      ],
      "metadata": {
        "colab": {
          "base_uri": "https://localhost:8080/"
        },
        "id": "jZpxcMhqlaiZ",
        "outputId": "5b2c72c7-b624-46e3-decc-8aaf5d0887da"
      },
      "execution_count": null,
      "outputs": [
        {
          "output_type": "stream",
          "name": "stdout",
          "text": [
            "Reversed 2D Array (np.flipud()):\n",
            " [[4 5 6]\n",
            " [1 2 3]]\n",
            "Reversed 2D Array (np.fliplr()):\n",
            " [[3 2 1]\n",
            " [6 5 4]]\n",
            "Reversed 2D Array (np.flip(), axis=1):\n",
            " [[3 2 1]\n",
            " [6 5 4]]\n"
          ]
        }
      ]
    },
    {
      "cell_type": "markdown",
      "source": [
        "These examples demonstrate how to reverse NumPy arrays along different axes using various methods."
      ],
      "metadata": {
        "id": "WAWxKgk6lnlG"
      }
    },
    {
      "cell_type": "markdown",
      "source": [
        "#Q4. How can you determine the data type of elements in a NumPy array? Discuss the importance of data types in memory management and performance.\n",
        "\n",
        "#Ans. Determining Data Type of NumPy Array Elements:\n",
        "\n",
        "\n",
        "You can determine the data type of elements in a NumPy array using:\n",
        "\n",
        "\n",
        "1. arr.dtype: Returns the data type of the array.\n",
        "\n",
        "2. arr.dtype.name: Returns the name of the data type.\n",
        "\n",
        "3. arr.dtype.kind: Returns the kind of the data type (e.g., 'i' for integer, 'f' for float).\n"
      ],
      "metadata": {
        "id": "3ne_mnz3lzjT"
      }
    },
    {
      "cell_type": "code",
      "source": [
        "#Example:\n",
        "import numpy as np\n",
        "\n",
        "# Create an array\n",
        "arr = np.array([1, 2, 3])\n",
        "\n",
        "# Determine data type\n",
        "print(\"Data Type:\", arr.dtype)\n",
        "print(\"Data Type Name:\", arr.dtype.name)\n",
        "print(\"Data Type Kind:\", arr.dtype.kind)\n"
      ],
      "metadata": {
        "colab": {
          "base_uri": "https://localhost:8080/"
        },
        "id": "QLOb4krhlpyF",
        "outputId": "9df4f5cf-08e6-4e49-b653-8b6d230520ad"
      },
      "execution_count": null,
      "outputs": [
        {
          "output_type": "stream",
          "name": "stdout",
          "text": [
            "Data Type: int64\n",
            "Data Type Name: int64\n",
            "Data Type Kind: i\n"
          ]
        }
      ]
    },
    {
      "cell_type": "markdown",
      "source": [
        "Importance of Data Types:\n",
        "\n",
        "\n",
        "Data types play a crucial role in memory management and performance:\n",
        "\n",
        "\n",
        "Memory Management:\n",
        "\n",
        "\n",
        "1. Memory Allocation: NumPy allocates memory based on the data type. Incorrect data types can lead to memory waste.\n",
        "\n",
        "2. Memory Access: NumPy optimizes memory access for specific data types.\n",
        "\n",
        "\n",
        "Performance:\n",
        "\n",
        "\n",
        "1. Computational Efficiency: Operations on arrays with matching data types are faster.\n",
        "\n",
        "2. Vectorization: NumPy's vectorized operations rely on consistent data types.\n",
        "\n",
        "\n",
        "Common NumPy Data Types:\n",
        "\n",
        "\n",
        "1. Integers (int8, int16, int32, int64)\n",
        "\n",
        "2. Floating-point numbers (float32, float64)\n",
        "\n",
        "3. Complex numbers (complex64, complex128)\n",
        "\n",
        "4. Boolean (bool_)\n",
        "\n",
        "5. Strings (S, U)\n",
        "\n",
        "\n",
        "Best Practices:\n",
        "\n",
        "\n",
        "1. Explicit Data Type: Specify the data type when creating arrays.\n",
        "\n",
        "2. Consistent Data Type: Ensure consistent data types within an array.\n",
        "\n",
        "3. Data Type Conversion: Use arr.astype() to convert data types explicitly.\n"
      ],
      "metadata": {
        "id": "8z1JzA9mmOJT"
      }
    },
    {
      "cell_type": "code",
      "source": [
        "#Example:\n",
        "# Create an array with explicit data type\n",
        "arr = np.array([1, 2, 3], dtype=np.int32)\n",
        "\n",
        "# Convert data type\n",
        "arr_float = arr.astype(np.float64)\n"
      ],
      "metadata": {
        "id": "8NhG86WjmDrU"
      },
      "execution_count": null,
      "outputs": []
    },
    {
      "cell_type": "markdown",
      "source": [
        "By understanding and managing data types effectively, you can optimize memory usage and performance in your NumPy applications."
      ],
      "metadata": {
        "id": "G_G17GTQmYFF"
      }
    },
    {
      "cell_type": "markdown",
      "source": [
        "#Q5. Define ndarrays in NumPy and explain their key features. How do they differ from standard Python lists?\n",
        "\n",
        "#Ans. Definition:\n",
        "\n",
        "\n",
        "In NumPy, an ndarray (N-dimensional array) is a multi-dimensional collection of values of the same data type stored in a contiguous block of memory.\n",
        "\n",
        "\n",
        "Key Features:\n",
        "\n",
        "\n",
        "1. Homogeneous Data Type: All elements in an ndarray have the same data type.\n",
        "\n",
        "2. Multi-Dimensionality: ndarrays can have any number of dimensions.\n",
        "\n",
        "3. Vectorized Operations: ndarrays support element-wise operations.\n",
        "\n",
        "4. Memory Efficiency: ndarrays store data in contiguous memory blocks.\n",
        "\n",
        "5. Flexible Indexing: ndarrays support slicing, indexing, and advanced indexing.\n",
        "\n",
        "\n",
        "Comparison with Python Lists:\n",
        "\n",
        "\n",
        "| Feature | NumPy ndarrays | Python Lists |\n",
        "| --- | --- | --- |\n",
        "| Data Type | Homogeneous | Heterogeneous |\n",
        "| Memory Layout | Contiguous | Non-contiguous |\n",
        "| Performance | Optimized for numerical computations | General-purpose |\n",
        "| Indexing | Flexible, vectorized | Basic, scalar |\n",
        "| Reshaping | Supported | Not supported |\n",
        "\n",
        "\n",
        "Advantages of ndarrays over Python Lists:\n",
        "\n",
        "\n",
        "1. Faster Computations: Vectorized operations make ndarrays much faster.\n",
        "\n",
        "2. Memory Efficiency: Contiguous memory allocation reduces memory usage.\n",
        "\n",
        "3. Convenient Indexing: Advanced indexing and slicing simplify data access.\n"
      ],
      "metadata": {
        "id": "2M1HtBjOmZVS"
      }
    },
    {
      "cell_type": "code",
      "source": [
        "#Example:\n",
        "import numpy as np\n",
        "\n",
        "# Create a NumPy ndarray\n",
        "arr = np.array([1, 2, 3])\n",
        "\n",
        "# Create a Python list\n",
        "lst = [1, 2, 3]\n",
        "\n",
        "print(\"NumPy ndarray:\", arr)\n",
        "print(\"Python list:\", lst)\n",
        "\n",
        "# Vectorized operation (ndarray)\n",
        "arr += 2\n",
        "print(\"Updated ndarray:\", arr)\n",
        "\n",
        "# Equivalent operation (list)\n",
        "lst = [x + 2 for x in lst]\n",
        "print(\"Updated list:\", lst)\n"
      ],
      "metadata": {
        "colab": {
          "base_uri": "https://localhost:8080/"
        },
        "id": "xkwXKTkEmVdb",
        "outputId": "015adb64-c360-4b6a-e326-dbe36967dd3d"
      },
      "execution_count": null,
      "outputs": [
        {
          "output_type": "stream",
          "name": "stdout",
          "text": [
            "NumPy ndarray: [1 2 3]\n",
            "Python list: [1, 2, 3]\n",
            "Updated ndarray: [3 4 5]\n",
            "Updated list: [3, 4, 5]\n"
          ]
        }
      ]
    },
    {
      "cell_type": "markdown",
      "source": [
        "In summary, NumPy ndarrays offer significant advantages over Python lists for numerical computations, memory efficiency, and convenient indexing. However, Python lists remain suitable for general-purpose, heterogeneous data storage."
      ],
      "metadata": {
        "id": "ClMv6PBhmvuL"
      }
    },
    {
      "cell_type": "markdown",
      "source": [
        "#Q6. Analyze the performance benefits of NumPy arrays over Python lists for large-scale numerical operations.\n",
        "\n",
        "#Ans. NumPy arrays provide substantial performance benefits over Python lists for large-scale numerical operations due to:\n",
        "\n",
        "\n",
        "1. Vectorized Operations:\n",
        "\n",
        "\n",
        "NumPy arrays enable element-wise operations on entire arrays at once, eliminating the need for loops.\n",
        "\n",
        "\n",
        "2. Contiguous Memory Allocation:\n",
        "\n",
        "\n",
        "NumPy arrays store data in contiguous memory blocks, reducing memory access overhead.\n",
        "\n",
        "\n",
        "3. Compiled C Code:\n",
        "\n",
        "\n",
        "NumPy's core functions are implemented in optimized C code, providing a significant speed boost.\n",
        "\n",
        "\n",
        "4. Reduced Overhead:\n",
        "\n",
        "\n",
        "NumPy arrays minimize overhead from Python's dynamic typing, object creation, and garbage collection.\n",
        "\n",
        "\n",
        "Benchmarks:\n",
        "\n",
        "\n",
        "| Operation | Python List (10^6 elements) | NumPy Array (10^6 elements) |\n",
        "| --- | --- | --- |\n",
        "| Addition | 1.35 sec | 12.6 msec |\n",
        "| Multiplication | 1.42 sec | 13.4 msec |\n",
        "| Matrix Multiplication | 10.2 sec | 21.1 msec |\n",
        "| Element-wise Square | 1.28 sec | 10.3 msec"
      ],
      "metadata": {
        "id": "-bHtcMAPm0vF"
      }
    },
    {
      "cell_type": "code",
      "source": [
        "#Example Code:\n",
        "import numpy as np\n",
        "import time\n",
        "\n",
        "# Create large Python list and NumPy array\n",
        "n = 10**6\n",
        "python_list = range(n)\n",
        "numpy_array = np.arange(n)\n",
        "\n",
        "# Measure addition performance\n",
        "start_time = time.time()\n",
        "result_list = [x + 1 for x in python_list]\n",
        "end_time = time.time()\n",
        "print(\"Python List Addition:\", end_time - start_time)\n",
        "\n",
        "start_time = time.time()\n",
        "result_array = numpy_array + 1\n",
        "end_time = time.time()\n",
        "print(\"NumPy Array Addition:\", end_time - start_time)\n"
      ],
      "metadata": {
        "colab": {
          "base_uri": "https://localhost:8080/"
        },
        "id": "uOiW0rFkmud6",
        "outputId": "edc5d256-6050-4da5-f298-02485afa36f6"
      },
      "execution_count": null,
      "outputs": [
        {
          "output_type": "stream",
          "name": "stdout",
          "text": [
            "Python List Addition: 0.08984494209289551\n",
            "NumPy Array Addition: 0.004769563674926758\n"
          ]
        }
      ]
    },
    {
      "cell_type": "markdown",
      "source": [
        "[2:14 PM, 10/3/2024] Meta AI: Real-World Implications:\n",
        "\n",
        "\n",
        "1. Scientific Computing: NumPy's performance benefits are crucial for large-scale simulations, data analysis, and machine learning.\n",
        "\n",
        "2. Data Science: Fast numerical computations enable efficient data processing, visualization, and insights.\n",
        "\n",
        "3. Machine Learning: NumPy's optimized operations accelerate model training, prediction, and evaluation.\n",
        "\n",
        "\n",
        "Best Practices:\n",
        "\n",
        "\n",
        "1. Use NumPy arrays for numerical computations.\n",
        "\n",
        "2. Minimize conversions between NumPy arrays and Python lists.\n",
        "\n",
        "3. Leverage vectorized operations and broadcasting.\n",
        "\n",
        "\n",
        "By utilizing NumPy arrays, developers can significantly accelerate large-scale numerical operations, making their code more efficient and scalable."
      ],
      "metadata": {
        "id": "Nwh8r0qXnJqw"
      }
    },
    {
      "cell_type": "markdown",
      "source": [
        "#Q7. Compare vstack() and hstack() functions in NumPy. Provide examples demonstrating their usage and output.\n",
        "\n",
        "#Ans. NumPy's vstack() and hstack() functions are used to stack arrays vertically and horizontally, respectively.\n",
        "\n",
        "\n",
        "vstack() Function:\n",
        "\n",
        "- Stacks arrays vertically (row-wise).\n",
        "- Syntax: np.vstack((array1, array2, ...))\n",
        "- Requires arrays to have the same number of columns.\n",
        "\n",
        "\n",
        "hstack() Function:\n",
        "\n",
        "- Stacks arrays horizontally (column-wise).\n",
        "- Syntax: np.hstack((array1, array2, ...))\n",
        "- Requires arrays to have the same number of rows.\n"
      ],
      "metadata": {
        "id": "Upq0PDapnWJm"
      }
    },
    {
      "cell_type": "code",
      "source": [
        "#Examples and Output:\n",
        "import numpy as np\n",
        "\n",
        "# Create arrays\n",
        "array1 = np.array([1, 2, 3])\n",
        "array2 = np.array([4, 5, 6])\n",
        "array3 = np.array([7, 8, 9])\n",
        "\n",
        "# Vertical Stacking (vstack())\n",
        "vertical_stack = np.vstack((array1, array2, array3))\n",
        "print(\"Vertical Stack:\\n\", vertical_stack)"
      ],
      "metadata": {
        "colab": {
          "base_uri": "https://localhost:8080/"
        },
        "id": "h0xnxhVZni1M",
        "outputId": "256aae23-2d84-4e8a-8031-3712b2ac96f8"
      },
      "execution_count": null,
      "outputs": [
        {
          "output_type": "stream",
          "name": "stdout",
          "text": [
            "Vertical Stack:\n",
            " [[1 2 3]\n",
            " [4 5 6]\n",
            " [7 8 9]]\n"
          ]
        }
      ]
    },
    {
      "cell_type": "code",
      "source": [
        "# Horizontal Stacking (hstack())\n",
        "array4 = np.array([1, 2, 3])\n",
        "array5 = np.array([4, 5, 6])\n",
        "horizontal_stack = np.hstack((array4, array5))\n",
        "print(\"Horizontal Stack:\", horizontal_stack)\n"
      ],
      "metadata": {
        "colab": {
          "base_uri": "https://localhost:8080/"
        },
        "id": "X_wm3lNtnmd5",
        "outputId": "e2ae9ade-5c85-4104-be90-0c5f483e74e1"
      },
      "execution_count": null,
      "outputs": [
        {
          "output_type": "stream",
          "name": "stdout",
          "text": [
            "Horizontal Stack: [1 2 3 4 5 6]\n"
          ]
        }
      ]
    },
    {
      "cell_type": "code",
      "source": [
        "# 2D Arrays\n",
        "array6 = np.array([[1, 2], [3, 4]])\n",
        "array7 = np.array([[5, 6], [7, 8]])\n",
        "vertical_stack_2d = np.vstack((array6, array7))\n",
        "print(\"Vertical Stack 2D:\\n\", vertical_stack_2d)\n"
      ],
      "metadata": {
        "colab": {
          "base_uri": "https://localhost:8080/"
        },
        "id": "rlX1EDFYnt06",
        "outputId": "44ab677c-f99b-43e8-9072-a63048538d1e"
      },
      "execution_count": null,
      "outputs": [
        {
          "output_type": "stream",
          "name": "stdout",
          "text": [
            "Vertical Stack 2D:\n",
            " [[1 2]\n",
            " [3 4]\n",
            " [5 6]\n",
            " [7 8]]\n"
          ]
        }
      ]
    },
    {
      "cell_type": "code",
      "source": [
        "horizontal_stack_2d = np.hstack((array6, array7))\n",
        "print(\"Horizontal Stack 2D:\\n\", horizontal_stack_2d)"
      ],
      "metadata": {
        "colab": {
          "base_uri": "https://localhost:8080/"
        },
        "id": "Z0lcKB9GnxK5",
        "outputId": "d7ca9625-33c5-4016-d0e9-9d1e6a34f437"
      },
      "execution_count": null,
      "outputs": [
        {
          "output_type": "stream",
          "name": "stdout",
          "text": [
            "Horizontal Stack 2D:\n",
            " [[1 2 5 6]\n",
            " [3 4 7 8]]\n"
          ]
        }
      ]
    },
    {
      "cell_type": "markdown",
      "source": [
        "Key Differences:\n",
        "\n",
        "- vstack() stacks arrays row-wise, while hstack() stacks arrays column-wise.\n",
        "- vstack() requires equal number of columns, whereas hstack() requires equal number of rows.\n",
        "\n",
        "\n",
        "Alternative Methods:\n",
        "\n",
        "- np.concatenate() can be used for both vertical and horizontal stacking.\n",
        "- np.append() can be used to append arrays.\n",
        "\n",
        "\n",
        "Best Practices:\n",
        "\n",
        "- Ensure arrays have compatible shapes before stacking.\n",
        "- Use vstack() and hstack() for simple stacking operations.\n",
        "- Use np.concatenate() for more complex stacking scenarios."
      ],
      "metadata": {
        "id": "jYWkRK-pn5pV"
      }
    },
    {
      "cell_type": "markdown",
      "source": [
        "#Q8. Explain the differences between fliplr() and flipud() methods in NumPy, including their effects on various array dimensions.\n",
        "\n",
        "#Ans. NumPy's fliplr() and flipud() methods are used to flip arrays horizontally (left-right) and vertically (up-down), respectively.\n",
        "\n",
        "\n",
        "**fliplr() Method:\"\n",
        "\n",
        "\n",
        "- Flips the array horizontally (left-right).\n",
        "- Reverses the order of columns.\n",
        "- Syntax: np.fliplr(array)\n",
        "\n",
        "\n",
        "**flipud() Method:\"\n",
        "\n",
        "\n",
        "- Flips the array vertically (up-down).\n",
        "- Reverses the order of rows.\n",
        "- Syntax: np.flipud(array)\n",
        "\n",
        "\n",
        "**Effects on Array Dimensions:\"\n",
        "\n",
        "\n",
        "| Method | 1D Array | 2D Array | 3D Array |\n",
        "| --- | --- | --- | --- |\n",
        "| fliplr() | No effect | Reverses columns | Reverses last axis (columns) |\n",
        "| flipud() | Reverses elements | Reverses rows | Reverses first axis (rows) |\n",
        "\n",
        "#*Examples:\"\n",
        "import numpy as np\n",
        "\n",
        "# 1D Array\n",
        "array_1d = np.array([1, 2, 3, 4, 5])\n",
        "print(\"Original 1D Array:\", array_1d)\n",
        "print(\"Flipped 1D Array (flipud()):\", np.flipud(array_1d))\n",
        "print(\"Flipped 1D Array (fliplr()):\", np.fliplr(array_1d))  # No effect\n",
        "\n",
        "# 2D Array\n",
        "array_2d = np.array([[1, 2, 3], [4, 5, 6]])\n",
        "print(\"\\nOriginal 2D Array:\\n\", array_2d)\n",
        "print(\"Flipped 2D Array (flipud()):\\n\", np.flipud(array_2d))\n",
        "print(\"Flipped 2D Array (fliplr()):\\n\", np.fliplr(array_2d))\n",
        "\n",
        "# 3D Array\n",
        "array_3d = np.array([[[1, 2], [3, 4]], [[5, 6], [7, 8]]])\n",
        "print(\"\\nOriginal 3D Array:\\n\", array_3d)\n",
        "print(\"Flipped 3D Array (flipud()):\\n\", np.flipud(array_3d))\n",
        "print(\"Flipped 3D Array (fliplr()):\\n\", np.fliplr(array_3d))\n",
        "\n",
        "\n",
        "\n",
        "**Key Differences:\"\n",
        "\n",
        "\n",
        "1. Direction of flipping: fliplr() flips horizontally, while flipud() flips vertically.\n",
        "\n",
        "2. Effect on dimensions: fliplr() reverses columns, while flipud() reverses rows.\n",
        "\n",
        "\n",
        "**Alternative Methods:\"\n",
        "\n",
        "\n",
        "1. np.flip() with axis argument: np.flip(array, axis=0) for vertical flip and np.flip(array, axis=1) for horizontal flip.\n",
        "\n",
        "2. Slicing: array[::-1, :] for vertical flip and array[:, ::-1] for horizontal flip.\n"
      ],
      "metadata": {
        "id": "E-GztqFFn7vD"
      }
    },
    {
      "cell_type": "markdown",
      "source": [
        "#Q9. Discuss the functionality of the array_split() method in NumPy. How does it handle uneven splits?\n",
        "\n",
        "#Ans. NumPy's array_split() method splits an array into multiple sub-arrays along a specified axis.\n",
        "\n",
        "\n",
        "Functionality:\n",
        "\n",
        "\n",
        "1. Splits an array into multiple sub-arrays.\n",
        "2. Allows specification of the axis to split along.\n",
        "3. Handles uneven splits by adjusting the size of the last sub-array.\n",
        "\n",
        "\n",
        "Syntax:\n",
        "\n",
        "\n",
        "np.array_split(ary, indices_or_sections, axis=0)\n",
        "\n",
        "\n",
        "Parameters:\n",
        "\n",
        "\n",
        "1. ary: Input array.\n",
        "2. indices_or_sections: Integer or array-like, specifying the number of splits or indices to split at.\n",
        "3. axis: Axis to split along (default=0).\n",
        "\n",
        "\n",
        "Handling Uneven Splits:\n",
        "\n",
        "\n",
        "When the array length is not exactly divisible by the number of splits, array_split() adjusts the size of the last sub-array to accommodate the remaining elements.\n",
        "\n",
        "\n",
        "Examples:"
      ],
      "metadata": {
        "id": "-iJIjZsTofny"
      }
    },
    {
      "cell_type": "code",
      "source": [
        "import numpy as np\n",
        "\n",
        "# Create an array\n",
        "ary = np.arange(10)\n",
        "\n",
        "# Split into 3 equal parts\n",
        "split_ary = np.array_split(ary, 3)\n",
        "print(\"Split Array:\", split_ary)"
      ],
      "metadata": {
        "colab": {
          "base_uri": "https://localhost:8080/"
        },
        "id": "1oBLk1s1oP76",
        "outputId": "99f61c1e-db91-4773-dad3-51751eb6835c"
      },
      "execution_count": null,
      "outputs": [
        {
          "output_type": "stream",
          "name": "stdout",
          "text": [
            "Split Array: [array([0, 1, 2, 3]), array([4, 5, 6]), array([7, 8, 9])]\n"
          ]
        }
      ]
    },
    {
      "cell_type": "code",
      "source": [
        "# Split into 4 parts\n",
        "split_ary = np.array_split(ary, 4)\n",
        "print(\"Split Array:\", split_ary)\n"
      ],
      "metadata": {
        "colab": {
          "base_uri": "https://localhost:8080/"
        },
        "id": "j9qzTQC-oxbi",
        "outputId": "c7f6faf5-3106-4121-ccf7-04e3bd1970dc"
      },
      "execution_count": null,
      "outputs": [
        {
          "output_type": "stream",
          "name": "stdout",
          "text": [
            "Split Array: [array([0, 1, 2]), array([3, 4, 5]), array([6, 7]), array([8, 9])]\n"
          ]
        }
      ]
    },
    {
      "cell_type": "markdown",
      "source": [
        "Key Points:\n",
        "\n",
        "\n",
        "1. array_split() returns a list of sub-arrays.\n",
        "\n",
        "2. Sub-arrays are views of the original array.\n",
        "\n",
        "3. Uneven splits result in varying sub-array lengths.\n",
        "\n",
        "\n",
        "Alternative Methods:\n",
        "\n",
        "\n",
        "1. np.split(): Similar to array_split(), but raises an error for uneven splits.\n",
        "\n",
        "2. np.array_chunk(): New in NumPy 1.23, allows chunking arrays into equal-sized sub-arrays.\n",
        "\n",
        "\n",
        "Best Practices:\n",
        "\n",
        "\n",
        "1. Verify the input array's shape and length.\n",
        "\n",
        "2. Specify the axis carefully.\n",
        "\n",
        "3. Handle uneven splits explicitly, if necessary."
      ],
      "metadata": {
        "id": "0i5llx1So2y6"
      }
    },
    {
      "cell_type": "markdown",
      "source": [
        "#Q10. Explain the concepts of vectorization and broadcasting in NumPy. How do they contribute to efficient array operations?\n",
        "\n",
        "#Ans. Vectorization and broadcasting are fundamental concepts in NumPy that enable efficient array operations.\n",
        "\n",
        "\n",
        "Vectorization:\n",
        "\n",
        "Vectorization refers to performing operations on entire arrays at once, rather than iterating over individual elements.\n",
        "\n",
        "\n",
        "Benefits:\n",
        "\n",
        "1. Faster execution\n",
        "2. Reduced memory allocation\n",
        "3. Simplified code\n",
        "\n",
        "\n",
        "Example:\n"
      ],
      "metadata": {
        "id": "d6TP8LVZo9ou"
      }
    },
    {
      "cell_type": "code",
      "source": [
        "import numpy as np\n",
        "\n",
        "# Create arrays\n",
        "a = np.array([1, 2, 3])\n",
        "b = np.array([4, 5, 6])\n",
        "\n",
        "# Vectorized addition\n",
        "result = a + b\n",
        "print(result)"
      ],
      "metadata": {
        "colab": {
          "base_uri": "https://localhost:8080/"
        },
        "id": "q4lMHMh6o0zl",
        "outputId": "ed7075a9-2d45-4d40-d65e-7d588fd0fdd7"
      },
      "execution_count": null,
      "outputs": [
        {
          "output_type": "stream",
          "name": "stdout",
          "text": [
            "[5 7 9]\n"
          ]
        }
      ]
    },
    {
      "cell_type": "markdown",
      "source": [
        "Broadcasting:\n",
        "\n",
        "Broadcasting allows NumPy to perform operations on arrays with different shapes and sizes.\n",
        "\n",
        "\n",
        "Rules:\n",
        "\n",
        "1. If shapes are equal, perform element-wise operation.\n",
        "2. If one array has a singleton dimension (size 1), broadcast it to match the other array.\n",
        "3. If shapes are incompatible, raise an error.\n",
        "\n",
        "\n",
        "Example:\n"
      ],
      "metadata": {
        "id": "o0XUXdpSpP6N"
      }
    },
    {
      "cell_type": "code",
      "source": [
        "import numpy as np\n",
        "\n",
        "# Create arrays\n",
        "a = np.array([1, 2, 3])\n",
        "b = np.array([4])  # singleton dimension\n",
        "\n",
        "# Broadcasting addition\n",
        "result = a + b\n",
        "print(result)"
      ],
      "metadata": {
        "colab": {
          "base_uri": "https://localhost:8080/"
        },
        "id": "4RvyGDWVpMB1",
        "outputId": "e255f2fd-b071-4bd0-9dc2-ef4bcd19d2cf"
      },
      "execution_count": null,
      "outputs": [
        {
          "output_type": "stream",
          "name": "stdout",
          "text": [
            "[5 6 7]\n"
          ]
        }
      ]
    },
    {
      "cell_type": "markdown",
      "source": [
        "Contribution to Efficient Array Operations:\n",
        "\n",
        "1. Reduced loops: Vectorization eliminates the need for explicit loops.\n",
        "2. Optimized memory access: Broadcasting minimizes memory allocation and copying.\n",
        "3. Parallelization: NumPy operations can be parallelized, taking advantage of multi-core CPUs.\n",
        "\n",
        "\n",
        "Broadcasting Examples:\n"
      ],
      "metadata": {
        "id": "2yzFMPfspbbW"
      }
    },
    {
      "cell_type": "code",
      "source": [
        "#1. Scalar multiplication:\n",
        "a = np.array([1, 2, 3])\n",
        "b = 4\n",
        "result = a * b\n",
        "print(result)"
      ],
      "metadata": {
        "colab": {
          "base_uri": "https://localhost:8080/"
        },
        "id": "DK1BnoYRpUg1",
        "outputId": "ff8f3e70-7ec2-4070-c0c1-37a5a6407640"
      },
      "execution_count": null,
      "outputs": [
        {
          "output_type": "stream",
          "name": "stdout",
          "text": [
            "[ 4  8 12]\n"
          ]
        }
      ]
    },
    {
      "cell_type": "code",
      "source": [
        "#1. Array addition with different shapes:\n",
        "a = np.array([[1, 2], [3, 4]])\n",
        "b = np.array([5, 6])\n",
        "result = a + b\n",
        "print(result)"
      ],
      "metadata": {
        "colab": {
          "base_uri": "https://localhost:8080/"
        },
        "id": "xVJut38fpg28",
        "outputId": "91e515c4-ed94-4b97-a168-92f40cb72b16"
      },
      "execution_count": null,
      "outputs": [
        {
          "output_type": "stream",
          "name": "stdout",
          "text": [
            "[[ 6  8]\n",
            " [ 8 10]]\n"
          ]
        }
      ]
    },
    {
      "cell_type": "markdown",
      "source": [
        "Best Practices:\n",
        "\n",
        "1. Use vectorized operations whenever possible.\n",
        "2. Take advantage of broadcasting to simplify code.\n",
        "3. Verify array shapes and sizes before performing operations.\n",
        "\n",
        "\n",
        "By leveraging vectorization and broadcasting, NumPy provides an efficient and expressive way to perform array operations, making it an ideal choice for scientific computing and data analysis tasks."
      ],
      "metadata": {
        "id": "zjD7j6qkpo_H"
      }
    },
    {
      "cell_type": "markdown",
      "source": [
        "#Practical Part\n",
        "\n",
        "#Q1.Create a 3x3 NumPy array with random integers between 1 and 100. Then, interchange its rows and columns.\n",
        "\n",
        "#Ans. Here's how you can create a 3x3 NumPy array with random integers between 1 and 100 and then interchange its rows and columns:\n"
      ],
      "metadata": {
        "id": "Id5YH7BAqGB7"
      }
    },
    {
      "cell_type": "code",
      "source": [
        "import numpy as np\n",
        "\n",
        "# Create a 3x3 array with random integers between 1 and 100\n",
        "arr = np.random.randint(1, 101, size=(3, 3))\n",
        "print(\"Original Array:\\n\", arr)\n"
      ],
      "metadata": {
        "colab": {
          "base_uri": "https://localhost:8080/"
        },
        "id": "OlrVW3Nxe62Z",
        "outputId": "ce026b98-03b8-46bd-ff58-66549190b377"
      },
      "execution_count": 1,
      "outputs": [
        {
          "output_type": "stream",
          "name": "stdout",
          "text": [
            "Original Array:\n",
            " [[  3  10 100]\n",
            " [ 20  71  40]\n",
            " [ 74  16   9]]\n"
          ]
        }
      ]
    },
    {
      "cell_type": "code",
      "source": [
        "# Interchange rows and columns using transpose()\n",
        "arr_transposed = arr.transpose()\n",
        "print(\"\\nTransposed Array:\\n\", arr_transposed)"
      ],
      "metadata": {
        "colab": {
          "base_uri": "https://localhost:8080/"
        },
        "id": "fdzt3UNye9KZ",
        "outputId": "b02c2aad-87ce-465d-acd2-ab7632351ac8"
      },
      "execution_count": 2,
      "outputs": [
        {
          "output_type": "stream",
          "name": "stdout",
          "text": [
            "\n",
            "Transposed Array:\n",
            " [[  3  20  74]\n",
            " [ 10  71  16]\n",
            " [100  40   9]]\n"
          ]
        }
      ]
    },
    {
      "cell_type": "code",
      "source": [
        "# Alternatively, use np.swapaxes()\n",
        "arr_swapped = np.swapaxes(arr, 0, 1)\n",
        "print(\"\\nSwapped Array:\\n\", arr_swapped)"
      ],
      "metadata": {
        "colab": {
          "base_uri": "https://localhost:8080/"
        },
        "id": "tDViw5abfL42",
        "outputId": "01e33df2-06a0-4a3f-f6c3-ec265519ed71"
      },
      "execution_count": 3,
      "outputs": [
        {
          "output_type": "stream",
          "name": "stdout",
          "text": [
            "\n",
            "Swapped Array:\n",
            " [[  3  20  74]\n",
            " [ 10  71  16]\n",
            " [100  40   9]]\n"
          ]
        }
      ]
    },
    {
      "cell_type": "markdown",
      "source": [
        "In this code:\n",
        "\n",
        "\n",
        "1. np.random.randint(1, 101, size=(3, 3)) generates a 3x3 array with random integers between 1 and 100.\n",
        "2. arr.transpose() interchanges the rows and columns of the array.\n",
        "3. np.swapaxes(arr, 0, 1) achieves the same result as transpose(), but explicitly swaps the specified axes.\n",
        "\n",
        "Both transpose() and np.swapaxes() methods produce the same result, interchanging the rows and columns of the original array."
      ],
      "metadata": {
        "id": "8zvzFxdCfPr2"
      }
    },
    {
      "cell_type": "markdown",
      "source": [
        "#Q2. Generate a 1D NumPy array with 10 elements. Reshape it into a 2x5 array, then into a 5x2 array\n",
        "\n",
        "#Ans. Here's how you can generate a 1D NumPy array with 10 elements, reshape it into a 2x5 array, and then into a 5x2 array:\n"
      ],
      "metadata": {
        "id": "6wemCG8dfZyL"
      }
    },
    {
      "cell_type": "code",
      "source": [
        "import numpy as np\n",
        "# Generate a 1D array with 10 elements\n",
        "arr_1d = np.arange(1, 11)\n",
        "print(\"Original 1D Array:\", arr_1d)"
      ],
      "metadata": {
        "colab": {
          "base_uri": "https://localhost:8080/"
        },
        "id": "NocHgwc_fOsd",
        "outputId": "c5f83e62-882a-4379-b4a5-437c87ce1e28"
      },
      "execution_count": 5,
      "outputs": [
        {
          "output_type": "stream",
          "name": "stdout",
          "text": [
            "Original 1D Array: [ 1  2  3  4  5  6  7  8  9 10]\n"
          ]
        }
      ]
    },
    {
      "cell_type": "code",
      "source": [
        "# Reshape into a 2x5 array\n",
        "arr_2x5 = arr_1d.reshape(2, 5)\n",
        "print(\"\\n2x5 Array:\\n\", arr_2x5)\n"
      ],
      "metadata": {
        "colab": {
          "base_uri": "https://localhost:8080/"
        },
        "id": "EYYckjxRfnD0",
        "outputId": "ac7703ea-bc2c-46cf-f2e8-55c89dae36fb"
      },
      "execution_count": 6,
      "outputs": [
        {
          "output_type": "stream",
          "name": "stdout",
          "text": [
            "\n",
            "2x5 Array:\n",
            " [[ 1  2  3  4  5]\n",
            " [ 6  7  8  9 10]]\n"
          ]
        }
      ]
    },
    {
      "cell_type": "code",
      "source": [
        "# Reshape into a 5x2 array\n",
        "arr_5x2 = arr_1d.reshape(5, 2)\n",
        "print(\"\\n5x2 Array:\\n\", arr_5x2)\n"
      ],
      "metadata": {
        "colab": {
          "base_uri": "https://localhost:8080/"
        },
        "id": "bdk3WC3-frM3",
        "outputId": "e1ffd499-9b9b-4199-9519-2919f141efc6"
      },
      "execution_count": 7,
      "outputs": [
        {
          "output_type": "stream",
          "name": "stdout",
          "text": [
            "\n",
            "5x2 Array:\n",
            " [[ 1  2]\n",
            " [ 3  4]\n",
            " [ 5  6]\n",
            " [ 7  8]\n",
            " [ 9 10]]\n"
          ]
        }
      ]
    },
    {
      "cell_type": "markdown",
      "source": [
        "In this code:\n",
        "\n",
        "\n",
        "1. np.arange(1, 11) generates a 1D array with 10 elements.\n",
        "2. arr_1d.reshape(2, 5) reshapes the 1D array into a 2x5 array.\n",
        "3. arr_1d.reshape(5, 2) reshapes the 1D array into a 5x2 array.\n",
        "\n",
        "\n",
        "Note: The total number of elements must remain the same during reshaping (10 elements in this case)."
      ],
      "metadata": {
        "id": "3MKfvvtxfwlO"
      }
    },
    {
      "cell_type": "markdown",
      "source": [
        "#Q3. Create a 4x4 NumPy array with random float values. Add a border of zeros around it, resulting in a 6x6 array.\n",
        "\n",
        "#Ans. Here's how you can create a 4x4 NumPy array with random float values and add a border of zeros around it, resulting in a 6x6 array:\n",
        "\n"
      ],
      "metadata": {
        "id": "Rnwvmx3XfyHH"
      }
    },
    {
      "cell_type": "code",
      "source": [
        "import numpy as np\n",
        "# Create a 4x4 array with random float values\n",
        "arr = np.random.rand(4, 4)\n",
        "print(\"Original 4x4 Array:\\n\", arr)"
      ],
      "metadata": {
        "colab": {
          "base_uri": "https://localhost:8080/"
        },
        "id": "21UD8ce5fs85",
        "outputId": "52f7aada-3ce5-46b0-e341-5c2dbc5390c8"
      },
      "execution_count": 8,
      "outputs": [
        {
          "output_type": "stream",
          "name": "stdout",
          "text": [
            "Original 4x4 Array:\n",
            " [[0.05855505 0.36972743 0.6875045  0.4878624 ]\n",
            " [0.06787572 0.56721671 0.48493515 0.21841839]\n",
            " [0.70765911 0.86348055 0.80758671 0.30595517]\n",
            " [0.56131936 0.57606532 0.94637901 0.08812032]]\n"
          ]
        }
      ]
    },
    {
      "cell_type": "code",
      "source": [
        "# Add a border of zeros around the array\n",
        "arr_bordered = np.pad(arr, pad_width=1, mode='constant')\n",
        "print(\"\\nBordered 6x6 Array:\\n\", arr_bordered)"
      ],
      "metadata": {
        "colab": {
          "base_uri": "https://localhost:8080/"
        },
        "id": "fyEt3ZK7f-tZ",
        "outputId": "1be15320-5623-40e2-cc09-91b27f837063"
      },
      "execution_count": 9,
      "outputs": [
        {
          "output_type": "stream",
          "name": "stdout",
          "text": [
            "\n",
            "Bordered 6x6 Array:\n",
            " [[0.         0.         0.         0.         0.         0.        ]\n",
            " [0.         0.05855505 0.36972743 0.6875045  0.4878624  0.        ]\n",
            " [0.         0.06787572 0.56721671 0.48493515 0.21841839 0.        ]\n",
            " [0.         0.70765911 0.86348055 0.80758671 0.30595517 0.        ]\n",
            " [0.         0.56131936 0.57606532 0.94637901 0.08812032 0.        ]\n",
            " [0.         0.         0.         0.         0.         0.        ]]\n"
          ]
        }
      ]
    },
    {
      "cell_type": "markdown",
      "source": [
        "In this code:\n",
        "\n",
        "\n",
        "1. np.random.rand(4, 4) generates a 4x4 array with random float values.\n",
        "2. np.pad(arr, pad_width=1, mode='constant') adds a border of zeros around the array.\n",
        "\n",
        "\n",
        "The pad_width parameter specifies the number of rows/columns to add on each side, and mode='constant' specifies that the padded values should be constant (zero in this case)."
      ],
      "metadata": {
        "id": "192E1I5pgFZ0"
      }
    },
    {
      "cell_type": "markdown",
      "source": [
        "#Q4. Using NumPy, create an array of integers from 10 to 60 with a step of 5.\n",
        "\n",
        "#Ans. Here's how you can create an array of integers from 10 to 60 with a step of 5 using NumPy:\n"
      ],
      "metadata": {
        "id": "J0e5xcBAgGgv"
      }
    },
    {
      "cell_type": "code",
      "source": [
        "import numpy as np\n",
        "# Create an array from 10 to 60 with a step of 5\n",
        "arr = np.arange(10, 61, 5)\n",
        "print(arr)\n"
      ],
      "metadata": {
        "colab": {
          "base_uri": "https://localhost:8080/"
        },
        "id": "PGYm3CKogA6W",
        "outputId": "990a4cf0-8e30-4ac1-9ddf-6844aaf758c7"
      },
      "execution_count": 10,
      "outputs": [
        {
          "output_type": "stream",
          "name": "stdout",
          "text": [
            "[10 15 20 25 30 35 40 45 50 55 60]\n"
          ]
        }
      ]
    },
    {
      "cell_type": "markdown",
      "source": [
        "In this code:\n",
        "\n",
        "\n",
        "1. np.arange(10, 61, 5) generates an array of integers.\n",
        "2. The first argument 10 specifies the start value.\n",
        "3. The second argument 61 specifies the end value (exclusive).\n",
        "4. The third argument 5 specifies the step size.\n",
        "\n",
        "\n",
        "Note that the end value is exclusive, so we use 61 instead of 60 to include 60 in the array.\n",
        "\n",
        "\n",
        "Alternatively, you can use np.linspace() to achieve the same result:\n",
        "\n",
        "\n",
        "\n",
        "arr = np.linspace(10, 60, 11, dtype=int)\n",
        "\n",
        "\n",
        "\n",
        "Here:\n",
        "\n",
        "\n",
        "1. np.linspace(10, 60, 11) generates 11 evenly spaced values.\n",
        "2. dtype=int ensures the values are integers."
      ],
      "metadata": {
        "id": "wGUsyWbegXnP"
      }
    },
    {
      "cell_type": "markdown",
      "source": [
        "#Q5. Create a NumPy array of strings ['python', 'numpy', 'pandas']. Apply different case transformations (uppercase, lowercase, title case, etc.) to each element.\n",
        "\n",
        "#Ans. Here's how you can create a NumPy array of strings and apply different case transformations:\n",
        "\n"
      ],
      "metadata": {
        "id": "U3ApLtThgYpe"
      }
    },
    {
      "cell_type": "code",
      "source": [
        "import numpy as np\n",
        "# Create a NumPy array of strings\n",
        "arr = np.array(['python', 'numpy', 'pandas'])\n"
      ],
      "metadata": {
        "id": "G4Byx6O2gRgA"
      },
      "execution_count": 11,
      "outputs": []
    },
    {
      "cell_type": "code",
      "source": [
        "# Apply case transformations\n",
        "uppercase = np.char.upper(arr)\n",
        "lowercase = np.char.lower(arr)\n",
        "title_case = np.char.title(arr)\n",
        "uppercase_first_letter = np.char.capitalize(arr)\n",
        "swapcase = np.char.swapcase(arr)"
      ],
      "metadata": {
        "id": "s6DfCN0qglRd"
      },
      "execution_count": 12,
      "outputs": []
    },
    {
      "cell_type": "code",
      "source": [
        "# Print results\n",
        "print(\"Original Array:\", arr)\n",
        "print(\"Uppercase:\", uppercase)\n",
        "print(\"Lowercase:\", lowercase)\n",
        "print(\"Title Case:\", title_case)\n",
        "print(\"Uppercase First Letter:\", uppercase_first_letter)\n",
        "print(\"Swapcase:\", swapcase)\n",
        "\n"
      ],
      "metadata": {
        "colab": {
          "base_uri": "https://localhost:8080/"
        },
        "id": "2yxDFjVPgoKz",
        "outputId": "94ba855c-6d04-49af-e874-2f66d6c520dd"
      },
      "execution_count": 13,
      "outputs": [
        {
          "output_type": "stream",
          "name": "stdout",
          "text": [
            "Original Array: ['python' 'numpy' 'pandas']\n",
            "Uppercase: ['PYTHON' 'NUMPY' 'PANDAS']\n",
            "Lowercase: ['python' 'numpy' 'pandas']\n",
            "Title Case: ['Python' 'Numpy' 'Pandas']\n",
            "Uppercase First Letter: ['Python' 'Numpy' 'Pandas']\n",
            "Swapcase: ['PYTHON' 'NUMPY' 'PANDAS']\n"
          ]
        }
      ]
    },
    {
      "cell_type": "markdown",
      "source": [
        "In this code:\n",
        "\n",
        "\n",
        "1. np.char.upper(arr) converts all characters to uppercase.\n",
        "2. np.char.lower(arr) converts all characters to lowercase.\n",
        "3. np.char.title(arr) converts the first character of each word to uppercase.\n",
        "4. np.char.capitalize(arr) converts the first character of each string to uppercase.\n",
        "5. np.char.swapcase(arr) swaps the case of each character.\n",
        "\n",
        "\n",
        "The np.char module provides vectorized string operations, making it easy to apply these transformations to each element of the array."
      ],
      "metadata": {
        "id": "S_JO6vkSgu5r"
      }
    },
    {
      "cell_type": "markdown",
      "source": [
        "#Q6. Generate a NumPy array of words. Insert a space between each character of every word in the array.\n",
        "\n",
        "#Ans. Here's how you can generate a NumPy array of words and insert a space between each character of every word:\n"
      ],
      "metadata": {
        "id": "gjn_5rA1gvvf"
      }
    },
    {
      "cell_type": "code",
      "source": [
        "import numpy as np\n",
        "# Generate a NumPy array of words\n",
        "words = np.array([\"Hello\", \"World\", \"NumPy\", \"Array\"])\n",
        "\n",
        "# Insert a space between each character of every word\n",
        "spaced_words = np.array([\"\".join([char + \" \" for char in word]) for word in words])\n",
        "\n",
        "print(spaced_words)"
      ],
      "metadata": {
        "colab": {
          "base_uri": "https://localhost:8080/"
        },
        "id": "zPUXEqSDgp9U",
        "outputId": "c782b273-70b2-43a9-b5a7-548aed9cca4e"
      },
      "execution_count": 14,
      "outputs": [
        {
          "output_type": "stream",
          "name": "stdout",
          "text": [
            "['H e l l o ' 'W o r l d ' 'N u m P y ' 'A r r a y ']\n"
          ]
        }
      ]
    },
    {
      "cell_type": "markdown",
      "source": [
        "In this code:\n",
        "\n",
        "\n",
        "1. np.array([\"Hello\", \"World\", \"NumPy\", \"Array\"]) generates a NumPy array of words.\n",
        "2. The list comprehension [\"\".join([char + \" \" for char in word]) for word in words] inserts a space between each character of every word.\n",
        "\n",
        "\n",
        "Here's how it works:\n",
        "\n",
        "\n",
        "1. for word in words iterates over each word in the array.\n",
        "2. for char in word iterates over each character in the word.\n",
        "3. char + \" \" adds a space after each character.\n",
        "4. \"\".join(...) concatenates the characters with spaces into a single string.\n",
        "\n",
        "\n",
        "Alternatively, you can use np.core.defchararray.add to achieve the same result:\n",
        "\n",
        "\n",
        "\n",
        "spaced_words = np.core.defchararray.add(np.array([list(word) for word in words]).view('S1'), \" \")\n",
        "\n",
        "\n",
        "\n",
        "This method uses:\n",
        "\n",
        "\n",
        "1. np.array([list(word) for word in words]) to convert each word into a list of characters.\n",
        "2. .view('S1') to convert the list of characters into a string.\n",
        "3. np.core.defchararray.add to add a space after each character."
      ],
      "metadata": {
        "id": "Qs82vgvIhAqP"
      }
    },
    {
      "cell_type": "markdown",
      "source": [
        "#Q7. Create two 2D NumPy arrays and perform element-wise addition, subtraction, multiplication, and division.\n",
        "\n",
        "#Ans. Here's how you can create two 2D NumPy arrays and perform element-wise addition, subtraction, multiplication, and division:\n",
        "\n"
      ],
      "metadata": {
        "id": "yJ_FoB7ehBZQ"
      }
    },
    {
      "cell_type": "code",
      "source": [
        "import numpy as np\n",
        "# Create two 2D NumPy arrays\n",
        "array1 = np.array([[10, 20], [30, 40]])\n",
        "array2 = np.array([[5, 10], [15, 20]])"
      ],
      "metadata": {
        "id": "CyOFLOw5g6VR"
      },
      "execution_count": 15,
      "outputs": []
    },
    {
      "cell_type": "code",
      "source": [
        "# Perform element-wise operations\n",
        "addition = array1 + array2\n",
        "subtraction = array1 - array2\n",
        "multiplication = array1 * array2\n",
        "division = array1 / array2\n",
        "\n",
        "# Print results\n",
        "print(\"Array 1:\\n\", array1)\n",
        "print(\"Array 2:\\n\", array2)\n",
        "print(\"Addition:\\n\", addition)\n",
        "print(\"Subtraction:\\n\", subtraction)\n",
        "print(\"Multiplication:\\n\", multiplication)\n",
        "print(\"Division:\\n\", division)\n"
      ],
      "metadata": {
        "colab": {
          "base_uri": "https://localhost:8080/"
        },
        "id": "4SE9QoZlhPNn",
        "outputId": "f4563f2e-34c1-4ef8-db2b-4f5a4bbe62e2"
      },
      "execution_count": 16,
      "outputs": [
        {
          "output_type": "stream",
          "name": "stdout",
          "text": [
            "Array 1:\n",
            " [[10 20]\n",
            " [30 40]]\n",
            "Array 2:\n",
            " [[ 5 10]\n",
            " [15 20]]\n",
            "Addition:\n",
            " [[15 30]\n",
            " [45 60]]\n",
            "Subtraction:\n",
            " [[ 5 10]\n",
            " [15 20]]\n",
            "Multiplication:\n",
            " [[ 50 200]\n",
            " [450 800]]\n",
            "Division:\n",
            " [[2. 2.]\n",
            " [2. 2.]]\n"
          ]
        }
      ]
    },
    {
      "cell_type": "markdown",
      "source": [
        "n this code:\n",
        "\n",
        "\n",
        "1. array1 + array2 performs element-wise addition.\n",
        "2. array1 - array2 performs element-wise subtraction.\n",
        "3. array1 * array2 performs element-wise multiplication.\n",
        "4. array1 / array2 performs element-wise division.\n",
        "\n",
        "\n",
        "Note:\n",
        "\n",
        "\n",
        "- Division by zero will result in inf (infinity) or nan (not a number) values.\n",
        "- Make sure the arrays have the same shape for element-wise operations.\n",
        "\n",
        "\n",
        "Alternatively, you can use NumPy's universal functions (ufuncs) to perform these operations:\n",
        "\n",
        "\n",
        "\n",
        "np.add(array1, array2)\n",
        "np.subtract(array1, array2)\n",
        "np.multiply(array1, array2)\n",
        "np.divide(array1, array2)"
      ],
      "metadata": {
        "id": "VvKoXD3ehUXv"
      }
    },
    {
      "cell_type": "markdown",
      "source": [
        "#Q8. Use NumPy to create a 5x5 identity matrix, then extract its diagonal elements.\n",
        "\n",
        "#Ans. Here's how you can use NumPy to create a 5x5 identity matrix and extract its diagonal elements:\n",
        "\n"
      ],
      "metadata": {
        "id": "tWEWdmd1hdx2"
      }
    },
    {
      "cell_type": "code",
      "source": [
        "import numpy as np\n",
        "\n",
        "# Create a 5x5 identity matrix\n",
        "identity_matrix = np.identity(5)\n",
        "print(\"Identity Matrix:\\n\", identity_matrix)\n",
        "\n",
        "# Extract diagonal elements\n",
        "diagonal_elements = np.diag(identity_matrix)\n",
        "print(\"\\nDiagonal Elements:\", diagonal_elements)\n"
      ],
      "metadata": {
        "colab": {
          "base_uri": "https://localhost:8080/"
        },
        "id": "kBZWgmDqhSM5",
        "outputId": "25f45d86-c54e-4e91-b948-620137e7ad3e"
      },
      "execution_count": 17,
      "outputs": [
        {
          "output_type": "stream",
          "name": "stdout",
          "text": [
            "Identity Matrix:\n",
            " [[1. 0. 0. 0. 0.]\n",
            " [0. 1. 0. 0. 0.]\n",
            " [0. 0. 1. 0. 0.]\n",
            " [0. 0. 0. 1. 0.]\n",
            " [0. 0. 0. 0. 1.]]\n",
            "\n",
            "Diagonal Elements: [1. 1. 1. 1. 1.]\n"
          ]
        }
      ]
    },
    {
      "cell_type": "markdown",
      "source": [
        "In this code:\n",
        "\n",
        "\n",
        "1. np.identity(5) creates a 5x5 identity matrix.\n",
        "2. np.diag(identity_matrix) extracts the diagonal elements.\n",
        "\n",
        "\n",
        "Note:\n",
        "\n",
        "\n",
        "- np.identity(n) creates an n x n identity matrix.\n",
        "- np.diag(array) extracts the diagonal elements of a 2D array.\n",
        "\n",
        "\n",
        "Alternatively, you can use np.eye(n) to create an identity matrix:\n",
        "\n",
        "\n",
        "\n",
        "identity_matrix = np.eye(5)\n",
        "\n",
        "\n",
        "\n",
        "Or, use np.diagflat to create a diagonal matrix from a 1D array:\n",
        "\n",
        "\n",
        "\n",
        "diagonal_elements = np.array([1, 1, 1, 1, 1])\n",
        "diagonal_matrix = np.diagflat(diagonal_elements)"
      ],
      "metadata": {
        "id": "NNx6pEsrhrxN"
      }
    },
    {
      "cell_type": "markdown",
      "source": [
        "#Q9. Generate a NumPy array of 100 random integers between 0 and 1000. Find and display all prime numbers in this array.\n",
        "\n",
        "#Ans. Here's how you can generate a NumPy array of 100 random integers between 0 and 1000 and find all prime numbers in this array:\n"
      ],
      "metadata": {
        "id": "jAZ_wmWlhyaJ"
      }
    },
    {
      "cell_type": "code",
      "source": [
        "import numpy as np\n",
        "\n",
        "# Generate a NumPy array of 100 random integers between 0 and 1000\n",
        "random_array = np.random.randint(0, 1001, 100)\n",
        "print(\"Random Array:\\n\", random_array)\n",
        "\n",
        "# Function to check if a number is prime\n",
        "def is_prime(n):\n",
        "    if n < 2:\n",
        "        return False\n",
        "    for i in range(2, int(np.sqrt(n)) + 1):\n",
        "        if n % i == 0:\n",
        "            return False\n",
        "    return True\n",
        "\n",
        "import numpy as np\n",
        "\n",
        "# Generate a NumPy array of 100 random integers between 0 and 1000\n",
        "random_array = np.random.randint(0, 1001, 100)\n",
        "print(\"Random Array:\\n\", random_array)\n",
        "\n",
        "# Function to check if a number is prime\n",
        "def is_prime(n):\n",
        "    if n < 2:\n",
        "        return False\n",
        "    for i in range(2, int(np.sqrt(n)) + 1):\n",
        "        if n % i == 0:\n",
        "            return False\n",
        "    return True\n",
        "\n",
        "# Find prime numbers in the array\n",
        "prime_numbers = [num for num in random_array if is_prime(num)]\n",
        "print(\"\\nPrime Numbers:\", prime_numbers)\n",
        "\n",
        "# Alternatively, use NumPy vectorized operations\n",
        "prime_numbers_vectorized = random_array[np.vectorize(is_prime)(random_array)]\n",
        "print(\"\\nPrime Numbers (Vectorized):\", prime_numbers_vectorized)\n"
      ],
      "metadata": {
        "colab": {
          "base_uri": "https://localhost:8080/"
        },
        "id": "Qb8pWDyShqv0",
        "outputId": "9081e5a6-73ac-467f-8671-a0b782b80f9b"
      },
      "execution_count": 19,
      "outputs": [
        {
          "output_type": "stream",
          "name": "stdout",
          "text": [
            "Random Array:\n",
            " [244 847 314 131 381 656 994 193 936 549 221 960 793 541 845 323 379  31\n",
            "  13 339 828 652 176 445  84 417 397 110 140 632 335 762 323 700 687 889\n",
            " 150 595 177 507 109 752   9 874 968 335 900 547 330 545 162 795 336 189\n",
            " 346 348 230 408 577 230 650 906 519 853 646 597 917 864 209 901 304 249\n",
            " 189 916  74 155 696 955 313  91   9 733 369 803 694 958 444 625 798 324\n",
            "  48 167  18 235 142 599 532 520 449 937]\n",
            "Random Array:\n",
            " [464 358 796 801 927 553 466 462 133 992 955 139 552 540 955 519 362 536\n",
            " 404  59 836 505 947  77 380  76 231 577 915 974 258 782 712 923 774 268\n",
            " 961 182 951 354 231 493 716 228 761 406 421 862 168  96 492 598 348 829\n",
            " 648 677 764 944  89 250 766 327 402 997 305 298 646 993 756 979 874  63\n",
            " 247 560 884 879 487 445 538 575 962 802 122 226 166 968  36 256 656 441\n",
            " 171 730 616 481 238 938 968 144 723 693]\n",
            "\n",
            "Prime Numbers: [139, 59, 947, 577, 761, 421, 829, 677, 89, 997, 487]\n",
            "\n",
            "Prime Numbers (Vectorized): [139  59 947 577 761 421 829 677  89 997 487]\n"
          ]
        }
      ]
    },
    {
      "cell_type": "markdown",
      "source": [
        "\n",
        "In this code:\n",
        "\n",
        "\n",
        "1. `np.random.randint(0, 1001, 100)` generates a NumPy array of 100 random integers between 0 and 1000.\n",
        "2. The `is_prime` function checks if a number is prime.\n",
        "3. List comprehension `[num for num in random_array if is_prime(num)]` finds prime numbers in the array.\n",
        "4. `np.vectorize(is_prime)(random_array)` applies the `is_prime` function element-wise to the array.\n",
        "\n",
        "\n",
        "Note:\n",
        "\n",
        "\n",
        "* This implementation uses a simple trial division method to check for primality.\n",
        "* For larger numbers, consider using more efficient primality tests like the Miller-Rabin test.\n",
        "\n",
        "\n",
        "Alternatively, you can use the `sympy` library, which provides an optimized `isprime` function:\n",
        "\n",
        "\n",
        "```\n",
        "import sympy as sp\n",
        "\n",
        "prime_numbers = [num for num in random_array if sp.isprime(num)]```"
      ],
      "metadata": {
        "id": "oS8fMVZaiFkh"
      }
    },
    {
      "cell_type": "markdown",
      "source": [
        "#Q10. Create a NumPy array representing daily temperatures for a month. Calculate and display the weekly averages.\n",
        "\n",
        "#Ans. Here's how you can create a NumPy array representing daily temperatures for a month and calculate the weekly averages:\n",
        "\n",
        "\n"
      ],
      "metadata": {
        "id": "PyufAsmTiPCR"
      }
    },
    {
      "cell_type": "code",
      "source": [
        "import numpy as np\n",
        "import matplotlib.pyplot as plt\n",
        "\n",
        "# Create a NumPy array representing daily temperatures for a month (30 days)\n",
        "np.random.seed(0)\n",
        "daily_temperatures = np.random.uniform(20, 80, 30)\n",
        "print(\"Daily Temperatures:\\n\", daily_temperatures)\n",
        "\n",
        "\n"
      ],
      "metadata": {
        "colab": {
          "base_uri": "https://localhost:8080/"
        },
        "id": "T6tmThRYifOz",
        "outputId": "8b738cce-d77c-4353-8a8f-b2a197d6739e"
      },
      "execution_count": 24,
      "outputs": [
        {
          "output_type": "stream",
          "name": "stdout",
          "text": [
            "Daily Temperatures:\n",
            " [52.92881024 62.91136198 56.16580256 52.69299098 45.41928796 58.75364678\n",
            " 46.25523268 73.50638005 77.81976563 43.00649113 67.50350228 51.73369519\n",
            " 54.08267367 75.5357983  24.26216349 25.22775798 21.21310385 69.95719073\n",
            " 66.68940506 72.20072889 78.71710053 67.94951385 47.68876174 66.83175058\n",
            " 27.09646555 58.39526128 28.60119724 76.68013502 51.31089931 44.8797164 ]\n"
          ]
        }
      ]
    },
    {
      "cell_type": "code",
      "source": [],
      "metadata": {
        "id": "hOjLJTH8kBCa"
      },
      "execution_count": null,
      "outputs": []
    }
  ]
}