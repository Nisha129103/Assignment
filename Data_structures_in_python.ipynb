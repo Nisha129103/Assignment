{
  "nbformat": 4,
  "nbformat_minor": 0,
  "metadata": {
    "colab": {
      "provenance": [],
      "authorship_tag": "ABX9TyOg5aZ2kHPEYSM4W+Io/3oX",
      "include_colab_link": true
    },
    "kernelspec": {
      "name": "python3",
      "display_name": "Python 3"
    },
    "language_info": {
      "name": "python"
    }
  },
  "cells": [
    {
      "cell_type": "markdown",
      "metadata": {
        "id": "view-in-github",
        "colab_type": "text"
      },
      "source": [
        "<a href=\"https://colab.research.google.com/github/Nisha129103/Assignment/blob/main/Data_structures_in_python.ipynb\" target=\"_parent\"><img src=\"https://colab.research.google.com/assets/colab-badge.svg\" alt=\"Open In Colab\"/></a>"
      ]
    },
    {
      "cell_type": "markdown",
      "source": [
        "#Q1. Write a code to reverse a string.\n"
      ],
      "metadata": {
        "id": "mPaHiUSwVtuZ"
      }
    },
    {
      "cell_type": "code",
      "source": [
        "#Ans.\n",
        "def reverse_string(s):\n",
        "    return s[::-1]\n",
        "\n",
        "# Example usage\n",
        "input_string = \"Hello, World!\"\n",
        "reversed_string = reverse_string(input_string)\n",
        "print(reversed_string)"
      ],
      "metadata": {
        "colab": {
          "base_uri": "https://localhost:8080/"
        },
        "id": "vrffgMLTWeuc",
        "outputId": "97f3119f-28c0-4003-bdba-522a5a69c21a"
      },
      "execution_count": null,
      "outputs": [
        {
          "output_type": "stream",
          "name": "stdout",
          "text": [
            "!dlroW ,olleH\n"
          ]
        }
      ]
    },
    {
      "cell_type": "markdown",
      "source": [
        "#Q2. write a code to count the number of vowels in a string"
      ],
      "metadata": {
        "id": "E2_0KSN7XBu_"
      }
    },
    {
      "cell_type": "code",
      "source": [
        "#Ans.\n",
        "def count_vowels(s):\n",
        "    vowels = \"aeiouAEIOU\"\n",
        "    count = sum(1 for char in s if char in vowels)\n",
        "    return count\n",
        "\n",
        "# Example usage\n",
        "input_string = \"Hello, World!\"\n",
        "vowel_count = count_vowels(input_string)\n",
        "print(vowel_count)"
      ],
      "metadata": {
        "colab": {
          "base_uri": "https://localhost:8080/"
        },
        "id": "ZGdX4CIoXD0F",
        "outputId": "d9a2c3a8-4dfa-412d-fd4f-240da19ac7c2"
      },
      "execution_count": null,
      "outputs": [
        {
          "output_type": "stream",
          "name": "stdout",
          "text": [
            "3\n"
          ]
        }
      ]
    },
    {
      "cell_type": "markdown",
      "source": [
        "#Q3. write a code to check if a given string is a palindrome or not?\n"
      ],
      "metadata": {
        "id": "r9q-k0rnYLzL"
      }
    },
    {
      "cell_type": "code",
      "source": [
        "#Ans.\n",
        "def is_palindrome(s: str) -> bool:\n",
        "    \"\"\"\n",
        "    Checks if a given string is a palindrome.\n",
        "\n",
        "    Args:\n",
        "    s (str): The input string.\n",
        "\n",
        "    Returns:\n",
        "    bool: True if the string is a palindrome, False otherwise.\n",
        "    \"\"\"\n",
        "    s = ''.join(c for c in s if c.isalnum()).lower()  # remove spaces and convert to lowercase\n",
        "    return s == s[::-1]  # compare string with its reverse\n"
      ],
      "metadata": {
        "id": "FiHInb6GYjOn"
      },
      "execution_count": null,
      "outputs": []
    },
    {
      "cell_type": "code",
      "source": [
        "print(is_palindrome(\"radar\"))"
      ],
      "metadata": {
        "colab": {
          "base_uri": "https://localhost:8080/"
        },
        "id": "YcrQV_pLYoj9",
        "outputId": "2a46608f-e4c0-453b-ca60-8fc64c452010"
      },
      "execution_count": null,
      "outputs": [
        {
          "output_type": "stream",
          "name": "stdout",
          "text": [
            "True\n"
          ]
        }
      ]
    },
    {
      "cell_type": "markdown",
      "source": [
        "#Q4.Write a code to check if two given string are anagrams of each other"
      ],
      "metadata": {
        "id": "NPICx9HFZVPZ"
      }
    },
    {
      "cell_type": "code",
      "source": [
        "#Ans.\n",
        "def are_anagrams(str1: str, str2: str) -> bool:\n",
        "    \"\"\"\n",
        "    Checks if two given strings are anagrams of each other.\n",
        "\n",
        "    Args:\n",
        "    str1 (str): The first input string.\n",
        "    str2 (str): The second input string.\n",
        "\n",
        "    Returns:\n",
        "    bool: True if the strings are anagrams, False otherwise.\n",
        "    \"\"\"\n",
        "    # Remove spaces and convert to lowercase\n",
        "    str1 = ''.join(c for c in str1 if c.isalnum()).lower()\n",
        "    str2 = ''.join(c for c in str2 if c.isalnum()).lower()\n",
        "\n",
        "    # Check if sorted strings are equal\n",
        "    return sorted(str1) == sorted(str2)"
      ],
      "metadata": {
        "id": "DqBnlMSrZZX6"
      },
      "execution_count": null,
      "outputs": []
    },
    {
      "cell_type": "code",
      "source": [
        "print(are_anagrams(\"listen\", \"silent\"))"
      ],
      "metadata": {
        "colab": {
          "base_uri": "https://localhost:8080/"
        },
        "id": "-Upv7veoZehf",
        "outputId": "150c907f-5e9d-4382-c715-6f1f55992699"
      },
      "execution_count": null,
      "outputs": [
        {
          "output_type": "stream",
          "name": "stdout",
          "text": [
            "True\n"
          ]
        }
      ]
    },
    {
      "cell_type": "markdown",
      "source": [
        "#Q5. Write a code to find  all occurrences of a given substring within another string"
      ],
      "metadata": {
        "id": "SGUGpqDXaIZs"
      }
    },
    {
      "cell_type": "code",
      "source": [
        "#Ans.\n",
        "def find_substring_occurrences(main_string: str, sub_string: str) -> list:\n",
        "    \"\"\"\n",
        "    Finds all occurrences of a given substring within another string.\n",
        "\n",
        "    Args:\n",
        "    main_string (str): The string to search in.\n",
        "    sub_string (str): The substring to search for.\n",
        "\n",
        "    Returns:\n",
        "    list: A list of indices where the substring occurs.\n",
        "    \"\"\"\n",
        "    indices = []\n",
        "    start = 0\n",
        "    while start < len(main_string):\n",
        "        index = main_string.find(sub_string, start)\n",
        "        if index != -1:\n",
        "            indices.append(index)\n",
        "            start = index + 1\n",
        "        else:\n",
        "            break\n",
        "    return indices\n"
      ],
      "metadata": {
        "id": "xYUqV60iaTB2"
      },
      "execution_count": null,
      "outputs": []
    },
    {
      "cell_type": "code",
      "source": [
        "main_string = \"The quick brown fox jumps over the lazy dog\"\n",
        "sub_string = \"the\"\n",
        "print(find_substring_occurrences(main_string, sub_string))"
      ],
      "metadata": {
        "colab": {
          "base_uri": "https://localhost:8080/"
        },
        "id": "x6aXVcraaUp8",
        "outputId": "6c65a59f-8de4-44d9-d263-21e33e2eca4b"
      },
      "execution_count": null,
      "outputs": [
        {
          "output_type": "stream",
          "name": "stdout",
          "text": [
            "[31]\n"
          ]
        }
      ]
    },
    {
      "cell_type": "code",
      "source": [
        "print(find_substring_occurrences(main_string, \"fox\"))"
      ],
      "metadata": {
        "colab": {
          "base_uri": "https://localhost:8080/"
        },
        "id": "eg5DfeUXaY9A",
        "outputId": "97204c85-7472-466d-9cde-f02cc9d7e42c"
      },
      "execution_count": null,
      "outputs": [
        {
          "output_type": "stream",
          "name": "stdout",
          "text": [
            "[16]\n"
          ]
        }
      ]
    },
    {
      "cell_type": "code",
      "source": [
        "print(find_substring_occurrences(main_string, \"cat\"))"
      ],
      "metadata": {
        "colab": {
          "base_uri": "https://localhost:8080/"
        },
        "id": "ogBNIpvKachA",
        "outputId": "a20d6931-d402-4233-9d07-008d45336c83"
      },
      "execution_count": null,
      "outputs": [
        {
          "output_type": "stream",
          "name": "stdout",
          "text": [
            "[]\n"
          ]
        }
      ]
    },
    {
      "cell_type": "markdown",
      "source": [
        "#Q6. Write a code to perform basic string compression using the counts of repeated characters?\n",
        "#Ans. Here's a Python function to perform basic string compression using the counts of repeated characters:"
      ],
      "metadata": {
        "id": "QXd_mC88-L_c"
      }
    },
    {
      "cell_type": "code",
      "source": [
        "def compress_string(input_str):\n",
        "    \"\"\"\n",
        "    Compresses a string using run-length encoding (RLE).\n",
        "\n",
        "    Args:\n",
        "        input_str (str): The input string to compress.\n",
        "\n",
        "    Returns:\n",
        "        str: The compressed string.\n",
        "    \"\"\"\n",
        "    if not input_str:\n",
        "        return \"\"\n",
        "\n",
        "    compressed = []\n",
        "    count = 1\n",
        "\n",
        "    for i in range(1, len(input_str)):\n",
        "        if input_str[i] == input_str[i - 1]:\n",
        "            count += 1\n",
        "        else:\n",
        "            compressed.append(input_str[i - 1] + str(count))\n",
        "            count = 1\n",
        "\n",
        "    compressed.append(input_str[-1] + str(count))\n",
        "    return \"\".join(compressed)\n"
      ],
      "metadata": {
        "id": "y0xi-vg9-VTt"
      },
      "execution_count": null,
      "outputs": []
    },
    {
      "cell_type": "code",
      "source": [
        "input_str = \"AAABBBCCCDDDD\"\n",
        "compressed_str = compress_string(input_str)\n",
        "print(f\"Input: {input_str}\")\n",
        "print(f\"Compressed: {compressed_str}\")\n"
      ],
      "metadata": {
        "colab": {
          "base_uri": "https://localhost:8080/"
        },
        "id": "MVfnlBHb-bJj",
        "outputId": "658aa61b-5812-4829-ff01-a82c5c784c30"
      },
      "execution_count": null,
      "outputs": [
        {
          "output_type": "stream",
          "name": "stdout",
          "text": [
            "Input: AAABBBCCCDDDD\n",
            "Compressed: A3B3C3D4\n"
          ]
        }
      ]
    },
    {
      "cell_type": "markdown",
      "source": [
        "#Q7. Write a code to determine if a string has all unique character?\n",
        "#Ans. Here's a Python function to determine if a string has all unique characters:\n"
      ],
      "metadata": {
        "id": "arU942iy-ur0"
      }
    },
    {
      "cell_type": "code",
      "source": [
        "def has_unique_chars(input_str):\n",
        "    \"\"\"\n",
        "    Checks if a string has all unique characters.\n",
        "\n",
        "    Args:\n",
        "        input_str (str): The input string to check.\n",
        "\n",
        "    Returns:\n",
        "        bool: True if all characters are unique, False otherwise.\n",
        "    \"\"\"\n",
        "    return len(set(input_str)) == len(input_str)\n"
      ],
      "metadata": {
        "id": "iFL1yKgv-2_F"
      },
      "execution_count": null,
      "outputs": []
    },
    {
      "cell_type": "code",
      "source": [
        "# Example usage:\n",
        "input_str = \"abcdefg\"\n",
        "print(f\"Input: {input_str}\")\n",
        "print(f\"Has unique chars: {has_unique_chars(input_str)}\")\n",
        "\n",
        "\n",
        "input_str = \"aabbcc\"\n",
        "print(f\"\\nInput: {input_str}\")\n",
        "print(f\"Has unique chars: {has_unique_chars(input_str)}\")\n",
        "\n"
      ],
      "metadata": {
        "colab": {
          "base_uri": "https://localhost:8080/"
        },
        "id": "jX-KO0O2-5kP",
        "outputId": "73cdca73-0fca-42e0-8ff2-11769ae52031"
      },
      "execution_count": null,
      "outputs": [
        {
          "output_type": "stream",
          "name": "stdout",
          "text": [
            "Input: abcdefg\n",
            "Has unique chars: True\n",
            "\n",
            "Input: aabbcc\n",
            "Has unique chars: False\n"
          ]
        }
      ]
    },
    {
      "cell_type": "markdown",
      "source": [
        "#Q8. Write a code to convert a given string to uppercase or lowercase?\n",
        "#Ans. Here's a Python code snippet to convert a given string to uppercase or lowercase:\n"
      ],
      "metadata": {
        "id": "7k0hMOHo_O2A"
      }
    },
    {
      "cell_type": "code",
      "source": [
        "input_str = \"Hello World\""
      ],
      "metadata": {
        "id": "FviBsClWBGSg"
      },
      "execution_count": null,
      "outputs": []
    },
    {
      "cell_type": "code",
      "source": [
        "print(f\"Uppercase: {input_str.upper()}\")"
      ],
      "metadata": {
        "colab": {
          "base_uri": "https://localhost:8080/"
        },
        "id": "6p-nV9-nBIa7",
        "outputId": "fd93ad15-3026-4ad8-d165-63db49446462"
      },
      "execution_count": null,
      "outputs": [
        {
          "output_type": "stream",
          "name": "stdout",
          "text": [
            "Uppercase: HELLO WORLD\n"
          ]
        }
      ]
    },
    {
      "cell_type": "code",
      "source": [
        "print(f\"Lowercase: {input_str.lower()}\")"
      ],
      "metadata": {
        "colab": {
          "base_uri": "https://localhost:8080/"
        },
        "id": "Zbg2b5MfBJ-s",
        "outputId": "bcf89895-2d1a-4276-9a76-747f10ca1d9f"
      },
      "execution_count": null,
      "outputs": [
        {
          "output_type": "stream",
          "name": "stdout",
          "text": [
            "Lowercase: hello world\n"
          ]
        }
      ]
    },
    {
      "cell_type": "code",
      "source": [
        "#Q9. Write a code to count the number of words in a string?\n",
        "#Ans. Here's a Python code snippet to count the number of words in a string:"
      ],
      "metadata": {
        "id": "t7rLSMEnBLWZ"
      },
      "execution_count": null,
      "outputs": []
    },
    {
      "cell_type": "code",
      "source": [
        "def count_words(input_str):\n",
        "    \"\"\"\n",
        "    Counts the number of words in a string.\n",
        "\n",
        "    Args:\n",
        "        input_str (str): The input string.\n",
        "\n",
        "    Returns:\n",
        "        int: The number of words.\n",
        "    \"\"\"\n",
        "    words = input_str.split()\n",
        "    return len(words)"
      ],
      "metadata": {
        "id": "VhYTldE2Bpjc"
      },
      "execution_count": null,
      "outputs": []
    },
    {
      "cell_type": "code",
      "source": [
        "input_str = \"Hello World, this is a test string.\"\n",
        "print(f\"Input: {input_str}\")\n",
        "print(f\"Number of words: {count_words(input_str)}\")"
      ],
      "metadata": {
        "colab": {
          "base_uri": "https://localhost:8080/"
        },
        "id": "lt8034NAB5VN",
        "outputId": "f5d07ec0-dd71-4e20-e1bf-32ad10959e43"
      },
      "execution_count": null,
      "outputs": [
        {
          "output_type": "stream",
          "name": "stdout",
          "text": [
            "Input: Hello World, this is a test string.\n",
            "Number of words: 7\n"
          ]
        }
      ]
    },
    {
      "cell_type": "markdown",
      "source": [
        "#Q10. Write a code to concatenate two strings without using the + operator?\n",
        "#Ans. Here's a Python code snippet to concatenate two strings without using the + operator:\n"
      ],
      "metadata": {
        "id": "_kXyoTJXB9xl"
      }
    },
    {
      "cell_type": "code",
      "source": [
        "def concat_strings(str1, str2):\n",
        "    \"\"\"\n",
        "    Concatenates two strings without using the + operator.\n",
        "\n",
        "    Args:\n",
        "        str1 (str): The first string.\n",
        "        str2 (str): The second string.\n",
        "\n",
        "    Returns:\n",
        "        str: The concatenated string.\n",
        "    \"\"\"\n",
        "    return \"%s%s\" % (str1, str2)"
      ],
      "metadata": {
        "id": "j9bnxfQFCH2Z"
      },
      "execution_count": null,
      "outputs": []
    },
    {
      "cell_type": "code",
      "source": [
        "str1 = \"Hello\"\n",
        "str2 = \"World\"\n",
        "\n",
        "print(f\"String 1: {str1}\")\n",
        "print(f\"String 2: {str2}\")\n",
        "print(f\"Concatenated: {concat_strings(str1, str2)}\")\n"
      ],
      "metadata": {
        "colab": {
          "base_uri": "https://localhost:8080/"
        },
        "id": "wNhTax5WCWA0",
        "outputId": "ccb9555d-8ab2-4e60-b3e0-d00712716934"
      },
      "execution_count": null,
      "outputs": [
        {
          "output_type": "stream",
          "name": "stdout",
          "text": [
            "String 1: Hello\n",
            "String 2: World\n",
            "Concatenated: HelloWorld\n"
          ]
        }
      ]
    },
    {
      "cell_type": "markdown",
      "source": [
        "#Q11. Write a code to remove all occurances of a specific element from a list?\n",
        "#Ans. Here's a Python code snippet to remove all occurrences of a specific element from a list:"
      ],
      "metadata": {
        "id": "03EGQzG_Cl-F"
      }
    },
    {
      "cell_type": "code",
      "source": [
        "def remove_element(lst, target):\n",
        "    \"\"\"\n",
        "    Removes all occurrences of a specific element from a list.\n",
        "\n",
        "    Args:\n",
        "        lst (list): The input list.\n",
        "        target: The element to remove.\n",
        "\n",
        "    Returns:\n",
        "        list: The modified list.\n",
        "    \"\"\"\n",
        "    return [x for x in lst if x != target]"
      ],
      "metadata": {
        "id": "lbtNVUhhCu_S"
      },
      "execution_count": null,
      "outputs": []
    },
    {
      "cell_type": "code",
      "source": [
        "# Example usage:\n",
        "lst = [1, 2, 3, 4, 2, 5, 2, 6]\n",
        "target = 2\n",
        "\n",
        "print(f\"Original list: {lst}\")\n",
        "print(f\"Target element: {target}\")\n",
        "print(f\"Modified list: {remove_element(lst, target)}\")\n"
      ],
      "metadata": {
        "colab": {
          "base_uri": "https://localhost:8080/"
        },
        "id": "5KO89v0YCyc-",
        "outputId": "f917221d-c22e-47a3-8d6a-71fbda5f5fcc"
      },
      "execution_count": null,
      "outputs": [
        {
          "output_type": "stream",
          "name": "stdout",
          "text": [
            "Original list: [1, 2, 3, 4, 2, 5, 2, 6]\n",
            "Target element: 2\n",
            "Modified list: [1, 3, 4, 5, 6]\n"
          ]
        }
      ]
    },
    {
      "cell_type": "markdown",
      "source": [
        "#Q12. Implement a code to find the second largest number in s given list of intergers?\n",
        "#Ans. Here's a Python code snippet to find the second largest number in a given list of integers:"
      ],
      "metadata": {
        "id": "JTozjFKgC3Bg"
      }
    },
    {
      "cell_type": "code",
      "source": [
        "def second_largest(nums):\n",
        "    \"\"\"\n",
        "    Finds the second largest number in a list of integers.\n",
        "\n",
        "    Args:\n",
        "        nums (list): A list of integers.\n",
        "\n",
        "    Returns:\n",
        "        int: The second largest number.\n",
        "    \"\"\"\n",
        "    if len(nums) < 2:\n",
        "        raise ValueError(\"List must contain at least two elements\")\n",
        "\n",
        "    max_num = second_max = float('-inf')\n",
        "    for num in nums:\n",
        "        if num > max_num:\n",
        "            second_max = max_num\n",
        "            max_num = num\n",
        "        elif num > second_max and num != max_num:\n",
        "            second_max = num\n",
        "\n",
        "    if second_max == float('-inf'):\n",
        "        raise ValueError(\"No second largest number found\")\n",
        "\n",
        "    return second_max\n"
      ],
      "metadata": {
        "id": "d9NcpzqRC1ap"
      },
      "execution_count": null,
      "outputs": []
    },
    {
      "cell_type": "code",
      "source": [
        "# Example usage:\n",
        "nums = [10, 20, 30, 40, 50]\n",
        "print(f\"List: {nums}\")\n",
        "print(f\"Second largest: {second_largest(nums)}\")\n"
      ],
      "metadata": {
        "colab": {
          "base_uri": "https://localhost:8080/"
        },
        "id": "_m-e_IjODM5p",
        "outputId": "382d3bb0-d3d6-4666-9336-fe83028638c9"
      },
      "execution_count": null,
      "outputs": [
        {
          "output_type": "stream",
          "name": "stdout",
          "text": [
            "List: [10, 20, 30, 40, 50]\n",
            "Second largest: 40\n"
          ]
        }
      ]
    },
    {
      "cell_type": "markdown",
      "source": [
        "#Q13. Create a code to count the occurrence of each element in a list and return a dictionary with elements as keys and their counts as value?\n",
        "#Ans. Here's a Python code snippet to count the occurrence of each element in a list and return a dictionary with elements as keys and their counts as values:"
      ],
      "metadata": {
        "id": "oagzBoaEDQlh"
      }
    },
    {
      "cell_type": "code",
      "source": [
        "def count_elements(lst):\n",
        "    \"\"\"\n",
        "    Counts the occurrence of each element in a list.\n",
        "\n",
        "    Args:\n",
        "        lst (list): The input list.\n",
        "\n",
        "    Returns:\n",
        "        dict: A dictionary with elements as keys and their counts as values.\n",
        "    \"\"\"\n",
        "    count_dict = {}\n",
        "    for element in lst:\n",
        "        if element in count_dict:\n",
        "            count_dict[element] += 1\n",
        "        else:\n",
        "            count_dict[element] = 1\n",
        "    return count_dict"
      ],
      "metadata": {
        "id": "3FsTLc1YDPaE"
      },
      "execution_count": null,
      "outputs": []
    },
    {
      "cell_type": "code",
      "source": [
        "# Example usage:\n",
        "lst = [1, 2, 2, 3, 3, 3, 4, 4, 4, 4]\n",
        "print(f\"List: {lst}\")\n",
        "print(f\"Element counts: {count_elements(lst)}\")\n",
        "\n"
      ],
      "metadata": {
        "colab": {
          "base_uri": "https://localhost:8080/"
        },
        "id": "gD2k4tnYDgdJ",
        "outputId": "e5487092-1817-48ef-b047-2f1cbeb924b3"
      },
      "execution_count": null,
      "outputs": [
        {
          "output_type": "stream",
          "name": "stdout",
          "text": [
            "List: [1, 2, 2, 3, 3, 3, 4, 4, 4, 4]\n",
            "Element counts: {1: 1, 2: 2, 3: 3, 4: 4}\n"
          ]
        }
      ]
    },
    {
      "cell_type": "markdown",
      "source": [
        "#Q14.Write a code to reverse a list in-place without using any built-in reverse functions?\n",
        "#Ans. Here's a Python code snippet to reverse a list in-place without using any built-in reverse functions:\n",
        "\n"
      ],
      "metadata": {
        "id": "bWKXpGdoDmTu"
      }
    },
    {
      "cell_type": "code",
      "source": [
        "def reverse_list_in_place(lst):\n",
        "    \"\"\"\n",
        "    Reverses a list in-place without using built-in reverse functions.\n",
        "\n",
        "    Args:\n",
        "        lst (list): The list to reverse.\n",
        "    \"\"\"\n",
        "    left = 0\n",
        "    right = len(lst) - 1\n",
        "\n",
        "    while left < right:\n",
        "        # Swap elements at left and right indices\n",
        "        lst[left], lst[right] = lst[right], lst[left]\n",
        "        left += 1\n",
        "        right -= 1"
      ],
      "metadata": {
        "id": "RwE8hT0fDkv1"
      },
      "execution_count": null,
      "outputs": []
    },
    {
      "cell_type": "code",
      "source": [
        "# Example usage:\n",
        "lst = [1, 2, 3, 4, 5]\n",
        "print(f\"Original list: {lst}\")\n",
        "reverse_list_in_place(lst)\n",
        "print(f\"Reversed list: {lst}\")\n"
      ],
      "metadata": {
        "colab": {
          "base_uri": "https://localhost:8080/"
        },
        "id": "sBeO9Us4D_FL",
        "outputId": "684c0e33-0b2b-4dd6-9905-be09594dc85e"
      },
      "execution_count": null,
      "outputs": [
        {
          "output_type": "stream",
          "name": "stdout",
          "text": [
            "Original list: [1, 2, 3, 4, 5]\n",
            "Reversed list: [5, 4, 3, 2, 1]\n"
          ]
        }
      ]
    },
    {
      "cell_type": "markdown",
      "source": [
        "#Q15. Implement a code to find and remove duplicates from a list while preserving the original order of elements?\n",
        "#Ans. Here's a Python code snippet to find and remove duplicates from a list while preserving the original order of elements:"
      ],
      "metadata": {
        "id": "-W6kvN5yEDzf"
      }
    },
    {
      "cell_type": "code",
      "source": [
        "def remove_duplicates(lst):\n",
        "    \"\"\"\n",
        "    Removes duplicates from a list while preserving the original order.\n",
        "\n",
        "    Args:\n",
        "        lst (list): The input list.\n",
        "\n",
        "    Returns:\n",
        "        list: The list with duplicates removed.\n",
        "    \"\"\"\n",
        "    seen = set()\n",
        "    return [x for x in lst if not (x in seen or seen.add(x))]\n"
      ],
      "metadata": {
        "id": "GlxdmijNECwK"
      },
      "execution_count": null,
      "outputs": []
    },
    {
      "cell_type": "code",
      "source": [
        "# Example usage:\n",
        "lst = [1, 2, 3, 2, 4, 5, 5, 6]\n",
        "print(f\"Original list: {lst}\")\n",
        "print(f\"List without duplicates: {remove_duplicates(lst)}\")"
      ],
      "metadata": {
        "id": "9d0qRd1HEP9H",
        "outputId": "fb2e7ea5-e6ae-42ea-d007-17b9232d0e62",
        "colab": {
          "base_uri": "https://localhost:8080/"
        }
      },
      "execution_count": null,
      "outputs": [
        {
          "output_type": "stream",
          "name": "stdout",
          "text": [
            "Original list: [1, 2, 3, 2, 4, 5, 5, 6]\n",
            "List without duplicates: [1, 2, 3, 4, 5, 6]\n"
          ]
        }
      ]
    },
    {
      "cell_type": "markdown",
      "source": [
        "#Q16- Create a code to check if a given list is sorted (either in ascending or descending order) or not.\n",
        "#Ans."
      ],
      "metadata": {
        "id": "_ayD1T86WInB"
      }
    },
    {
      "cell_type": "code",
      "source": [
        "def is_sorted(lst):\n",
        "    if len(lst) < 2:\n",
        "        return True  # A list with 0 or 1 element is considered sorted\n",
        "\n",
        "    ascending = all(lst[i] <= lst[i + 1] for i in range(len(lst) - 1))\n",
        "    descending = all(lst[i] >= lst[i + 1] for i in range(len(lst) - 1))\n",
        "\n",
        "    return ascending or descending\n",
        "# Example usage\n",
        "my_list = [1, 2, 3, 4, 5]\n",
        "print(is_sorted(my_list))\n",
        "\n",
        "my_list = [5, 4, 3, 2, 1]\n",
        "print(is_sorted(my_list))\n",
        "\n",
        "my_list = [1, 3, 2, 4]\n",
        "print(is_sorted(my_list))\n",
        "\n",
        "\n"
      ],
      "metadata": {
        "colab": {
          "base_uri": "https://localhost:8080/"
        },
        "id": "CVpD6-vAWW6M",
        "outputId": "2e4cb7ba-f831-4853-aa26-377ab8fe6dcb"
      },
      "execution_count": 3,
      "outputs": [
        {
          "output_type": "stream",
          "name": "stdout",
          "text": [
            "True\n",
            "True\n",
            "False\n"
          ]
        }
      ]
    },
    {
      "cell_type": "markdown",
      "source": [
        "#Q17- Write a code to merge two sorted lists into a single sorted list.\n",
        "#Ans."
      ],
      "metadata": {
        "id": "Rx2L7guUWoWo"
      }
    },
    {
      "cell_type": "code",
      "source": [
        "def merge_sorted_lists(list1, list2):\n",
        "    merged_list = []\n",
        "    i, j = 0, 0\n",
        "\n",
        "    # Loop until we reach the end of either list\n",
        "    while i < len(list1) and j < len(list2):\n",
        "        if list1[i] < list2[j]:\n",
        "            merged_list.append(list1[i])\n",
        "            i += 1\n",
        "        else:\n",
        "            merged_list.append(list2[j])\n",
        "            j += 1\n",
        "\n",
        "    # Append any remaining elements from list1\n",
        "    while i < len(list1):\n",
        "        merged_list.append(list1[i])\n",
        "        i += 1\n",
        "\n",
        "    # Append any remaining elements from list2\n",
        "    while j < len(list2):\n",
        "        merged_list.append(list2[j])\n",
        "        j += 1\n",
        "\n",
        "    return merged_list\n",
        "\n",
        "# Example usage:\n",
        "list1 = [1, 3, 5]\n",
        "list2 = [2, 4, 6]\n",
        "merged = merge_sorted_lists(list1, list2)\n",
        "print(merged)"
      ],
      "metadata": {
        "colab": {
          "base_uri": "https://localhost:8080/"
        },
        "id": "ROHnY_ZLWcoW",
        "outputId": "aa3c11c0-f1a3-4d97-9afa-becfd60757d0"
      },
      "execution_count": 4,
      "outputs": [
        {
          "output_type": "stream",
          "name": "stdout",
          "text": [
            "[1, 2, 3, 4, 5, 6]\n"
          ]
        }
      ]
    },
    {
      "cell_type": "markdown",
      "source": [
        "#Q18- Implement a code to find the intersection of two given lists.\n",
        "#Ans."
      ],
      "metadata": {
        "id": "Z-JQp5JsW1GW"
      }
    },
    {
      "cell_type": "code",
      "source": [
        "def intersection(list1, list2):\n",
        "    return list(set(list1) & set(list2))\n",
        "\n",
        "# Example usage:\n",
        "list1 = [1, 2, 3, 4, 5]\n",
        "list2 = [4, 5, 6, 7, 8]\n",
        "result = intersection(list1, list2)\n",
        "print(result)\n",
        ""
      ],
      "metadata": {
        "colab": {
          "base_uri": "https://localhost:8080/"
        },
        "id": "Kk_F-OJSWy6E",
        "outputId": "ba9e2653-1426-4de1-8c63-b677a4b15381"
      },
      "execution_count": 5,
      "outputs": [
        {
          "output_type": "stream",
          "name": "stdout",
          "text": [
            "[4, 5]\n"
          ]
        }
      ]
    },
    {
      "cell_type": "markdown",
      "source": [
        "#Q19- Create a code to find the union of two lists without duplicates\n",
        "#Ans."
      ],
      "metadata": {
        "id": "3FZMuVPLW_2L"
      }
    },
    {
      "cell_type": "code",
      "source": [
        "def union(list1, list2):\n",
        "    return list(set(list1) | set(list2))\n",
        "\n",
        "# Example usage:\n",
        "list1 = [1, 2, 3, 4, 5]\n",
        "list2 = [4, 5, 6, 7, 8]\n",
        "result = union(list1, list2)\n",
        "print(result)"
      ],
      "metadata": {
        "colab": {
          "base_uri": "https://localhost:8080/"
        },
        "id": "Klci3m8jW-Ql",
        "outputId": "59bda5ca-c34c-47c2-aa2a-d1ec723162a2"
      },
      "execution_count": 6,
      "outputs": [
        {
          "output_type": "stream",
          "name": "stdout",
          "text": [
            "[1, 2, 3, 4, 5, 6, 7, 8]\n"
          ]
        }
      ]
    },
    {
      "cell_type": "markdown",
      "source": [
        "#Q20- Write a code to shuffle a given list randomly without using any built-in shuffle functions.\n",
        "#Ans.\n"
      ],
      "metadata": {
        "id": "fYQKELpdXLKe"
      }
    },
    {
      "cell_type": "code",
      "source": [
        "import random\n",
        "\n",
        "def shuffle_list(lst):\n",
        "    # Traverse the list in reverse order\n",
        "    for i in range(len(lst) - 1, 0, -1):\n",
        "        # Generate a random index from 0 to i\n",
        "        j = random.randint(0, i)\n",
        "        # Swap elements at index i and j\n",
        "        lst[i], lst[j] = lst[j], lst[i]\n",
        "    return lst\n",
        "\n",
        "# Example usage:\n",
        "my_list = [1, 2, 3, 4, 5]\n",
        "shuffled_list = shuffle_list(my_list.copy())  # Use copy to preserve the original list\n",
        "print(shuffled_list)"
      ],
      "metadata": {
        "colab": {
          "base_uri": "https://localhost:8080/"
        },
        "id": "54kKjbgWXJDU",
        "outputId": "5d5beab7-f808-467d-da59-3e1f8a854847"
      },
      "execution_count": 7,
      "outputs": [
        {
          "output_type": "stream",
          "name": "stdout",
          "text": [
            "[1, 4, 3, 5, 2]\n"
          ]
        }
      ]
    },
    {
      "cell_type": "markdown",
      "source": [
        "#Q21- Write a code that takes two tuples as input and returns a new tuple containing elements that are common to both input tuples.\n",
        "\n",
        "#Ans."
      ],
      "metadata": {
        "id": "MEM4y9UvXUYv"
      }
    },
    {
      "cell_type": "code",
      "source": [
        "def common_elements(tuple1, tuple2):\n",
        "    # Convert tuples to sets and find the intersection\n",
        "    common_set = set(tuple1) & set(tuple2)\n",
        "    # Convert the result back to a tuple and return\n",
        "    return tuple(common_set)\n",
        "\n",
        "# Example usage:\n",
        "tuple1 = (1, 2, 3, 4, 5)\n",
        "tuple2 = (4, 5, 6, 7, 8)\n",
        "result = common_elements(tuple1, tuple2)\n",
        "print(result)"
      ],
      "metadata": {
        "colab": {
          "base_uri": "https://localhost:8080/"
        },
        "id": "AwZs70zVXSc_",
        "outputId": "c6c6a100-6bd2-42b3-9521-77a2989d6929"
      },
      "execution_count": 8,
      "outputs": [
        {
          "output_type": "stream",
          "name": "stdout",
          "text": [
            "(4, 5)\n"
          ]
        }
      ]
    },
    {
      "cell_type": "markdown",
      "source": [
        "#Q22- Create a code that prompts the user to enter two sets of integers separated by commas. Then, print the intersection of these two sets.\n",
        "#Ans.\n"
      ],
      "metadata": {
        "id": "cwq4QPIlXb8S"
      }
    },
    {
      "cell_type": "code",
      "source": [
        "def get_set_from_input(prompt):\n",
        "    # Prompt the user for input and convert the input to a set of integers\n",
        "    user_input = input(prompt)\n",
        "    return set(int(num.strip()) for num in user_input.split(','))\n",
        "\n",
        "def main():\n",
        "    # Get two sets from the user\n",
        "    set1 = get_set_from_input(\"Enter the first set of integers (separated by commas): \")\n",
        "    set2 = get_set_from_input(\"Enter the second set of integers (separated by commas): \")\n",
        "\n",
        "    # Calculate the intersection\n",
        "    intersection = set1 & set2\n",
        "\n",
        "    # Print the result\n",
        "    print(\"The intersection of the two sets is:\", intersection)\n",
        "\n",
        "if __name__ == \"__main__\":\n",
        "    main()"
      ],
      "metadata": {
        "colab": {
          "base_uri": "https://localhost:8080/"
        },
        "id": "J1RJ5CuYXkfP",
        "outputId": "3ac81e4c-cd5f-466b-bad3-484e7845ee3e"
      },
      "execution_count": 10,
      "outputs": [
        {
          "output_type": "stream",
          "name": "stdout",
          "text": [
            "Enter the first set of integers (separated by commas): 3,4\n",
            "Enter the second set of integers (separated by commas): 1,2,3,4\n",
            "The intersection of the two sets is: {3, 4}\n"
          ]
        }
      ]
    },
    {
      "cell_type": "markdown",
      "source": [
        "#Q23- Write a code to concatenate two tuples. The function should take two tuples as input and return a new tuple containing elements from both input tuples.\n",
        "\n",
        "#Ans."
      ],
      "metadata": {
        "id": "dcs-krJzYUOI"
      }
    },
    {
      "cell_type": "code",
      "source": [
        "def concatenate_tuples(tuple1, tuple2):\n",
        "    # Concatenate the two tuples and return the result\n",
        "    return tuple1 + tuple2\n",
        "\n",
        "# Example usage:\n",
        "tuple1 = (1, 2, 3)\n",
        "tuple2 = (4, 5, 6)\n",
        "result = concatenate_tuples(tuple1, tuple2)\n",
        "print(result)\n",
        ""
      ],
      "metadata": {
        "colab": {
          "base_uri": "https://localhost:8080/"
        },
        "id": "zUXOQ3wpYJIW",
        "outputId": "73777226-73ab-47a5-b108-855b4c36d954"
      },
      "execution_count": 11,
      "outputs": [
        {
          "output_type": "stream",
          "name": "stdout",
          "text": [
            "(1, 2, 3, 4, 5, 6)\n"
          ]
        }
      ]
    },
    {
      "cell_type": "markdown",
      "source": [
        "#Q24- Develop a code that prompts the user to input two sets of strings. Then, print the elements that are present in the first set but not in the second set.\n",
        "#Ans."
      ],
      "metadata": {
        "id": "fv6fK91eYidi"
      }
    },
    {
      "cell_type": "code",
      "source": [
        "def get_set_from_input(prompt):\n",
        "    # Prompt the user for input and convert the input to a set of strings\n",
        "    user_input = input(prompt)\n",
        "    return set(s.strip() for s in user_input.split(','))\n",
        "\n",
        "def main():\n",
        "    # Get two sets from the user\n",
        "    set1 = get_set_from_input(\"Enter the first set of strings (separated by commas): \")\n",
        "    set2 = get_set_from_input(\"Enter the second set of strings (separated by commas): \")\n",
        "\n",
        "    # Find elements in set1 that are not in set2\n",
        "    difference = set1 - set2\n",
        "\n",
        "    # Print the result\n",
        "    print(\"Elements in the first set but not in the second set:\", difference)\n",
        "\n",
        "if __name__ == \"__main__\":\n",
        "    main()"
      ],
      "metadata": {
        "colab": {
          "base_uri": "https://localhost:8080/"
        },
        "id": "rl4-F_i-Yl2a",
        "outputId": "672f2c06-e1fe-4578-c037-f35bf224b75f"
      },
      "execution_count": 12,
      "outputs": [
        {
          "output_type": "stream",
          "name": "stdout",
          "text": [
            "Enter the first set of strings (separated by commas): apple,banana,cherry\n",
            "Enter the second set of strings (separated by commas): banana,date\n",
            "Elements in the first set but not in the second set: {'apple', 'cherry'}\n"
          ]
        }
      ]
    },
    {
      "cell_type": "markdown",
      "source": [
        "#Q25- Create a code that takes a tuple and two integers as input. The function should return a new tuple containing elements from the original tuple within the specified range of indices.\n",
        "#Ans."
      ],
      "metadata": {
        "id": "QbbZdSqYYyNA"
      }
    },
    {
      "cell_type": "code",
      "source": [
        "def extract_range_from_tuple(original_tuple, start_index, end_index):\n",
        "    # Return a new tuple containing elements from the original tuple\n",
        "    return original_tuple[start_index:end_index]\n",
        "\n",
        "# Example usage:\n",
        "my_tuple = (10, 20, 30, 40, 50, 60, 70)\n",
        "start = 2\n",
        "end = 5\n",
        "result = extract_range_from_tuple(my_tuple, start, end)\n",
        "print(result)\n",
        ""
      ],
      "metadata": {
        "colab": {
          "base_uri": "https://localhost:8080/"
        },
        "id": "qbE4q9ciYpB1",
        "outputId": "42ebb3cc-6e4a-4e38-a212-6b9ae4c26a1d"
      },
      "execution_count": 13,
      "outputs": [
        {
          "output_type": "stream",
          "name": "stdout",
          "text": [
            "(30, 40, 50)\n"
          ]
        }
      ]
    },
    {
      "cell_type": "markdown",
      "source": [
        "#Q26- Write a code that prompts the user to input two sets of characters. Then, print the union of these two sets.\n",
        "#Ans."
      ],
      "metadata": {
        "id": "YHWVvO0iY5zg"
      }
    },
    {
      "cell_type": "code",
      "source": [
        "def get_set_from_input(prompt):\n",
        "    # Prompt the user for input and convert the input to a set of characters\n",
        "    user_input = input(prompt)\n",
        "    return set(char.strip() for char in user_input)\n",
        "\n",
        "def main():\n",
        "    # Get two sets from the user\n",
        "    set1 = get_set_from_input(\"Enter the first set of characters (separated by commas): \")\n",
        "    set2 = get_set_from_input(\"Enter the second set of characters (separated by commas): \")\n",
        "\n",
        "    # Calculate the union of the two sets\n",
        "    union_set = set1 | set2\n",
        "\n",
        "    # Print the result\n",
        "    print(\"The union of the two sets is:\", union_set)\n",
        "\n",
        "if __name__ == \"__main__\":\n",
        "    main()"
      ],
      "metadata": {
        "colab": {
          "base_uri": "https://localhost:8080/"
        },
        "id": "CjFHcak7Y4GL",
        "outputId": "351c3044-0e3c-4ddc-88b5-97bb04775fa7"
      },
      "execution_count": 14,
      "outputs": [
        {
          "output_type": "stream",
          "name": "stdout",
          "text": [
            "Enter the first set of characters (separated by commas): a,b,c\n",
            "Enter the second set of characters (separated by commas): c,d,e\n",
            "The union of the two sets is: {',', 'e', 'a', 'b', 'c', 'd'}\n"
          ]
        }
      ]
    },
    {
      "cell_type": "markdown",
      "source": [
        "#Q27- Develop a code that takes a tuple of integers as input. The function should return the maximum and minimum values from the tuple using tuple unpacking.\n",
        "#Ans."
      ],
      "metadata": {
        "id": "JtvharjqZI7d"
      }
    },
    {
      "cell_type": "code",
      "source": [
        "def min_max_from_tuple(int_tuple):\n",
        "    # Calculate the maximum and minimum values\n",
        "    max_value = max(int_tuple)\n",
        "    min_value = min(int_tuple)\n",
        "    return max_value, min_value  # Return as a tuple\n",
        "\n",
        "# Example usage:\n",
        "my_tuple = (5, 3, 9, 1, 7)\n",
        "max_value, min_value = min_max_from_tuple(my_tuple)\n",
        "print(\"Maximum value:\", max_value)\n",
        "print(\"Minimum value:\", min_value)"
      ],
      "metadata": {
        "colab": {
          "base_uri": "https://localhost:8080/"
        },
        "id": "ryQPIm8sZBbg",
        "outputId": "ef9b28a3-536d-4775-d098-f329a30ebc79"
      },
      "execution_count": 15,
      "outputs": [
        {
          "output_type": "stream",
          "name": "stdout",
          "text": [
            "Maximum value: 9\n",
            "Minimum value: 1\n"
          ]
        }
      ]
    },
    {
      "cell_type": "markdown",
      "source": [
        "#Q28- Create a code that defines two sets of integers. Then, print the union, intersection, and difference of these two sets.\n",
        "\n",
        "#Ans."
      ],
      "metadata": {
        "id": "NF1W6HGmZTr3"
      }
    },
    {
      "cell_type": "code",
      "source": [
        "# Define two sets of integers\n",
        "set1 = {1, 2, 3, 4, 5}\n",
        "set2 = {4, 5, 6, 7, 8}\n",
        "\n",
        "# Calculate union, intersection, and difference\n",
        "union_set = set1 | set2\n",
        "intersection_set = set1 & set2\n",
        "difference_set = set1 - set2\n",
        "\n",
        "# Print the results\n",
        "print(\"Set 1:\", set1)\n",
        "print(\"Set 2:\", set2)\n",
        "print(\"Union:\", union_set)              # Elements in either set\n",
        "print(\"Intersection:\", intersection_set)  # Elements in both sets\n",
        "print(\"Difference (Set 1 - Set 2):\", difference_set)  # Elements in Set 1 not in Set 2"
      ],
      "metadata": {
        "colab": {
          "base_uri": "https://localhost:8080/"
        },
        "id": "xxPOc49bZR7k",
        "outputId": "7175053f-fa2a-46a3-fda8-26c68f17ac5c"
      },
      "execution_count": 16,
      "outputs": [
        {
          "output_type": "stream",
          "name": "stdout",
          "text": [
            "Set 1: {1, 2, 3, 4, 5}\n",
            "Set 2: {4, 5, 6, 7, 8}\n",
            "Union: {1, 2, 3, 4, 5, 6, 7, 8}\n",
            "Intersection: {4, 5}\n",
            "Difference (Set 1 - Set 2): {1, 2, 3}\n"
          ]
        }
      ]
    },
    {
      "cell_type": "code",
      "source": [],
      "metadata": {
        "id": "W1LrwTdlZhOE"
      },
      "execution_count": null,
      "outputs": []
    },
    {
      "cell_type": "markdown",
      "source": [
        "#Q29- Write a code that takes a tuple and an element as input. The function should return the count of occurrences of the given element in the tuple.\n",
        "#Ans."
      ],
      "metadata": {
        "id": "6z1W3l4OZjOw"
      }
    },
    {
      "cell_type": "code",
      "source": [
        "def count_occurrences(input_tuple, element):\n",
        "    # Return the count of occurrences of the element in the tuple\n",
        "    return input_tuple.count(element)\n",
        "\n",
        "# Example usage:\n",
        "my_tuple = (1, 2, 3, 4, 5, 3, 2, 3)\n",
        "element_to_count = 3\n",
        "count = count_occurrences(my_tuple, element_to_count)\n",
        "print(f\"The element {element_to_count} occurs {count} times in the tuple.\")"
      ],
      "metadata": {
        "colab": {
          "base_uri": "https://localhost:8080/"
        },
        "id": "Kx4eL_LDZqXj",
        "outputId": "c24b8fa2-2aa5-466d-d8c7-0c760c60eda4"
      },
      "execution_count": 17,
      "outputs": [
        {
          "output_type": "stream",
          "name": "stdout",
          "text": [
            "The element 3 occurs 3 times in the tuple.\n"
          ]
        }
      ]
    },
    {
      "cell_type": "markdown",
      "source": [
        "#Q30- Develop a code that prompts the user to input two sets of strings. Then, print the symmetric difference of these two sets.\n",
        "#Ans"
      ],
      "metadata": {
        "id": "bTWCEc5TZtt5"
      }
    },
    {
      "cell_type": "code",
      "source": [
        "def get_set_from_input(prompt):\n",
        "    # Prompt the user for input and convert the input to a set of strings\n",
        "    user_input = input(prompt)\n",
        "    return set(s.strip() for s in user_input.split(','))\n",
        "\n",
        "def main():\n",
        "    # Get two sets from the user\n",
        "    set1 = get_set_from_input(\"Enter the first set of strings (separated by commas): \")\n",
        "    set2 = get_set_from_input(\"Enter the second set of strings (separated by commas): \")\n",
        "\n",
        "    # Calculate the symmetric difference of the two sets\n",
        "    symmetric_difference = set1 ^ set2\n",
        "\n",
        "    # Print the result\n",
        "    print(\"The symmetric difference of the two sets is:\", symmetric_difference)\n",
        "\n",
        "if __name__ == \"__main__\":\n",
        "    main()"
      ],
      "metadata": {
        "colab": {
          "base_uri": "https://localhost:8080/"
        },
        "id": "QlGQR_SkZ4gI",
        "outputId": "922cbbf1-48a1-461f-fe96-854c19d5e5e0"
      },
      "execution_count": 18,
      "outputs": [
        {
          "output_type": "stream",
          "name": "stdout",
          "text": [
            "Enter the first set of strings (separated by commas): apple,banana,cherry\n",
            "Enter the second set of strings (separated by commas): banana,date\n",
            "The symmetric difference of the two sets is: {'apple', 'cherry', 'date'}\n"
          ]
        }
      ]
    },
    {
      "cell_type": "markdown",
      "source": [
        "#Q31- Write a code that takes a list of words as input and returns a dictionary where the keys are unique words and the values are the frequencies of those words in the input list.\n",
        "#Ans."
      ],
      "metadata": {
        "id": "9sSu-NGoaIa-"
      }
    },
    {
      "cell_type": "code",
      "source": [
        "def word_frequencies(words):\n",
        "    frequency_dict = {}\n",
        "    for word in words:\n",
        "        # Increment the count for the word in the dictionary\n",
        "        if word in frequency_dict:\n",
        "            frequency_dict[word] += 1\n",
        "        else:\n",
        "            frequency_dict[word] = 1\n",
        "    return frequency_dict\n",
        "\n",
        "# Example usage:\n",
        "input_words = input(\"Enter a list of words separated by spaces: \").split()\n",
        "result = word_frequencies(input_words)\n",
        "print(\"Word Frequencies:\", result)"
      ],
      "metadata": {
        "colab": {
          "base_uri": "https://localhost:8080/"
        },
        "id": "ouWl6IGsZ8Wx",
        "outputId": "0330022d-a986-432c-93aa-8ca6bfc3003a"
      },
      "execution_count": 19,
      "outputs": [
        {
          "output_type": "stream",
          "name": "stdout",
          "text": [
            "Enter a list of words separated by spaces: apple banana apple cherry banana apple\n",
            "Word Frequencies: {'apple': 3, 'banana': 2, 'cherry': 1}\n"
          ]
        }
      ]
    },
    {
      "cell_type": "markdown",
      "source": [
        "#Q32- Write a code that takes two dictionaries as input and merges them into a single dictionary. If there are common keys, the values should be added together.\n",
        "\n",
        "#Ans."
      ],
      "metadata": {
        "id": "95MgrIcSaeNE"
      }
    },
    {
      "cell_type": "code",
      "source": [
        "def merge_dictionaries(dict1, dict2):\n",
        "    merged_dict = dict1.copy()  # Create a copy of the first dictionary\n",
        "    for key, value in dict2.items():\n",
        "        if key in merged_dict:\n",
        "            merged_dict[key] += value  # Add values for common keys\n",
        "        else:\n",
        "            merged_dict[key] = value  # Add new key-value pairs\n",
        "    return merged_dict\n",
        "\n",
        "# Example usage:\n",
        "dict1 = {'a': 1, 'b': 2, 'c': 3}\n",
        "dict2 = {'b': 3, 'c': 4, 'd': 5}\n",
        "\n",
        "result = merge_dictionaries(dict1, dict2)\n",
        "print(\"Merged Dictionary:\", result)"
      ],
      "metadata": {
        "colab": {
          "base_uri": "https://localhost:8080/"
        },
        "id": "KlseO39cajXh",
        "outputId": "4a83a768-bb84-43ce-daad-93ce789f4857"
      },
      "execution_count": 20,
      "outputs": [
        {
          "output_type": "stream",
          "name": "stdout",
          "text": [
            "Merged Dictionary: {'a': 1, 'b': 5, 'c': 7, 'd': 5}\n"
          ]
        }
      ]
    },
    {
      "cell_type": "markdown",
      "source": [
        "#Q33- Write a code to access a value in a nested dictionary. The function should take the dictionary and a list of keys as input, and return the corresponding value. If any of the keys do not exist in the dictionary, the function should return None.\n",
        "#Ans."
      ],
      "metadata": {
        "id": "U08aAGFkam4v"
      }
    },
    {
      "cell_type": "code",
      "source": [
        "def access_nested_value(nested_dict, keys):\n",
        "    current = nested_dict\n",
        "    for key in keys:\n",
        "        if key in current:\n",
        "            current = current[key]  # Move deeper into the nested dictionary\n",
        "        else:\n",
        "            return None  # Return None if the key doesn't exist\n",
        "    return current  # Return the final value if all keys are found\n",
        "\n",
        "# Example usage:\n",
        "nested_dict = {\n",
        "    'a': {\n",
        "        'b': {\n",
        "            'c': 1\n",
        "        },\n",
        "        'd': 2\n",
        "    },\n",
        "    'e': 3\n",
        "}\n",
        "\n",
        "keys_to_access = ['a', 'b', 'c']\n",
        "result = access_nested_value(nested_dict, keys_to_access)\n",
        "print(\"Accessed Value:\", result)  # Output: Accessed Value: 1\n",
        "\n",
        "# Testing with a non-existent key\n",
        "keys_to_access_invalid = ['a', 'b', 'x']\n",
        "result_invalid = access_nested_value(nested_dict, keys_to_access_invalid)\n",
        "print(\"Accessed Value:\", result_invalid)"
      ],
      "metadata": {
        "colab": {
          "base_uri": "https://localhost:8080/"
        },
        "id": "nNJDC62aasGd",
        "outputId": "3c664515-df87-493b-f3c1-794ef195e1a4"
      },
      "execution_count": 21,
      "outputs": [
        {
          "output_type": "stream",
          "name": "stdout",
          "text": [
            "Accessed Value: 1\n",
            "Accessed Value: None\n"
          ]
        }
      ]
    },
    {
      "cell_type": "markdown",
      "source": [
        "#Q34- Write a code that takes a dictionary as input and returns a sorted version of it based on the values. You can choose whether to sort in ascending or descending order.\n",
        "#Ans."
      ],
      "metadata": {
        "id": "UZdhWVGTazsx"
      }
    },
    {
      "cell_type": "code",
      "source": [
        "def sort_dict_by_values(input_dict, descending=False):\n",
        "    # Sort the dictionary by values and return as a new dictionary\n",
        "    sorted_dict = dict(sorted(input_dict.items(), key=lambda item: item[1], reverse=descending))\n",
        "    return sorted_dict\n",
        "\n",
        "# Example usage:\n",
        "my_dict = {'a': 3, 'b': 1, 'c': 2}\n",
        "\n",
        "# Sort in ascending order\n",
        "sorted_ascending = sort_dict_by_values(my_dict)\n",
        "print(\"Sorted in Ascending Order:\", sorted_ascending)\n",
        "\n",
        "# Sort in descending order\n",
        "sorted_descending = sort_dict_by_values(my_dict, descending=True)\n",
        "print(\"Sorted in Descending Order:\", sorted_descending)"
      ],
      "metadata": {
        "colab": {
          "base_uri": "https://localhost:8080/"
        },
        "id": "2WxPufCza2oZ",
        "outputId": "64c2aa95-7bb4-4ac6-fdd0-fa75de4b1ddd"
      },
      "execution_count": 22,
      "outputs": [
        {
          "output_type": "stream",
          "name": "stdout",
          "text": [
            "Sorted in Ascending Order: {'b': 1, 'c': 2, 'a': 3}\n",
            "Sorted in Descending Order: {'a': 3, 'c': 2, 'b': 1}\n"
          ]
        }
      ]
    },
    {
      "cell_type": "markdown",
      "source": [
        "#Q35- Write a code that inverts a dictionary, swapping keys and values. Ensure that the inverted dictionary correctly handles cases where multiple keys have the same value by storing the keys as a list in the inverted dictionary.\n",
        "#Ans."
      ],
      "metadata": {
        "id": "RF10B0iia-5F"
      }
    },
    {
      "cell_type": "code",
      "source": [
        "def invert_dictionary(original_dict):\n",
        "    inverted_dict = {}\n",
        "    for key, value in original_dict.items():\n",
        "        if value in inverted_dict:\n",
        "            # If the value is already a key, append the current key to the list\n",
        "            inverted_dict[value].append(key)\n",
        "        else:\n",
        "            # Otherwise, create a new entry with the current key as a list\n",
        "            inverted_dict[value] = [key]\n",
        "    return inverted_dict\n",
        "\n",
        "# Example usage:\n",
        "my_dict = {'a': 1, 'b': 2, 'c': 1, 'd': 3}\n",
        "\n",
        "inverted = invert_dictionary(my_dict)\n",
        "print(\"Inverted Dictionary:\", inverted)"
      ],
      "metadata": {
        "colab": {
          "base_uri": "https://localhost:8080/"
        },
        "id": "BeEnx7-ma41P",
        "outputId": "1623892a-f79c-4e43-ae60-f23efe360dd2"
      },
      "execution_count": 23,
      "outputs": [
        {
          "output_type": "stream",
          "name": "stdout",
          "text": [
            "Inverted Dictionary: {1: ['a', 'c'], 2: ['b'], 3: ['d']}\n"
          ]
        }
      ]
    },
    {
      "cell_type": "code",
      "source": [],
      "metadata": {
        "id": "QS5b1QVCbDSx"
      },
      "execution_count": null,
      "outputs": []
    }
  ]
}